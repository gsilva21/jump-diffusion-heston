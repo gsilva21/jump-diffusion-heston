{
 "cells": [
  {
   "cell_type": "code",
   "execution_count": 1,
   "metadata": {},
   "outputs": [],
   "source": [
    "import os\n",
    "os.chdir(r'/Users/rmccrickerd/desktop/jdheston')"
   ]
  },
  {
   "cell_type": "code",
   "execution_count": 2,
   "metadata": {},
   "outputs": [],
   "source": [
    "import numpy as np\n",
    "import pandas as pd\n",
    "from jdheston import jdheston as jdh\n",
    "from jdheston import utils as uts\n",
    "from jdheston import config as cfg\n",
    "from matplotlib import pyplot as plt\n",
    "from scipy.stats import norm\n",
    "from scipy.special import gamma\n",
    "# import mpl\n",
    "# %matplotlib inline"
   ]
  },
  {
   "cell_type": "code",
   "execution_count": 3,
   "metadata": {},
   "outputs": [],
   "source": [
    "nx = np.newaxis\n",
    "cfg.config(scale=1.5,print_keys=False)"
   ]
  },
  {
   "cell_type": "code",
   "execution_count": 4,
   "metadata": {},
   "outputs": [
    {
     "data": {
      "text/html": [
       "<div>\n",
       "<style scoped>\n",
       "    .dataframe tbody tr th:only-of-type {\n",
       "        vertical-align: middle;\n",
       "    }\n",
       "\n",
       "    .dataframe tbody tr th {\n",
       "        vertical-align: top;\n",
       "    }\n",
       "\n",
       "    .dataframe thead th {\n",
       "        text-align: right;\n",
       "    }\n",
       "</style>\n",
       "<table border=\"1\" class=\"dataframe\">\n",
       "  <thead>\n",
       "    <tr style=\"text-align: right;\">\n",
       "      <th></th>\n",
       "      <th>GBP</th>\n",
       "      <th>USD</th>\n",
       "      <th>Unnamed: 2</th>\n",
       "      <th>Bloomberg BGN</th>\n",
       "      <th>Unnamed: 4</th>\n",
       "      <th>Unnamed: 5</th>\n",
       "      <th>Unnamed: 6</th>\n",
       "      <th>Unnamed: 7</th>\n",
       "      <th>Unnamed: 8</th>\n",
       "      <th>Unnamed: 9</th>\n",
       "      <th>Unnamed: 10</th>\n",
       "    </tr>\n",
       "  </thead>\n",
       "  <tbody>\n",
       "    <tr>\n",
       "      <th>0</th>\n",
       "      <td>NaN</td>\n",
       "      <td>ATM</td>\n",
       "      <td>NaN</td>\n",
       "      <td>25D Call GBP</td>\n",
       "      <td>NaN</td>\n",
       "      <td>25D Put GBP</td>\n",
       "      <td>NaN</td>\n",
       "      <td>10D Call GBP</td>\n",
       "      <td>NaN</td>\n",
       "      <td>10D Put GBP</td>\n",
       "      <td>NaN</td>\n",
       "    </tr>\n",
       "    <tr>\n",
       "      <th>1</th>\n",
       "      <td>NaN</td>\n",
       "      <td>Mid</td>\n",
       "      <td>Spread</td>\n",
       "      <td>Mid</td>\n",
       "      <td>Spread</td>\n",
       "      <td>Mid</td>\n",
       "      <td>Spread</td>\n",
       "      <td>Mid</td>\n",
       "      <td>Spread</td>\n",
       "      <td>Mid</td>\n",
       "      <td>Spread</td>\n",
       "    </tr>\n",
       "    <tr>\n",
       "      <th>2</th>\n",
       "      <td>1M</td>\n",
       "      <td>6.27</td>\n",
       "      <td>0.7</td>\n",
       "      <td>6.41</td>\n",
       "      <td>0.88</td>\n",
       "      <td>6.64</td>\n",
       "      <td>0.88</td>\n",
       "      <td>6.848</td>\n",
       "      <td>1.599</td>\n",
       "      <td>7.283</td>\n",
       "      <td>1.598</td>\n",
       "    </tr>\n",
       "    <tr>\n",
       "      <th>3</th>\n",
       "      <td>3M</td>\n",
       "      <td>6.99</td>\n",
       "      <td>0.7</td>\n",
       "      <td>6.93</td>\n",
       "      <td>0.88</td>\n",
       "      <td>7.692</td>\n",
       "      <td>0.879</td>\n",
       "      <td>7.266</td>\n",
       "      <td>1.598</td>\n",
       "      <td>8.687</td>\n",
       "      <td>1.596</td>\n",
       "    </tr>\n",
       "    <tr>\n",
       "      <th>4</th>\n",
       "      <td>6M</td>\n",
       "      <td>8.885</td>\n",
       "      <td>0.75</td>\n",
       "      <td>8.514</td>\n",
       "      <td>0.942</td>\n",
       "      <td>10.147</td>\n",
       "      <td>0.942</td>\n",
       "      <td>8.671</td>\n",
       "      <td>1.711</td>\n",
       "      <td>11.685</td>\n",
       "      <td>1.708</td>\n",
       "    </tr>\n",
       "    <tr>\n",
       "      <th>5</th>\n",
       "      <td>1Y</td>\n",
       "      <td>9.61</td>\n",
       "      <td>0.65</td>\n",
       "      <td>9.209</td>\n",
       "      <td>0.816</td>\n",
       "      <td>10.936</td>\n",
       "      <td>0.816</td>\n",
       "      <td>9.355</td>\n",
       "      <td>1.481</td>\n",
       "      <td>12.565</td>\n",
       "      <td>1.48</td>\n",
       "    </tr>\n",
       "  </tbody>\n",
       "</table>\n",
       "</div>"
      ],
      "text/plain": [
       "   GBP    USD Unnamed: 2 Bloomberg BGN Unnamed: 4   Unnamed: 5 Unnamed: 6  \\\n",
       "0  NaN    ATM        NaN  25D Call GBP        NaN  25D Put GBP        NaN   \n",
       "1  NaN    Mid     Spread           Mid     Spread          Mid     Spread   \n",
       "2   1M   6.27        0.7          6.41       0.88         6.64       0.88   \n",
       "3   3M   6.99        0.7          6.93       0.88        7.692      0.879   \n",
       "4   6M  8.885       0.75         8.514      0.942       10.147      0.942   \n",
       "5   1Y   9.61       0.65         9.209      0.816       10.936      0.816   \n",
       "\n",
       "     Unnamed: 7 Unnamed: 8   Unnamed: 9 Unnamed: 10  \n",
       "0  10D Call GBP        NaN  10D Put GBP         NaN  \n",
       "1           Mid     Spread          Mid      Spread  \n",
       "2         6.848      1.599        7.283       1.598  \n",
       "3         7.266      1.598        8.687       1.596  \n",
       "4         8.671      1.711       11.685       1.708  \n",
       "5         9.355      1.481       12.565        1.48  "
      ]
     },
     "execution_count": 4,
     "metadata": {},
     "output_type": "execute_result"
    }
   ],
   "source": [
    "df = pd.read_excel('data/ccy-date.xlsx')\n",
    "df"
   ]
  },
  {
   "cell_type": "code",
   "execution_count": 5,
   "metadata": {},
   "outputs": [],
   "source": [
    "deltas = np.array([0.1,0.25,0.5,0.75,0.9])\n",
    "expiries = np.array([1/12,3/12,6/12,1])\n",
    "labels = ['1m','3m','6m','1y']"
   ]
  },
  {
   "cell_type": "code",
   "execution_count": 6,
   "metadata": {},
   "outputs": [],
   "source": [
    "m,n = len(expiries),len(deltas)\n",
    "mid_vols = np.zeros((m,n))\n",
    "spreads = np.zeros((m,n))"
   ]
  },
  {
   "cell_type": "code",
   "execution_count": 7,
   "metadata": {},
   "outputs": [],
   "source": [
    "mid_vols[:,0] = df.iloc[2:,9]\n",
    "mid_vols[:,1] = df.iloc[2:,5]\n",
    "mid_vols[:,2] = df.iloc[2:,1]\n",
    "mid_vols[:,3] = df.iloc[2:,3]\n",
    "mid_vols[:,4] = df.iloc[2:,7]"
   ]
  },
  {
   "cell_type": "code",
   "execution_count": 8,
   "metadata": {},
   "outputs": [],
   "source": [
    "spreads[:,0] = df.iloc[2:,10]\n",
    "spreads[:,1] = df.iloc[2:,6]\n",
    "spreads[:,2] = df.iloc[2:,2]\n",
    "spreads[:,3] = df.iloc[2:,4]\n",
    "spreads[:,4] = df.iloc[2:,8]"
   ]
  },
  {
   "cell_type": "code",
   "execution_count": 10,
   "metadata": {},
   "outputs": [],
   "source": [
    "plt.rcParams['figure.figsize'] = [4,8]\n",
    "plt.rcParams['legend.loc'] = 'lower left'"
   ]
  },
  {
   "cell_type": "code",
   "execution_count": 18,
   "metadata": {},
   "outputs": [
    {
     "data": {
      "image/png": "[encoded data removed]",
      "text/plain": [
       "<Figure size 600x1200 with 4 Axes>"
      ]
     },
     "metadata": {
      "needs_background": "light"
     },
     "output_type": "display_data"
    }
   ],
   "source": [
    "plot,axes = plt.subplots(m)\n",
    "# n = -1\n",
    "for i in range(4):\n",
    "#         n += 1\n",
    "        axes[i].plot(deltas, mid_vols[i,:],'bo')\n",
    "        \n",
    "        for j in range(n):\n",
    "            axes[i].plot([deltas[j],deltas[j]], [mid_vols[i,j] - spreads[i,j]/2,mid_vols[i,j] + spreads[i,j]/2],'b')\n",
    "        axes[i].plot(deltas, mid_vols[i,:] + spreads[i,:]/2,'b_')\n",
    "        axes[i].plot(deltas, mid_vols[i,:] - spreads[i,:]/2,'b_')\n",
    "#         axes[i].plot(k[n,:],100*BSV[n,:])\n",
    "        axes[i].set_ylabel(r'$\\bar{\\sigma}(\\Delta,\\mathrm{%s})$'%labels[i])\n",
    "        axes[i].set_ylim([5,15])\n",
    "        axes[i].set_xlim([0,1])\n",
    "# axes[0,1].set_title(r'$\\varepsilon=\\mathrm{%s}.$'%TS)\n",
    "# axes[0,1].set_title(r'$H = 0.05,\\ \\ \\varepsilon=\\mathrm{%s}.$'%TS)\n",
    "# axes[1,1].legend([r'$\\ \\ \\mathrm{rHeston}$',r'$\\mathrm{qhrHeston\\ (NIG)}$'])\n",
    "axes[0].set_title(r'$\\mathrm{GBPUSD 20190612}$')\n",
    "axes[3].set_xlabel(r'$\\Delta$')\n",
    "plt.tight_layout()\n",
    "# fname = r'LSR-comparison'\n",
    "# plt.savefig(fname)"
   ]
  },
  {
   "cell_type": "code",
   "execution_count": 22,
   "metadata": {},
   "outputs": [],
   "source": [
    "vols = mid_vols/100"
   ]
  },
  {
   "cell_type": "code",
   "execution_count": 23,
   "metadata": {},
   "outputs": [],
   "source": [
    "vol_surface = jdh.vol_surface(expiries[:,nx], deltas[nx,:], vols)"
   ]
  },
  {
   "cell_type": "code",
   "execution_count": 24,
   "metadata": {},
   "outputs": [
    {
     "data": {
      "text/html": [
       "<div>\n",
       "<style scoped>\n",
       "    .dataframe tbody tr th:only-of-type {\n",
       "        vertical-align: middle;\n",
       "    }\n",
       "\n",
       "    .dataframe tbody tr th {\n",
       "        vertical-align: top;\n",
       "    }\n",
       "\n",
       "    .dataframe thead th {\n",
       "        text-align: right;\n",
       "    }\n",
       "</style>\n",
       "<table border=\"1\" class=\"dataframe\">\n",
       "  <thead>\n",
       "    <tr style=\"text-align: right;\">\n",
       "      <th></th>\n",
       "      <th>sigma</th>\n",
       "      <th>rho</th>\n",
       "      <th>vee</th>\n",
       "      <th>rmse</th>\n",
       "    </tr>\n",
       "  </thead>\n",
       "  <tbody>\n",
       "    <tr>\n",
       "      <th>0.083333</th>\n",
       "      <td>0.067833</td>\n",
       "      <td>-0.069881</td>\n",
       "      <td>0.256945</td>\n",
       "      <td>0.000115</td>\n",
       "    </tr>\n",
       "    <tr>\n",
       "      <th>0.250000</th>\n",
       "      <td>0.076496</td>\n",
       "      <td>-0.198750</td>\n",
       "      <td>0.475355</td>\n",
       "      <td>0.000167</td>\n",
       "    </tr>\n",
       "    <tr>\n",
       "      <th>0.500000</th>\n",
       "      <td>0.098074</td>\n",
       "      <td>-0.326596</td>\n",
       "      <td>0.681361</td>\n",
       "      <td>0.000342</td>\n",
       "    </tr>\n",
       "    <tr>\n",
       "      <th>1.000000</th>\n",
       "      <td>0.105711</td>\n",
       "      <td>-0.319487</td>\n",
       "      <td>0.942096</td>\n",
       "      <td>0.000337</td>\n",
       "    </tr>\n",
       "  </tbody>\n",
       "</table>\n",
       "</div>"
      ],
      "text/plain": [
       "             sigma       rho       vee      rmse\n",
       "0.083333  0.067833 -0.069881  0.256945  0.000115\n",
       "0.250000  0.076496 -0.198750  0.475355  0.000167\n",
       "0.500000  0.098074 -0.326596  0.681361  0.000342\n",
       "1.000000  0.105711 -0.319487  0.942096  0.000337"
      ]
     },
     "execution_count": 24,
     "metadata": {},
     "output_type": "execute_result"
    }
   ],
   "source": [
    "vol_surface.fit_jheston()"
   ]
  },
  {
   "cell_type": "code",
   "execution_count": 28,
   "metadata": {},
   "outputs": [
    {
     "data": {
      "text/plain": [
       "0.10571070956254527"
      ]
     },
     "execution_count": 28,
     "metadata": {},
     "output_type": "execute_result"
    }
   ],
   "source": [
    "sigma_max = np.max(vol_surface.jheston['sigma'])\n",
    "sigma_max"
   ]
  },
  {
   "cell_type": "code",
   "execution_count": 29,
   "metadata": {},
   "outputs": [],
   "source": [
    "T = np.array([1/12,3/12,6/12,1])[:,nx]\n",
    "# M = ['1W','1M','3M','6M','9M','1Y']\n",
    "Δ = np.linspace(5,95,19)[nx,:]/100\n",
    "k = norm.ppf(Δ)*sigma_max*np.sqrt(T)"
   ]
  },
  {
   "cell_type": "code",
   "execution_count": 30,
   "metadata": {},
   "outputs": [
    {
     "data": {
      "text/html": [
       "<div>\n",
       "<style scoped>\n",
       "    .dataframe tbody tr th:only-of-type {\n",
       "        vertical-align: middle;\n",
       "    }\n",
       "\n",
       "    .dataframe tbody tr th {\n",
       "        vertical-align: top;\n",
       "    }\n",
       "\n",
       "    .dataframe thead th {\n",
       "        text-align: right;\n",
       "    }\n",
       "</style>\n",
       "<table border=\"1\" class=\"dataframe\">\n",
       "  <thead>\n",
       "    <tr style=\"text-align: right;\">\n",
       "      <th></th>\n",
       "      <th>0.05</th>\n",
       "      <th>0.1</th>\n",
       "      <th>0.15</th>\n",
       "      <th>0.2</th>\n",
       "      <th>0.25</th>\n",
       "      <th>0.3</th>\n",
       "      <th>0.35</th>\n",
       "      <th>0.4</th>\n",
       "      <th>0.45</th>\n",
       "      <th>0.5</th>\n",
       "      <th>0.55</th>\n",
       "      <th>0.6</th>\n",
       "      <th>0.65</th>\n",
       "      <th>0.7</th>\n",
       "      <th>0.75</th>\n",
       "      <th>0.8</th>\n",
       "      <th>0.85</th>\n",
       "      <th>0.9</th>\n",
       "      <th>0.95</th>\n",
       "    </tr>\n",
       "  </thead>\n",
       "  <tbody>\n",
       "    <tr>\n",
       "      <th>0.083333</th>\n",
       "      <td>-0.050194</td>\n",
       "      <td>-0.039108</td>\n",
       "      <td>-0.031628</td>\n",
       "      <td>-0.025683</td>\n",
       "      <td>-0.020583</td>\n",
       "      <td>-0.016003</td>\n",
       "      <td>-0.011758</td>\n",
       "      <td>-0.007731</td>\n",
       "      <td>-0.003835</td>\n",
       "      <td>0.0</td>\n",
       "      <td>0.003835</td>\n",
       "      <td>0.007731</td>\n",
       "      <td>0.011758</td>\n",
       "      <td>0.016003</td>\n",
       "      <td>0.020583</td>\n",
       "      <td>0.025683</td>\n",
       "      <td>0.031628</td>\n",
       "      <td>0.039108</td>\n",
       "      <td>0.050194</td>\n",
       "    </tr>\n",
       "    <tr>\n",
       "      <th>0.250000</th>\n",
       "      <td>-0.086939</td>\n",
       "      <td>-0.067737</td>\n",
       "      <td>-0.054781</td>\n",
       "      <td>-0.044484</td>\n",
       "      <td>-0.035650</td>\n",
       "      <td>-0.027717</td>\n",
       "      <td>-0.020366</td>\n",
       "      <td>-0.013391</td>\n",
       "      <td>-0.006642</td>\n",
       "      <td>0.0</td>\n",
       "      <td>0.006642</td>\n",
       "      <td>0.013391</td>\n",
       "      <td>0.020366</td>\n",
       "      <td>0.027717</td>\n",
       "      <td>0.035650</td>\n",
       "      <td>0.044484</td>\n",
       "      <td>0.054781</td>\n",
       "      <td>0.067737</td>\n",
       "      <td>0.086939</td>\n",
       "    </tr>\n",
       "    <tr>\n",
       "      <th>0.500000</th>\n",
       "      <td>-0.122951</td>\n",
       "      <td>-0.095794</td>\n",
       "      <td>-0.077472</td>\n",
       "      <td>-0.062910</td>\n",
       "      <td>-0.050417</td>\n",
       "      <td>-0.039198</td>\n",
       "      <td>-0.028802</td>\n",
       "      <td>-0.018937</td>\n",
       "      <td>-0.009393</td>\n",
       "      <td>0.0</td>\n",
       "      <td>0.009393</td>\n",
       "      <td>0.018937</td>\n",
       "      <td>0.028802</td>\n",
       "      <td>0.039198</td>\n",
       "      <td>0.050417</td>\n",
       "      <td>0.062910</td>\n",
       "      <td>0.077472</td>\n",
       "      <td>0.095794</td>\n",
       "      <td>0.122951</td>\n",
       "    </tr>\n",
       "    <tr>\n",
       "      <th>1.000000</th>\n",
       "      <td>-0.173879</td>\n",
       "      <td>-0.135474</td>\n",
       "      <td>-0.109562</td>\n",
       "      <td>-0.088968</td>\n",
       "      <td>-0.071301</td>\n",
       "      <td>-0.055435</td>\n",
       "      <td>-0.040732</td>\n",
       "      <td>-0.026782</td>\n",
       "      <td>-0.013284</td>\n",
       "      <td>0.0</td>\n",
       "      <td>0.013284</td>\n",
       "      <td>0.026782</td>\n",
       "      <td>0.040732</td>\n",
       "      <td>0.055435</td>\n",
       "      <td>0.071301</td>\n",
       "      <td>0.088968</td>\n",
       "      <td>0.109562</td>\n",
       "      <td>0.135474</td>\n",
       "      <td>0.173879</td>\n",
       "    </tr>\n",
       "  </tbody>\n",
       "</table>\n",
       "</div>"
      ],
      "text/plain": [
       "              0.05      0.10      0.15      0.20      0.25      0.30  \\\n",
       "0.083333 -0.050194 -0.039108 -0.031628 -0.025683 -0.020583 -0.016003   \n",
       "0.250000 -0.086939 -0.067737 -0.054781 -0.044484 -0.035650 -0.027717   \n",
       "0.500000 -0.122951 -0.095794 -0.077472 -0.062910 -0.050417 -0.039198   \n",
       "1.000000 -0.173879 -0.135474 -0.109562 -0.088968 -0.071301 -0.055435   \n",
       "\n",
       "              0.35      0.40      0.45  0.50      0.55      0.60      0.65  \\\n",
       "0.083333 -0.011758 -0.007731 -0.003835   0.0  0.003835  0.007731  0.011758   \n",
       "0.250000 -0.020366 -0.013391 -0.006642   0.0  0.006642  0.013391  0.020366   \n",
       "0.500000 -0.028802 -0.018937 -0.009393   0.0  0.009393  0.018937  0.028802   \n",
       "1.000000 -0.040732 -0.026782 -0.013284   0.0  0.013284  0.026782  0.040732   \n",
       "\n",
       "              0.70      0.75      0.80      0.85      0.90      0.95  \n",
       "0.083333  0.016003  0.020583  0.025683  0.031628  0.039108  0.050194  \n",
       "0.250000  0.027717  0.035650  0.044484  0.054781  0.067737  0.086939  \n",
       "0.500000  0.039198  0.050417  0.062910  0.077472  0.095794  0.122951  \n",
       "1.000000  0.055435  0.071301  0.088968  0.109562  0.135474  0.173879  "
      ]
     },
     "execution_count": 30,
     "metadata": {},
     "output_type": "execute_result"
    }
   ],
   "source": [
    "pd.DataFrame(k,index=T[:,0],columns=np.round(Δ[0,:],2))"
   ]
  },
  {
   "cell_type": "code",
   "execution_count": 134,
   "metadata": {},
   "outputs": [
    {
     "data": {
      "text/html": [
       "<div>\n",
       "<style scoped>\n",
       "    .dataframe tbody tr th:only-of-type {\n",
       "        vertical-align: middle;\n",
       "    }\n",
       "\n",
       "    .dataframe tbody tr th {\n",
       "        vertical-align: top;\n",
       "    }\n",
       "\n",
       "    .dataframe thead th {\n",
       "        text-align: right;\n",
       "    }\n",
       "</style>\n",
       "<table border=\"1\" class=\"dataframe\">\n",
       "  <thead>\n",
       "    <tr style=\"text-align: right;\">\n",
       "      <th></th>\n",
       "      <th>sigma</th>\n",
       "      <th>rho</th>\n",
       "      <th>vee</th>\n",
       "      <th>rmse</th>\n",
       "    </tr>\n",
       "  </thead>\n",
       "  <tbody>\n",
       "    <tr>\n",
       "      <th>0.083333</th>\n",
       "      <td>0.067833</td>\n",
       "      <td>-0.069881</td>\n",
       "      <td>0.256945</td>\n",
       "      <td>0.000115</td>\n",
       "    </tr>\n",
       "    <tr>\n",
       "      <th>0.250000</th>\n",
       "      <td>0.076496</td>\n",
       "      <td>-0.198750</td>\n",
       "      <td>0.475355</td>\n",
       "      <td>0.000167</td>\n",
       "    </tr>\n",
       "    <tr>\n",
       "      <th>0.500000</th>\n",
       "      <td>0.098074</td>\n",
       "      <td>-0.326596</td>\n",
       "      <td>0.681361</td>\n",
       "      <td>0.000342</td>\n",
       "    </tr>\n",
       "    <tr>\n",
       "      <th>1.000000</th>\n",
       "      <td>0.105711</td>\n",
       "      <td>-0.319487</td>\n",
       "      <td>0.942096</td>\n",
       "      <td>0.000337</td>\n",
       "    </tr>\n",
       "  </tbody>\n",
       "</table>\n",
       "</div>"
      ],
      "text/plain": [
       "             sigma       rho       vee      rmse\n",
       "0.083333  0.067833 -0.069881  0.256945  0.000115\n",
       "0.250000  0.076496 -0.198750  0.475355  0.000167\n",
       "0.500000  0.098074 -0.326596  0.681361  0.000342\n",
       "1.000000  0.105711 -0.319487  0.942096  0.000337"
      ]
     },
     "execution_count": 134,
     "metadata": {},
     "output_type": "execute_result"
    }
   ],
   "source": [
    "vol_surface.jheston"
   ]
  },
  {
   "cell_type": "code",
   "execution_count": 161,
   "metadata": {},
   "outputs": [
    {
     "data": {
      "text/plain": [
       "array([0.06783253, 0.07649616, 0.09807441, 0.10571071])"
      ]
     },
     "execution_count": 161,
     "metadata": {},
     "output_type": "execute_result"
    }
   ],
   "source": [
    "sigma = np.array(vol_surface.jheston['sigma'])\n",
    "sigma"
   ]
  },
  {
   "cell_type": "code",
   "execution_count": 163,
   "metadata": {},
   "outputs": [],
   "source": [
    "average_vols = np.array(vol_surface.jheston['sigma'].copy())\n",
    "forward_vols = average_vols.copy()\n",
    "for i in np.arange(1,m):\n",
    "    forward_vols[i] = np.sqrt((average_vols[i]**2*T[i,0] - average_vols[i-1]**2*T[i-1,0])/(T[i,0] - T[i-1,0]))"
   ]
  },
  {
   "cell_type": "code",
   "execution_count": 170,
   "metadata": {},
   "outputs": [
    {
     "data": {
      "text/plain": [
       "array([0.06783253, 0.08047899, 0.11569579, 0.11283137])"
      ]
     },
     "execution_count": 170,
     "metadata": {},
     "output_type": "execute_result"
    }
   ],
   "source": [
    "forward_vols"
   ]
  },
  {
   "cell_type": "code",
   "execution_count": 597,
   "metadata": {},
   "outputs": [],
   "source": [
    "# jump fit\n",
    "# jump_weight = 0.99\n",
    "# rho = -0.35\n",
    "# vee =  1.0"
   ]
  },
  {
   "cell_type": "code",
   "execution_count": 598,
   "metadata": {},
   "outputs": [],
   "source": [
    "# diffusion fit\n",
    "# jump_weight = 0.01\n",
    "# rho = -0.35\n",
    "# vee =  2.5"
   ]
  },
  {
   "cell_type": "code",
   "execution_count": 616,
   "metadata": {},
   "outputs": [],
   "source": [
    "# jump-diffusion fit\n",
    "jump_weight = 0.5\n",
    "rho = -0.35\n",
    "vee =  1.75"
   ]
  },
  {
   "cell_type": "code",
   "execution_count": 617,
   "metadata": {},
   "outputs": [
    {
     "data": {
      "text/plain": [
       "(array([0.04796484, 0.05690724, 0.08180928, 0.07978383]),\n",
       " array([0.04796484, 0.05690724, 0.08180928, 0.07978383]))"
      ]
     },
     "execution_count": 617,
     "metadata": {},
     "output_type": "execute_result"
    }
   ],
   "source": [
    "jump_sigma = jump_weight**0.5*forward_vols\n",
    "diff_sigma = (1 - jump_weight)**0.5*forward_vols\n",
    "jump_sigma, diff_sigma"
   ]
  },
  {
   "cell_type": "code",
   "execution_count": 664,
   "metadata": {},
   "outputs": [],
   "source": [
    "times1   = np.array([0,1/12,3/12,6/12])\n",
    "sigma1   = jump_sigma\n",
    "rho1     = np.array([ +0.5])*np.ones_like(times1)\n",
    "vee1     = np.array([1.0])*np.ones_like(times1)\n",
    "epsilon1 = np.array([ 0])*np.ones_like(times1)"
   ]
  },
  {
   "cell_type": "code",
   "execution_count": 665,
   "metadata": {},
   "outputs": [],
   "source": [
    "times2   = np.array([0,1/12,3/12,6/12])\n",
    "sigma2   = diff_sigma\n",
    "rho2     = np.array([-0.9])*np.ones_like(times2)\n",
    "vee2     = np.array([2.5])*np.ones_like(times2)\n",
    "epsilon2 = np.array([1])*np.ones_like(times2)"
   ]
  },
  {
   "cell_type": "code",
   "execution_count": 666,
   "metadata": {},
   "outputs": [],
   "source": [
    "params1  = np.array([times1, sigma1, rho1, vee1, epsilon1]).T\n",
    "params2  = np.array([times2, sigma2, rho2, vee2, epsilon2]).T"
   ]
  },
  {
   "cell_type": "code",
   "execution_count": 667,
   "metadata": {},
   "outputs": [
    {
     "data": {
      "text/plain": [
       "array([[0.   , 0.048, 0.5  , 1.   , 0.   ],\n",
       "       [0.083, 0.057, 0.5  , 1.   , 0.   ],\n",
       "       [0.25 , 0.082, 0.5  , 1.   , 0.   ],\n",
       "       [0.5  , 0.08 , 0.5  , 1.   , 0.   ]])"
      ]
     },
     "execution_count": 667,
     "metadata": {},
     "output_type": "execute_result"
    }
   ],
   "source": [
    "np.round(params1,3)"
   ]
  },
  {
   "cell_type": "code",
   "execution_count": 668,
   "metadata": {},
   "outputs": [
    {
     "data": {
      "text/plain": [
       "array([[ 0.   ,  0.048, -0.9  ,  2.5  ,  1.   ],\n",
       "       [ 0.083,  0.057, -0.9  ,  2.5  ,  1.   ],\n",
       "       [ 0.25 ,  0.082, -0.9  ,  2.5  ,  1.   ],\n",
       "       [ 0.5  ,  0.08 , -0.9  ,  2.5  ,  1.   ]])"
      ]
     },
     "execution_count": 668,
     "metadata": {},
     "output_type": "execute_result"
    }
   ],
   "source": [
    "np.round(params2,3)"
   ]
  },
  {
   "cell_type": "code",
   "execution_count": 669,
   "metadata": {},
   "outputs": [],
   "source": [
    "maturities = T\n",
    "logstrikes = k"
   ]
  },
  {
   "cell_type": "code",
   "execution_count": 670,
   "metadata": {},
   "outputs": [],
   "source": [
    "# call_prices = jdh.jdh_pricer(maturities, logstrikes, params1)\n",
    "call_prices = jdh.jdh2f_pricer(maturities, logstrikes, [params1, params2])"
   ]
  },
  {
   "cell_type": "code",
   "execution_count": 671,
   "metadata": {},
   "outputs": [],
   "source": [
    "implied_vols = jdh.surface(maturities, logstrikes, call_prices)"
   ]
  },
  {
   "cell_type": "code",
   "execution_count": 672,
   "metadata": {},
   "outputs": [
    {
     "data": {
      "text/html": [
       "<div>\n",
       "<style scoped>\n",
       "    .dataframe tbody tr th:only-of-type {\n",
       "        vertical-align: middle;\n",
       "    }\n",
       "\n",
       "    .dataframe tbody tr th {\n",
       "        vertical-align: top;\n",
       "    }\n",
       "\n",
       "    .dataframe thead th {\n",
       "        text-align: right;\n",
       "    }\n",
       "</style>\n",
       "<table border=\"1\" class=\"dataframe\">\n",
       "  <thead>\n",
       "    <tr style=\"text-align: right;\">\n",
       "      <th></th>\n",
       "      <th>0.02658027839220203</th>\n",
       "      <th>0.048346326787544795</th>\n",
       "      <th>0.07588391230670265</th>\n",
       "      <th>0.11076226787214188</th>\n",
       "      <th>0.15405838308272868</th>\n",
       "      <th>0.20650221880810687</th>\n",
       "      <th>0.26839291263128506</th>\n",
       "      <th>0.33943349124098476</th>\n",
       "      <th>0.4185168499206612</th>\n",
       "      <th>0.5034990761821789</th>\n",
       "      <th>0.591037958381496</th>\n",
       "      <th>0.6766505097513187</th>\n",
       "      <th>0.7552219625926759</th>\n",
       "      <th>0.8221394515649528</th>\n",
       "      <th>0.8747948380000904</th>\n",
       "      <th>0.9135345487478235</th>\n",
       "      <th>0.9411668001108989</th>\n",
       "      <th>0.9613816521330141</th>\n",
       "      <th>0.9775508357901938</th>\n",
       "    </tr>\n",
       "  </thead>\n",
       "  <tbody>\n",
       "    <tr>\n",
       "      <th>0.083333</th>\n",
       "      <td>0.077258</td>\n",
       "      <td>0.072559</td>\n",
       "      <td>0.069565</td>\n",
       "      <td>0.067272</td>\n",
       "      <td>0.065367</td>\n",
       "      <td>0.063716</td>\n",
       "      <td>0.062256</td>\n",
       "      <td>0.060965</td>\n",
       "      <td>0.059853</td>\n",
       "      <td>0.058969</td>\n",
       "      <td>0.058420</td>\n",
       "      <td>0.058406</td>\n",
       "      <td>0.059270</td>\n",
       "      <td>0.061478</td>\n",
       "      <td>0.065363</td>\n",
       "      <td>0.070810</td>\n",
       "      <td>0.077597</td>\n",
       "      <td>0.086082</td>\n",
       "      <td>0.098161</td>\n",
       "    </tr>\n",
       "    <tr>\n",
       "      <th>0.250000</th>\n",
       "      <td>0.088169</td>\n",
       "      <td>0.083697</td>\n",
       "      <td>0.080572</td>\n",
       "      <td>0.078038</td>\n",
       "      <td>0.075844</td>\n",
       "      <td>0.073881</td>\n",
       "      <td>0.072100</td>\n",
       "      <td>0.070490</td>\n",
       "      <td>0.069073</td>\n",
       "      <td>0.067922</td>\n",
       "      <td>0.067174</td>\n",
       "      <td>0.067059</td>\n",
       "      <td>0.067872</td>\n",
       "      <td>0.069861</td>\n",
       "      <td>0.073069</td>\n",
       "      <td>0.077397</td>\n",
       "      <td>0.082846</td>\n",
       "      <td>0.089813</td>\n",
       "      <td>0.099917</td>\n",
       "    </tr>\n",
       "    <tr>\n",
       "      <th>0.500000</th>\n",
       "      <td>0.109115</td>\n",
       "      <td>0.104169</td>\n",
       "      <td>0.100777</td>\n",
       "      <td>0.098081</td>\n",
       "      <td>0.095798</td>\n",
       "      <td>0.093810</td>\n",
       "      <td>0.092062</td>\n",
       "      <td>0.090540</td>\n",
       "      <td>0.089260</td>\n",
       "      <td>0.088266</td>\n",
       "      <td>0.087633</td>\n",
       "      <td>0.087466</td>\n",
       "      <td>0.087893</td>\n",
       "      <td>0.089046</td>\n",
       "      <td>0.091046</td>\n",
       "      <td>0.094003</td>\n",
       "      <td>0.098090</td>\n",
       "      <td>0.103745</td>\n",
       "      <td>0.112483</td>\n",
       "    </tr>\n",
       "    <tr>\n",
       "      <th>1.000000</th>\n",
       "      <td>0.121138</td>\n",
       "      <td>0.114414</td>\n",
       "      <td>0.109804</td>\n",
       "      <td>0.106177</td>\n",
       "      <td>0.103167</td>\n",
       "      <td>0.100622</td>\n",
       "      <td>0.098477</td>\n",
       "      <td>0.096712</td>\n",
       "      <td>0.095334</td>\n",
       "      <td>0.094366</td>\n",
       "      <td>0.093843</td>\n",
       "      <td>0.093800</td>\n",
       "      <td>0.094274</td>\n",
       "      <td>0.095299</td>\n",
       "      <td>0.096919</td>\n",
       "      <td>0.099213</td>\n",
       "      <td>0.102342</td>\n",
       "      <td>0.106707</td>\n",
       "      <td>0.113590</td>\n",
       "    </tr>\n",
       "  </tbody>\n",
       "</table>\n",
       "</div>"
      ],
      "text/plain": [
       "          0.026580  0.048346  0.075884  0.110762  0.154058  0.206502  \\\n",
       "0.083333  0.077258  0.072559  0.069565  0.067272  0.065367  0.063716   \n",
       "0.250000  0.088169  0.083697  0.080572  0.078038  0.075844  0.073881   \n",
       "0.500000  0.109115  0.104169  0.100777  0.098081  0.095798  0.093810   \n",
       "1.000000  0.121138  0.114414  0.109804  0.106177  0.103167  0.100622   \n",
       "\n",
       "          0.268393  0.339433  0.418517  0.503499  0.591038  0.676651  \\\n",
       "0.083333  0.062256  0.060965  0.059853  0.058969  0.058420  0.058406   \n",
       "0.250000  0.072100  0.070490  0.069073  0.067922  0.067174  0.067059   \n",
       "0.500000  0.092062  0.090540  0.089260  0.088266  0.087633  0.087466   \n",
       "1.000000  0.098477  0.096712  0.095334  0.094366  0.093843  0.093800   \n",
       "\n",
       "          0.755222  0.822139  0.874795  0.913535  0.941167  0.961382  0.977551  \n",
       "0.083333  0.059270  0.061478  0.065363  0.070810  0.077597  0.086082  0.098161  \n",
       "0.250000  0.067872  0.069861  0.073069  0.077397  0.082846  0.089813  0.099917  \n",
       "0.500000  0.087893  0.089046  0.091046  0.094003  0.098090  0.103745  0.112483  \n",
       "1.000000  0.094274  0.095299  0.096919  0.099213  0.102342  0.106707  0.113590  "
      ]
     },
     "execution_count": 672,
     "metadata": {},
     "output_type": "execute_result"
    }
   ],
   "source": [
    "pd.DataFrame(implied_vols,index=T[:,0],columns=Δ[0,:])"
   ]
  },
  {
   "cell_type": "code",
   "execution_count": 673,
   "metadata": {},
   "outputs": [],
   "source": [
    "# plt.rcParams['figure.figsize'] = [2*1.618*2,2*3]\n",
    "# plt.rcParams['legend.loc'] = 'lower left'"
   ]
  },
  {
   "cell_type": "code",
   "execution_count": 674,
   "metadata": {},
   "outputs": [],
   "source": [
    "plt.rcParams['figure.figsize'] = [3,3*9/16]"
   ]
  },
  {
   "cell_type": "code",
   "execution_count": 675,
   "metadata": {},
   "outputs": [
    {
     "data": {
      "image/png": "[encoded data removed]",
      "text/plain": [
       "<Figure size 450x253.125 with 1 Axes>"
      ]
     },
     "metadata": {
      "needs_background": "light"
     },
     "output_type": "display_data"
    }
   ],
   "source": [
    "plot,axes = plt.subplots()\n",
    "for i in range(len(T[:,0])):\n",
    "    axes.plot(k[i,:],100*implied_vols[i,:])\n",
    "    axes.set_xlabel(r'$k$')\n",
    "    axes.set_ylabel(r'$\\bar{\\sigma}(k,\\tau)$')\n",
    "# plt.savefig('temp')"
   ]
  },
  {
   "cell_type": "code",
   "execution_count": 676,
   "metadata": {},
   "outputs": [],
   "source": [
    "implied_vars = implied_vols*np.sqrt(T)\n",
    "Δ = norm.cdf(k/implied_vars + 0.5*implied_vars)"
   ]
  },
  {
   "cell_type": "code",
   "execution_count": 677,
   "metadata": {},
   "outputs": [],
   "source": [
    "plt.rcParams['figure.figsize'] = [4,8]\n",
    "plt.rcParams['legend.loc'] = 'upper right'"
   ]
  },
  {
   "cell_type": "code",
   "execution_count": 678,
   "metadata": {},
   "outputs": [
    {
     "data": {
      "image/png": "[encoded data removed]",
      "text/plain": [
       "<Figure size 600x1200 with 4 Axes>"
      ]
     },
     "metadata": {
      "needs_background": "light"
     },
     "output_type": "display_data"
    }
   ],
   "source": [
    "plot,axes = plt.subplots(m)\n",
    "for i in range(len(T[:,0])):\n",
    "    axes[i].plot(deltas, mid_vols[i,:],'bo')\n",
    "    axes[i].plot(Δ[i,:],100*implied_vols[i,:])\n",
    "    axes[i].set_xlim([0,1])\n",
    "    axes[i].set_ylabel(r'$\\bar{\\sigma}(\\Delta,\\mathrm{%s})$'%labels[i])\n",
    "axes[0].set_title(r'$\\mathrm{GBPUSD 20190612}$')\n",
    "axes[0].legend([r'$\\mathrm{Market}$',r'$\\mathrm{jdh2f\\ model}$'])\n",
    "axes[-1].set_xlabel(r'$\\Delta$')\n",
    "plt.tight_layout()\n",
    "plt.savefig('plots/jump-diffusion-fit')"
   ]
  },
  {
   "cell_type": "code",
   "execution_count": null,
   "metadata": {},
   "outputs": [],
   "source": []
  }
 ],
 "metadata": {
  "anaconda-cloud": {},
  "kernelspec": {
   "display_name": "Python 3",
   "language": "python",
   "name": "python3"
  },
  "language_info": {
   "codemirror_mode": {
    "name": "ipython",
    "version": 3
   },
   "file_extension": ".py",
   "mimetype": "text/x-python",
   "name": "python",
   "nbconvert_exporter": "python",
   "pygments_lexer": "ipython3",
   "version": "3.7.3"
  }
 },
 "nbformat": 4,
 "nbformat_minor": 2
}
