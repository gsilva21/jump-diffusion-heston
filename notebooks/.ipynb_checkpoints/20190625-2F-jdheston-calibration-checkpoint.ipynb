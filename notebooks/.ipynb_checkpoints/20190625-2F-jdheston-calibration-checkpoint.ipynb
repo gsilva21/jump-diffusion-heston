{
 "cells": [
  {
   "cell_type": "code",
   "execution_count": 1,
   "metadata": {},
   "outputs": [],
   "source": [
    "import os\n",
    "os.chdir(r'/Users/rmccrickerd/desktop/jdheston')"
   ]
  },
  {
   "cell_type": "code",
   "execution_count": 2,
   "metadata": {},
   "outputs": [],
   "source": [
    "import numpy as np\n",
    "import pandas as pd\n",
    "from jdheston import jdheston as jdh\n",
    "from jdheston import utils as uts\n",
    "from jdheston import config as cfg\n",
    "from matplotlib import pyplot as plt\n",
    "from scipy.stats import norm\n",
    "from scipy.special import gamma\n",
    "from scipy.optimize import minimize\n",
    "# import mpl\n",
    "# %matplotlib inline"
   ]
  },
  {
   "cell_type": "code",
   "execution_count": 3,
   "metadata": {},
   "outputs": [],
   "source": [
    "nx = np.newaxis\n",
    "cfg.config(scale=1.5,print_keys=False)"
   ]
  },
  {
   "cell_type": "code",
   "execution_count": 4,
   "metadata": {},
   "outputs": [
    {
     "data": {
      "text/html": [
       "<div>\n",
       "<style scoped>\n",
       "    .dataframe tbody tr th:only-of-type {\n",
       "        vertical-align: middle;\n",
       "    }\n",
       "\n",
       "    .dataframe tbody tr th {\n",
       "        vertical-align: top;\n",
       "    }\n",
       "\n",
       "    .dataframe thead th {\n",
       "        text-align: right;\n",
       "    }\n",
       "</style>\n",
       "<table border=\"1\" class=\"dataframe\">\n",
       "  <thead>\n",
       "    <tr style=\"text-align: right;\">\n",
       "      <th></th>\n",
       "      <th>GBP</th>\n",
       "      <th>USD</th>\n",
       "      <th>Unnamed: 2</th>\n",
       "      <th>Bloomberg BGN</th>\n",
       "      <th>Unnamed: 4</th>\n",
       "      <th>Unnamed: 5</th>\n",
       "      <th>Unnamed: 6</th>\n",
       "      <th>Unnamed: 7</th>\n",
       "      <th>Unnamed: 8</th>\n",
       "      <th>Unnamed: 9</th>\n",
       "      <th>Unnamed: 10</th>\n",
       "    </tr>\n",
       "  </thead>\n",
       "  <tbody>\n",
       "    <tr>\n",
       "      <th>0</th>\n",
       "      <td>NaN</td>\n",
       "      <td>ATM</td>\n",
       "      <td>NaN</td>\n",
       "      <td>25D Call GBP</td>\n",
       "      <td>NaN</td>\n",
       "      <td>25D Put GBP</td>\n",
       "      <td>NaN</td>\n",
       "      <td>10D Call GBP</td>\n",
       "      <td>NaN</td>\n",
       "      <td>10D Put GBP</td>\n",
       "      <td>NaN</td>\n",
       "    </tr>\n",
       "    <tr>\n",
       "      <th>1</th>\n",
       "      <td>NaN</td>\n",
       "      <td>Mid</td>\n",
       "      <td>Spread</td>\n",
       "      <td>Mid</td>\n",
       "      <td>Spread</td>\n",
       "      <td>Mid</td>\n",
       "      <td>Spread</td>\n",
       "      <td>Mid</td>\n",
       "      <td>Spread</td>\n",
       "      <td>Mid</td>\n",
       "      <td>Spread</td>\n",
       "    </tr>\n",
       "    <tr>\n",
       "      <th>2</th>\n",
       "      <td>1M</td>\n",
       "      <td>6.27</td>\n",
       "      <td>0.7</td>\n",
       "      <td>6.41</td>\n",
       "      <td>0.88</td>\n",
       "      <td>6.64</td>\n",
       "      <td>0.88</td>\n",
       "      <td>6.848</td>\n",
       "      <td>1.599</td>\n",
       "      <td>7.283</td>\n",
       "      <td>1.598</td>\n",
       "    </tr>\n",
       "    <tr>\n",
       "      <th>3</th>\n",
       "      <td>3M</td>\n",
       "      <td>6.99</td>\n",
       "      <td>0.7</td>\n",
       "      <td>6.93</td>\n",
       "      <td>0.88</td>\n",
       "      <td>7.692</td>\n",
       "      <td>0.879</td>\n",
       "      <td>7.266</td>\n",
       "      <td>1.598</td>\n",
       "      <td>8.687</td>\n",
       "      <td>1.596</td>\n",
       "    </tr>\n",
       "    <tr>\n",
       "      <th>4</th>\n",
       "      <td>6M</td>\n",
       "      <td>8.885</td>\n",
       "      <td>0.75</td>\n",
       "      <td>8.514</td>\n",
       "      <td>0.942</td>\n",
       "      <td>10.147</td>\n",
       "      <td>0.942</td>\n",
       "      <td>8.671</td>\n",
       "      <td>1.711</td>\n",
       "      <td>11.685</td>\n",
       "      <td>1.708</td>\n",
       "    </tr>\n",
       "    <tr>\n",
       "      <th>5</th>\n",
       "      <td>1Y</td>\n",
       "      <td>9.61</td>\n",
       "      <td>0.65</td>\n",
       "      <td>9.209</td>\n",
       "      <td>0.816</td>\n",
       "      <td>10.936</td>\n",
       "      <td>0.816</td>\n",
       "      <td>9.355</td>\n",
       "      <td>1.481</td>\n",
       "      <td>12.565</td>\n",
       "      <td>1.48</td>\n",
       "    </tr>\n",
       "  </tbody>\n",
       "</table>\n",
       "</div>"
      ],
      "text/plain": [
       "   GBP    USD Unnamed: 2 Bloomberg BGN Unnamed: 4   Unnamed: 5 Unnamed: 6  \\\n",
       "0  NaN    ATM        NaN  25D Call GBP        NaN  25D Put GBP        NaN   \n",
       "1  NaN    Mid     Spread           Mid     Spread          Mid     Spread   \n",
       "2   1M   6.27        0.7          6.41       0.88         6.64       0.88   \n",
       "3   3M   6.99        0.7          6.93       0.88        7.692      0.879   \n",
       "4   6M  8.885       0.75         8.514      0.942       10.147      0.942   \n",
       "5   1Y   9.61       0.65         9.209      0.816       10.936      0.816   \n",
       "\n",
       "     Unnamed: 7 Unnamed: 8   Unnamed: 9 Unnamed: 10  \n",
       "0  10D Call GBP        NaN  10D Put GBP         NaN  \n",
       "1           Mid     Spread          Mid      Spread  \n",
       "2         6.848      1.599        7.283       1.598  \n",
       "3         7.266      1.598        8.687       1.596  \n",
       "4         8.671      1.711       11.685       1.708  \n",
       "5         9.355      1.481       12.565        1.48  "
      ]
     },
     "execution_count": 4,
     "metadata": {},
     "output_type": "execute_result"
    }
   ],
   "source": [
    "df = pd.read_excel('data/ccy-date.xlsx')\n",
    "df"
   ]
  },
  {
   "cell_type": "code",
   "execution_count": 5,
   "metadata": {},
   "outputs": [],
   "source": [
    "deltas = np.array([0.1,0.25,0.5,0.75,0.9])\n",
    "expiries = np.array([1/12,3/12,6/12,1])\n",
    "labels = ['1m','3m','6m','1y']"
   ]
  },
  {
   "cell_type": "code",
   "execution_count": 6,
   "metadata": {},
   "outputs": [],
   "source": [
    "m,n = len(expiries),len(deltas)\n",
    "mid_vols = np.zeros((m,n))\n",
    "spreads = np.zeros((m,n))"
   ]
  },
  {
   "cell_type": "code",
   "execution_count": 7,
   "metadata": {},
   "outputs": [],
   "source": [
    "mid_vols[:,0] = df.iloc[2:,9]\n",
    "mid_vols[:,1] = df.iloc[2:,5]\n",
    "mid_vols[:,2] = df.iloc[2:,1]\n",
    "mid_vols[:,3] = df.iloc[2:,3]\n",
    "mid_vols[:,4] = df.iloc[2:,7]"
   ]
  },
  {
   "cell_type": "code",
   "execution_count": 8,
   "metadata": {},
   "outputs": [],
   "source": [
    "spreads[:,0] = df.iloc[2:,10]\n",
    "spreads[:,1] = df.iloc[2:,6]\n",
    "spreads[:,2] = df.iloc[2:,2]\n",
    "spreads[:,3] = df.iloc[2:,4]\n",
    "spreads[:,4] = df.iloc[2:,8]"
   ]
  },
  {
   "cell_type": "code",
   "execution_count": 9,
   "metadata": {},
   "outputs": [],
   "source": [
    "plt.rcParams['figure.figsize'] = [4,8]\n",
    "plt.rcParams['legend.loc'] = 'lower left'"
   ]
  },
  {
   "cell_type": "code",
   "execution_count": 10,
   "metadata": {},
   "outputs": [
    {
     "data": {
      "image/png": "[encoded data removed]",
      "text/plain": [
       "<Figure size 600x1200 with 4 Axes>"
      ]
     },
     "metadata": {
      "needs_background": "light"
     },
     "output_type": "display_data"
    }
   ],
   "source": [
    "plot,axes = plt.subplots(m)\n",
    "# n = -1\n",
    "for i in range(4):\n",
    "#         n += 1\n",
    "        axes[i].plot(deltas, mid_vols[i,:],'bo')\n",
    "        \n",
    "        for j in range(n):\n",
    "            axes[i].plot([deltas[j],deltas[j]], [mid_vols[i,j] - spreads[i,j]/2,mid_vols[i,j] + spreads[i,j]/2],'b')\n",
    "        axes[i].plot(deltas, mid_vols[i,:] + spreads[i,:]/2,'b_')\n",
    "        axes[i].plot(deltas, mid_vols[i,:] - spreads[i,:]/2,'b_')\n",
    "#         axes[i].plot(k[n,:],100*BSV[n,:])\n",
    "        axes[i].set_ylabel(r'$\\bar{\\sigma}(\\Delta,\\mathrm{%s})$'%labels[i])\n",
    "        axes[i].set_ylim([5,15])\n",
    "        axes[i].set_xlim([0,1])\n",
    "# axes[0,1].set_title(r'$\\varepsilon=\\mathrm{%s}.$'%TS)\n",
    "# axes[0,1].set_title(r'$H = 0.05,\\ \\ \\varepsilon=\\mathrm{%s}.$'%TS)\n",
    "# axes[1,1].legend([r'$\\ \\ \\mathrm{rHeston}$',r'$\\mathrm{qhrHeston\\ (NIG)}$'])\n",
    "axes[0].set_title(r'$\\mathrm{GBPUSD 20190612}$')\n",
    "axes[3].set_xlabel(r'$\\Delta$')\n",
    "plt.tight_layout()\n",
    "# fname = r'LSR-comparison'\n",
    "# plt.savefig(fname)"
   ]
  },
  {
   "cell_type": "code",
   "execution_count": 11,
   "metadata": {},
   "outputs": [],
   "source": [
    "vols = mid_vols/100"
   ]
  },
  {
   "cell_type": "code",
   "execution_count": 12,
   "metadata": {},
   "outputs": [],
   "source": [
    "vol_surface = jdh.vol_surface(expiries[:,nx], deltas[nx,:], vols)"
   ]
  },
  {
   "cell_type": "code",
   "execution_count": 13,
   "metadata": {},
   "outputs": [
    {
     "name": "stderr",
     "output_type": "stream",
     "text": [
      "C:\\Users\\rmccrickerd\\desktop\\jdheston\\jdheston\\jdheston.py:218: IntegrationWarning: The maximum number of subdivisions (50) has been achieved.\n",
      "  If increasing the limit yields no improvement it is advised to analyze \n",
      "  the integrand in order to determine the difficulties.  If the position of a \n",
      "  local difficulty can be determined (singularity, discontinuity) one will \n",
      "  probably gain from splitting up the interval and calling the integrator \n",
      "  on the subranges.  Perhaps a special-purpose integrator should be used.\n",
      "  p = 1 - 1/np.pi*np.exp(k/2)*quad(jheston_integrand,0,u,args=(t,k,Θ))[0]\n"
     ]
    },
    {
     "data": {
      "text/html": [
       "<div>\n",
       "<style scoped>\n",
       "    .dataframe tbody tr th:only-of-type {\n",
       "        vertical-align: middle;\n",
       "    }\n",
       "\n",
       "    .dataframe tbody tr th {\n",
       "        vertical-align: top;\n",
       "    }\n",
       "\n",
       "    .dataframe thead th {\n",
       "        text-align: right;\n",
       "    }\n",
       "</style>\n",
       "<table border=\"1\" class=\"dataframe\">\n",
       "  <thead>\n",
       "    <tr style=\"text-align: right;\">\n",
       "      <th></th>\n",
       "      <th>sigma</th>\n",
       "      <th>rho</th>\n",
       "      <th>vee</th>\n",
       "      <th>rmse</th>\n",
       "    </tr>\n",
       "  </thead>\n",
       "  <tbody>\n",
       "    <tr>\n",
       "      <th>0.083333</th>\n",
       "      <td>0.067833</td>\n",
       "      <td>-0.069881</td>\n",
       "      <td>0.256945</td>\n",
       "      <td>0.000115</td>\n",
       "    </tr>\n",
       "    <tr>\n",
       "      <th>0.250000</th>\n",
       "      <td>0.076496</td>\n",
       "      <td>-0.198750</td>\n",
       "      <td>0.475355</td>\n",
       "      <td>0.000167</td>\n",
       "    </tr>\n",
       "    <tr>\n",
       "      <th>0.500000</th>\n",
       "      <td>0.098074</td>\n",
       "      <td>-0.326596</td>\n",
       "      <td>0.681361</td>\n",
       "      <td>0.000342</td>\n",
       "    </tr>\n",
       "    <tr>\n",
       "      <th>1.000000</th>\n",
       "      <td>0.105711</td>\n",
       "      <td>-0.319487</td>\n",
       "      <td>0.942096</td>\n",
       "      <td>0.000337</td>\n",
       "    </tr>\n",
       "  </tbody>\n",
       "</table>\n",
       "</div>"
      ],
      "text/plain": [
       "             sigma       rho       vee      rmse\n",
       "0.083333  0.067833 -0.069881  0.256945  0.000115\n",
       "0.250000  0.076496 -0.198750  0.475355  0.000167\n",
       "0.500000  0.098074 -0.326596  0.681361  0.000342\n",
       "1.000000  0.105711 -0.319487  0.942096  0.000337"
      ]
     },
     "execution_count": 13,
     "metadata": {},
     "output_type": "execute_result"
    }
   ],
   "source": [
    "vol_surface.fit_jheston()"
   ]
  },
  {
   "cell_type": "code",
   "execution_count": 14,
   "metadata": {},
   "outputs": [
    {
     "data": {
      "text/plain": [
       "0.10571070956254527"
      ]
     },
     "execution_count": 14,
     "metadata": {},
     "output_type": "execute_result"
    }
   ],
   "source": [
    "sigma_max = np.max(vol_surface.jheston['sigma'])\n",
    "sigma_max"
   ]
  },
  {
   "cell_type": "code",
   "execution_count": 15,
   "metadata": {},
   "outputs": [],
   "source": [
    "T = np.array([1/12,3/12,6/12,1])[:,nx]\n",
    "# M = ['1W','1M','3M','6M','9M','1Y']\n",
    "Δ = np.linspace(5,95,19)[nx,:]/100\n",
    "k = norm.ppf(Δ)*sigma_max*np.sqrt(T)"
   ]
  },
  {
   "cell_type": "code",
   "execution_count": 16,
   "metadata": {},
   "outputs": [
    {
     "data": {
      "text/html": [
       "<div>\n",
       "<style scoped>\n",
       "    .dataframe tbody tr th:only-of-type {\n",
       "        vertical-align: middle;\n",
       "    }\n",
       "\n",
       "    .dataframe tbody tr th {\n",
       "        vertical-align: top;\n",
       "    }\n",
       "\n",
       "    .dataframe thead th {\n",
       "        text-align: right;\n",
       "    }\n",
       "</style>\n",
       "<table border=\"1\" class=\"dataframe\">\n",
       "  <thead>\n",
       "    <tr style=\"text-align: right;\">\n",
       "      <th></th>\n",
       "      <th>0.05</th>\n",
       "      <th>0.1</th>\n",
       "      <th>0.15</th>\n",
       "      <th>0.2</th>\n",
       "      <th>0.25</th>\n",
       "      <th>0.3</th>\n",
       "      <th>0.35</th>\n",
       "      <th>0.4</th>\n",
       "      <th>0.45</th>\n",
       "      <th>0.5</th>\n",
       "      <th>0.55</th>\n",
       "      <th>0.6</th>\n",
       "      <th>0.65</th>\n",
       "      <th>0.7</th>\n",
       "      <th>0.75</th>\n",
       "      <th>0.8</th>\n",
       "      <th>0.85</th>\n",
       "      <th>0.9</th>\n",
       "      <th>0.95</th>\n",
       "    </tr>\n",
       "  </thead>\n",
       "  <tbody>\n",
       "    <tr>\n",
       "      <th>0.083333</th>\n",
       "      <td>-0.050194</td>\n",
       "      <td>-0.039108</td>\n",
       "      <td>-0.031628</td>\n",
       "      <td>-0.025683</td>\n",
       "      <td>-0.020583</td>\n",
       "      <td>-0.016003</td>\n",
       "      <td>-0.011758</td>\n",
       "      <td>-0.007731</td>\n",
       "      <td>-0.003835</td>\n",
       "      <td>0.0</td>\n",
       "      <td>0.003835</td>\n",
       "      <td>0.007731</td>\n",
       "      <td>0.011758</td>\n",
       "      <td>0.016003</td>\n",
       "      <td>0.020583</td>\n",
       "      <td>0.025683</td>\n",
       "      <td>0.031628</td>\n",
       "      <td>0.039108</td>\n",
       "      <td>0.050194</td>\n",
       "    </tr>\n",
       "    <tr>\n",
       "      <th>0.250000</th>\n",
       "      <td>-0.086939</td>\n",
       "      <td>-0.067737</td>\n",
       "      <td>-0.054781</td>\n",
       "      <td>-0.044484</td>\n",
       "      <td>-0.035650</td>\n",
       "      <td>-0.027717</td>\n",
       "      <td>-0.020366</td>\n",
       "      <td>-0.013391</td>\n",
       "      <td>-0.006642</td>\n",
       "      <td>0.0</td>\n",
       "      <td>0.006642</td>\n",
       "      <td>0.013391</td>\n",
       "      <td>0.020366</td>\n",
       "      <td>0.027717</td>\n",
       "      <td>0.035650</td>\n",
       "      <td>0.044484</td>\n",
       "      <td>0.054781</td>\n",
       "      <td>0.067737</td>\n",
       "      <td>0.086939</td>\n",
       "    </tr>\n",
       "    <tr>\n",
       "      <th>0.500000</th>\n",
       "      <td>-0.122951</td>\n",
       "      <td>-0.095794</td>\n",
       "      <td>-0.077472</td>\n",
       "      <td>-0.062910</td>\n",
       "      <td>-0.050417</td>\n",
       "      <td>-0.039198</td>\n",
       "      <td>-0.028802</td>\n",
       "      <td>-0.018937</td>\n",
       "      <td>-0.009393</td>\n",
       "      <td>0.0</td>\n",
       "      <td>0.009393</td>\n",
       "      <td>0.018937</td>\n",
       "      <td>0.028802</td>\n",
       "      <td>0.039198</td>\n",
       "      <td>0.050417</td>\n",
       "      <td>0.062910</td>\n",
       "      <td>0.077472</td>\n",
       "      <td>0.095794</td>\n",
       "      <td>0.122951</td>\n",
       "    </tr>\n",
       "    <tr>\n",
       "      <th>1.000000</th>\n",
       "      <td>-0.173879</td>\n",
       "      <td>-0.135474</td>\n",
       "      <td>-0.109562</td>\n",
       "      <td>-0.088968</td>\n",
       "      <td>-0.071301</td>\n",
       "      <td>-0.055435</td>\n",
       "      <td>-0.040732</td>\n",
       "      <td>-0.026782</td>\n",
       "      <td>-0.013284</td>\n",
       "      <td>0.0</td>\n",
       "      <td>0.013284</td>\n",
       "      <td>0.026782</td>\n",
       "      <td>0.040732</td>\n",
       "      <td>0.055435</td>\n",
       "      <td>0.071301</td>\n",
       "      <td>0.088968</td>\n",
       "      <td>0.109562</td>\n",
       "      <td>0.135474</td>\n",
       "      <td>0.173879</td>\n",
       "    </tr>\n",
       "  </tbody>\n",
       "</table>\n",
       "</div>"
      ],
      "text/plain": [
       "              0.05      0.10      0.15      0.20      0.25      0.30  \\\n",
       "0.083333 -0.050194 -0.039108 -0.031628 -0.025683 -0.020583 -0.016003   \n",
       "0.250000 -0.086939 -0.067737 -0.054781 -0.044484 -0.035650 -0.027717   \n",
       "0.500000 -0.122951 -0.095794 -0.077472 -0.062910 -0.050417 -0.039198   \n",
       "1.000000 -0.173879 -0.135474 -0.109562 -0.088968 -0.071301 -0.055435   \n",
       "\n",
       "              0.35      0.40      0.45  0.50      0.55      0.60      0.65  \\\n",
       "0.083333 -0.011758 -0.007731 -0.003835   0.0  0.003835  0.007731  0.011758   \n",
       "0.250000 -0.020366 -0.013391 -0.006642   0.0  0.006642  0.013391  0.020366   \n",
       "0.500000 -0.028802 -0.018937 -0.009393   0.0  0.009393  0.018937  0.028802   \n",
       "1.000000 -0.040732 -0.026782 -0.013284   0.0  0.013284  0.026782  0.040732   \n",
       "\n",
       "              0.70      0.75      0.80      0.85      0.90      0.95  \n",
       "0.083333  0.016003  0.020583  0.025683  0.031628  0.039108  0.050194  \n",
       "0.250000  0.027717  0.035650  0.044484  0.054781  0.067737  0.086939  \n",
       "0.500000  0.039198  0.050417  0.062910  0.077472  0.095794  0.122951  \n",
       "1.000000  0.055435  0.071301  0.088968  0.109562  0.135474  0.173879  "
      ]
     },
     "execution_count": 16,
     "metadata": {},
     "output_type": "execute_result"
    }
   ],
   "source": [
    "pd.DataFrame(k,index=T[:,0],columns=np.round(Δ[0,:],2))"
   ]
  },
  {
   "cell_type": "code",
   "execution_count": 17,
   "metadata": {},
   "outputs": [
    {
     "data": {
      "text/html": [
       "<div>\n",
       "<style scoped>\n",
       "    .dataframe tbody tr th:only-of-type {\n",
       "        vertical-align: middle;\n",
       "    }\n",
       "\n",
       "    .dataframe tbody tr th {\n",
       "        vertical-align: top;\n",
       "    }\n",
       "\n",
       "    .dataframe thead th {\n",
       "        text-align: right;\n",
       "    }\n",
       "</style>\n",
       "<table border=\"1\" class=\"dataframe\">\n",
       "  <thead>\n",
       "    <tr style=\"text-align: right;\">\n",
       "      <th></th>\n",
       "      <th>sigma</th>\n",
       "      <th>rho</th>\n",
       "      <th>vee</th>\n",
       "      <th>rmse</th>\n",
       "    </tr>\n",
       "  </thead>\n",
       "  <tbody>\n",
       "    <tr>\n",
       "      <th>0.083333</th>\n",
       "      <td>0.067833</td>\n",
       "      <td>-0.069881</td>\n",
       "      <td>0.256945</td>\n",
       "      <td>0.000115</td>\n",
       "    </tr>\n",
       "    <tr>\n",
       "      <th>0.250000</th>\n",
       "      <td>0.076496</td>\n",
       "      <td>-0.198750</td>\n",
       "      <td>0.475355</td>\n",
       "      <td>0.000167</td>\n",
       "    </tr>\n",
       "    <tr>\n",
       "      <th>0.500000</th>\n",
       "      <td>0.098074</td>\n",
       "      <td>-0.326596</td>\n",
       "      <td>0.681361</td>\n",
       "      <td>0.000342</td>\n",
       "    </tr>\n",
       "    <tr>\n",
       "      <th>1.000000</th>\n",
       "      <td>0.105711</td>\n",
       "      <td>-0.319487</td>\n",
       "      <td>0.942096</td>\n",
       "      <td>0.000337</td>\n",
       "    </tr>\n",
       "  </tbody>\n",
       "</table>\n",
       "</div>"
      ],
      "text/plain": [
       "             sigma       rho       vee      rmse\n",
       "0.083333  0.067833 -0.069881  0.256945  0.000115\n",
       "0.250000  0.076496 -0.198750  0.475355  0.000167\n",
       "0.500000  0.098074 -0.326596  0.681361  0.000342\n",
       "1.000000  0.105711 -0.319487  0.942096  0.000337"
      ]
     },
     "execution_count": 17,
     "metadata": {},
     "output_type": "execute_result"
    }
   ],
   "source": [
    "vol_surface.jheston"
   ]
  },
  {
   "cell_type": "code",
   "execution_count": 18,
   "metadata": {},
   "outputs": [
    {
     "data": {
      "text/plain": [
       "array([0.06783253, 0.07649616, 0.09807441, 0.10571071])"
      ]
     },
     "execution_count": 18,
     "metadata": {},
     "output_type": "execute_result"
    }
   ],
   "source": [
    "sigma = np.array(vol_surface.jheston['sigma'])\n",
    "sigma"
   ]
  },
  {
   "cell_type": "code",
   "execution_count": 19,
   "metadata": {},
   "outputs": [],
   "source": [
    "average_vols = np.array(vol_surface.jheston['sigma'].copy())\n",
    "forward_vols = average_vols.copy()\n",
    "for i in np.arange(1,m):\n",
    "    forward_vols[i] = np.sqrt((average_vols[i]**2*T[i,0] - average_vols[i-1]**2*T[i-1,0])/(T[i,0] - T[i-1,0]))"
   ]
  },
  {
   "cell_type": "code",
   "execution_count": 20,
   "metadata": {},
   "outputs": [
    {
     "data": {
      "text/plain": [
       "array([0.06783253, 0.08047899, 0.11569579, 0.11283137])"
      ]
     },
     "execution_count": 20,
     "metadata": {},
     "output_type": "execute_result"
    }
   ],
   "source": [
    "forward_vols"
   ]
  },
  {
   "cell_type": "code",
   "execution_count": 21,
   "metadata": {},
   "outputs": [],
   "source": [
    "# jump fit\n",
    "# jump_weight = 0.99\n",
    "# rho = -0.35\n",
    "# vee =  1.0"
   ]
  },
  {
   "cell_type": "code",
   "execution_count": 22,
   "metadata": {},
   "outputs": [],
   "source": [
    "# diffusion fit\n",
    "# jump_weight = 0.01\n",
    "# rho = -0.35\n",
    "# vee =  2.5"
   ]
  },
  {
   "cell_type": "code",
   "execution_count": 23,
   "metadata": {},
   "outputs": [],
   "source": [
    "# jump-diffusion fit\n",
    "jump_weight = 0.5\n",
    "rho = -0.35\n",
    "vee =  1.75"
   ]
  },
  {
   "cell_type": "code",
   "execution_count": 24,
   "metadata": {},
   "outputs": [
    {
     "data": {
      "text/plain": [
       "(array([0.04796484, 0.05690724, 0.08180928, 0.07978383]),\n",
       " array([0.04796484, 0.05690724, 0.08180928, 0.07978383]))"
      ]
     },
     "execution_count": 24,
     "metadata": {},
     "output_type": "execute_result"
    }
   ],
   "source": [
    "jump_sigma = jump_weight**0.5*forward_vols\n",
    "diff_sigma = (1 - jump_weight)**0.5*forward_vols\n",
    "jump_sigma, diff_sigma"
   ]
  },
  {
   "cell_type": "code",
   "execution_count": 25,
   "metadata": {},
   "outputs": [],
   "source": [
    "times1   = np.array([0,1/12,3/12,6/12])\n",
    "sigma1   = jump_sigma\n",
    "rho1     = np.array([ +0.5])*np.ones_like(times1)\n",
    "vee1     = np.array([1.0])*np.ones_like(times1)\n",
    "epsilon1 = np.array([ 0])*np.ones_like(times1)"
   ]
  },
  {
   "cell_type": "code",
   "execution_count": 26,
   "metadata": {},
   "outputs": [],
   "source": [
    "times2   = np.array([0,1/12,3/12,6/12])\n",
    "sigma2   = diff_sigma\n",
    "rho2     = np.array([-0.9])*np.ones_like(times2)\n",
    "vee2     = np.array([2.5])*np.ones_like(times2)\n",
    "epsilon2 = np.array([ 0.5])*np.ones_like(times2)"
   ]
  },
  {
   "cell_type": "code",
   "execution_count": 27,
   "metadata": {},
   "outputs": [],
   "source": [
    "params1  = np.array([times1, sigma1, rho1, vee1, epsilon1]).T\n",
    "params2  = np.array([times2, sigma2, rho2, vee2, epsilon2]).T"
   ]
  },
  {
   "cell_type": "code",
   "execution_count": 28,
   "metadata": {},
   "outputs": [
    {
     "data": {
      "text/plain": [
       "array([[0.   , 0.048, 0.5  , 1.   , 0.   ],\n",
       "       [0.083, 0.057, 0.5  , 1.   , 0.   ],\n",
       "       [0.25 , 0.082, 0.5  , 1.   , 0.   ],\n",
       "       [0.5  , 0.08 , 0.5  , 1.   , 0.   ]])"
      ]
     },
     "execution_count": 28,
     "metadata": {},
     "output_type": "execute_result"
    }
   ],
   "source": [
    "np.round(params1,3)"
   ]
  },
  {
   "cell_type": "code",
   "execution_count": 29,
   "metadata": {},
   "outputs": [
    {
     "data": {
      "text/plain": [
       "array([[ 0.   ,  0.048, -0.9  ,  2.5  ,  0.5  ],\n",
       "       [ 0.083,  0.057, -0.9  ,  2.5  ,  0.5  ],\n",
       "       [ 0.25 ,  0.082, -0.9  ,  2.5  ,  0.5  ],\n",
       "       [ 0.5  ,  0.08 , -0.9  ,  2.5  ,  0.5  ]])"
      ]
     },
     "execution_count": 29,
     "metadata": {},
     "output_type": "execute_result"
    }
   ],
   "source": [
    "np.round(params2,3)"
   ]
  },
  {
   "cell_type": "code",
   "execution_count": 30,
   "metadata": {},
   "outputs": [],
   "source": [
    "maturities = T\n",
    "logstrikes = k"
   ]
  },
  {
   "cell_type": "code",
   "execution_count": 31,
   "metadata": {},
   "outputs": [],
   "source": [
    "# call_prices = jdh.jdh_pricer(maturities, logstrikes, params1)\n",
    "call_prices = jdh.jdh2f_pricer(maturities, logstrikes, [params1, params2])"
   ]
  },
  {
   "cell_type": "code",
   "execution_count": 32,
   "metadata": {},
   "outputs": [],
   "source": [
    "implied_vols = jdh.surface(maturities, logstrikes, call_prices)"
   ]
  },
  {
   "cell_type": "code",
   "execution_count": 33,
   "metadata": {},
   "outputs": [
    {
     "data": {
      "text/html": [
       "<div>\n",
       "<style scoped>\n",
       "    .dataframe tbody tr th:only-of-type {\n",
       "        vertical-align: middle;\n",
       "    }\n",
       "\n",
       "    .dataframe tbody tr th {\n",
       "        vertical-align: top;\n",
       "    }\n",
       "\n",
       "    .dataframe thead th {\n",
       "        text-align: right;\n",
       "    }\n",
       "</style>\n",
       "<table border=\"1\" class=\"dataframe\">\n",
       "  <thead>\n",
       "    <tr style=\"text-align: right;\">\n",
       "      <th></th>\n",
       "      <th>0.05</th>\n",
       "      <th>0.1</th>\n",
       "      <th>0.15</th>\n",
       "      <th>0.2</th>\n",
       "      <th>0.25</th>\n",
       "      <th>0.3</th>\n",
       "      <th>0.35</th>\n",
       "      <th>0.4</th>\n",
       "      <th>0.45</th>\n",
       "      <th>0.5</th>\n",
       "      <th>0.55</th>\n",
       "      <th>0.6</th>\n",
       "      <th>0.65</th>\n",
       "      <th>0.7</th>\n",
       "      <th>0.75</th>\n",
       "      <th>0.8</th>\n",
       "      <th>0.85</th>\n",
       "      <th>0.9</th>\n",
       "      <th>0.95</th>\n",
       "    </tr>\n",
       "  </thead>\n",
       "  <tbody>\n",
       "    <tr>\n",
       "      <th>0.083333</th>\n",
       "      <td>0.085238</td>\n",
       "      <td>0.079609</td>\n",
       "      <td>0.075582</td>\n",
       "      <td>0.072218</td>\n",
       "      <td>0.069197</td>\n",
       "      <td>0.066369</td>\n",
       "      <td>0.063648</td>\n",
       "      <td>0.060990</td>\n",
       "      <td>0.058398</td>\n",
       "      <td>0.055970</td>\n",
       "      <td>0.054053</td>\n",
       "      <td>0.053449</td>\n",
       "      <td>0.055061</td>\n",
       "      <td>0.058816</td>\n",
       "      <td>0.063966</td>\n",
       "      <td>0.070060</td>\n",
       "      <td>0.077138</td>\n",
       "      <td>0.085777</td>\n",
       "      <td>0.097957</td>\n",
       "    </tr>\n",
       "    <tr>\n",
       "      <th>0.250000</th>\n",
       "      <td>0.098491</td>\n",
       "      <td>0.091397</td>\n",
       "      <td>0.086256</td>\n",
       "      <td>0.081941</td>\n",
       "      <td>0.078075</td>\n",
       "      <td>0.074494</td>\n",
       "      <td>0.071135</td>\n",
       "      <td>0.068014</td>\n",
       "      <td>0.065248</td>\n",
       "      <td>0.063090</td>\n",
       "      <td>0.061952</td>\n",
       "      <td>0.062244</td>\n",
       "      <td>0.064070</td>\n",
       "      <td>0.067176</td>\n",
       "      <td>0.071244</td>\n",
       "      <td>0.076130</td>\n",
       "      <td>0.081933</td>\n",
       "      <td>0.089141</td>\n",
       "      <td>0.099432</td>\n",
       "    </tr>\n",
       "    <tr>\n",
       "      <th>0.500000</th>\n",
       "      <td>0.117688</td>\n",
       "      <td>0.109605</td>\n",
       "      <td>0.103926</td>\n",
       "      <td>0.099331</td>\n",
       "      <td>0.095396</td>\n",
       "      <td>0.091948</td>\n",
       "      <td>0.088927</td>\n",
       "      <td>0.086342</td>\n",
       "      <td>0.084259</td>\n",
       "      <td>0.082785</td>\n",
       "      <td>0.082049</td>\n",
       "      <td>0.082166</td>\n",
       "      <td>0.083191</td>\n",
       "      <td>0.085116</td>\n",
       "      <td>0.087902</td>\n",
       "      <td>0.091553</td>\n",
       "      <td>0.096206</td>\n",
       "      <td>0.102314</td>\n",
       "      <td>0.111440</td>\n",
       "    </tr>\n",
       "    <tr>\n",
       "      <th>1.000000</th>\n",
       "      <td>0.125423</td>\n",
       "      <td>0.115790</td>\n",
       "      <td>0.109303</td>\n",
       "      <td>0.104308</td>\n",
       "      <td>0.100270</td>\n",
       "      <td>0.096965</td>\n",
       "      <td>0.094292</td>\n",
       "      <td>0.092212</td>\n",
       "      <td>0.090721</td>\n",
       "      <td>0.089824</td>\n",
       "      <td>0.089527</td>\n",
       "      <td>0.089829</td>\n",
       "      <td>0.090720</td>\n",
       "      <td>0.092189</td>\n",
       "      <td>0.094248</td>\n",
       "      <td>0.096951</td>\n",
       "      <td>0.100454</td>\n",
       "      <td>0.105163</td>\n",
       "      <td>0.112384</td>\n",
       "    </tr>\n",
       "  </tbody>\n",
       "</table>\n",
       "</div>"
      ],
      "text/plain": [
       "              0.05      0.10      0.15      0.20      0.25      0.30  \\\n",
       "0.083333  0.085238  0.079609  0.075582  0.072218  0.069197  0.066369   \n",
       "0.250000  0.098491  0.091397  0.086256  0.081941  0.078075  0.074494   \n",
       "0.500000  0.117688  0.109605  0.103926  0.099331  0.095396  0.091948   \n",
       "1.000000  0.125423  0.115790  0.109303  0.104308  0.100270  0.096965   \n",
       "\n",
       "              0.35      0.40      0.45      0.50      0.55      0.60  \\\n",
       "0.083333  0.063648  0.060990  0.058398  0.055970  0.054053  0.053449   \n",
       "0.250000  0.071135  0.068014  0.065248  0.063090  0.061952  0.062244   \n",
       "0.500000  0.088927  0.086342  0.084259  0.082785  0.082049  0.082166   \n",
       "1.000000  0.094292  0.092212  0.090721  0.089824  0.089527  0.089829   \n",
       "\n",
       "              0.65      0.70      0.75      0.80      0.85      0.90      0.95  \n",
       "0.083333  0.055061  0.058816  0.063966  0.070060  0.077138  0.085777  0.097957  \n",
       "0.250000  0.064070  0.067176  0.071244  0.076130  0.081933  0.089141  0.099432  \n",
       "0.500000  0.083191  0.085116  0.087902  0.091553  0.096206  0.102314  0.111440  \n",
       "1.000000  0.090720  0.092189  0.094248  0.096951  0.100454  0.105163  0.112384  "
      ]
     },
     "execution_count": 33,
     "metadata": {},
     "output_type": "execute_result"
    }
   ],
   "source": [
    "pd.DataFrame(implied_vols,index=T[:,0],columns=Δ[0,:])"
   ]
  },
  {
   "cell_type": "code",
   "execution_count": 34,
   "metadata": {},
   "outputs": [],
   "source": [
    "# plt.rcParams['figure.figsize'] = [2*1.618*2,2*3]\n",
    "# plt.rcParams['legend.loc'] = 'lower left'"
   ]
  },
  {
   "cell_type": "code",
   "execution_count": 35,
   "metadata": {},
   "outputs": [],
   "source": [
    "plt.rcParams['figure.figsize'] = [3,3*9/16]"
   ]
  },
  {
   "cell_type": "code",
   "execution_count": 36,
   "metadata": {},
   "outputs": [
    {
     "data": {
      "image/png": "[encoded data removed]",
      "text/plain": [
       "<Figure size 450x253.125 with 1 Axes>"
      ]
     },
     "metadata": {
      "needs_background": "light"
     },
     "output_type": "display_data"
    }
   ],
   "source": [
    "plot,axes = plt.subplots()\n",
    "for i in range(len(T[:,0])):\n",
    "    axes.plot(k[i,:],100*implied_vols[i,:])\n",
    "    axes.set_xlabel(r'$k$')\n",
    "    axes.set_ylabel(r'$\\bar{\\sigma}(k,\\tau)$')\n",
    "# plt.savefig('temp')"
   ]
  },
  {
   "cell_type": "code",
   "execution_count": 37,
   "metadata": {},
   "outputs": [],
   "source": [
    "implied_vars = implied_vols*np.sqrt(T)\n",
    "Δ = norm.cdf(k/implied_vars + 0.5*implied_vars)"
   ]
  },
  {
   "cell_type": "code",
   "execution_count": 38,
   "metadata": {},
   "outputs": [],
   "source": [
    "plt.rcParams['figure.figsize'] = [4,8]\n",
    "plt.rcParams['legend.loc'] = 'upper right'"
   ]
  },
  {
   "cell_type": "code",
   "execution_count": 39,
   "metadata": {},
   "outputs": [
    {
     "data": {
      "image/png": "[encoded data removed]",
      "text/plain": [
       "<Figure size 600x1200 with 4 Axes>"
      ]
     },
     "metadata": {
      "needs_background": "light"
     },
     "output_type": "display_data"
    }
   ],
   "source": [
    "plot,axes = plt.subplots(m)\n",
    "for i in range(len(T[:,0])):\n",
    "    axes[i].plot(deltas, mid_vols[i,:],'bo')\n",
    "    axes[i].plot(Δ[i,:],100*implied_vols[i,:])\n",
    "    axes[i].set_xlim([0,1])\n",
    "    axes[i].set_ylim([5,15])\n",
    "    axes[i].set_ylabel(r'$\\bar{\\sigma}(\\Delta,\\mathrm{%s})$'%labels[i])\n",
    "axes[0].set_title(r'$\\mathrm{GBPUSD 20190612}$')\n",
    "axes[0].legend([r'$\\mathrm{Market}$',r'$\\mathrm{jdh2f\\ model}$'])\n",
    "axes[-1].set_xlabel(r'$\\Delta$')\n",
    "plt.tight_layout()\n",
    "# plt.savefig('plots/jump-diffusion-fit')"
   ]
  },
  {
   "cell_type": "code",
   "execution_count": 83,
   "metadata": {},
   "outputs": [],
   "source": [
    "eps2 = 1.0"
   ]
  },
  {
   "cell_type": "code",
   "execution_count": 84,
   "metadata": {},
   "outputs": [],
   "source": [
    "T = vol_surface.expiries\n",
    "k = vol_surface.logstrikes\n",
    "vols = vol_surface.vols"
   ]
  },
  {
   "cell_type": "code",
   "execution_count": 85,
   "metadata": {},
   "outputs": [],
   "source": [
    "def rmse(x):\n",
    "    jump_weight, rho1, rho2, vee1, vee2 = x\n",
    "    \n",
    "    jump_sigma = jump_weight**0.5*forward_vols\n",
    "    diff_sigma = (1 - jump_weight)**0.5*forward_vols\n",
    "    \n",
    "    sigma1   = jump_sigma\n",
    "    rho1     = np.array([rho1])*np.ones_like(sigma1)\n",
    "    vee1     = np.array([vee1])*np.ones_like(sigma1)\n",
    "    \n",
    "    sigma2   = diff_sigma\n",
    "    rho2     = np.array([rho2])*np.ones_like(sigma2)\n",
    "    vee2     = np.array([vee2])*np.ones_like(sigma2)\n",
    "    epsilon2 = np.array([eps2])*np.ones_like(sigma2)\n",
    "    \n",
    "    params1  = np.array([times1, sigma1, rho1, vee1, epsilon1]).T\n",
    "    params2  = np.array([times2, sigma2, rho2, vee2, epsilon2]).T\n",
    "    \n",
    "    call_prices = jdh.jdh2f_pricer(T, k, [params1, params2])\n",
    "    model_vols = jdh.surface(T, k, call_prices)\n",
    "    \n",
    "    rmse = np.sqrt(np.mean((model_vols - vols)**2))\n",
    "    return rmse"
   ]
  },
  {
   "cell_type": "code",
   "execution_count": 86,
   "metadata": {},
   "outputs": [],
   "source": [
    "x0 = 0.42345482,  0.50747153, -0.89208526,  0.35728917,  3.39526141 # for epsilon = 1.0\n",
    "# x0 = 0.48882876,  0.29481406, -0.942974  ,  0.42467588,  6.73688777 # for epsilon = 2.0"
   ]
  },
  {
   "cell_type": "code",
   "execution_count": 87,
   "metadata": {},
   "outputs": [
    {
     "data": {
      "text/plain": [
       "      fun: 0.0015068551919317078\n",
       " hess_inv: <5x5 LbfgsInvHessProduct with dtype=float64>\n",
       "      jac: array([ 3.99116504e-07, -1.66782820e-06,  1.60847898e-06, -2.07822041e-06,\n",
       "       -4.16463738e-07])\n",
       "  message: b'CONVERGENCE: NORM_OF_PROJECTED_GRADIENT_<=_PGTOL'\n",
       "     nfev: 6\n",
       "      nit: 0\n",
       "   status: 0\n",
       "  success: True\n",
       "        x: array([ 0.42345482,  0.50747153, -0.89208526,  0.35728917,  3.39526141])"
      ]
     },
     "execution_count": 87,
     "metadata": {},
     "output_type": "execute_result"
    }
   ],
   "source": [
    "results = minimize(rmse, x0,\n",
    "                   method = 'L-BFGS-B',\n",
    "                   # args = (expiry, logstrikes, vols),\n",
    "                   bounds = ((0.05,0.95), (-1,1), (-1,1), (0,10), (0,10)),\n",
    "                   options = {'maxiter': 25}\n",
    "              )\n",
    "results"
   ]
  },
  {
   "cell_type": "code",
   "execution_count": 88,
   "metadata": {},
   "outputs": [],
   "source": [
    "jump_weight, rho1, rho2, vee1, vee2 = results.x"
   ]
  },
  {
   "cell_type": "code",
   "execution_count": 89,
   "metadata": {},
   "outputs": [],
   "source": [
    "T = np.array([1/12,3/12,6/12,1])[:,nx]\n",
    "# M = ['1W','1M','3M','6M','9M','1Y']\n",
    "Δ = np.linspace(5,95,19)[nx,:]/100\n",
    "k = norm.ppf(Δ)*sigma_max*np.sqrt(T)"
   ]
  },
  {
   "cell_type": "code",
   "execution_count": 90,
   "metadata": {},
   "outputs": [],
   "source": [
    "jump_sigma = jump_weight**0.5*forward_vols\n",
    "diff_sigma = (1 - jump_weight)**0.5*forward_vols\n",
    "\n",
    "sigma1   = jump_sigma\n",
    "rho1     = np.array([rho1])*np.ones_like(sigma1)\n",
    "vee1     = np.array([vee1])*np.ones_like(sigma1)\n",
    "\n",
    "sigma2   = diff_sigma\n",
    "rho2     = np.array([rho2])*np.ones_like(sigma2)\n",
    "vee2     = np.array([vee2])*np.ones_like(sigma2)\n",
    "epsilon2 = np.array([eps2])*np.ones_like(sigma2)\n",
    "\n",
    "params1  = np.array([times1, sigma1, rho1, vee1, epsilon1]).T\n",
    "params2  = np.array([times2, sigma2, rho2, vee2, epsilon2]).T\n",
    "\n",
    "call_prices = jdh.jdh2f_pricer(T, k, [params1, params2])\n",
    "implied_vols = jdh.surface(T, k, call_prices)\n",
    "    \n",
    "implied_vars = implied_vols*np.sqrt(T)\n",
    "Δ = norm.cdf(k/implied_vars + 0.5*implied_vars)"
   ]
  },
  {
   "cell_type": "code",
   "execution_count": 91,
   "metadata": {},
   "outputs": [
    {
     "data": {
      "image/png": "[encoded data removed]",
      "text/plain": [
       "<Figure size 600x1200 with 4 Axes>"
      ]
     },
     "metadata": {
      "needs_background": "light"
     },
     "output_type": "display_data"
    }
   ],
   "source": [
    "plot,axes = plt.subplots(m)\n",
    "for i in range(len(T[:,0])):\n",
    "    axes[i].plot(deltas, mid_vols[i,:],'bo')\n",
    "    axes[i].plot(Δ[i,:],100*implied_vols[i,:])\n",
    "    \n",
    "    axes[i].plot(deltas, mid_vols[i,:] + spreads[i,:]/2,'b_')\n",
    "    axes[i].plot(deltas, mid_vols[i,:] - spreads[i,:]/2,'b_')\n",
    "    \n",
    "    axes[i].set_xlim([0,1])\n",
    "    # axes[i].set_ylim([5,14])\n",
    "    axes[i].set_ylabel(r'$\\bar{\\sigma}(\\Delta,\\mathrm{%s})$'%labels[i])\n",
    "axes[0].set_title(r'$\\mathrm{GBPUSD 20190612}$')\n",
    "axes[0].legend([r'$\\mathrm{Market}$',r'$\\mathrm{jdh2f\\ model}$'])\n",
    "axes[-1].set_xlabel(r'$\\Delta$')\n",
    "plt.tight_layout()\n",
    "# plt.savefig('plots/jump-diffusion-fit')"
   ]
  },
  {
   "cell_type": "code",
   "execution_count": null,
   "metadata": {},
   "outputs": [],
   "source": []
  }
 ],
 "metadata": {
  "anaconda-cloud": {},
  "kernelspec": {
   "display_name": "Python 3",
   "language": "python",
   "name": "python3"
  },
  "language_info": {
   "codemirror_mode": {
    "name": "ipython",
    "version": 3
   },
   "file_extension": ".py",
   "mimetype": "text/x-python",
   "name": "python",
   "nbconvert_exporter": "python",
   "pygments_lexer": "ipython3",
   "version": "3.7.3"
  }
 },
 "nbformat": 4,
 "nbformat_minor": 2
}
