{
 "cells": [
  {
   "cell_type": "code",
   "execution_count": 1,
   "metadata": {},
   "outputs": [],
   "source": [
    "import os\n",
    "os.chdir(r'/Users/rmccrickerd/desktop/jdheston')"
   ]
  },
  {
   "cell_type": "code",
   "execution_count": 2,
   "metadata": {},
   "outputs": [],
   "source": [
    "import numpy as np\n",
    "import pandas as pd\n",
    "from jdheston import jdheston as jdh\n",
    "from jdheston import utils as uts\n",
    "from jdheston import config as cfg\n",
    "from matplotlib import pyplot as plt\n",
    "from scipy.stats import norm\n",
    "from scipy.special import gamma\n",
    "from scipy.optimize import minimize\n",
    "# import mpl\n",
    "# %matplotlib inline"
   ]
  },
  {
   "cell_type": "code",
   "execution_count": 3,
   "metadata": {},
   "outputs": [],
   "source": [
    "nx = np.newaxis\n",
    "cfg.config(scale=1.5,print_keys=False)"
   ]
  },
  {
   "cell_type": "code",
   "execution_count": 4,
   "metadata": {},
   "outputs": [
    {
     "data": {
      "text/html": [
       "<div>\n",
       "<style scoped>\n",
       "    .dataframe tbody tr th:only-of-type {\n",
       "        vertical-align: middle;\n",
       "    }\n",
       "\n",
       "    .dataframe tbody tr th {\n",
       "        vertical-align: top;\n",
       "    }\n",
       "\n",
       "    .dataframe thead th {\n",
       "        text-align: right;\n",
       "    }\n",
       "</style>\n",
       "<table border=\"1\" class=\"dataframe\">\n",
       "  <thead>\n",
       "    <tr style=\"text-align: right;\">\n",
       "      <th></th>\n",
       "      <th>USD</th>\n",
       "      <th>JPY</th>\n",
       "      <th>Unnamed: 2</th>\n",
       "      <th>Bloomberg BGN</th>\n",
       "      <th>Unnamed: 4</th>\n",
       "      <th>Unnamed: 5</th>\n",
       "      <th>Unnamed: 6</th>\n",
       "      <th>Unnamed: 7</th>\n",
       "      <th>Unnamed: 8</th>\n",
       "      <th>Unnamed: 9</th>\n",
       "      <th>Unnamed: 10</th>\n",
       "    </tr>\n",
       "  </thead>\n",
       "  <tbody>\n",
       "    <tr>\n",
       "      <th>0</th>\n",
       "      <td>NaN</td>\n",
       "      <td>ATM</td>\n",
       "      <td>NaN</td>\n",
       "      <td>25D Call USD</td>\n",
       "      <td>NaN</td>\n",
       "      <td>25D Put USD</td>\n",
       "      <td>NaN</td>\n",
       "      <td>10D Call USD</td>\n",
       "      <td>NaN</td>\n",
       "      <td>10D Put USD</td>\n",
       "      <td>NaN</td>\n",
       "    </tr>\n",
       "    <tr>\n",
       "      <th>1</th>\n",
       "      <td>NaN</td>\n",
       "      <td>Mid</td>\n",
       "      <td>Spread</td>\n",
       "      <td>Mid</td>\n",
       "      <td>Spread</td>\n",
       "      <td>Mid</td>\n",
       "      <td>Spread</td>\n",
       "      <td>Mid</td>\n",
       "      <td>Spread</td>\n",
       "      <td>Mid</td>\n",
       "      <td>Spread</td>\n",
       "    </tr>\n",
       "    <tr>\n",
       "      <th>2</th>\n",
       "      <td>1W</td>\n",
       "      <td>5.27</td>\n",
       "      <td>1.1</td>\n",
       "      <td>4.966</td>\n",
       "      <td>1.386</td>\n",
       "      <td>6.007</td>\n",
       "      <td>1.384</td>\n",
       "      <td>4.87</td>\n",
       "      <td>2.563</td>\n",
       "      <td>6.996</td>\n",
       "      <td>2.531</td>\n",
       "    </tr>\n",
       "    <tr>\n",
       "      <th>3</th>\n",
       "      <td>1M</td>\n",
       "      <td>5.956</td>\n",
       "      <td>0.35</td>\n",
       "      <td>5.562</td>\n",
       "      <td>0.439</td>\n",
       "      <td>6.846</td>\n",
       "      <td>0.439</td>\n",
       "      <td>5.327</td>\n",
       "      <td>0.797</td>\n",
       "      <td>7.974</td>\n",
       "      <td>0.796</td>\n",
       "    </tr>\n",
       "    <tr>\n",
       "      <th>4</th>\n",
       "      <td>3M</td>\n",
       "      <td>6.324</td>\n",
       "      <td>0.35</td>\n",
       "      <td>5.862</td>\n",
       "      <td>0.439</td>\n",
       "      <td>7.364</td>\n",
       "      <td>0.439</td>\n",
       "      <td>5.568</td>\n",
       "      <td>0.797</td>\n",
       "      <td>8.654</td>\n",
       "      <td>0.796</td>\n",
       "    </tr>\n",
       "    <tr>\n",
       "      <th>5</th>\n",
       "      <td>6M</td>\n",
       "      <td>6.604</td>\n",
       "      <td>0.3</td>\n",
       "      <td>6.124</td>\n",
       "      <td>0.376</td>\n",
       "      <td>7.739</td>\n",
       "      <td>0.376</td>\n",
       "      <td>5.89</td>\n",
       "      <td>0.682</td>\n",
       "      <td>9.191</td>\n",
       "      <td>0.682</td>\n",
       "    </tr>\n",
       "    <tr>\n",
       "      <th>6</th>\n",
       "      <td>1Y</td>\n",
       "      <td>6.914</td>\n",
       "      <td>0.299</td>\n",
       "      <td>6.432</td>\n",
       "      <td>0.376</td>\n",
       "      <td>8.179</td>\n",
       "      <td>0.376</td>\n",
       "      <td>6.242</td>\n",
       "      <td>0.681</td>\n",
       "      <td>9.832</td>\n",
       "      <td>0.681</td>\n",
       "    </tr>\n",
       "    <tr>\n",
       "      <th>7</th>\n",
       "      <td>2Y</td>\n",
       "      <td>7.281</td>\n",
       "      <td>0.497</td>\n",
       "      <td>6.777</td>\n",
       "      <td>0.625</td>\n",
       "      <td>8.661</td>\n",
       "      <td>0.624</td>\n",
       "      <td>6.684</td>\n",
       "      <td>1.133</td>\n",
       "      <td>10.616</td>\n",
       "      <td>1.132</td>\n",
       "    </tr>\n",
       "  </tbody>\n",
       "</table>\n",
       "</div>"
      ],
      "text/plain": [
       "   USD    JPY Unnamed: 2 Bloomberg BGN Unnamed: 4   Unnamed: 5 Unnamed: 6  \\\n",
       "0  NaN    ATM        NaN  25D Call USD        NaN  25D Put USD        NaN   \n",
       "1  NaN    Mid     Spread           Mid     Spread          Mid     Spread   \n",
       "2   1W   5.27        1.1         4.966      1.386        6.007      1.384   \n",
       "3   1M  5.956       0.35         5.562      0.439        6.846      0.439   \n",
       "4   3M  6.324       0.35         5.862      0.439        7.364      0.439   \n",
       "5   6M  6.604        0.3         6.124      0.376        7.739      0.376   \n",
       "6   1Y  6.914      0.299         6.432      0.376        8.179      0.376   \n",
       "7   2Y  7.281      0.497         6.777      0.625        8.661      0.624   \n",
       "\n",
       "     Unnamed: 7 Unnamed: 8   Unnamed: 9 Unnamed: 10  \n",
       "0  10D Call USD        NaN  10D Put USD         NaN  \n",
       "1           Mid     Spread          Mid      Spread  \n",
       "2          4.87      2.563        6.996       2.531  \n",
       "3         5.327      0.797        7.974       0.796  \n",
       "4         5.568      0.797        8.654       0.796  \n",
       "5          5.89      0.682        9.191       0.682  \n",
       "6         6.242      0.681        9.832       0.681  \n",
       "7         6.684      1.133       10.616       1.132  "
      ]
     },
     "execution_count": 4,
     "metadata": {},
     "output_type": "execute_result"
    }
   ],
   "source": [
    "df = pd.read_excel('data/USDJPY-20190619.xlsx')\n",
    "df"
   ]
  },
  {
   "cell_type": "code",
   "execution_count": 5,
   "metadata": {},
   "outputs": [],
   "source": [
    "deltas = np.array([0.1,0.25,0.5,0.75,0.9])\n",
    "expiries = np.array([1/52,1/12,3/12,6/12,1,2])\n",
    "labels = ['1w','1m','3m','6m','1y','2y']"
   ]
  },
  {
   "cell_type": "code",
   "execution_count": 6,
   "metadata": {},
   "outputs": [],
   "source": [
    "m,n = len(expiries),len(deltas)\n",
    "mid_vols = np.zeros((m,n))\n",
    "spreads = np.zeros((m,n))"
   ]
  },
  {
   "cell_type": "code",
   "execution_count": 7,
   "metadata": {},
   "outputs": [],
   "source": [
    "mid_vols[:,0] = df.iloc[2:,9]\n",
    "mid_vols[:,1] = df.iloc[2:,5]\n",
    "mid_vols[:,2] = df.iloc[2:,1]\n",
    "mid_vols[:,3] = df.iloc[2:,3]\n",
    "mid_vols[:,4] = df.iloc[2:,7]"
   ]
  },
  {
   "cell_type": "code",
   "execution_count": 8,
   "metadata": {},
   "outputs": [],
   "source": [
    "spreads[:,0] = df.iloc[2:,10]\n",
    "spreads[:,1] = df.iloc[2:,6]\n",
    "spreads[:,2] = df.iloc[2:,2]\n",
    "spreads[:,3] = df.iloc[2:,4]\n",
    "spreads[:,4] = df.iloc[2:,8]"
   ]
  },
  {
   "cell_type": "code",
   "execution_count": 9,
   "metadata": {},
   "outputs": [],
   "source": [
    "plt.rcParams['figure.figsize'] = [4,12]\n",
    "plt.rcParams['legend.loc'] = 'lower left'"
   ]
  },
  {
   "cell_type": "code",
   "execution_count": 13,
   "metadata": {
    "scrolled": true
   },
   "outputs": [
    {
     "data": {
      "image/png": "[encoded data removed]",
      "text/plain": [
       "<Figure size 600x1800 with 6 Axes>"
      ]
     },
     "metadata": {
      "needs_background": "light"
     },
     "output_type": "display_data"
    }
   ],
   "source": [
    "plot,axes = plt.subplots(m)\n",
    "for i in range(m):\n",
    "        axes[i].plot(deltas, mid_vols[i,:],'bo')\n",
    "        \n",
    "        for j in range(n):\n",
    "            axes[i].plot([deltas[j],deltas[j]], [mid_vols[i,j] - spreads[i,j]/2,mid_vols[i,j] + spreads[i,j]/2],'b')\n",
    "        axes[i].plot(deltas, mid_vols[i,:] + spreads[i,:]/2,'b_')\n",
    "        axes[i].plot(deltas, mid_vols[i,:] - spreads[i,:]/2,'b_')\n",
    "        axes[i].set_ylabel(r'$\\bar{\\sigma}(\\Delta,\\mathrm{%s})$'%labels[i])\n",
    "        axes[i].set_ylim([3,12])\n",
    "        axes[i].set_xlim([0,1])\n",
    "axes[0].set_title(r'$\\mathrm{USDJPY.20190612}$')\n",
    "axes[3].set_xlabel(r'$\\Delta$')\n",
    "plt.tight_layout()"
   ]
  },
  {
   "cell_type": "code",
   "execution_count": 14,
   "metadata": {},
   "outputs": [],
   "source": [
    "vols = mid_vols/100"
   ]
  },
  {
   "cell_type": "code",
   "execution_count": 15,
   "metadata": {},
   "outputs": [],
   "source": [
    "vol_surface = jdh.vol_surface(expiries[:,nx], deltas[nx,:], vols)"
   ]
  },
  {
   "cell_type": "code",
   "execution_count": 16,
   "metadata": {},
   "outputs": [
    {
     "name": "stderr",
     "output_type": "stream",
     "text": [
      "C:\\Users\\rmccrickerd\\desktop\\jdheston\\jdheston\\jdheston.py:218: IntegrationWarning: The maximum number of subdivisions (50) has been achieved.\n",
      "  If increasing the limit yields no improvement it is advised to analyze \n",
      "  the integrand in order to determine the difficulties.  If the position of a \n",
      "  local difficulty can be determined (singularity, discontinuity) one will \n",
      "  probably gain from splitting up the interval and calling the integrator \n",
      "  on the subranges.  Perhaps a special-purpose integrator should be used.\n",
      "  p = 1 - 1/np.pi*np.exp(k/2)*quad(jheston_integrand,0,u,args=(t,k,Θ))[0]\n",
      "C:\\Users\\rmccrickerd\\desktop\\jdheston\\jdheston\\jdheston.py:210: RuntimeWarning: invalid value encountered in cdouble_scalars\n",
      "  return np.exp((1 - a - np.sqrt((1 - a)**2 + (σ*v)**2*u*(i + u)))/v**2*t)\n",
      "C:\\Users\\rmccrickerd\\desktop\\jdheston\\jdheston\\jdheston.py:218: IntegrationWarning: The occurrence of roundoff error is detected, which prevents \n",
      "  the requested tolerance from being achieved.  The error may be \n",
      "  underestimated.\n",
      "  p = 1 - 1/np.pi*np.exp(k/2)*quad(jheston_integrand,0,u,args=(t,k,Θ))[0]\n"
     ]
    },
    {
     "data": {
      "text/html": [
       "<div>\n",
       "<style scoped>\n",
       "    .dataframe tbody tr th:only-of-type {\n",
       "        vertical-align: middle;\n",
       "    }\n",
       "\n",
       "    .dataframe tbody tr th {\n",
       "        vertical-align: top;\n",
       "    }\n",
       "\n",
       "    .dataframe thead th {\n",
       "        text-align: right;\n",
       "    }\n",
       "</style>\n",
       "<table border=\"1\" class=\"dataframe\">\n",
       "  <thead>\n",
       "    <tr style=\"text-align: right;\">\n",
       "      <th></th>\n",
       "      <th>sigma</th>\n",
       "      <th>rho</th>\n",
       "      <th>vee</th>\n",
       "      <th>rmse</th>\n",
       "    </tr>\n",
       "  </thead>\n",
       "  <tbody>\n",
       "    <tr>\n",
       "      <th>0.019231</th>\n",
       "      <td>0.057572</td>\n",
       "      <td>-0.419554</td>\n",
       "      <td>0.121523</td>\n",
       "      <td>0.000224</td>\n",
       "    </tr>\n",
       "    <tr>\n",
       "      <th>0.083333</th>\n",
       "      <td>0.064910</td>\n",
       "      <td>-0.479048</td>\n",
       "      <td>0.237745</td>\n",
       "      <td>0.000359</td>\n",
       "    </tr>\n",
       "    <tr>\n",
       "      <th>0.250000</th>\n",
       "      <td>0.069459</td>\n",
       "      <td>-0.508769</td>\n",
       "      <td>0.426416</td>\n",
       "      <td>0.000426</td>\n",
       "    </tr>\n",
       "    <tr>\n",
       "      <th>0.500000</th>\n",
       "      <td>0.073321</td>\n",
       "      <td>-0.485455</td>\n",
       "      <td>0.659953</td>\n",
       "      <td>0.000398</td>\n",
       "    </tr>\n",
       "    <tr>\n",
       "      <th>1.000000</th>\n",
       "      <td>0.077826</td>\n",
       "      <td>-0.467223</td>\n",
       "      <td>1.019079</td>\n",
       "      <td>0.000451</td>\n",
       "    </tr>\n",
       "    <tr>\n",
       "      <th>2.000000</th>\n",
       "      <td>0.083230</td>\n",
       "      <td>-0.441382</td>\n",
       "      <td>1.604122</td>\n",
       "      <td>0.000436</td>\n",
       "    </tr>\n",
       "  </tbody>\n",
       "</table>\n",
       "</div>"
      ],
      "text/plain": [
       "             sigma       rho       vee      rmse\n",
       "0.019231  0.057572 -0.419554  0.121523  0.000224\n",
       "0.083333  0.064910 -0.479048  0.237745  0.000359\n",
       "0.250000  0.069459 -0.508769  0.426416  0.000426\n",
       "0.500000  0.073321 -0.485455  0.659953  0.000398\n",
       "1.000000  0.077826 -0.467223  1.019079  0.000451\n",
       "2.000000  0.083230 -0.441382  1.604122  0.000436"
      ]
     },
     "execution_count": 16,
     "metadata": {},
     "output_type": "execute_result"
    }
   ],
   "source": [
    "vol_surface.fit_jheston()"
   ]
  },
  {
   "cell_type": "code",
   "execution_count": 17,
   "metadata": {},
   "outputs": [
    {
     "data": {
      "text/plain": [
       "0.08323004420061282"
      ]
     },
     "execution_count": 17,
     "metadata": {},
     "output_type": "execute_result"
    }
   ],
   "source": [
    "sigma_max = np.max(vol_surface.jheston['sigma'])\n",
    "sigma_max"
   ]
  },
  {
   "cell_type": "code",
   "execution_count": 18,
   "metadata": {},
   "outputs": [],
   "source": [
    "T = np.array([1/52,1/12,3/12,6/12,1,2])[:,nx]\n",
    "# M = ['1W','1M','3M','6M','9M','1Y']\n",
    "Δ = np.linspace(5,95,19)[nx,:]/100\n",
    "k = norm.ppf(Δ)*sigma_max*np.sqrt(T)"
   ]
  },
  {
   "cell_type": "code",
   "execution_count": 19,
   "metadata": {},
   "outputs": [
    {
     "data": {
      "text/html": [
       "<div>\n",
       "<style scoped>\n",
       "    .dataframe tbody tr th:only-of-type {\n",
       "        vertical-align: middle;\n",
       "    }\n",
       "\n",
       "    .dataframe tbody tr th {\n",
       "        vertical-align: top;\n",
       "    }\n",
       "\n",
       "    .dataframe thead th {\n",
       "        text-align: right;\n",
       "    }\n",
       "</style>\n",
       "<table border=\"1\" class=\"dataframe\">\n",
       "  <thead>\n",
       "    <tr style=\"text-align: right;\">\n",
       "      <th></th>\n",
       "      <th>0.05</th>\n",
       "      <th>0.1</th>\n",
       "      <th>0.15</th>\n",
       "      <th>0.2</th>\n",
       "      <th>0.25</th>\n",
       "      <th>0.3</th>\n",
       "      <th>0.35</th>\n",
       "      <th>0.4</th>\n",
       "      <th>0.45</th>\n",
       "      <th>0.5</th>\n",
       "      <th>0.55</th>\n",
       "      <th>0.6</th>\n",
       "      <th>0.65</th>\n",
       "      <th>0.7</th>\n",
       "      <th>0.75</th>\n",
       "      <th>0.8</th>\n",
       "      <th>0.85</th>\n",
       "      <th>0.9</th>\n",
       "      <th>0.95</th>\n",
       "    </tr>\n",
       "  </thead>\n",
       "  <tbody>\n",
       "    <tr>\n",
       "      <th>0.019231</th>\n",
       "      <td>-0.018985</td>\n",
       "      <td>-0.014792</td>\n",
       "      <td>-0.011962</td>\n",
       "      <td>-0.009714</td>\n",
       "      <td>-0.007785</td>\n",
       "      <td>-0.006053</td>\n",
       "      <td>-0.004447</td>\n",
       "      <td>-0.002924</td>\n",
       "      <td>-0.001450</td>\n",
       "      <td>0.0</td>\n",
       "      <td>0.001450</td>\n",
       "      <td>0.002924</td>\n",
       "      <td>0.004447</td>\n",
       "      <td>0.006053</td>\n",
       "      <td>0.007785</td>\n",
       "      <td>0.009714</td>\n",
       "      <td>0.011962</td>\n",
       "      <td>0.014792</td>\n",
       "      <td>0.018985</td>\n",
       "    </tr>\n",
       "    <tr>\n",
       "      <th>0.083333</th>\n",
       "      <td>-0.039520</td>\n",
       "      <td>-0.030791</td>\n",
       "      <td>-0.024902</td>\n",
       "      <td>-0.020221</td>\n",
       "      <td>-0.016206</td>\n",
       "      <td>-0.012599</td>\n",
       "      <td>-0.009258</td>\n",
       "      <td>-0.006087</td>\n",
       "      <td>-0.003019</td>\n",
       "      <td>0.0</td>\n",
       "      <td>0.003019</td>\n",
       "      <td>0.006087</td>\n",
       "      <td>0.009258</td>\n",
       "      <td>0.012599</td>\n",
       "      <td>0.016206</td>\n",
       "      <td>0.020221</td>\n",
       "      <td>0.024902</td>\n",
       "      <td>0.030791</td>\n",
       "      <td>0.039520</td>\n",
       "    </tr>\n",
       "    <tr>\n",
       "      <th>0.250000</th>\n",
       "      <td>-0.068451</td>\n",
       "      <td>-0.053332</td>\n",
       "      <td>-0.043131</td>\n",
       "      <td>-0.035024</td>\n",
       "      <td>-0.028069</td>\n",
       "      <td>-0.021823</td>\n",
       "      <td>-0.016035</td>\n",
       "      <td>-0.010543</td>\n",
       "      <td>-0.005229</td>\n",
       "      <td>0.0</td>\n",
       "      <td>0.005229</td>\n",
       "      <td>0.010543</td>\n",
       "      <td>0.016035</td>\n",
       "      <td>0.021823</td>\n",
       "      <td>0.028069</td>\n",
       "      <td>0.035024</td>\n",
       "      <td>0.043131</td>\n",
       "      <td>0.053332</td>\n",
       "      <td>0.068451</td>\n",
       "    </tr>\n",
       "    <tr>\n",
       "      <th>0.500000</th>\n",
       "      <td>-0.096804</td>\n",
       "      <td>-0.075423</td>\n",
       "      <td>-0.060997</td>\n",
       "      <td>-0.049532</td>\n",
       "      <td>-0.039695</td>\n",
       "      <td>-0.030862</td>\n",
       "      <td>-0.022677</td>\n",
       "      <td>-0.014910</td>\n",
       "      <td>-0.007395</td>\n",
       "      <td>0.0</td>\n",
       "      <td>0.007395</td>\n",
       "      <td>0.014910</td>\n",
       "      <td>0.022677</td>\n",
       "      <td>0.030862</td>\n",
       "      <td>0.039695</td>\n",
       "      <td>0.049532</td>\n",
       "      <td>0.060997</td>\n",
       "      <td>0.075423</td>\n",
       "      <td>0.096804</td>\n",
       "    </tr>\n",
       "    <tr>\n",
       "      <th>1.000000</th>\n",
       "      <td>-0.136901</td>\n",
       "      <td>-0.106664</td>\n",
       "      <td>-0.086262</td>\n",
       "      <td>-0.070048</td>\n",
       "      <td>-0.056138</td>\n",
       "      <td>-0.043646</td>\n",
       "      <td>-0.032070</td>\n",
       "      <td>-0.021086</td>\n",
       "      <td>-0.010459</td>\n",
       "      <td>0.0</td>\n",
       "      <td>0.010459</td>\n",
       "      <td>0.021086</td>\n",
       "      <td>0.032070</td>\n",
       "      <td>0.043646</td>\n",
       "      <td>0.056138</td>\n",
       "      <td>0.070048</td>\n",
       "      <td>0.086262</td>\n",
       "      <td>0.106664</td>\n",
       "      <td>0.136901</td>\n",
       "    </tr>\n",
       "    <tr>\n",
       "      <th>2.000000</th>\n",
       "      <td>-0.193608</td>\n",
       "      <td>-0.150845</td>\n",
       "      <td>-0.121993</td>\n",
       "      <td>-0.099063</td>\n",
       "      <td>-0.079391</td>\n",
       "      <td>-0.061725</td>\n",
       "      <td>-0.045354</td>\n",
       "      <td>-0.029820</td>\n",
       "      <td>-0.014791</td>\n",
       "      <td>0.0</td>\n",
       "      <td>0.014791</td>\n",
       "      <td>0.029820</td>\n",
       "      <td>0.045354</td>\n",
       "      <td>0.061725</td>\n",
       "      <td>0.079391</td>\n",
       "      <td>0.099063</td>\n",
       "      <td>0.121993</td>\n",
       "      <td>0.150845</td>\n",
       "      <td>0.193608</td>\n",
       "    </tr>\n",
       "  </tbody>\n",
       "</table>\n",
       "</div>"
      ],
      "text/plain": [
       "              0.05      0.10      0.15      0.20      0.25      0.30  \\\n",
       "0.019231 -0.018985 -0.014792 -0.011962 -0.009714 -0.007785 -0.006053   \n",
       "0.083333 -0.039520 -0.030791 -0.024902 -0.020221 -0.016206 -0.012599   \n",
       "0.250000 -0.068451 -0.053332 -0.043131 -0.035024 -0.028069 -0.021823   \n",
       "0.500000 -0.096804 -0.075423 -0.060997 -0.049532 -0.039695 -0.030862   \n",
       "1.000000 -0.136901 -0.106664 -0.086262 -0.070048 -0.056138 -0.043646   \n",
       "2.000000 -0.193608 -0.150845 -0.121993 -0.099063 -0.079391 -0.061725   \n",
       "\n",
       "              0.35      0.40      0.45  0.50      0.55      0.60      0.65  \\\n",
       "0.019231 -0.004447 -0.002924 -0.001450   0.0  0.001450  0.002924  0.004447   \n",
       "0.083333 -0.009258 -0.006087 -0.003019   0.0  0.003019  0.006087  0.009258   \n",
       "0.250000 -0.016035 -0.010543 -0.005229   0.0  0.005229  0.010543  0.016035   \n",
       "0.500000 -0.022677 -0.014910 -0.007395   0.0  0.007395  0.014910  0.022677   \n",
       "1.000000 -0.032070 -0.021086 -0.010459   0.0  0.010459  0.021086  0.032070   \n",
       "2.000000 -0.045354 -0.029820 -0.014791   0.0  0.014791  0.029820  0.045354   \n",
       "\n",
       "              0.70      0.75      0.80      0.85      0.90      0.95  \n",
       "0.019231  0.006053  0.007785  0.009714  0.011962  0.014792  0.018985  \n",
       "0.083333  0.012599  0.016206  0.020221  0.024902  0.030791  0.039520  \n",
       "0.250000  0.021823  0.028069  0.035024  0.043131  0.053332  0.068451  \n",
       "0.500000  0.030862  0.039695  0.049532  0.060997  0.075423  0.096804  \n",
       "1.000000  0.043646  0.056138  0.070048  0.086262  0.106664  0.136901  \n",
       "2.000000  0.061725  0.079391  0.099063  0.121993  0.150845  0.193608  "
      ]
     },
     "execution_count": 19,
     "metadata": {},
     "output_type": "execute_result"
    }
   ],
   "source": [
    "pd.DataFrame(k,index=T[:,0],columns=np.round(Δ[0,:],2))"
   ]
  },
  {
   "cell_type": "code",
   "execution_count": 20,
   "metadata": {},
   "outputs": [
    {
     "data": {
      "text/html": [
       "<div>\n",
       "<style scoped>\n",
       "    .dataframe tbody tr th:only-of-type {\n",
       "        vertical-align: middle;\n",
       "    }\n",
       "\n",
       "    .dataframe tbody tr th {\n",
       "        vertical-align: top;\n",
       "    }\n",
       "\n",
       "    .dataframe thead th {\n",
       "        text-align: right;\n",
       "    }\n",
       "</style>\n",
       "<table border=\"1\" class=\"dataframe\">\n",
       "  <thead>\n",
       "    <tr style=\"text-align: right;\">\n",
       "      <th></th>\n",
       "      <th>sigma</th>\n",
       "      <th>rho</th>\n",
       "      <th>vee</th>\n",
       "      <th>rmse</th>\n",
       "    </tr>\n",
       "  </thead>\n",
       "  <tbody>\n",
       "    <tr>\n",
       "      <th>0.019231</th>\n",
       "      <td>0.057572</td>\n",
       "      <td>-0.419554</td>\n",
       "      <td>0.121523</td>\n",
       "      <td>0.000224</td>\n",
       "    </tr>\n",
       "    <tr>\n",
       "      <th>0.083333</th>\n",
       "      <td>0.064910</td>\n",
       "      <td>-0.479048</td>\n",
       "      <td>0.237745</td>\n",
       "      <td>0.000359</td>\n",
       "    </tr>\n",
       "    <tr>\n",
       "      <th>0.250000</th>\n",
       "      <td>0.069459</td>\n",
       "      <td>-0.508769</td>\n",
       "      <td>0.426416</td>\n",
       "      <td>0.000426</td>\n",
       "    </tr>\n",
       "    <tr>\n",
       "      <th>0.500000</th>\n",
       "      <td>0.073321</td>\n",
       "      <td>-0.485455</td>\n",
       "      <td>0.659953</td>\n",
       "      <td>0.000398</td>\n",
       "    </tr>\n",
       "    <tr>\n",
       "      <th>1.000000</th>\n",
       "      <td>0.077826</td>\n",
       "      <td>-0.467223</td>\n",
       "      <td>1.019079</td>\n",
       "      <td>0.000451</td>\n",
       "    </tr>\n",
       "    <tr>\n",
       "      <th>2.000000</th>\n",
       "      <td>0.083230</td>\n",
       "      <td>-0.441382</td>\n",
       "      <td>1.604122</td>\n",
       "      <td>0.000436</td>\n",
       "    </tr>\n",
       "  </tbody>\n",
       "</table>\n",
       "</div>"
      ],
      "text/plain": [
       "             sigma       rho       vee      rmse\n",
       "0.019231  0.057572 -0.419554  0.121523  0.000224\n",
       "0.083333  0.064910 -0.479048  0.237745  0.000359\n",
       "0.250000  0.069459 -0.508769  0.426416  0.000426\n",
       "0.500000  0.073321 -0.485455  0.659953  0.000398\n",
       "1.000000  0.077826 -0.467223  1.019079  0.000451\n",
       "2.000000  0.083230 -0.441382  1.604122  0.000436"
      ]
     },
     "execution_count": 20,
     "metadata": {},
     "output_type": "execute_result"
    }
   ],
   "source": [
    "vol_surface.jheston"
   ]
  },
  {
   "cell_type": "code",
   "execution_count": 21,
   "metadata": {},
   "outputs": [
    {
     "data": {
      "text/plain": [
       "array([0.05757225, 0.06490997, 0.06945874, 0.0733209 , 0.07782572,\n",
       "       0.08323004])"
      ]
     },
     "execution_count": 21,
     "metadata": {},
     "output_type": "execute_result"
    }
   ],
   "source": [
    "sigma = np.array(vol_surface.jheston['sigma'])\n",
    "sigma"
   ]
  },
  {
   "cell_type": "code",
   "execution_count": 22,
   "metadata": {},
   "outputs": [],
   "source": [
    "average_vols = np.array(vol_surface.jheston['sigma'].copy())\n",
    "forward_vols = average_vols.copy()\n",
    "for i in np.arange(1,m):\n",
    "    forward_vols[i] = np.sqrt((average_vols[i]**2*T[i,0] - average_vols[i-1]**2*T[i-1,0])/(T[i,0] - T[i-1,0]))"
   ]
  },
  {
   "cell_type": "code",
   "execution_count": 23,
   "metadata": {},
   "outputs": [
    {
     "data": {
      "text/plain": [
       "array([0.05757225, 0.06695466, 0.07162488, 0.07698956, 0.08208369,\n",
       "       0.08830423])"
      ]
     },
     "execution_count": 23,
     "metadata": {},
     "output_type": "execute_result"
    }
   ],
   "source": [
    "forward_vols"
   ]
  },
  {
   "cell_type": "code",
   "execution_count": 24,
   "metadata": {},
   "outputs": [
    {
     "data": {
      "text/plain": [
       "(array([0.04070973, 0.04734409, 0.05064644, 0.05443984, 0.05804193,\n",
       "        0.06244052]),\n",
       " array([0.04070973, 0.04734409, 0.05064644, 0.05443984, 0.05804193,\n",
       "        0.06244052]))"
      ]
     },
     "execution_count": 24,
     "metadata": {},
     "output_type": "execute_result"
    }
   ],
   "source": [
    "jump_weight = 0.5\n",
    "jump_sigma = jump_weight**0.5*forward_vols\n",
    "diff_sigma = (1 - jump_weight)**0.5*forward_vols\n",
    "jump_sigma, diff_sigma"
   ]
  },
  {
   "cell_type": "code",
   "execution_count": 25,
   "metadata": {},
   "outputs": [],
   "source": [
    "times1   = np.array([0,1/52,1/12,3/12,6/12,1])\n",
    "sigma1   = jump_sigma\n",
    "rho1     = np.array([ +0.5])*np.ones_like(times1)\n",
    "vee1     = np.array([1.0])*np.ones_like(times1)\n",
    "epsilon1 = np.array([ 0])*np.ones_like(times1)"
   ]
  },
  {
   "cell_type": "code",
   "execution_count": 26,
   "metadata": {},
   "outputs": [],
   "source": [
    "times2   = np.array([0,1/52,1/12,3/12,6/12,1])\n",
    "sigma2   = diff_sigma\n",
    "rho2     = np.array([-0.9])*np.ones_like(times2)\n",
    "vee2     = np.array([2.5])*np.ones_like(times2)\n",
    "epsilon2 = np.array([ 0.5])*np.ones_like(times2)"
   ]
  },
  {
   "cell_type": "code",
   "execution_count": 27,
   "metadata": {},
   "outputs": [],
   "source": [
    "params1  = np.array([times1, sigma1, rho1, vee1, epsilon1]).T\n",
    "params2  = np.array([times2, sigma2, rho2, vee2, epsilon2]).T"
   ]
  },
  {
   "cell_type": "code",
   "execution_count": 28,
   "metadata": {},
   "outputs": [
    {
     "data": {
      "text/plain": [
       "(6, 5)"
      ]
     },
     "execution_count": 28,
     "metadata": {},
     "output_type": "execute_result"
    }
   ],
   "source": [
    "params1.shape"
   ]
  },
  {
   "cell_type": "code",
   "execution_count": 29,
   "metadata": {},
   "outputs": [],
   "source": [
    "maturities = T\n",
    "logstrikes = k"
   ]
  },
  {
   "cell_type": "code",
   "execution_count": 30,
   "metadata": {},
   "outputs": [],
   "source": [
    "eps2 = 1.0"
   ]
  },
  {
   "cell_type": "code",
   "execution_count": 40,
   "metadata": {},
   "outputs": [],
   "source": [
    "T = vol_surface.expiries\n",
    "k = vol_surface.logstrikes\n",
    "vols = vol_surface.vols"
   ]
  },
  {
   "cell_type": "code",
   "execution_count": 41,
   "metadata": {},
   "outputs": [],
   "source": [
    "def rmse(x):\n",
    "    jump_weight, rho1, rho2, vee1, vee2 = x\n",
    "    \n",
    "    jump_sigma = jump_weight**0.5*forward_vols\n",
    "    diff_sigma = (1 - jump_weight)**0.5*forward_vols\n",
    "    \n",
    "    sigma1   = jump_sigma\n",
    "    rho1     = np.array([rho1])*np.ones_like(sigma1)\n",
    "    vee1     = np.array([vee1])*np.ones_like(sigma1)\n",
    "    \n",
    "    sigma2   = diff_sigma\n",
    "    rho2     = np.array([rho2])*np.ones_like(sigma2)\n",
    "    vee2     = np.array([vee2])*np.ones_like(sigma2)\n",
    "    epsilon2 = np.array([eps2])*np.ones_like(sigma2)\n",
    "    \n",
    "    params1  = np.array([times1, sigma1, rho1, vee1, epsilon1]).T\n",
    "    params2  = np.array([times2, sigma2, rho2, vee2, epsilon2]).T\n",
    "    \n",
    "    call_prices = jdh.jdh2f_pricer(T, k, [params1, params2])\n",
    "    model_vols = jdh.surface(T, k, call_prices)\n",
    "    \n",
    "    rmse = np.sqrt(np.mean((model_vols - vols)**2))\n",
    "    return rmse"
   ]
  },
  {
   "cell_type": "code",
   "execution_count": 42,
   "metadata": {},
   "outputs": [],
   "source": [
    "x0 = 0.28552562, -0.86763301, -0.49960573,  0.40285977,  4.36250298 # for epsilon = 1.0"
   ]
  },
  {
   "cell_type": "code",
   "execution_count": 43,
   "metadata": {},
   "outputs": [
    {
     "data": {
      "text/plain": [
       "      fun: 0.0009463901893835058\n",
       " hess_inv: <5x5 LbfgsInvHessProduct with dtype=float64>\n",
       "      jac: array([-1.71577042e-03,  5.32213379e-05, -1.08019133e-03,  1.07739013e-05,\n",
       "       -1.17788591e-05])\n",
       "  message: b'STOP: TOTAL NO. of ITERATIONS REACHED LIMIT'\n",
       "     nfev: 66\n",
       "      nit: 10\n",
       "   status: 1\n",
       "  success: False\n",
       "        x: array([ 0.28552562, -0.86763301, -0.49960573,  0.40285977,  4.36250298])"
      ]
     },
     "execution_count": 43,
     "metadata": {},
     "output_type": "execute_result"
    }
   ],
   "source": [
    "results = minimize(rmse, x0,\n",
    "                   method = 'L-BFGS-B',\n",
    "                   # args = (expiry, logstrikes, vols),\n",
    "                   bounds = ((0.05,0.95), (-1,1), (-1,1), (0,10), (0,10)),\n",
    "                   options = {'maxiter': 10}\n",
    "              )\n",
    "results"
   ]
  },
  {
   "cell_type": "code",
   "execution_count": 44,
   "metadata": {},
   "outputs": [],
   "source": [
    "jump_weight, rho1, rho2, vee1, vee2 = results.x"
   ]
  },
  {
   "cell_type": "code",
   "execution_count": 45,
   "metadata": {},
   "outputs": [],
   "source": [
    "T = np.array([1/52,1/12,3/12,6/12,1,2])[:,nx]\n",
    "# M = ['1W','1M','3M','6M','9M','1Y']\n",
    "Δ = np.linspace(5,95,19)[nx,:]/100\n",
    "k = norm.ppf(Δ)*0.09*np.sqrt(T)"
   ]
  },
  {
   "cell_type": "code",
   "execution_count": 46,
   "metadata": {},
   "outputs": [],
   "source": [
    "jump_sigma = jump_weight**0.5*forward_vols\n",
    "diff_sigma = (1 - jump_weight)**0.5*forward_vols\n",
    "\n",
    "sigma1   = jump_sigma\n",
    "rho1     = np.array([rho1])*np.ones_like(sigma1)\n",
    "vee1     = np.array([vee1])*np.ones_like(sigma1)\n",
    "\n",
    "sigma2   = diff_sigma\n",
    "rho2     = np.array([rho2])*np.ones_like(sigma2)\n",
    "vee2     = np.array([vee2])*np.ones_like(sigma2)\n",
    "epsilon2 = np.array([eps2])*np.ones_like(sigma2)\n",
    "\n",
    "params1  = np.array([times1, sigma1, rho1, vee1, epsilon1]).T\n",
    "params2  = np.array([times2, sigma2, rho2, vee2, epsilon2]).T\n",
    "\n",
    "call_prices = jdh.jdh2f_pricer(T, k, [params1, params2])\n",
    "implied_vols = jdh.surface(T, k, call_prices)\n",
    "    \n",
    "implied_vars = implied_vols*np.sqrt(T)\n",
    "Δ = norm.cdf(k/implied_vars + 0.5*implied_vars)"
   ]
  },
  {
   "cell_type": "code",
   "execution_count": 47,
   "metadata": {},
   "outputs": [],
   "source": [
    "plt.rcParams['legend.loc'] = 'upper left'"
   ]
  },
  {
   "cell_type": "code",
   "execution_count": 50,
   "metadata": {},
   "outputs": [
    {
     "data": {
      "image/png": "[encoded data removed]",
      "text/plain": [
       "<Figure size 600x1800 with 6 Axes>"
      ]
     },
     "metadata": {
      "needs_background": "light"
     },
     "output_type": "display_data"
    }
   ],
   "source": [
    "plot,axes = plt.subplots(m)\n",
    "for i in range(len(T[:,0])):\n",
    "    axes[i].plot(deltas, mid_vols[i,:],'bo')\n",
    "    axes[i].plot(Δ[i,:],100*implied_vols[i,:])\n",
    "    \n",
    "    axes[i].plot(deltas, mid_vols[i,:] + spreads[i,:]/2,'b_')\n",
    "    axes[i].plot(deltas, mid_vols[i,:] - spreads[i,:]/2,'b_')\n",
    "    \n",
    "    axes[i].set_xlim([0,1])\n",
    "    axes[i].set_ylim([3,12])\n",
    "    axes[i].set_ylabel(r'$\\bar{\\sigma}(\\Delta,\\mathrm{%s})$'%labels[i])\n",
    "axes[0].set_title(r'$\\mathrm{USDJPY.20190619}$')\n",
    "axes[0].legend([r'$\\mathrm{Market}$',r'$\\mathrm{JDH\\ model}$'])\n",
    "axes[-1].set_xlabel(r'$\\Delta$')\n",
    "plt.tight_layout()\n",
    "plt.savefig('plots/USDJPY-20190619')"
   ]
  },
  {
   "cell_type": "code",
   "execution_count": null,
   "metadata": {},
   "outputs": [],
   "source": []
  }
 ],
 "metadata": {
  "anaconda-cloud": {},
  "kernelspec": {
   "display_name": "Python 3",
   "language": "python",
   "name": "python3"
  },
  "language_info": {
   "codemirror_mode": {
    "name": "ipython",
    "version": 3
   },
   "file_extension": ".py",
   "mimetype": "text/x-python",
   "name": "python",
   "nbconvert_exporter": "python",
   "pygments_lexer": "ipython3",
   "version": "3.7.3"
  }
 },
 "nbformat": 4,
 "nbformat_minor": 2
}
