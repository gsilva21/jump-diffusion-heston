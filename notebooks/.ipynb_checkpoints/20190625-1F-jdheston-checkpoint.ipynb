{
 "cells": [
  {
   "cell_type": "code",
   "execution_count": 1,
   "metadata": {},
   "outputs": [],
   "source": [
    "import os\n",
    "os.chdir(r'/Users/rmccrickerd/desktop/jdheston')"
   ]
  },
  {
   "cell_type": "code",
   "execution_count": 2,
   "metadata": {},
   "outputs": [],
   "source": [
    "import numpy as np\n",
    "import pandas as pd\n",
    "from jdheston import jdheston as jdh\n",
    "from jdheston import utils as uts\n",
    "from jdheston import config as cfg\n",
    "from matplotlib import pyplot as plt\n",
    "from scipy.stats import norm\n",
    "from scipy.special import gamma\n",
    "# import mpl\n",
    "# %matplotlib inline"
   ]
  },
  {
   "cell_type": "code",
   "execution_count": 3,
   "metadata": {},
   "outputs": [],
   "source": [
    "nx = np.newaxis\n",
    "cfg.config(scale=1.5,print_keys=False)"
   ]
  },
  {
   "cell_type": "code",
   "execution_count": 4,
   "metadata": {},
   "outputs": [],
   "source": [
    "x = 0.5\n",
    "y = 0.5"
   ]
  },
  {
   "cell_type": "code",
   "execution_count": 5,
   "metadata": {},
   "outputs": [
    {
     "data": {
      "text/plain": [
       "(0.32798893924286976, 0.32798893924286976)"
      ]
     },
     "execution_count": 5,
     "metadata": {},
     "output_type": "execute_result"
    }
   ],
   "source": [
    "uts.log_cosh_sinh(x,y), np.log(np.cosh(x) + y*np.sinh(x))"
   ]
  },
  {
   "cell_type": "code",
   "execution_count": 6,
   "metadata": {},
   "outputs": [
    {
     "data": {
      "text/plain": [
       "(0.7815364548539281, 0.7815364548539282)"
      ]
     },
     "execution_count": 6,
     "metadata": {},
     "output_type": "execute_result"
    }
   ],
   "source": [
    "uts.tanh_frac(x,y), (y + np.tanh(x))/(1 + y*np.tanh(x))"
   ]
  },
  {
   "cell_type": "code",
   "execution_count": 20,
   "metadata": {},
   "outputs": [],
   "source": [
    "T = np.array([1/52,1/12,3/12,6/12,1,2])[:,nx]\n",
    "# M = ['1W','1M','3M','6M','9M','1Y']\n",
    "Δ = np.linspace(5,95,19)[nx,:]/100\n",
    "k = norm.ppf(Δ)*0.1*np.sqrt(T)"
   ]
  },
  {
   "cell_type": "code",
   "execution_count": 21,
   "metadata": {},
   "outputs": [
    {
     "data": {
      "text/html": [
       "<div>\n",
       "<style scoped>\n",
       "    .dataframe tbody tr th:only-of-type {\n",
       "        vertical-align: middle;\n",
       "    }\n",
       "\n",
       "    .dataframe tbody tr th {\n",
       "        vertical-align: top;\n",
       "    }\n",
       "\n",
       "    .dataframe thead th {\n",
       "        text-align: right;\n",
       "    }\n",
       "</style>\n",
       "<table border=\"1\" class=\"dataframe\">\n",
       "  <thead>\n",
       "    <tr style=\"text-align: right;\">\n",
       "      <th></th>\n",
       "      <th>0.05</th>\n",
       "      <th>0.1</th>\n",
       "      <th>0.15</th>\n",
       "      <th>0.2</th>\n",
       "      <th>0.25</th>\n",
       "      <th>0.3</th>\n",
       "      <th>0.35</th>\n",
       "      <th>0.4</th>\n",
       "      <th>0.45</th>\n",
       "      <th>0.5</th>\n",
       "      <th>0.55</th>\n",
       "      <th>0.6</th>\n",
       "      <th>0.65</th>\n",
       "      <th>0.7</th>\n",
       "      <th>0.75</th>\n",
       "      <th>0.8</th>\n",
       "      <th>0.85</th>\n",
       "      <th>0.9</th>\n",
       "      <th>0.95</th>\n",
       "    </tr>\n",
       "  </thead>\n",
       "  <tbody>\n",
       "    <tr>\n",
       "      <th>0.019231</th>\n",
       "      <td>-0.022810</td>\n",
       "      <td>-0.017772</td>\n",
       "      <td>-0.014373</td>\n",
       "      <td>-0.011671</td>\n",
       "      <td>-0.009353</td>\n",
       "      <td>-0.007272</td>\n",
       "      <td>-0.005343</td>\n",
       "      <td>-0.003513</td>\n",
       "      <td>-0.001743</td>\n",
       "      <td>0.0</td>\n",
       "      <td>0.001743</td>\n",
       "      <td>0.003513</td>\n",
       "      <td>0.005343</td>\n",
       "      <td>0.007272</td>\n",
       "      <td>0.009353</td>\n",
       "      <td>0.011671</td>\n",
       "      <td>0.014373</td>\n",
       "      <td>0.017772</td>\n",
       "      <td>0.022810</td>\n",
       "    </tr>\n",
       "    <tr>\n",
       "      <th>0.083333</th>\n",
       "      <td>-0.047483</td>\n",
       "      <td>-0.036995</td>\n",
       "      <td>-0.029919</td>\n",
       "      <td>-0.024296</td>\n",
       "      <td>-0.019471</td>\n",
       "      <td>-0.015138</td>\n",
       "      <td>-0.011123</td>\n",
       "      <td>-0.007314</td>\n",
       "      <td>-0.003628</td>\n",
       "      <td>0.0</td>\n",
       "      <td>0.003628</td>\n",
       "      <td>0.007314</td>\n",
       "      <td>0.011123</td>\n",
       "      <td>0.015138</td>\n",
       "      <td>0.019471</td>\n",
       "      <td>0.024296</td>\n",
       "      <td>0.029919</td>\n",
       "      <td>0.036995</td>\n",
       "      <td>0.047483</td>\n",
       "    </tr>\n",
       "    <tr>\n",
       "      <th>0.250000</th>\n",
       "      <td>-0.082243</td>\n",
       "      <td>-0.064078</td>\n",
       "      <td>-0.051822</td>\n",
       "      <td>-0.042081</td>\n",
       "      <td>-0.033724</td>\n",
       "      <td>-0.026220</td>\n",
       "      <td>-0.019266</td>\n",
       "      <td>-0.012667</td>\n",
       "      <td>-0.006283</td>\n",
       "      <td>0.0</td>\n",
       "      <td>0.006283</td>\n",
       "      <td>0.012667</td>\n",
       "      <td>0.019266</td>\n",
       "      <td>0.026220</td>\n",
       "      <td>0.033724</td>\n",
       "      <td>0.042081</td>\n",
       "      <td>0.051822</td>\n",
       "      <td>0.064078</td>\n",
       "      <td>0.082243</td>\n",
       "    </tr>\n",
       "    <tr>\n",
       "      <th>0.500000</th>\n",
       "      <td>-0.116309</td>\n",
       "      <td>-0.090619</td>\n",
       "      <td>-0.073287</td>\n",
       "      <td>-0.059512</td>\n",
       "      <td>-0.047694</td>\n",
       "      <td>-0.037081</td>\n",
       "      <td>-0.027246</td>\n",
       "      <td>-0.017914</td>\n",
       "      <td>-0.008886</td>\n",
       "      <td>0.0</td>\n",
       "      <td>0.008886</td>\n",
       "      <td>0.017914</td>\n",
       "      <td>0.027246</td>\n",
       "      <td>0.037081</td>\n",
       "      <td>0.047694</td>\n",
       "      <td>0.059512</td>\n",
       "      <td>0.073287</td>\n",
       "      <td>0.090619</td>\n",
       "      <td>0.116309</td>\n",
       "    </tr>\n",
       "    <tr>\n",
       "      <th>1.000000</th>\n",
       "      <td>-0.164485</td>\n",
       "      <td>-0.128155</td>\n",
       "      <td>-0.103643</td>\n",
       "      <td>-0.084162</td>\n",
       "      <td>-0.067449</td>\n",
       "      <td>-0.052440</td>\n",
       "      <td>-0.038532</td>\n",
       "      <td>-0.025335</td>\n",
       "      <td>-0.012566</td>\n",
       "      <td>0.0</td>\n",
       "      <td>0.012566</td>\n",
       "      <td>0.025335</td>\n",
       "      <td>0.038532</td>\n",
       "      <td>0.052440</td>\n",
       "      <td>0.067449</td>\n",
       "      <td>0.084162</td>\n",
       "      <td>0.103643</td>\n",
       "      <td>0.128155</td>\n",
       "      <td>0.164485</td>\n",
       "    </tr>\n",
       "    <tr>\n",
       "      <th>2.000000</th>\n",
       "      <td>-0.232617</td>\n",
       "      <td>-0.181239</td>\n",
       "      <td>-0.146574</td>\n",
       "      <td>-0.119023</td>\n",
       "      <td>-0.095387</td>\n",
       "      <td>-0.074161</td>\n",
       "      <td>-0.054493</td>\n",
       "      <td>-0.035829</td>\n",
       "      <td>-0.017771</td>\n",
       "      <td>0.0</td>\n",
       "      <td>0.017771</td>\n",
       "      <td>0.035829</td>\n",
       "      <td>0.054493</td>\n",
       "      <td>0.074161</td>\n",
       "      <td>0.095387</td>\n",
       "      <td>0.119023</td>\n",
       "      <td>0.146574</td>\n",
       "      <td>0.181239</td>\n",
       "      <td>0.232617</td>\n",
       "    </tr>\n",
       "  </tbody>\n",
       "</table>\n",
       "</div>"
      ],
      "text/plain": [
       "              0.05      0.10      0.15      0.20      0.25      0.30  \\\n",
       "0.019231 -0.022810 -0.017772 -0.014373 -0.011671 -0.009353 -0.007272   \n",
       "0.083333 -0.047483 -0.036995 -0.029919 -0.024296 -0.019471 -0.015138   \n",
       "0.250000 -0.082243 -0.064078 -0.051822 -0.042081 -0.033724 -0.026220   \n",
       "0.500000 -0.116309 -0.090619 -0.073287 -0.059512 -0.047694 -0.037081   \n",
       "1.000000 -0.164485 -0.128155 -0.103643 -0.084162 -0.067449 -0.052440   \n",
       "2.000000 -0.232617 -0.181239 -0.146574 -0.119023 -0.095387 -0.074161   \n",
       "\n",
       "              0.35      0.40      0.45  0.50      0.55      0.60      0.65  \\\n",
       "0.019231 -0.005343 -0.003513 -0.001743   0.0  0.001743  0.003513  0.005343   \n",
       "0.083333 -0.011123 -0.007314 -0.003628   0.0  0.003628  0.007314  0.011123   \n",
       "0.250000 -0.019266 -0.012667 -0.006283   0.0  0.006283  0.012667  0.019266   \n",
       "0.500000 -0.027246 -0.017914 -0.008886   0.0  0.008886  0.017914  0.027246   \n",
       "1.000000 -0.038532 -0.025335 -0.012566   0.0  0.012566  0.025335  0.038532   \n",
       "2.000000 -0.054493 -0.035829 -0.017771   0.0  0.017771  0.035829  0.054493   \n",
       "\n",
       "              0.70      0.75      0.80      0.85      0.90      0.95  \n",
       "0.019231  0.007272  0.009353  0.011671  0.014373  0.017772  0.022810  \n",
       "0.083333  0.015138  0.019471  0.024296  0.029919  0.036995  0.047483  \n",
       "0.250000  0.026220  0.033724  0.042081  0.051822  0.064078  0.082243  \n",
       "0.500000  0.037081  0.047694  0.059512  0.073287  0.090619  0.116309  \n",
       "1.000000  0.052440  0.067449  0.084162  0.103643  0.128155  0.164485  \n",
       "2.000000  0.074161  0.095387  0.119023  0.146574  0.181239  0.232617  "
      ]
     },
     "execution_count": 21,
     "metadata": {},
     "output_type": "execute_result"
    }
   ],
   "source": [
    "pd.DataFrame(k,index=T[:,0],columns=np.round(Δ[0,:],2))"
   ]
  },
  {
   "cell_type": "markdown",
   "metadata": {},
   "source": [
    "Forward variance appears to scale fine for low epsilon but not high. Feels like implicit SDE is not parameterised as want -- to give the right expectation."
   ]
  },
  {
   "cell_type": "code",
   "execution_count": 22,
   "metadata": {},
   "outputs": [],
   "source": [
    "times   = np.array([0,1/12,3/12,6/12])\n",
    "sigma   = np.array([ 0.1])*np.ones_like(times)\n",
    "rho     = np.array([-0.7])*np.ones_like(times)\n",
    "vee     = np.array([ 1])*np.ones_like(times)\n",
    "epsilon = np.array([ 0])*np.ones_like(times)"
   ]
  },
  {
   "cell_type": "code",
   "execution_count": 23,
   "metadata": {},
   "outputs": [
    {
     "data": {
      "text/plain": [
       "array([[ 0.  ,  0.1 , -0.7 ,  1.  ,  0.  ],\n",
       "       [ 0.08,  0.1 , -0.7 ,  1.  ,  0.  ],\n",
       "       [ 0.25,  0.1 , -0.7 ,  1.  ,  0.  ],\n",
       "       [ 0.5 ,  0.1 , -0.7 ,  1.  ,  0.  ]])"
      ]
     },
     "execution_count": 23,
     "metadata": {},
     "output_type": "execute_result"
    }
   ],
   "source": [
    "params  = np.array([times, sigma, rho, vee, epsilon]).T\n",
    "np.round(params,2)"
   ]
  },
  {
   "cell_type": "code",
   "execution_count": 24,
   "metadata": {},
   "outputs": [],
   "source": [
    "maturities = T\n",
    "logstrikes = k"
   ]
  },
  {
   "cell_type": "code",
   "execution_count": 25,
   "metadata": {},
   "outputs": [],
   "source": [
    "call_prices = jdh.jdh_pricer(maturities, logstrikes, params)"
   ]
  },
  {
   "cell_type": "code",
   "execution_count": 26,
   "metadata": {},
   "outputs": [],
   "source": [
    "implied_vols = jdh.surface(maturities, logstrikes, call_prices)"
   ]
  },
  {
   "cell_type": "code",
   "execution_count": 27,
   "metadata": {},
   "outputs": [
    {
     "data": {
      "text/html": [
       "<div>\n",
       "<style scoped>\n",
       "    .dataframe tbody tr th:only-of-type {\n",
       "        vertical-align: middle;\n",
       "    }\n",
       "\n",
       "    .dataframe tbody tr th {\n",
       "        vertical-align: top;\n",
       "    }\n",
       "\n",
       "    .dataframe thead th {\n",
       "        text-align: right;\n",
       "    }\n",
       "</style>\n",
       "<table border=\"1\" class=\"dataframe\">\n",
       "  <thead>\n",
       "    <tr style=\"text-align: right;\">\n",
       "      <th></th>\n",
       "      <th>0.05</th>\n",
       "      <th>0.1</th>\n",
       "      <th>0.15</th>\n",
       "      <th>0.2</th>\n",
       "      <th>0.25</th>\n",
       "      <th>0.3</th>\n",
       "      <th>0.35</th>\n",
       "      <th>0.4</th>\n",
       "      <th>0.45</th>\n",
       "      <th>0.5</th>\n",
       "      <th>0.55</th>\n",
       "      <th>0.6</th>\n",
       "      <th>0.65</th>\n",
       "      <th>0.7</th>\n",
       "      <th>0.75</th>\n",
       "      <th>0.8</th>\n",
       "      <th>0.85</th>\n",
       "      <th>0.9</th>\n",
       "      <th>0.95</th>\n",
       "    </tr>\n",
       "  </thead>\n",
       "  <tbody>\n",
       "    <tr>\n",
       "      <th>0.019231</th>\n",
       "      <td>0.127093</td>\n",
       "      <td>0.110206</td>\n",
       "      <td>0.098209</td>\n",
       "      <td>0.088238</td>\n",
       "      <td>0.079309</td>\n",
       "      <td>0.070933</td>\n",
       "      <td>0.062811</td>\n",
       "      <td>0.054735</td>\n",
       "      <td>0.046600</td>\n",
       "      <td>0.038742</td>\n",
       "      <td>0.034139</td>\n",
       "      <td>0.036001</td>\n",
       "      <td>0.040297</td>\n",
       "      <td>0.045259</td>\n",
       "      <td>0.050597</td>\n",
       "      <td>0.056375</td>\n",
       "      <td>0.062856</td>\n",
       "      <td>0.070643</td>\n",
       "      <td>0.081538</td>\n",
       "    </tr>\n",
       "    <tr>\n",
       "      <th>0.083333</th>\n",
       "      <td>0.135118</td>\n",
       "      <td>0.120057</td>\n",
       "      <td>0.109338</td>\n",
       "      <td>0.100436</td>\n",
       "      <td>0.092490</td>\n",
       "      <td>0.085081</td>\n",
       "      <td>0.077972</td>\n",
       "      <td>0.071022</td>\n",
       "      <td>0.064185</td>\n",
       "      <td>0.057604</td>\n",
       "      <td>0.051933</td>\n",
       "      <td>0.048632</td>\n",
       "      <td>0.048444</td>\n",
       "      <td>0.050346</td>\n",
       "      <td>0.053388</td>\n",
       "      <td>0.057203</td>\n",
       "      <td>0.061794</td>\n",
       "      <td>0.067525</td>\n",
       "      <td>0.075713</td>\n",
       "    </tr>\n",
       "    <tr>\n",
       "      <th>0.250000</th>\n",
       "      <td>0.136276</td>\n",
       "      <td>0.123601</td>\n",
       "      <td>0.114605</td>\n",
       "      <td>0.107166</td>\n",
       "      <td>0.100564</td>\n",
       "      <td>0.094456</td>\n",
       "      <td>0.088651</td>\n",
       "      <td>0.083037</td>\n",
       "      <td>0.077562</td>\n",
       "      <td>0.072245</td>\n",
       "      <td>0.067222</td>\n",
       "      <td>0.062826</td>\n",
       "      <td>0.059582</td>\n",
       "      <td>0.057914</td>\n",
       "      <td>0.057809</td>\n",
       "      <td>0.058983</td>\n",
       "      <td>0.061241</td>\n",
       "      <td>0.064683</td>\n",
       "      <td>0.070173</td>\n",
       "    </tr>\n",
       "    <tr>\n",
       "      <th>0.500000</th>\n",
       "      <td>0.134305</td>\n",
       "      <td>0.123457</td>\n",
       "      <td>0.115791</td>\n",
       "      <td>0.109482</td>\n",
       "      <td>0.103912</td>\n",
       "      <td>0.098787</td>\n",
       "      <td>0.093945</td>\n",
       "      <td>0.089287</td>\n",
       "      <td>0.084756</td>\n",
       "      <td>0.080330</td>\n",
       "      <td>0.076034</td>\n",
       "      <td>0.071959</td>\n",
       "      <td>0.068286</td>\n",
       "      <td>0.065284</td>\n",
       "      <td>0.063235</td>\n",
       "      <td>0.062304</td>\n",
       "      <td>0.062536</td>\n",
       "      <td>0.064021</td>\n",
       "      <td>0.067374</td>\n",
       "    </tr>\n",
       "    <tr>\n",
       "      <th>1.000000</th>\n",
       "      <td>0.130500</td>\n",
       "      <td>0.121562</td>\n",
       "      <td>0.115287</td>\n",
       "      <td>0.110154</td>\n",
       "      <td>0.105649</td>\n",
       "      <td>0.101529</td>\n",
       "      <td>0.097656</td>\n",
       "      <td>0.093945</td>\n",
       "      <td>0.090340</td>\n",
       "      <td>0.086805</td>\n",
       "      <td>0.083323</td>\n",
       "      <td>0.079896</td>\n",
       "      <td>0.076555</td>\n",
       "      <td>0.073371</td>\n",
       "      <td>0.070472</td>\n",
       "      <td>0.068037</td>\n",
       "      <td>0.066293</td>\n",
       "      <td>0.065514</td>\n",
       "      <td>0.066262</td>\n",
       "    </tr>\n",
       "    <tr>\n",
       "      <th>2.000000</th>\n",
       "      <td>0.125519</td>\n",
       "      <td>0.118420</td>\n",
       "      <td>0.113477</td>\n",
       "      <td>0.109461</td>\n",
       "      <td>0.105957</td>\n",
       "      <td>0.102769</td>\n",
       "      <td>0.099786</td>\n",
       "      <td>0.096937</td>\n",
       "      <td>0.094172</td>\n",
       "      <td>0.091455</td>\n",
       "      <td>0.088758</td>\n",
       "      <td>0.086057</td>\n",
       "      <td>0.083337</td>\n",
       "      <td>0.080589</td>\n",
       "      <td>0.077816</td>\n",
       "      <td>0.075043</td>\n",
       "      <td>0.072335</td>\n",
       "      <td>0.069839</td>\n",
       "      <td>0.067924</td>\n",
       "    </tr>\n",
       "  </tbody>\n",
       "</table>\n",
       "</div>"
      ],
      "text/plain": [
       "              0.05      0.10      0.15      0.20      0.25      0.30  \\\n",
       "0.019231  0.127093  0.110206  0.098209  0.088238  0.079309  0.070933   \n",
       "0.083333  0.135118  0.120057  0.109338  0.100436  0.092490  0.085081   \n",
       "0.250000  0.136276  0.123601  0.114605  0.107166  0.100564  0.094456   \n",
       "0.500000  0.134305  0.123457  0.115791  0.109482  0.103912  0.098787   \n",
       "1.000000  0.130500  0.121562  0.115287  0.110154  0.105649  0.101529   \n",
       "2.000000  0.125519  0.118420  0.113477  0.109461  0.105957  0.102769   \n",
       "\n",
       "              0.35      0.40      0.45      0.50      0.55      0.60  \\\n",
       "0.019231  0.062811  0.054735  0.046600  0.038742  0.034139  0.036001   \n",
       "0.083333  0.077972  0.071022  0.064185  0.057604  0.051933  0.048632   \n",
       "0.250000  0.088651  0.083037  0.077562  0.072245  0.067222  0.062826   \n",
       "0.500000  0.093945  0.089287  0.084756  0.080330  0.076034  0.071959   \n",
       "1.000000  0.097656  0.093945  0.090340  0.086805  0.083323  0.079896   \n",
       "2.000000  0.099786  0.096937  0.094172  0.091455  0.088758  0.086057   \n",
       "\n",
       "              0.65      0.70      0.75      0.80      0.85      0.90      0.95  \n",
       "0.019231  0.040297  0.045259  0.050597  0.056375  0.062856  0.070643  0.081538  \n",
       "0.083333  0.048444  0.050346  0.053388  0.057203  0.061794  0.067525  0.075713  \n",
       "0.250000  0.059582  0.057914  0.057809  0.058983  0.061241  0.064683  0.070173  \n",
       "0.500000  0.068286  0.065284  0.063235  0.062304  0.062536  0.064021  0.067374  \n",
       "1.000000  0.076555  0.073371  0.070472  0.068037  0.066293  0.065514  0.066262  \n",
       "2.000000  0.083337  0.080589  0.077816  0.075043  0.072335  0.069839  0.067924  "
      ]
     },
     "execution_count": 27,
     "metadata": {},
     "output_type": "execute_result"
    }
   ],
   "source": [
    "pd.DataFrame(implied_vols,index=T[:,0],columns=Δ[0,:])"
   ]
  },
  {
   "cell_type": "code",
   "execution_count": 28,
   "metadata": {},
   "outputs": [],
   "source": [
    "# plt.rcParams['figure.figsize'] = [2*1.618*2,2*3]\n",
    "# plt.rcParams['legend.loc'] = 'lower left'"
   ]
  },
  {
   "cell_type": "code",
   "execution_count": 29,
   "metadata": {
    "scrolled": true
   },
   "outputs": [
    {
     "data": {
      "image/png": "[encoded data removed]",
      "text/plain": [
       "<Figure size 450x253.125 with 1 Axes>"
      ]
     },
     "metadata": {
      "needs_background": "light"
     },
     "output_type": "display_data"
    }
   ],
   "source": [
    "plot,axes = plt.subplots()\n",
    "for i in range(len(T[:,0])):\n",
    "    axes.plot(k[i,:],100*implied_vols[i,:])\n",
    "    axes.set_xlabel(r'$k$')\n",
    "    axes.set_ylabel(r'$\\bar{\\sigma}(k,\\tau)$')\n",
    "# plt.savefig('temp')"
   ]
  },
  {
   "cell_type": "code",
   "execution_count": 30,
   "metadata": {},
   "outputs": [],
   "source": [
    "implied_vars = implied_vols*np.sqrt(T)\n",
    "Δ = norm.cdf(k/implied_vars + 0.5*implied_vars)"
   ]
  },
  {
   "cell_type": "code",
   "execution_count": 32,
   "metadata": {},
   "outputs": [
    {
     "data": {
      "image/png": "[encoded data removed]",
      "text/plain": [
       "<Figure size 450x253.125 with 1 Axes>"
      ]
     },
     "metadata": {
      "needs_background": "light"
     },
     "output_type": "display_data"
    }
   ],
   "source": [
    "plot,axes = plt.subplots()\n",
    "for i in range(len(T[:,0])):\n",
    "    axes.plot(Δ[i,:],100*implied_vols[i,:])\n",
    "    axes.set_xlabel(r'$\\Delta$')\n",
    "    axes.set_xlim([0,1])\n",
    "    axes.set_ylabel(r'$\\bar{\\sigma}(\\Delta,\\tau)$')\n",
    "# plt.savefig('temp')"
   ]
  },
  {
   "cell_type": "code",
   "execution_count": null,
   "metadata": {},
   "outputs": [],
   "source": []
  }
 ],
 "metadata": {
  "anaconda-cloud": {},
  "kernelspec": {
   "display_name": "Python 3",
   "language": "python",
   "name": "python3"
  },
  "language_info": {
   "codemirror_mode": {
    "name": "ipython",
    "version": 3
   },
   "file_extension": ".py",
   "mimetype": "text/x-python",
   "name": "python",
   "nbconvert_exporter": "python",
   "pygments_lexer": "ipython3",
   "version": "3.7.3"
  }
 },
 "nbformat": 4,
 "nbformat_minor": 2
}
