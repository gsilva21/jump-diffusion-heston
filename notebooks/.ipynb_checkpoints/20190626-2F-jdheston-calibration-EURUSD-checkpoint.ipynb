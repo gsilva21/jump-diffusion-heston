{
 "cells": [
  {
   "cell_type": "code",
   "execution_count": 1,
   "metadata": {},
   "outputs": [],
   "source": [
    "import os\n",
    "os.chdir(r'/Users/rmccrickerd/desktop/jdheston')"
   ]
  },
  {
   "cell_type": "code",
   "execution_count": 2,
   "metadata": {},
   "outputs": [],
   "source": [
    "import numpy as np\n",
    "import pandas as pd\n",
    "from jdheston import jdheston as jdh\n",
    "from jdheston import utils as uts\n",
    "from jdheston import config as cfg\n",
    "from matplotlib import pyplot as plt\n",
    "from scipy.stats import norm\n",
    "from scipy.special import gamma\n",
    "from scipy.optimize import minimize\n",
    "# import mpl\n",
    "# %matplotlib inline"
   ]
  },
  {
   "cell_type": "code",
   "execution_count": 3,
   "metadata": {},
   "outputs": [],
   "source": [
    "nx = np.newaxis\n",
    "cfg.config(scale=1.5,print_keys=False)"
   ]
  },
  {
   "cell_type": "code",
   "execution_count": 4,
   "metadata": {},
   "outputs": [
    {
     "data": {
      "text/html": [
       "<div>\n",
       "<style scoped>\n",
       "    .dataframe tbody tr th:only-of-type {\n",
       "        vertical-align: middle;\n",
       "    }\n",
       "\n",
       "    .dataframe tbody tr th {\n",
       "        vertical-align: top;\n",
       "    }\n",
       "\n",
       "    .dataframe thead th {\n",
       "        text-align: right;\n",
       "    }\n",
       "</style>\n",
       "<table border=\"1\" class=\"dataframe\">\n",
       "  <thead>\n",
       "    <tr style=\"text-align: right;\">\n",
       "      <th></th>\n",
       "      <th>EUR</th>\n",
       "      <th>USD</th>\n",
       "      <th>Unnamed: 2</th>\n",
       "      <th>Bloomberg BGN</th>\n",
       "      <th>Unnamed: 4</th>\n",
       "      <th>Unnamed: 5</th>\n",
       "      <th>Unnamed: 6</th>\n",
       "      <th>Unnamed: 7</th>\n",
       "      <th>Unnamed: 8</th>\n",
       "      <th>Unnamed: 9</th>\n",
       "      <th>Unnamed: 10</th>\n",
       "    </tr>\n",
       "  </thead>\n",
       "  <tbody>\n",
       "    <tr>\n",
       "      <th>0</th>\n",
       "      <td>NaN</td>\n",
       "      <td>ATM</td>\n",
       "      <td>NaN</td>\n",
       "      <td>25D Call EUR</td>\n",
       "      <td>NaN</td>\n",
       "      <td>25D Put EUR</td>\n",
       "      <td>NaN</td>\n",
       "      <td>10D Call EUR</td>\n",
       "      <td>NaN</td>\n",
       "      <td>10D Put EUR</td>\n",
       "      <td>NaN</td>\n",
       "    </tr>\n",
       "    <tr>\n",
       "      <th>1</th>\n",
       "      <td>NaN</td>\n",
       "      <td>Mid</td>\n",
       "      <td>Spread</td>\n",
       "      <td>Mid</td>\n",
       "      <td>Spread</td>\n",
       "      <td>Mid</td>\n",
       "      <td>Spread</td>\n",
       "      <td>Mid</td>\n",
       "      <td>Spread</td>\n",
       "      <td>Mid</td>\n",
       "      <td>Spread</td>\n",
       "    </tr>\n",
       "    <tr>\n",
       "      <th>2</th>\n",
       "      <td>1W</td>\n",
       "      <td>4.918</td>\n",
       "      <td>0.745</td>\n",
       "      <td>5.199</td>\n",
       "      <td>0.937</td>\n",
       "      <td>4.931</td>\n",
       "      <td>0.937</td>\n",
       "      <td>5.602</td>\n",
       "      <td>1.708</td>\n",
       "      <td>5.122</td>\n",
       "      <td>1.711</td>\n",
       "    </tr>\n",
       "    <tr>\n",
       "      <th>3</th>\n",
       "      <td>1M</td>\n",
       "      <td>4.878</td>\n",
       "      <td>0.325</td>\n",
       "      <td>5.133</td>\n",
       "      <td>0.408</td>\n",
       "      <td>4.936</td>\n",
       "      <td>0.408</td>\n",
       "      <td>5.505</td>\n",
       "      <td>0.74</td>\n",
       "      <td>5.15</td>\n",
       "      <td>0.74</td>\n",
       "    </tr>\n",
       "    <tr>\n",
       "      <th>4</th>\n",
       "      <td>3M</td>\n",
       "      <td>5.23</td>\n",
       "      <td>0.4</td>\n",
       "      <td>5.467</td>\n",
       "      <td>0.502</td>\n",
       "      <td>5.382</td>\n",
       "      <td>0.502</td>\n",
       "      <td>5.889</td>\n",
       "      <td>0.911</td>\n",
       "      <td>5.749</td>\n",
       "      <td>0.911</td>\n",
       "    </tr>\n",
       "    <tr>\n",
       "      <th>5</th>\n",
       "      <td>6M</td>\n",
       "      <td>5.632</td>\n",
       "      <td>0.325</td>\n",
       "      <td>5.89</td>\n",
       "      <td>0.408</td>\n",
       "      <td>5.856</td>\n",
       "      <td>0.408</td>\n",
       "      <td>6.418</td>\n",
       "      <td>0.74</td>\n",
       "      <td>6.363</td>\n",
       "      <td>0.74</td>\n",
       "    </tr>\n",
       "    <tr>\n",
       "      <th>6</th>\n",
       "      <td>1Y</td>\n",
       "      <td>6.115</td>\n",
       "      <td>0.3</td>\n",
       "      <td>6.383</td>\n",
       "      <td>0.377</td>\n",
       "      <td>6.408</td>\n",
       "      <td>0.377</td>\n",
       "      <td>7.017</td>\n",
       "      <td>0.683</td>\n",
       "      <td>7.082</td>\n",
       "      <td>0.683</td>\n",
       "    </tr>\n",
       "    <tr>\n",
       "      <th>7</th>\n",
       "      <td>2Y</td>\n",
       "      <td>6.733</td>\n",
       "      <td>0.375</td>\n",
       "      <td>7.004</td>\n",
       "      <td>0.471</td>\n",
       "      <td>7.051</td>\n",
       "      <td>0.471</td>\n",
       "      <td>7.675</td>\n",
       "      <td>0.853</td>\n",
       "      <td>7.78</td>\n",
       "      <td>0.853</td>\n",
       "    </tr>\n",
       "  </tbody>\n",
       "</table>\n",
       "</div>"
      ],
      "text/plain": [
       "   EUR    USD Unnamed: 2 Bloomberg BGN Unnamed: 4   Unnamed: 5 Unnamed: 6  \\\n",
       "0  NaN    ATM        NaN  25D Call EUR        NaN  25D Put EUR        NaN   \n",
       "1  NaN    Mid     Spread           Mid     Spread          Mid     Spread   \n",
       "2   1W  4.918      0.745         5.199      0.937        4.931      0.937   \n",
       "3   1M  4.878      0.325         5.133      0.408        4.936      0.408   \n",
       "4   3M   5.23        0.4         5.467      0.502        5.382      0.502   \n",
       "5   6M  5.632      0.325          5.89      0.408        5.856      0.408   \n",
       "6   1Y  6.115        0.3         6.383      0.377        6.408      0.377   \n",
       "7   2Y  6.733      0.375         7.004      0.471        7.051      0.471   \n",
       "\n",
       "     Unnamed: 7 Unnamed: 8   Unnamed: 9 Unnamed: 10  \n",
       "0  10D Call EUR        NaN  10D Put EUR         NaN  \n",
       "1           Mid     Spread          Mid      Spread  \n",
       "2         5.602      1.708        5.122       1.711  \n",
       "3         5.505       0.74         5.15        0.74  \n",
       "4         5.889      0.911        5.749       0.911  \n",
       "5         6.418       0.74        6.363        0.74  \n",
       "6         7.017      0.683        7.082       0.683  \n",
       "7         7.675      0.853         7.78       0.853  "
      ]
     },
     "execution_count": 4,
     "metadata": {},
     "output_type": "execute_result"
    }
   ],
   "source": [
    "df = pd.read_excel('data/EURUSD-20190619.xlsx')\n",
    "df"
   ]
  },
  {
   "cell_type": "code",
   "execution_count": 5,
   "metadata": {},
   "outputs": [],
   "source": [
    "deltas = np.array([0.1,0.25,0.5,0.75,0.9])\n",
    "expiries = np.array([1/52,1/12,3/12,6/12,1,2])\n",
    "labels = ['1w','1m','3m','6m','1y','2y']"
   ]
  },
  {
   "cell_type": "code",
   "execution_count": 6,
   "metadata": {},
   "outputs": [],
   "source": [
    "m,n = len(expiries),len(deltas)\n",
    "mid_vols = np.zeros((m,n))\n",
    "spreads = np.zeros((m,n))"
   ]
  },
  {
   "cell_type": "code",
   "execution_count": 7,
   "metadata": {},
   "outputs": [],
   "source": [
    "mid_vols[:,0] = df.iloc[2:,9]\n",
    "mid_vols[:,1] = df.iloc[2:,5]\n",
    "mid_vols[:,2] = df.iloc[2:,1]\n",
    "mid_vols[:,3] = df.iloc[2:,3]\n",
    "mid_vols[:,4] = df.iloc[2:,7]"
   ]
  },
  {
   "cell_type": "code",
   "execution_count": 8,
   "metadata": {},
   "outputs": [],
   "source": [
    "spreads[:,0] = df.iloc[2:,10]\n",
    "spreads[:,1] = df.iloc[2:,6]\n",
    "spreads[:,2] = df.iloc[2:,2]\n",
    "spreads[:,3] = df.iloc[2:,4]\n",
    "spreads[:,4] = df.iloc[2:,8]"
   ]
  },
  {
   "cell_type": "code",
   "execution_count": 9,
   "metadata": {},
   "outputs": [],
   "source": [
    "plt.rcParams['figure.figsize'] = [4,12]\n",
    "plt.rcParams['legend.loc'] = 'lower left'"
   ]
  },
  {
   "cell_type": "code",
   "execution_count": 10,
   "metadata": {
    "scrolled": true
   },
   "outputs": [
    {
     "data": {
      "image/png": "[encoded data removed]",
      "text/plain": [
       "<Figure size 600x1800 with 6 Axes>"
      ]
     },
     "metadata": {
      "needs_background": "light"
     },
     "output_type": "display_data"
    }
   ],
   "source": [
    "plot,axes = plt.subplots(m)\n",
    "for i in range(m):\n",
    "        axes[i].plot(deltas, mid_vols[i,:],'bo')\n",
    "        \n",
    "        for j in range(n):\n",
    "            axes[i].plot([deltas[j],deltas[j]], [mid_vols[i,j] - spreads[i,j]/2,mid_vols[i,j] + spreads[i,j]/2],'b')\n",
    "        axes[i].plot(deltas, mid_vols[i,:] + spreads[i,:]/2,'b_')\n",
    "        axes[i].plot(deltas, mid_vols[i,:] - spreads[i,:]/2,'b_')\n",
    "        axes[i].set_ylabel(r'$\\bar{\\sigma}(\\Delta,\\mathrm{%s})$'%labels[i])\n",
    "        axes[i].set_ylim([4,9])\n",
    "        axes[i].set_xlim([0,1])\n",
    "axes[0].set_title(r'$\\mathrm{EURUSD.20190612}$')\n",
    "axes[3].set_xlabel(r'$\\Delta$')\n",
    "plt.tight_layout()"
   ]
  },
  {
   "cell_type": "code",
   "execution_count": 11,
   "metadata": {},
   "outputs": [],
   "source": [
    "vols = mid_vols/100"
   ]
  },
  {
   "cell_type": "code",
   "execution_count": 12,
   "metadata": {},
   "outputs": [],
   "source": [
    "vol_surface = jdh.vol_surface(expiries[:,nx], deltas[nx,:], vols)"
   ]
  },
  {
   "cell_type": "code",
   "execution_count": 13,
   "metadata": {},
   "outputs": [
    {
     "name": "stderr",
     "output_type": "stream",
     "text": [
      "C:\\Users\\rmccrickerd\\desktop\\jdheston\\jdheston\\jdheston.py:218: IntegrationWarning: The maximum number of subdivisions (50) has been achieved.\n",
      "  If increasing the limit yields no improvement it is advised to analyze \n",
      "  the integrand in order to determine the difficulties.  If the position of a \n",
      "  local difficulty can be determined (singularity, discontinuity) one will \n",
      "  probably gain from splitting up the interval and calling the integrator \n",
      "  on the subranges.  Perhaps a special-purpose integrator should be used.\n",
      "  p = 1 - 1/np.pi*np.exp(k/2)*quad(jheston_integrand,0,u,args=(t,k,Θ))[0]\n",
      "C:\\Users\\rmccrickerd\\desktop\\jdheston\\jdheston\\jdheston.py:210: RuntimeWarning: invalid value encountered in cdouble_scalars\n",
      "  return np.exp((1 - a - np.sqrt((1 - a)**2 + (σ*v)**2*u*(i + u)))/v**2*t)\n",
      "C:\\Users\\rmccrickerd\\desktop\\jdheston\\jdheston\\jdheston.py:218: IntegrationWarning: The occurrence of roundoff error is detected, which prevents \n",
      "  the requested tolerance from being achieved.  The error may be \n",
      "  underestimated.\n",
      "  p = 1 - 1/np.pi*np.exp(k/2)*quad(jheston_integrand,0,u,args=(t,k,Θ))[0]\n"
     ]
    },
    {
     "data": {
      "text/html": [
       "<div>\n",
       "<style scoped>\n",
       "    .dataframe tbody tr th:only-of-type {\n",
       "        vertical-align: middle;\n",
       "    }\n",
       "\n",
       "    .dataframe tbody tr th {\n",
       "        vertical-align: top;\n",
       "    }\n",
       "\n",
       "    .dataframe thead th {\n",
       "        text-align: right;\n",
       "    }\n",
       "</style>\n",
       "<table border=\"1\" class=\"dataframe\">\n",
       "  <thead>\n",
       "    <tr style=\"text-align: right;\">\n",
       "      <th></th>\n",
       "      <th>sigma</th>\n",
       "      <th>rho</th>\n",
       "      <th>vee</th>\n",
       "      <th>rmse</th>\n",
       "    </tr>\n",
       "  </thead>\n",
       "  <tbody>\n",
       "    <tr>\n",
       "      <th>0.019231</th>\n",
       "      <td>0.052056</td>\n",
       "      <td>0.124555</td>\n",
       "      <td>0.100011</td>\n",
       "      <td>0.000098</td>\n",
       "    </tr>\n",
       "    <tr>\n",
       "      <th>0.083333</th>\n",
       "      <td>0.051702</td>\n",
       "      <td>0.093835</td>\n",
       "      <td>0.209557</td>\n",
       "      <td>0.000125</td>\n",
       "    </tr>\n",
       "    <tr>\n",
       "      <th>0.250000</th>\n",
       "      <td>0.056091</td>\n",
       "      <td>0.036718</td>\n",
       "      <td>0.412047</td>\n",
       "      <td>0.000115</td>\n",
       "    </tr>\n",
       "    <tr>\n",
       "      <th>0.500000</th>\n",
       "      <td>0.061197</td>\n",
       "      <td>0.019826</td>\n",
       "      <td>0.654187</td>\n",
       "      <td>0.000100</td>\n",
       "    </tr>\n",
       "    <tr>\n",
       "      <th>1.000000</th>\n",
       "      <td>0.067135</td>\n",
       "      <td>0.005837</td>\n",
       "      <td>1.009247</td>\n",
       "      <td>0.000054</td>\n",
       "    </tr>\n",
       "    <tr>\n",
       "      <th>2.000000</th>\n",
       "      <td>0.073677</td>\n",
       "      <td>0.008733</td>\n",
       "      <td>1.397838</td>\n",
       "      <td>0.000041</td>\n",
       "    </tr>\n",
       "  </tbody>\n",
       "</table>\n",
       "</div>"
      ],
      "text/plain": [
       "             sigma       rho       vee      rmse\n",
       "0.019231  0.052056  0.124555  0.100011  0.000098\n",
       "0.083333  0.051702  0.093835  0.209557  0.000125\n",
       "0.250000  0.056091  0.036718  0.412047  0.000115\n",
       "0.500000  0.061197  0.019826  0.654187  0.000100\n",
       "1.000000  0.067135  0.005837  1.009247  0.000054\n",
       "2.000000  0.073677  0.008733  1.397838  0.000041"
      ]
     },
     "execution_count": 13,
     "metadata": {},
     "output_type": "execute_result"
    }
   ],
   "source": [
    "vol_surface.fit_jheston()"
   ]
  },
  {
   "cell_type": "code",
   "execution_count": 14,
   "metadata": {},
   "outputs": [
    {
     "data": {
      "text/plain": [
       "0.07367678631671042"
      ]
     },
     "execution_count": 14,
     "metadata": {},
     "output_type": "execute_result"
    }
   ],
   "source": [
    "sigma_max = np.max(vol_surface.jheston['sigma'])\n",
    "sigma_max"
   ]
  },
  {
   "cell_type": "code",
   "execution_count": 15,
   "metadata": {},
   "outputs": [],
   "source": [
    "T = np.array([1/52,1/12,3/12,6/12,1,2])[:,nx]\n",
    "# M = ['1W','1M','3M','6M','9M','1Y']\n",
    "Δ = np.linspace(5,95,19)[nx,:]/100\n",
    "k = norm.ppf(Δ)*sigma_max*np.sqrt(T)"
   ]
  },
  {
   "cell_type": "code",
   "execution_count": 16,
   "metadata": {},
   "outputs": [
    {
     "data": {
      "text/html": [
       "<div>\n",
       "<style scoped>\n",
       "    .dataframe tbody tr th:only-of-type {\n",
       "        vertical-align: middle;\n",
       "    }\n",
       "\n",
       "    .dataframe tbody tr th {\n",
       "        vertical-align: top;\n",
       "    }\n",
       "\n",
       "    .dataframe thead th {\n",
       "        text-align: right;\n",
       "    }\n",
       "</style>\n",
       "<table border=\"1\" class=\"dataframe\">\n",
       "  <thead>\n",
       "    <tr style=\"text-align: right;\">\n",
       "      <th></th>\n",
       "      <th>0.05</th>\n",
       "      <th>0.1</th>\n",
       "      <th>0.15</th>\n",
       "      <th>0.2</th>\n",
       "      <th>0.25</th>\n",
       "      <th>0.3</th>\n",
       "      <th>0.35</th>\n",
       "      <th>0.4</th>\n",
       "      <th>0.45</th>\n",
       "      <th>0.5</th>\n",
       "      <th>0.55</th>\n",
       "      <th>0.6</th>\n",
       "      <th>0.65</th>\n",
       "      <th>0.7</th>\n",
       "      <th>0.75</th>\n",
       "      <th>0.8</th>\n",
       "      <th>0.85</th>\n",
       "      <th>0.9</th>\n",
       "      <th>0.95</th>\n",
       "    </tr>\n",
       "  </thead>\n",
       "  <tbody>\n",
       "    <tr>\n",
       "      <th>0.019231</th>\n",
       "      <td>-0.016806</td>\n",
       "      <td>-0.013094</td>\n",
       "      <td>-0.010589</td>\n",
       "      <td>-0.008599</td>\n",
       "      <td>-0.006891</td>\n",
       "      <td>-0.005358</td>\n",
       "      <td>-0.003937</td>\n",
       "      <td>-0.002588</td>\n",
       "      <td>-0.001284</td>\n",
       "      <td>0.0</td>\n",
       "      <td>0.001284</td>\n",
       "      <td>0.002588</td>\n",
       "      <td>0.003937</td>\n",
       "      <td>0.005358</td>\n",
       "      <td>0.006891</td>\n",
       "      <td>0.008599</td>\n",
       "      <td>0.010589</td>\n",
       "      <td>0.013094</td>\n",
       "      <td>0.016806</td>\n",
       "    </tr>\n",
       "    <tr>\n",
       "      <th>0.083333</th>\n",
       "      <td>-0.034984</td>\n",
       "      <td>-0.027257</td>\n",
       "      <td>-0.022044</td>\n",
       "      <td>-0.017900</td>\n",
       "      <td>-0.014345</td>\n",
       "      <td>-0.011153</td>\n",
       "      <td>-0.008195</td>\n",
       "      <td>-0.005388</td>\n",
       "      <td>-0.002673</td>\n",
       "      <td>0.0</td>\n",
       "      <td>0.002673</td>\n",
       "      <td>0.005388</td>\n",
       "      <td>0.008195</td>\n",
       "      <td>0.011153</td>\n",
       "      <td>0.014345</td>\n",
       "      <td>0.017900</td>\n",
       "      <td>0.022044</td>\n",
       "      <td>0.027257</td>\n",
       "      <td>0.034984</td>\n",
       "    </tr>\n",
       "    <tr>\n",
       "      <th>0.250000</th>\n",
       "      <td>-0.060594</td>\n",
       "      <td>-0.047210</td>\n",
       "      <td>-0.038181</td>\n",
       "      <td>-0.031004</td>\n",
       "      <td>-0.024847</td>\n",
       "      <td>-0.019318</td>\n",
       "      <td>-0.014195</td>\n",
       "      <td>-0.009333</td>\n",
       "      <td>-0.004629</td>\n",
       "      <td>0.0</td>\n",
       "      <td>0.004629</td>\n",
       "      <td>0.009333</td>\n",
       "      <td>0.014195</td>\n",
       "      <td>0.019318</td>\n",
       "      <td>0.024847</td>\n",
       "      <td>0.031004</td>\n",
       "      <td>0.038181</td>\n",
       "      <td>0.047210</td>\n",
       "      <td>0.060594</td>\n",
       "    </tr>\n",
       "    <tr>\n",
       "      <th>0.500000</th>\n",
       "      <td>-0.085693</td>\n",
       "      <td>-0.066765</td>\n",
       "      <td>-0.053995</td>\n",
       "      <td>-0.043846</td>\n",
       "      <td>-0.035139</td>\n",
       "      <td>-0.027320</td>\n",
       "      <td>-0.020074</td>\n",
       "      <td>-0.013199</td>\n",
       "      <td>-0.006547</td>\n",
       "      <td>0.0</td>\n",
       "      <td>0.006547</td>\n",
       "      <td>0.013199</td>\n",
       "      <td>0.020074</td>\n",
       "      <td>0.027320</td>\n",
       "      <td>0.035139</td>\n",
       "      <td>0.043846</td>\n",
       "      <td>0.053995</td>\n",
       "      <td>0.066765</td>\n",
       "      <td>0.085693</td>\n",
       "    </tr>\n",
       "    <tr>\n",
       "      <th>1.000000</th>\n",
       "      <td>-0.121188</td>\n",
       "      <td>-0.094421</td>\n",
       "      <td>-0.076361</td>\n",
       "      <td>-0.062008</td>\n",
       "      <td>-0.049694</td>\n",
       "      <td>-0.038636</td>\n",
       "      <td>-0.028389</td>\n",
       "      <td>-0.018666</td>\n",
       "      <td>-0.009258</td>\n",
       "      <td>0.0</td>\n",
       "      <td>0.009258</td>\n",
       "      <td>0.018666</td>\n",
       "      <td>0.028389</td>\n",
       "      <td>0.038636</td>\n",
       "      <td>0.049694</td>\n",
       "      <td>0.062008</td>\n",
       "      <td>0.076361</td>\n",
       "      <td>0.094421</td>\n",
       "      <td>0.121188</td>\n",
       "    </tr>\n",
       "    <tr>\n",
       "      <th>2.000000</th>\n",
       "      <td>-0.171385</td>\n",
       "      <td>-0.133531</td>\n",
       "      <td>-0.107991</td>\n",
       "      <td>-0.087692</td>\n",
       "      <td>-0.070278</td>\n",
       "      <td>-0.054640</td>\n",
       "      <td>-0.040148</td>\n",
       "      <td>-0.026397</td>\n",
       "      <td>-0.013093</td>\n",
       "      <td>0.0</td>\n",
       "      <td>0.013093</td>\n",
       "      <td>0.026397</td>\n",
       "      <td>0.040148</td>\n",
       "      <td>0.054640</td>\n",
       "      <td>0.070278</td>\n",
       "      <td>0.087692</td>\n",
       "      <td>0.107991</td>\n",
       "      <td>0.133531</td>\n",
       "      <td>0.171385</td>\n",
       "    </tr>\n",
       "  </tbody>\n",
       "</table>\n",
       "</div>"
      ],
      "text/plain": [
       "              0.05      0.10      0.15      0.20      0.25      0.30  \\\n",
       "0.019231 -0.016806 -0.013094 -0.010589 -0.008599 -0.006891 -0.005358   \n",
       "0.083333 -0.034984 -0.027257 -0.022044 -0.017900 -0.014345 -0.011153   \n",
       "0.250000 -0.060594 -0.047210 -0.038181 -0.031004 -0.024847 -0.019318   \n",
       "0.500000 -0.085693 -0.066765 -0.053995 -0.043846 -0.035139 -0.027320   \n",
       "1.000000 -0.121188 -0.094421 -0.076361 -0.062008 -0.049694 -0.038636   \n",
       "2.000000 -0.171385 -0.133531 -0.107991 -0.087692 -0.070278 -0.054640   \n",
       "\n",
       "              0.35      0.40      0.45  0.50      0.55      0.60      0.65  \\\n",
       "0.019231 -0.003937 -0.002588 -0.001284   0.0  0.001284  0.002588  0.003937   \n",
       "0.083333 -0.008195 -0.005388 -0.002673   0.0  0.002673  0.005388  0.008195   \n",
       "0.250000 -0.014195 -0.009333 -0.004629   0.0  0.004629  0.009333  0.014195   \n",
       "0.500000 -0.020074 -0.013199 -0.006547   0.0  0.006547  0.013199  0.020074   \n",
       "1.000000 -0.028389 -0.018666 -0.009258   0.0  0.009258  0.018666  0.028389   \n",
       "2.000000 -0.040148 -0.026397 -0.013093   0.0  0.013093  0.026397  0.040148   \n",
       "\n",
       "              0.70      0.75      0.80      0.85      0.90      0.95  \n",
       "0.019231  0.005358  0.006891  0.008599  0.010589  0.013094  0.016806  \n",
       "0.083333  0.011153  0.014345  0.017900  0.022044  0.027257  0.034984  \n",
       "0.250000  0.019318  0.024847  0.031004  0.038181  0.047210  0.060594  \n",
       "0.500000  0.027320  0.035139  0.043846  0.053995  0.066765  0.085693  \n",
       "1.000000  0.038636  0.049694  0.062008  0.076361  0.094421  0.121188  \n",
       "2.000000  0.054640  0.070278  0.087692  0.107991  0.133531  0.171385  "
      ]
     },
     "execution_count": 16,
     "metadata": {},
     "output_type": "execute_result"
    }
   ],
   "source": [
    "pd.DataFrame(k,index=T[:,0],columns=np.round(Δ[0,:],2))"
   ]
  },
  {
   "cell_type": "code",
   "execution_count": 17,
   "metadata": {},
   "outputs": [
    {
     "data": {
      "text/html": [
       "<div>\n",
       "<style scoped>\n",
       "    .dataframe tbody tr th:only-of-type {\n",
       "        vertical-align: middle;\n",
       "    }\n",
       "\n",
       "    .dataframe tbody tr th {\n",
       "        vertical-align: top;\n",
       "    }\n",
       "\n",
       "    .dataframe thead th {\n",
       "        text-align: right;\n",
       "    }\n",
       "</style>\n",
       "<table border=\"1\" class=\"dataframe\">\n",
       "  <thead>\n",
       "    <tr style=\"text-align: right;\">\n",
       "      <th></th>\n",
       "      <th>sigma</th>\n",
       "      <th>rho</th>\n",
       "      <th>vee</th>\n",
       "      <th>rmse</th>\n",
       "    </tr>\n",
       "  </thead>\n",
       "  <tbody>\n",
       "    <tr>\n",
       "      <th>0.019231</th>\n",
       "      <td>0.052056</td>\n",
       "      <td>0.124555</td>\n",
       "      <td>0.100011</td>\n",
       "      <td>0.000098</td>\n",
       "    </tr>\n",
       "    <tr>\n",
       "      <th>0.083333</th>\n",
       "      <td>0.051702</td>\n",
       "      <td>0.093835</td>\n",
       "      <td>0.209557</td>\n",
       "      <td>0.000125</td>\n",
       "    </tr>\n",
       "    <tr>\n",
       "      <th>0.250000</th>\n",
       "      <td>0.056091</td>\n",
       "      <td>0.036718</td>\n",
       "      <td>0.412047</td>\n",
       "      <td>0.000115</td>\n",
       "    </tr>\n",
       "    <tr>\n",
       "      <th>0.500000</th>\n",
       "      <td>0.061197</td>\n",
       "      <td>0.019826</td>\n",
       "      <td>0.654187</td>\n",
       "      <td>0.000100</td>\n",
       "    </tr>\n",
       "    <tr>\n",
       "      <th>1.000000</th>\n",
       "      <td>0.067135</td>\n",
       "      <td>0.005837</td>\n",
       "      <td>1.009247</td>\n",
       "      <td>0.000054</td>\n",
       "    </tr>\n",
       "    <tr>\n",
       "      <th>2.000000</th>\n",
       "      <td>0.073677</td>\n",
       "      <td>0.008733</td>\n",
       "      <td>1.397838</td>\n",
       "      <td>0.000041</td>\n",
       "    </tr>\n",
       "  </tbody>\n",
       "</table>\n",
       "</div>"
      ],
      "text/plain": [
       "             sigma       rho       vee      rmse\n",
       "0.019231  0.052056  0.124555  0.100011  0.000098\n",
       "0.083333  0.051702  0.093835  0.209557  0.000125\n",
       "0.250000  0.056091  0.036718  0.412047  0.000115\n",
       "0.500000  0.061197  0.019826  0.654187  0.000100\n",
       "1.000000  0.067135  0.005837  1.009247  0.000054\n",
       "2.000000  0.073677  0.008733  1.397838  0.000041"
      ]
     },
     "execution_count": 17,
     "metadata": {},
     "output_type": "execute_result"
    }
   ],
   "source": [
    "vol_surface.jheston"
   ]
  },
  {
   "cell_type": "code",
   "execution_count": 18,
   "metadata": {},
   "outputs": [
    {
     "data": {
      "text/plain": [
       "array([0.05205575, 0.05170224, 0.05609079, 0.0611965 , 0.06713517,\n",
       "       0.07367679])"
      ]
     },
     "execution_count": 18,
     "metadata": {},
     "output_type": "execute_result"
    }
   ],
   "source": [
    "sigma = np.array(vol_surface.jheston['sigma'])\n",
    "sigma"
   ]
  },
  {
   "cell_type": "code",
   "execution_count": 19,
   "metadata": {},
   "outputs": [],
   "source": [
    "average_vols = np.array(vol_surface.jheston['sigma'].copy())\n",
    "forward_vols = average_vols.copy()\n",
    "for i in np.arange(1,m):\n",
    "    forward_vols[i] = np.sqrt((average_vols[i]**2*T[i,0] - average_vols[i-1]**2*T[i-1,0])/(T[i,0] - T[i-1,0]))"
   ]
  },
  {
   "cell_type": "code",
   "execution_count": 20,
   "metadata": {},
   "outputs": [
    {
     "data": {
      "text/plain": [
       "array([0.05205575, 0.05159571, 0.05816102, 0.06590787, 0.0725896 ,\n",
       "       0.07968316])"
      ]
     },
     "execution_count": 20,
     "metadata": {},
     "output_type": "execute_result"
    }
   ],
   "source": [
    "forward_vols"
   ]
  },
  {
   "cell_type": "code",
   "execution_count": 21,
   "metadata": {},
   "outputs": [
    {
     "data": {
      "text/plain": [
       "(array([0.03680898, 0.03648368, 0.04112605, 0.0466039 , 0.0513286 ,\n",
       "        0.05634451]),\n",
       " array([0.03680898, 0.03648368, 0.04112605, 0.0466039 , 0.0513286 ,\n",
       "        0.05634451]))"
      ]
     },
     "execution_count": 21,
     "metadata": {},
     "output_type": "execute_result"
    }
   ],
   "source": [
    "jump_weight = 0.5\n",
    "jump_sigma = jump_weight**0.5*forward_vols\n",
    "diff_sigma = (1 - jump_weight)**0.5*forward_vols\n",
    "jump_sigma, diff_sigma"
   ]
  },
  {
   "cell_type": "code",
   "execution_count": 22,
   "metadata": {},
   "outputs": [],
   "source": [
    "times1   = np.array([0,1/52,1/12,3/12,6/12,1])\n",
    "sigma1   = jump_sigma\n",
    "rho1     = np.array([ +0.5])*np.ones_like(times1)\n",
    "vee1     = np.array([1.0])*np.ones_like(times1)\n",
    "epsilon1 = np.array([ 0])*np.ones_like(times1)"
   ]
  },
  {
   "cell_type": "code",
   "execution_count": 23,
   "metadata": {},
   "outputs": [],
   "source": [
    "times2   = np.array([0,1/52,1/12,3/12,6/12,1])\n",
    "sigma2   = diff_sigma\n",
    "rho2     = np.array([-0.9])*np.ones_like(times2)\n",
    "vee2     = np.array([2.5])*np.ones_like(times2)\n",
    "epsilon2 = np.array([ 0.5])*np.ones_like(times2)"
   ]
  },
  {
   "cell_type": "code",
   "execution_count": 24,
   "metadata": {},
   "outputs": [],
   "source": [
    "params1  = np.array([times1, sigma1, rho1, vee1, epsilon1]).T\n",
    "params2  = np.array([times2, sigma2, rho2, vee2, epsilon2]).T"
   ]
  },
  {
   "cell_type": "code",
   "execution_count": 25,
   "metadata": {},
   "outputs": [
    {
     "data": {
      "text/plain": [
       "(6, 5)"
      ]
     },
     "execution_count": 25,
     "metadata": {},
     "output_type": "execute_result"
    }
   ],
   "source": [
    "params1.shape"
   ]
  },
  {
   "cell_type": "code",
   "execution_count": 26,
   "metadata": {},
   "outputs": [],
   "source": [
    "maturities = T\n",
    "logstrikes = k"
   ]
  },
  {
   "cell_type": "code",
   "execution_count": 27,
   "metadata": {},
   "outputs": [],
   "source": [
    "# eps2 = 0.25"
   ]
  },
  {
   "cell_type": "code",
   "execution_count": 28,
   "metadata": {},
   "outputs": [],
   "source": [
    "T = vol_surface.expiries\n",
    "k = vol_surface.logstrikes\n",
    "vols = vol_surface.vols"
   ]
  },
  {
   "cell_type": "code",
   "execution_count": 29,
   "metadata": {},
   "outputs": [],
   "source": [
    "def rmse(x):\n",
    "    jump_weight, rho1, rho2, vee1, vee2, eps2 = x\n",
    "    \n",
    "    jump_sigma = jump_weight**0.5*forward_vols\n",
    "    diff_sigma = (1 - jump_weight)**0.5*forward_vols\n",
    "    \n",
    "    sigma1   = jump_sigma\n",
    "    rho1     = np.array([rho1])*np.ones_like(sigma1)\n",
    "    vee1     = np.array([vee1])*np.ones_like(sigma1)\n",
    "    \n",
    "    sigma2   = diff_sigma\n",
    "    rho2     = np.array([rho2])*np.ones_like(sigma2)\n",
    "    vee2     = np.array([vee2])*np.ones_like(sigma2)\n",
    "    epsilon2 = np.array([eps2])*np.ones_like(sigma2)\n",
    "    \n",
    "    params1  = np.array([times1, sigma1, rho1, vee1, epsilon1]).T\n",
    "    params2  = np.array([times2, sigma2, rho2, vee2, epsilon2]).T\n",
    "    \n",
    "    call_prices = jdh.jdh2f_pricer(T, k, [params1, params2])\n",
    "    model_vols = jdh.surface(T, k, call_prices)\n",
    "    \n",
    "    rmse = np.sqrt(np.mean((model_vols - vols)**2))\n",
    "    return 100*rmse"
   ]
  },
  {
   "cell_type": "code",
   "execution_count": 30,
   "metadata": {},
   "outputs": [],
   "source": [
    "x0 = 0.27284372,  0.42230786, -0.04614009,  0.42288356,  3.90609841/4, 1.0 # for epsilon = 1.0"
   ]
  },
  {
   "cell_type": "code",
   "execution_count": 31,
   "metadata": {},
   "outputs": [
    {
     "data": {
      "text/plain": [
       "      fun: 0.08082162313571992\n",
       " hess_inv: <5x5 LbfgsInvHessProduct with dtype=float64>\n",
       "      jac: array([-7.30804306e-06, -1.48121793e-03, -4.24382751e-06, -1.03472786e-05,\n",
       "       -3.25156568e-06])\n",
       "  message: b'CONVERGENCE: REL_REDUCTION_OF_F_<=_FACTR*EPSMCH'\n",
       "     nfev: 240\n",
       "      nit: 31\n",
       "   status: 0\n",
       "  success: True\n",
       "        x: array([ 0.19669216,  1.        , -0.01684795,  0.15389517,  1.64605087])"
      ]
     },
     "execution_count": 31,
     "metadata": {},
     "output_type": "execute_result"
    }
   ],
   "source": [
    "results = minimize(rmse, x0,\n",
    "                   method = 'L-BFGS-B',\n",
    "                   # args = (expiry, logstrikes, vols),\n",
    "                   bounds = ((0.01,0.99), (-1,1), (-1,1), (0,None), (0,None), (0,None)),\n",
    "                   options = {'maxiter': 50}\n",
    "              )\n",
    "results"
   ]
  },
  {
   "cell_type": "code",
   "execution_count": 32,
   "metadata": {},
   "outputs": [],
   "source": [
    "jump_weight, rho1, rho2, vee1, vee2 = results.x"
   ]
  },
  {
   "cell_type": "code",
   "execution_count": 33,
   "metadata": {},
   "outputs": [],
   "source": [
    "T = np.array([1/52,1/12,3/12,6/12,1,2])[:,nx]\n",
    "# M = ['1W','1M','3M','6M','9M','1Y']\n",
    "Δ = np.linspace(5,95,19)[nx,:]/100\n",
    "k = norm.ppf(Δ)*0.09*np.sqrt(T)"
   ]
  },
  {
   "cell_type": "code",
   "execution_count": 34,
   "metadata": {},
   "outputs": [],
   "source": [
    "jump_sigma = jump_weight**0.5*forward_vols\n",
    "diff_sigma = (1 - jump_weight)**0.5*forward_vols\n",
    "\n",
    "sigma1   = jump_sigma\n",
    "rho1     = np.array([rho1])*np.ones_like(sigma1)\n",
    "vee1     = np.array([vee1])*np.ones_like(sigma1)\n",
    "\n",
    "sigma2   = diff_sigma\n",
    "rho2     = np.array([rho2])*np.ones_like(sigma2)\n",
    "vee2     = np.array([vee2])*np.ones_like(sigma2)\n",
    "epsilon2 = np.array([eps2])*np.ones_like(sigma2)\n",
    "\n",
    "params1  = np.array([times1, sigma1, rho1, vee1, epsilon1]).T\n",
    "params2  = np.array([times2, sigma2, rho2, vee2, epsilon2]).T\n",
    "\n",
    "call_prices = jdh.jdh2f_pricer(T, k, [params1, params2])\n",
    "implied_vols = jdh.surface(T, k, call_prices)\n",
    "    \n",
    "implied_vars = implied_vols*np.sqrt(T)\n",
    "Δ = norm.cdf(k/implied_vars + 0.5*implied_vars)"
   ]
  },
  {
   "cell_type": "code",
   "execution_count": 35,
   "metadata": {},
   "outputs": [],
   "source": [
    "plt.rcParams['legend.loc'] = 'upper left'"
   ]
  },
  {
   "cell_type": "code",
   "execution_count": 36,
   "metadata": {},
   "outputs": [
    {
     "data": {
      "image/png": "[encoded data removed]",
      "text/plain": [
       "<Figure size 600x1800 with 6 Axes>"
      ]
     },
     "metadata": {
      "needs_background": "light"
     },
     "output_type": "display_data"
    }
   ],
   "source": [
    "plot,axes = plt.subplots(m)\n",
    "for i in range(len(T[:,0])):\n",
    "    axes[i].plot(deltas, mid_vols[i,:],'bo')\n",
    "    axes[i].plot(Δ[i,:],100*implied_vols[i,:])\n",
    "    \n",
    "    axes[i].plot(deltas, mid_vols[i,:] + spreads[i,:]/2,'b_')\n",
    "    axes[i].plot(deltas, mid_vols[i,:] - spreads[i,:]/2,'b_')\n",
    "    \n",
    "    axes[i].set_xlim([0,1])\n",
    "    axes[i].set_ylim([4,9])\n",
    "    axes[i].set_ylabel(r'$\\bar{\\sigma}(\\Delta,\\mathrm{%s})$'%labels[i])\n",
    "axes[0].set_title(r'$\\mathrm{EURUSD.20190619}$')\n",
    "axes[0].legend([r'$\\mathrm{Market}$',r'$\\mathrm{JDH\\ model}$'])\n",
    "axes[-1].set_xlabel(r'$\\Delta$')\n",
    "plt.tight_layout()\n",
    "plt.savefig('plots/EURUSD-20190619')"
   ]
  },
  {
   "cell_type": "code",
   "execution_count": null,
   "metadata": {},
   "outputs": [],
   "source": []
  }
 ],
 "metadata": {
  "anaconda-cloud": {},
  "kernelspec": {
   "display_name": "Python 3",
   "language": "python",
   "name": "python3"
  },
  "language_info": {
   "codemirror_mode": {
    "name": "ipython",
    "version": 3
   },
   "file_extension": ".py",
   "mimetype": "text/x-python",
   "name": "python",
   "nbconvert_exporter": "python",
   "pygments_lexer": "ipython3",
   "version": "3.7.3"
  }
 },
 "nbformat": 4,
 "nbformat_minor": 2
}
