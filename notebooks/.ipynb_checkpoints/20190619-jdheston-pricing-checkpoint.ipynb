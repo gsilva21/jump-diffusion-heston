{
 "cells": [
  {
   "cell_type": "markdown",
   "metadata": {},
   "source": [
    "## Major goal here is to get time-dependent characteristic function clarified and working."
   ]
  },
  {
   "cell_type": "code",
   "execution_count": 2,
   "metadata": {},
   "outputs": [],
   "source": [
    "import os\n",
    "os.chdir(r'/Users/rmccrickerd/desktop/jdheston')"
   ]
  },
  {
   "cell_type": "code",
   "execution_count": 3,
   "metadata": {},
   "outputs": [],
   "source": [
    "import numpy as np\n",
    "import pandas as pd\n",
    "from jdheston import jdheston as jdh\n",
    "from jdheston import config as cfg\n",
    "from matplotlib import pyplot as plt\n",
    "from scipy.stats import norm\n",
    "from scipy.special import gamma\n",
    "# import mpl\n",
    "# %matplotlib inline"
   ]
  },
  {
   "cell_type": "code",
   "execution_count": 4,
   "metadata": {},
   "outputs": [],
   "source": [
    "nx = np.newaxis\n",
    "cfg.config(scale=1.5,print_keys=False)"
   ]
  },
  {
   "cell_type": "code",
   "execution_count": 5,
   "metadata": {},
   "outputs": [],
   "source": [
    "t = np.array([0,1/52,1/12,3/12,6/12,9/12])"
   ]
  },
  {
   "cell_type": "code",
   "execution_count": 6,
   "metadata": {},
   "outputs": [
    {
     "data": {
      "text/html": [
       "<div>\n",
       "<style scoped>\n",
       "    .dataframe tbody tr th:only-of-type {\n",
       "        vertical-align: middle;\n",
       "    }\n",
       "\n",
       "    .dataframe tbody tr th {\n",
       "        vertical-align: top;\n",
       "    }\n",
       "\n",
       "    .dataframe thead th {\n",
       "        text-align: right;\n",
       "    }\n",
       "</style>\n",
       "<table border=\"1\" class=\"dataframe\">\n",
       "  <thead>\n",
       "    <tr style=\"text-align: right;\">\n",
       "      <th></th>\n",
       "      <th>σ</th>\n",
       "      <th>ρ</th>\n",
       "      <th>v</th>\n",
       "      <th>ε</th>\n",
       "    </tr>\n",
       "  </thead>\n",
       "  <tbody>\n",
       "    <tr>\n",
       "      <th>0.000000</th>\n",
       "      <td>0.1</td>\n",
       "      <td>-0.5</td>\n",
       "      <td>0.5</td>\n",
       "      <td>0.0</td>\n",
       "    </tr>\n",
       "    <tr>\n",
       "      <th>0.019231</th>\n",
       "      <td>0.1</td>\n",
       "      <td>-0.5</td>\n",
       "      <td>0.5</td>\n",
       "      <td>0.0</td>\n",
       "    </tr>\n",
       "    <tr>\n",
       "      <th>0.083333</th>\n",
       "      <td>0.1</td>\n",
       "      <td>-0.5</td>\n",
       "      <td>0.5</td>\n",
       "      <td>0.0</td>\n",
       "    </tr>\n",
       "    <tr>\n",
       "      <th>0.250000</th>\n",
       "      <td>0.1</td>\n",
       "      <td>-0.5</td>\n",
       "      <td>0.5</td>\n",
       "      <td>0.0</td>\n",
       "    </tr>\n",
       "    <tr>\n",
       "      <th>0.500000</th>\n",
       "      <td>0.1</td>\n",
       "      <td>-0.5</td>\n",
       "      <td>0.5</td>\n",
       "      <td>0.0</td>\n",
       "    </tr>\n",
       "    <tr>\n",
       "      <th>0.750000</th>\n",
       "      <td>0.1</td>\n",
       "      <td>-0.5</td>\n",
       "      <td>0.5</td>\n",
       "      <td>0.0</td>\n",
       "    </tr>\n",
       "  </tbody>\n",
       "</table>\n",
       "</div>"
      ],
      "text/plain": [
       "            σ    ρ    v    ε\n",
       "0.000000  0.1 -0.5  0.5  0.0\n",
       "0.019231  0.1 -0.5  0.5  0.0\n",
       "0.083333  0.1 -0.5  0.5  0.0\n",
       "0.250000  0.1 -0.5  0.5  0.0\n",
       "0.500000  0.1 -0.5  0.5  0.0\n",
       "0.750000  0.1 -0.5  0.5  0.0"
      ]
     },
     "execution_count": 6,
     "metadata": {},
     "output_type": "execute_result"
    }
   ],
   "source": [
    "σ = 0.1*np.ones_like(t)\n",
    "ρ =-0.5*np.ones_like(t)\n",
    "v = 0.5*np.ones_like(t)\n",
    "ε = 0.0*np.ones_like(t)\n",
    "params1 = np.array([t,σ,ρ,v,ε]).T\n",
    "pd.DataFrame(params1[:,1:],index=t,columns=['σ','ρ','v','ε'])\n",
    "# params1"
   ]
  },
  {
   "cell_type": "code",
   "execution_count": 7,
   "metadata": {},
   "outputs": [
    {
     "data": {
      "text/html": [
       "<div>\n",
       "<style scoped>\n",
       "    .dataframe tbody tr th:only-of-type {\n",
       "        vertical-align: middle;\n",
       "    }\n",
       "\n",
       "    .dataframe tbody tr th {\n",
       "        vertical-align: top;\n",
       "    }\n",
       "\n",
       "    .dataframe thead th {\n",
       "        text-align: right;\n",
       "    }\n",
       "</style>\n",
       "<table border=\"1\" class=\"dataframe\">\n",
       "  <thead>\n",
       "    <tr style=\"text-align: right;\">\n",
       "      <th></th>\n",
       "      <th>σ</th>\n",
       "      <th>ρ</th>\n",
       "      <th>v</th>\n",
       "      <th>ε</th>\n",
       "    </tr>\n",
       "  </thead>\n",
       "  <tbody>\n",
       "    <tr>\n",
       "      <th>0.000000</th>\n",
       "      <td>0.1</td>\n",
       "      <td>-0.5</td>\n",
       "      <td>0.5</td>\n",
       "      <td>1.0</td>\n",
       "    </tr>\n",
       "    <tr>\n",
       "      <th>0.019231</th>\n",
       "      <td>0.1</td>\n",
       "      <td>-0.5</td>\n",
       "      <td>0.5</td>\n",
       "      <td>1.0</td>\n",
       "    </tr>\n",
       "    <tr>\n",
       "      <th>0.083333</th>\n",
       "      <td>0.1</td>\n",
       "      <td>-0.5</td>\n",
       "      <td>0.5</td>\n",
       "      <td>1.0</td>\n",
       "    </tr>\n",
       "    <tr>\n",
       "      <th>0.250000</th>\n",
       "      <td>0.1</td>\n",
       "      <td>-0.5</td>\n",
       "      <td>0.5</td>\n",
       "      <td>1.0</td>\n",
       "    </tr>\n",
       "    <tr>\n",
       "      <th>0.500000</th>\n",
       "      <td>0.1</td>\n",
       "      <td>-0.5</td>\n",
       "      <td>0.5</td>\n",
       "      <td>1.0</td>\n",
       "    </tr>\n",
       "    <tr>\n",
       "      <th>0.750000</th>\n",
       "      <td>0.1</td>\n",
       "      <td>-0.5</td>\n",
       "      <td>0.5</td>\n",
       "      <td>1.0</td>\n",
       "    </tr>\n",
       "  </tbody>\n",
       "</table>\n",
       "</div>"
      ],
      "text/plain": [
       "            σ    ρ    v    ε\n",
       "0.000000  0.1 -0.5  0.5  1.0\n",
       "0.019231  0.1 -0.5  0.5  1.0\n",
       "0.083333  0.1 -0.5  0.5  1.0\n",
       "0.250000  0.1 -0.5  0.5  1.0\n",
       "0.500000  0.1 -0.5  0.5  1.0\n",
       "0.750000  0.1 -0.5  0.5  1.0"
      ]
     },
     "execution_count": 7,
     "metadata": {},
     "output_type": "execute_result"
    }
   ],
   "source": [
    "σ = 0.1*np.ones_like(t)\n",
    "ρ =-0.5*np.ones_like(t)\n",
    "v = 0.5*np.ones_like(t)\n",
    "ε = 1.0*np.ones_like(t)\n",
    "params2 = np.array([t,σ,ρ,v,ε]).T\n",
    "pd.DataFrame(params2[:,1:],index=t,columns=['σ','ρ','v','ε'])\n",
    "# params1"
   ]
  },
  {
   "cell_type": "code",
   "execution_count": 8,
   "metadata": {},
   "outputs": [
    {
     "data": {
      "text/plain": [
       "(2, 6, 5)"
      ]
     },
     "execution_count": 8,
     "metadata": {},
     "output_type": "execute_result"
    }
   ],
   "source": [
    "params = np.array([params1,params2])\n",
    "params.shape"
   ]
  },
  {
   "cell_type": "markdown",
   "metadata": {},
   "source": [
    "## Now spec vol surface "
   ]
  },
  {
   "cell_type": "code",
   "execution_count": 9,
   "metadata": {},
   "outputs": [],
   "source": [
    "T = np.array([1/52,1/12,3/12,6/12,9/12,1])[:,nx]\n",
    "M = ['1W','1M','3M','6M','9M','1Y']\n",
    "Δ = np.linspace(1,99,21)[nx,:]/100\n",
    "k = norm.ppf(Δ)*0.2*np.sqrt(T)"
   ]
  },
  {
   "cell_type": "code",
   "execution_count": 10,
   "metadata": {},
   "outputs": [
    {
     "data": {
      "text/html": [
       "<div>\n",
       "<style scoped>\n",
       "    .dataframe tbody tr th:only-of-type {\n",
       "        vertical-align: middle;\n",
       "    }\n",
       "\n",
       "    .dataframe tbody tr th {\n",
       "        vertical-align: top;\n",
       "    }\n",
       "\n",
       "    .dataframe thead th {\n",
       "        text-align: right;\n",
       "    }\n",
       "</style>\n",
       "<table border=\"1\" class=\"dataframe\">\n",
       "  <thead>\n",
       "    <tr style=\"text-align: right;\">\n",
       "      <th></th>\n",
       "      <th>0.01</th>\n",
       "      <th>0.06</th>\n",
       "      <th>0.11</th>\n",
       "      <th>0.16</th>\n",
       "      <th>0.21</th>\n",
       "      <th>0.26</th>\n",
       "      <th>0.3</th>\n",
       "      <th>0.35</th>\n",
       "      <th>0.4</th>\n",
       "      <th>0.45</th>\n",
       "      <th>...</th>\n",
       "      <th>0.55</th>\n",
       "      <th>0.6</th>\n",
       "      <th>0.65</th>\n",
       "      <th>0.7</th>\n",
       "      <th>0.74</th>\n",
       "      <th>0.79</th>\n",
       "      <th>0.84</th>\n",
       "      <th>0.89</th>\n",
       "      <th>0.94</th>\n",
       "      <th>0.99</th>\n",
       "    </tr>\n",
       "  </thead>\n",
       "  <tbody>\n",
       "    <tr>\n",
       "      <th>1W</th>\n",
       "      <td>-0.064521</td>\n",
       "      <td>-0.043356</td>\n",
       "      <td>-0.034315</td>\n",
       "      <td>-0.027925</td>\n",
       "      <td>-0.022753</td>\n",
       "      <td>-0.018273</td>\n",
       "      <td>-0.014226</td>\n",
       "      <td>-0.010463</td>\n",
       "      <td>-0.006883</td>\n",
       "      <td>-0.003415</td>\n",
       "      <td>...</td>\n",
       "      <td>0.003415</td>\n",
       "      <td>0.006883</td>\n",
       "      <td>0.010463</td>\n",
       "      <td>0.014226</td>\n",
       "      <td>0.018273</td>\n",
       "      <td>0.022753</td>\n",
       "      <td>0.027925</td>\n",
       "      <td>0.034315</td>\n",
       "      <td>0.043356</td>\n",
       "      <td>0.064521</td>\n",
       "    </tr>\n",
       "    <tr>\n",
       "      <th>1M</th>\n",
       "      <td>-0.134312</td>\n",
       "      <td>-0.090253</td>\n",
       "      <td>-0.071432</td>\n",
       "      <td>-0.058131</td>\n",
       "      <td>-0.047365</td>\n",
       "      <td>-0.038038</td>\n",
       "      <td>-0.029614</td>\n",
       "      <td>-0.021780</td>\n",
       "      <td>-0.014328</td>\n",
       "      <td>-0.007109</td>\n",
       "      <td>...</td>\n",
       "      <td>0.007109</td>\n",
       "      <td>0.014328</td>\n",
       "      <td>0.021780</td>\n",
       "      <td>0.029614</td>\n",
       "      <td>0.038038</td>\n",
       "      <td>0.047365</td>\n",
       "      <td>0.058131</td>\n",
       "      <td>0.071432</td>\n",
       "      <td>0.090253</td>\n",
       "      <td>0.134312</td>\n",
       "    </tr>\n",
       "    <tr>\n",
       "      <th>3M</th>\n",
       "      <td>-0.232635</td>\n",
       "      <td>-0.156322</td>\n",
       "      <td>-0.123723</td>\n",
       "      <td>-0.100686</td>\n",
       "      <td>-0.082038</td>\n",
       "      <td>-0.065884</td>\n",
       "      <td>-0.051293</td>\n",
       "      <td>-0.037723</td>\n",
       "      <td>-0.024817</td>\n",
       "      <td>-0.012314</td>\n",
       "      <td>...</td>\n",
       "      <td>0.012314</td>\n",
       "      <td>0.024817</td>\n",
       "      <td>0.037723</td>\n",
       "      <td>0.051293</td>\n",
       "      <td>0.065884</td>\n",
       "      <td>0.082038</td>\n",
       "      <td>0.100686</td>\n",
       "      <td>0.123723</td>\n",
       "      <td>0.156322</td>\n",
       "      <td>0.232635</td>\n",
       "    </tr>\n",
       "    <tr>\n",
       "      <th>6M</th>\n",
       "      <td>-0.328995</td>\n",
       "      <td>-0.221073</td>\n",
       "      <td>-0.174971</td>\n",
       "      <td>-0.142392</td>\n",
       "      <td>-0.116019</td>\n",
       "      <td>-0.093174</td>\n",
       "      <td>-0.072539</td>\n",
       "      <td>-0.053349</td>\n",
       "      <td>-0.035097</td>\n",
       "      <td>-0.017414</td>\n",
       "      <td>...</td>\n",
       "      <td>0.017414</td>\n",
       "      <td>0.035097</td>\n",
       "      <td>0.053349</td>\n",
       "      <td>0.072539</td>\n",
       "      <td>0.093174</td>\n",
       "      <td>0.116019</td>\n",
       "      <td>0.142392</td>\n",
       "      <td>0.174971</td>\n",
       "      <td>0.221073</td>\n",
       "      <td>0.328995</td>\n",
       "    </tr>\n",
       "    <tr>\n",
       "      <th>9M</th>\n",
       "      <td>-0.402935</td>\n",
       "      <td>-0.270758</td>\n",
       "      <td>-0.214295</td>\n",
       "      <td>-0.174394</td>\n",
       "      <td>-0.142094</td>\n",
       "      <td>-0.114114</td>\n",
       "      <td>-0.088842</td>\n",
       "      <td>-0.065339</td>\n",
       "      <td>-0.042985</td>\n",
       "      <td>-0.021328</td>\n",
       "      <td>...</td>\n",
       "      <td>0.021328</td>\n",
       "      <td>0.042985</td>\n",
       "      <td>0.065339</td>\n",
       "      <td>0.088842</td>\n",
       "      <td>0.114114</td>\n",
       "      <td>0.142094</td>\n",
       "      <td>0.174394</td>\n",
       "      <td>0.214295</td>\n",
       "      <td>0.270758</td>\n",
       "      <td>0.402935</td>\n",
       "    </tr>\n",
       "    <tr>\n",
       "      <th>1Y</th>\n",
       "      <td>-0.465270</td>\n",
       "      <td>-0.312645</td>\n",
       "      <td>-0.247447</td>\n",
       "      <td>-0.201373</td>\n",
       "      <td>-0.164076</td>\n",
       "      <td>-0.131768</td>\n",
       "      <td>-0.102586</td>\n",
       "      <td>-0.075447</td>\n",
       "      <td>-0.049635</td>\n",
       "      <td>-0.024627</td>\n",
       "      <td>...</td>\n",
       "      <td>0.024627</td>\n",
       "      <td>0.049635</td>\n",
       "      <td>0.075447</td>\n",
       "      <td>0.102586</td>\n",
       "      <td>0.131768</td>\n",
       "      <td>0.164076</td>\n",
       "      <td>0.201373</td>\n",
       "      <td>0.247447</td>\n",
       "      <td>0.312645</td>\n",
       "      <td>0.465270</td>\n",
       "    </tr>\n",
       "  </tbody>\n",
       "</table>\n",
       "<p>6 rows × 21 columns</p>\n",
       "</div>"
      ],
      "text/plain": [
       "        0.01      0.06      0.11      0.16      0.21      0.26      0.30  \\\n",
       "1W -0.064521 -0.043356 -0.034315 -0.027925 -0.022753 -0.018273 -0.014226   \n",
       "1M -0.134312 -0.090253 -0.071432 -0.058131 -0.047365 -0.038038 -0.029614   \n",
       "3M -0.232635 -0.156322 -0.123723 -0.100686 -0.082038 -0.065884 -0.051293   \n",
       "6M -0.328995 -0.221073 -0.174971 -0.142392 -0.116019 -0.093174 -0.072539   \n",
       "9M -0.402935 -0.270758 -0.214295 -0.174394 -0.142094 -0.114114 -0.088842   \n",
       "1Y -0.465270 -0.312645 -0.247447 -0.201373 -0.164076 -0.131768 -0.102586   \n",
       "\n",
       "        0.35      0.40      0.45  ...      0.55      0.60      0.65      0.70  \\\n",
       "1W -0.010463 -0.006883 -0.003415  ...  0.003415  0.006883  0.010463  0.014226   \n",
       "1M -0.021780 -0.014328 -0.007109  ...  0.007109  0.014328  0.021780  0.029614   \n",
       "3M -0.037723 -0.024817 -0.012314  ...  0.012314  0.024817  0.037723  0.051293   \n",
       "6M -0.053349 -0.035097 -0.017414  ...  0.017414  0.035097  0.053349  0.072539   \n",
       "9M -0.065339 -0.042985 -0.021328  ...  0.021328  0.042985  0.065339  0.088842   \n",
       "1Y -0.075447 -0.049635 -0.024627  ...  0.024627  0.049635  0.075447  0.102586   \n",
       "\n",
       "        0.74      0.79      0.84      0.89      0.94      0.99  \n",
       "1W  0.018273  0.022753  0.027925  0.034315  0.043356  0.064521  \n",
       "1M  0.038038  0.047365  0.058131  0.071432  0.090253  0.134312  \n",
       "3M  0.065884  0.082038  0.100686  0.123723  0.156322  0.232635  \n",
       "6M  0.093174  0.116019  0.142392  0.174971  0.221073  0.328995  \n",
       "9M  0.114114  0.142094  0.174394  0.214295  0.270758  0.402935  \n",
       "1Y  0.131768  0.164076  0.201373  0.247447  0.312645  0.465270  \n",
       "\n",
       "[6 rows x 21 columns]"
      ]
     },
     "execution_count": 10,
     "metadata": {},
     "output_type": "execute_result"
    }
   ],
   "source": [
    "pd.DataFrame(k,index=M,columns=np.round(Δ[0,:],2))"
   ]
  },
  {
   "cell_type": "markdown",
   "metadata": {},
   "source": [
    "## Work on getting characteristic function down now. Need to understand Gatheral's CF when have both V and H. Verify pointwise against own derivation."
   ]
  },
  {
   "cell_type": "markdown",
   "metadata": {},
   "source": [
    "$\\mathrm{Just\\ do\\ one\\ simple\\ time\\ step}$"
   ]
  },
  {
   "cell_type": "code",
   "execution_count": 350,
   "metadata": {},
   "outputs": [
    {
     "data": {
      "text/plain": [
       "(0.05462775640003413, 0.6020438743740693)"
      ]
     },
     "execution_count": 350,
     "metadata": {},
     "output_type": "execute_result"
    }
   ],
   "source": [
    "t =  1.23\n",
    "σ =  0.1\n",
    "ρ = -0.23\n",
    "v =  0.56\n",
    "ε =  0.122\n",
    "u1, u2 = 5, 0.23\n",
    "θ1 = 1 - σ*ρ*v*u2\n",
    "θ2 = np.sqrt(θ1**2 - 2*(σ*v)**2*(u1 - 0.5*u2) - (σ*v*u2)**2)\n",
    "θ3 = θ2/2/ε\n",
    "phi0 = (θ1*t - θ2/θ3*np.log(np.cosh(θ3*t) + θ1/θ2*np.sinh(θ3*t)))/v**2\n",
    "phi1 = (θ1 - θ2*(θ1 + θ2*np.tanh(θ3*t))/(θ2 + θ1*np.tanh(θ3*t)))*ε/(σ*v)**2\n",
    "phi2 = u2\n",
    "phi0,phi1"
   ]
  },
  {
   "cell_type": "code",
   "execution_count": 351,
   "metadata": {},
   "outputs": [
    {
     "data": {
      "text/plain": [
       "(0.054627756400034554, 0.6020438743740693)"
      ]
     },
     "execution_count": 351,
     "metadata": {},
     "output_type": "execute_result"
    }
   ],
   "source": [
    "κ,η,λ = 1/ε,σ**2,σ*v/ε\n",
    "d = np.sqrt((ρ*λ*u2-κ)**2+λ**2*(u2 - 2*u1 - u2**2))\n",
    "g1 = (κ-ρ*λ*u2+d)/(κ-ρ*λ*u2-d)\n",
    "g2 = 1/g1\n",
    "C = η*κ*λ**-2*((κ-ρ*λ*u2-d)*t-2*np.log((1-g2*np.exp(-d*t))/(1-g2)))\n",
    "D = λ**-2*(κ-ρ*λ*u2-d)*(1-np.exp(-d*t))/(1-g2*np.exp(-d*t))\n",
    "C,D"
   ]
  },
  {
   "cell_type": "markdown",
   "metadata": {},
   "source": [
    "The following appears to be verified!!"
   ]
  },
  {
   "cell_type": "code",
   "execution_count": 13,
   "metadata": {},
   "outputs": [],
   "source": [
    "def jdheston_exponents(u, t, θ):\n",
    "    σ, ρ, v, ε = θ\n",
    "    u1, u2 = u\n",
    "    if ε == 0:\n",
    "        θ1 = 1 - σ*ρ*v*u2\n",
    "        C = (θ1 - np.sqrt(θ1**2 + (σ*v)**2*(-2*u1+ u2*(1 - u2))))/v**2*t # check this after i extraction\n",
    "        D = 0\n",
    "    else:\n",
    "        κ,η,λ = 1/ε,σ**2,σ*v/ε\n",
    "        d = np.sqrt((ρ*λ*u2-κ)**2+λ**2*(u2 - 2*u1 - u2**2))\n",
    "        g1 = (κ-ρ*λ*u2+d)/(κ-ρ*λ*u2-d)\n",
    "        g2 = 1/g1\n",
    "        C = η*κ*λ**-2*((κ-ρ*λ*u2-d)*t-2*np.log((1-g2*np.exp(-d*t))/(1-g2)))\n",
    "        D = λ**-2*(κ-ρ*λ*u2-d)*(1-np.exp(-d*t))/(1-g2*np.exp(-d*t))\n",
    "    return C, D"
   ]
  },
  {
   "cell_type": "code",
   "execution_count": 14,
   "metadata": {},
   "outputs": [
    {
     "data": {
      "text/plain": [
       "(0.0008150053045756486, 1.3067598014786025e-32)"
      ]
     },
     "execution_count": 14,
     "metadata": {},
     "output_type": "execute_result"
    }
   ],
   "source": [
    "u = u1, u2\n",
    "θ = σ, ρ, v, 2**-102\n",
    "jdheston_exponents(u, t, θ)"
   ]
  },
  {
   "cell_type": "code",
   "execution_count": 15,
   "metadata": {},
   "outputs": [
    {
     "data": {
      "text/plain": [
       "(0.0008150053045756485, 0)"
      ]
     },
     "execution_count": 15,
     "metadata": {},
     "output_type": "execute_result"
    }
   ],
   "source": [
    "u = u1, u2\n",
    "θ = σ, ρ, v, 0\n",
    "jdheston_exponents(u, t, θ)"
   ]
  },
  {
   "cell_type": "code",
   "execution_count": 39,
   "metadata": {},
   "outputs": [
    {
     "data": {
      "text/html": [
       "<div>\n",
       "<style scoped>\n",
       "    .dataframe tbody tr th:only-of-type {\n",
       "        vertical-align: middle;\n",
       "    }\n",
       "\n",
       "    .dataframe tbody tr th {\n",
       "        vertical-align: top;\n",
       "    }\n",
       "\n",
       "    .dataframe thead th {\n",
       "        text-align: right;\n",
       "    }\n",
       "</style>\n",
       "<table border=\"1\" class=\"dataframe\">\n",
       "  <thead>\n",
       "    <tr style=\"text-align: right;\">\n",
       "      <th></th>\n",
       "      <th>σ</th>\n",
       "      <th>ρ</th>\n",
       "      <th>v</th>\n",
       "      <th>ε</th>\n",
       "    </tr>\n",
       "  </thead>\n",
       "  <tbody>\n",
       "    <tr>\n",
       "      <th>0.000000</th>\n",
       "      <td>0.1</td>\n",
       "      <td>-0.5</td>\n",
       "      <td>0.5</td>\n",
       "      <td>0.2</td>\n",
       "    </tr>\n",
       "    <tr>\n",
       "      <th>0.083333</th>\n",
       "      <td>0.1</td>\n",
       "      <td>-0.5</td>\n",
       "      <td>0.5</td>\n",
       "      <td>0.2</td>\n",
       "    </tr>\n",
       "    <tr>\n",
       "      <th>0.250000</th>\n",
       "      <td>0.1</td>\n",
       "      <td>-0.5</td>\n",
       "      <td>0.5</td>\n",
       "      <td>0.2</td>\n",
       "    </tr>\n",
       "    <tr>\n",
       "      <th>0.500000</th>\n",
       "      <td>0.1</td>\n",
       "      <td>-0.5</td>\n",
       "      <td>0.5</td>\n",
       "      <td>0.2</td>\n",
       "    </tr>\n",
       "  </tbody>\n",
       "</table>\n",
       "</div>"
      ],
      "text/plain": [
       "            σ    ρ    v    ε\n",
       "0.000000  0.1 -0.5  0.5  0.2\n",
       "0.083333  0.1 -0.5  0.5  0.2\n",
       "0.250000  0.1 -0.5  0.5  0.2\n",
       "0.500000  0.1 -0.5  0.5  0.2"
      ]
     },
     "execution_count": 39,
     "metadata": {},
     "output_type": "execute_result"
    }
   ],
   "source": [
    "t = np.array([0,1/12,3/12,6/12])\n",
    "σ = 0.1*np.ones_like(t)\n",
    "ρ =-0.5*np.ones_like(t)\n",
    "v = 0.5*np.ones_like(t)\n",
    "ε = 0.2*np.ones_like(t)\n",
    "θ = np.array([t,σ,ρ,v,ε]).T\n",
    "pd.DataFrame(θ[:,1:],index=t,columns=['σ','ρ','v','ε'])"
   ]
  },
  {
   "cell_type": "code",
   "execution_count": 40,
   "metadata": {},
   "outputs": [
    {
     "data": {
      "text/plain": [
       "array([[ 0.        ,  0.1       , -0.5       ,  0.5       ,  0.2       ],\n",
       "       [ 0.08333333,  0.1       , -0.5       ,  0.5       ,  0.2       ],\n",
       "       [ 0.25      ,  0.1       , -0.5       ,  0.5       ,  0.2       ],\n",
       "       [ 0.5       ,  0.1       , -0.5       ,  0.5       ,  0.2       ]])"
      ]
     },
     "execution_count": 40,
     "metadata": {},
     "output_type": "execute_result"
    }
   ],
   "source": [
    "θ"
   ]
  },
  {
   "cell_type": "code",
   "execution_count": 21,
   "metadata": {},
   "outputs": [],
   "source": [
    "t, σ, ρ, v, ε = θ.T"
   ]
  },
  {
   "cell_type": "code",
   "execution_count": 22,
   "metadata": {},
   "outputs": [
    {
     "data": {
      "text/plain": [
       "array([0.        , 0.08333333, 0.25      , 0.5       ])"
      ]
     },
     "execution_count": 22,
     "metadata": {},
     "output_type": "execute_result"
    }
   ],
   "source": [
    "t"
   ]
  },
  {
   "cell_type": "code",
   "execution_count": null,
   "metadata": {},
   "outputs": [],
   "source": [
    "np.sum()"
   ]
  },
  {
   "cell_type": "code",
   "execution_count": 77,
   "metadata": {},
   "outputs": [],
   "source": [
    "def truncate_curve(time_points_in, time_horizon):\n",
    "    time_points_out = time_points_in\n",
    "    if np.prod(time_horizon - time_points_out) != 0:\n",
    "        time_points_out = np.append(time_points_out, time_horizon)\n",
    "    time_points_out = np.sort(time_points_out)\n",
    "    mask = (time_points_out <= time_horizon)\n",
    "    time_points_out = time_points_out[mask]\n",
    "    return time_points_out\n",
    "\n",
    "def parameter_steps(params, time):\n",
    "    truncated_times = truncate_curve(params[:,0], time)\n",
    "    timesteps = np.ediff1d(truncated_times)\n",
    "    param_steps = params[:len(timesteps),:].copy()\n",
    "    param_steps[:,0] = timesteps\n",
    "    return param_steps "
   ]
  },
  {
   "cell_type": "code",
   "execution_count": 289,
   "metadata": {},
   "outputs": [
    {
     "data": {
      "text/plain": [
       "array([[ 0. ,  0.1, -0.5,  0.5,  0.2],\n",
       "       [ 3. ,  0.1, -0.5,  0.5,  0.2]])"
      ]
     },
     "execution_count": 289,
     "metadata": {},
     "output_type": "execute_result"
    }
   ],
   "source": [
    "t = np.array([0.,3.])\n",
    "σ = 0.1*np.ones_like(t)\n",
    "ρ =-0.5*np.ones_like(t)\n",
    "v = 0.5*np.ones_like(t)\n",
    "ε = 0.2*np.ones_like(t)\n",
    "params = np.array([t,σ,ρ,v,ε]).T\n",
    "params"
   ]
  },
  {
   "cell_type": "code",
   "execution_count": 356,
   "metadata": {},
   "outputs": [],
   "source": [
    "def jdheston_characteristic_function(u, t, params):\n",
    "    x, σ, ρ, v, ε = params.T\n",
    "    \n",
    "    param_steps = parameter_steps(params, t)\n",
    "    \n",
    "    C, D = jdheston_exponents((0,1j*u), param_steps[-1,0], param_steps[-1,1:])\n",
    "    print(param_steps[-1,0])\n",
    "    steps = len(param_steps[:,0])\n",
    "    for i in np.arange(steps-2, -1, -1):\n",
    "        C2, D = jdheston_exponents((D,1j*u), param_steps[i,0], param_steps[i,1:])\n",
    "        C += C2\n",
    "        print(param_steps[i,0])\n",
    "    return np.exp(C + D*σ[0]**2 + 0)"
   ]
  },
  {
   "cell_type": "code",
   "execution_count": 357,
   "metadata": {},
   "outputs": [],
   "source": [
    "# def jdheston_characteristic_function(u, t, params):\n",
    "#     x, σ, ρ, v, ε = params.T\n",
    "    \n",
    "#     param_steps = parameter_steps(params, t)\n",
    "    \n",
    "#     C, D = jdheston_exponents((0,1j*u), param_steps[0,0], param_steps[0,1:])\n",
    "#     print(param_steps[0,0])\n",
    "#     steps = len(param_steps[:,0])\n",
    "#     for i in np.arange(1, steps, 1):\n",
    "#         C2, D = jdheston_exponents((D,1j*u), param_steps[i,0], param_steps[i,1:])\n",
    "#         C += C2\n",
    "#         print(param_steps[i,0])\n",
    "#     return np.exp(C + D*σ[0]**2 + 0)"
   ]
  },
  {
   "cell_type": "code",
   "execution_count": 358,
   "metadata": {},
   "outputs": [
    {
     "name": "stdout",
     "output_type": "stream",
     "text": [
      "1.0\n",
      "3.0\n"
     ]
    },
    {
     "data": {
      "text/plain": [
       "(0.9134505541611212-0.03574733924567329j)"
      ]
     },
     "execution_count": 358,
     "metadata": {},
     "output_type": "execute_result"
    }
   ],
   "source": [
    "jdheston_characteristic_function(2., 4., params)"
   ]
  },
  {
   "cell_type": "code",
   "execution_count": null,
   "metadata": {},
   "outputs": [],
   "source": []
  },
  {
   "cell_type": "code",
   "execution_count": null,
   "metadata": {},
   "outputs": [],
   "source": []
  },
  {
   "cell_type": "markdown",
   "metadata": {},
   "source": [
    "# char func appears to be verified again exponents below, so just need to get stepwise approach above working."
   ]
  },
  {
   "cell_type": "code",
   "execution_count": 333,
   "metadata": {},
   "outputs": [],
   "source": [
    "def char_func(u,t,θ):\n",
    "    α,β,γ,v0,ρ = θ\n",
    "    i = 1j\n",
    "    #####################################################################\n",
    "    # see . on p. of                                                    #\n",
    "    # θ1 = 1-α*ρ*i*u                                                    #\n",
    "    # θ2 = np.sqrt(θ1**2 + α**2*u*(i+u))                                #\n",
    "    # θ3 = 0.5*β*θ2                                                     #\n",
    "    # C = (θ1*t-2/β*np.log(np.cosh(θ3*t)+θ1/θ2*np.sinh(θ3*t)))*γ/α**2   #\n",
    "    # D = (θ1-θ2*(θ1+θ2*np.tanh(θ3*t))/(θ2+θ1*np.tanh(θ3*t)))/β/α**2*v0 #\n",
    "    #####################################################################\n",
    "    # see ϕ2 on p.4 of 'the little heston trap'\n",
    "    κ,η,λ = β,γ,α*β\n",
    "    d = np.sqrt((ρ*λ*u*i-κ)**2+λ**2*(i*u+u**2))\n",
    "    g1 = (κ-ρ*λ*i*u+d)/(κ-ρ*λ*i*u-d)\n",
    "    g2 = 1/g1\n",
    "    C = η*κ*λ**-2*((κ-ρ*λ*i*u-d)*t-2*np.log((1-g2*np.exp(-d*t))/(1-g2)))\n",
    "    D = v0*λ**-2*(κ-ρ*λ*i*u-d)*(1-np.exp(-d*t))/(1-g2*np.exp(-d*t))\n",
    "    return np.exp(C + D)"
   ]
  },
  {
   "cell_type": "code",
   "execution_count": 343,
   "metadata": {},
   "outputs": [
    {
     "data": {
      "text/plain": [
       "(0.9210876555144613-0.03313383862752197j)"
      ]
     },
     "execution_count": 343,
     "metadata": {},
     "output_type": "execute_result"
    }
   ],
   "source": [
    "σ = 0.1\n",
    "ρ =-0.5\n",
    "v = 0.5\n",
    "ε = 0.2\n",
    "α = σ*v\n",
    "β = 1/ε\n",
    "γ = σ**2\n",
    "v0 = σ**2\n",
    "θ = α,β,γ,v0,ρ\n",
    "char_func(2.,4.,θ)"
   ]
  },
  {
   "cell_type": "code",
   "execution_count": 361,
   "metadata": {},
   "outputs": [],
   "source": [
    "def jdheston_exponents(u, t, θ):\n",
    "    σ, ρ, v, ε = θ\n",
    "    u1, u2 = u\n",
    "    if ε == 0:\n",
    "        θ1 = 1 - σ*ρ*v*u2\n",
    "        C = (θ1 - np.sqrt(θ1**2 + (σ*v)**2*(-2*u1+ u2*(1 - u2))))/v**2*t # check this after i extraction\n",
    "        D = 0\n",
    "    else:\n",
    "#         κ,η,λ = 1/ε,σ**2,σ*v/ε\n",
    "#         d = np.sqrt((ρ*λ*u2-κ)**2+λ**2*(u2 - 2*u1 - u2**2))\n",
    "#         g1 = (κ-ρ*λ*u2+d)/(κ-ρ*λ*u2-d)\n",
    "#         g2 = 1/g1\n",
    "#         C = η*κ*λ**-2*((κ-ρ*λ*u2-d)*t-2*np.log((1-g2*np.exp(-d*t))/(1-g2)))\n",
    "#         D = λ**-2*(κ-ρ*λ*u2-d)*(1-np.exp(-d*t))/(1-g2*np.exp(-d*t))\n",
    "        θ1 = 1 - σ*ρ*v*u2\n",
    "        θ2 = np.sqrt(θ1**2 - 2*(σ*v)**2*(u1 - 0.5*u2) - (σ*v*u2)**2)\n",
    "        θ3 = θ2/2/ε\n",
    "        C = (θ1*t - θ2/θ3*np.log(np.cosh(θ3*t) + θ1/θ2*np.sinh(θ3*t)))/v**2\n",
    "        D = (θ1 - θ2*(θ1 + θ2*np.tanh(θ3*t))/(θ2 + θ1*np.tanh(θ3*t)))*ε/(σ*v)**2\n",
    "    return C, D"
   ]
  },
  {
   "cell_type": "code",
   "execution_count": 362,
   "metadata": {},
   "outputs": [
    {
     "data": {
      "text/plain": [
       "(0.9217647900000725-0.03481802490848629j)"
      ]
     },
     "execution_count": 362,
     "metadata": {},
     "output_type": "execute_result"
    }
   ],
   "source": [
    "θ = σ, ρ, v, ε\n",
    "C, D = jdheston_exponents((0.,2j),4., θ)\n",
    "np.exp(C + D*σ**2)"
   ]
  },
  {
   "cell_type": "code",
   "execution_count": null,
   "metadata": {},
   "outputs": [],
   "source": []
  },
  {
   "cell_type": "code",
   "execution_count": null,
   "metadata": {},
   "outputs": [],
   "source": []
  },
  {
   "cell_type": "code",
   "execution_count": null,
   "metadata": {},
   "outputs": [],
   "source": []
  },
  {
   "cell_type": "code",
   "execution_count": null,
   "metadata": {},
   "outputs": [],
   "source": []
  },
  {
   "cell_type": "code",
   "execution_count": null,
   "metadata": {},
   "outputs": [],
   "source": []
  },
  {
   "cell_type": "code",
   "execution_count": null,
   "metadata": {},
   "outputs": [],
   "source": []
  },
  {
   "cell_type": "code",
   "execution_count": null,
   "metadata": {},
   "outputs": [],
   "source": []
  },
  {
   "cell_type": "code",
   "execution_count": 10,
   "metadata": {},
   "outputs": [
    {
     "data": {
      "text/plain": [
       "['sigma1', 'rho1', 'vee1', 'epsilon1']"
      ]
     },
     "execution_count": 10,
     "metadata": {},
     "output_type": "execute_result"
    }
   ],
   "source": [
    "i = str(1)\n",
    "['sigma'+i, 'rho'+i, 'vee'+i, 'epsilon'+i]"
   ]
  },
  {
   "cell_type": "code",
   "execution_count": 11,
   "metadata": {},
   "outputs": [],
   "source": [
    "times   = np.array([0,1/12,3/12,6/12])[:,nx]\n",
    "sigma   = np.array([ 0.1])*np.ones((4,2))\n",
    "rho     = np.array([-0.5])*np.ones((4,2))\n",
    "vee     = np.array([ 0.5])*np.ones((4,2))\n",
    "epsilon = np.array([ 1.0])*np.ones((4,2))\n",
    "params  = np.array([sigma, rho, vee, epsilon]).T"
   ]
  },
  {
   "cell_type": "code",
   "execution_count": 12,
   "metadata": {},
   "outputs": [],
   "source": [
    "model = jdh.jdheston_model(times, params)"
   ]
  },
  {
   "cell_type": "code",
   "execution_count": 15,
   "metadata": {},
   "outputs": [
    {
     "data": {
      "text/html": [
       "<div>\n",
       "<style scoped>\n",
       "    .dataframe tbody tr th:only-of-type {\n",
       "        vertical-align: middle;\n",
       "    }\n",
       "\n",
       "    .dataframe tbody tr th {\n",
       "        vertical-align: top;\n",
       "    }\n",
       "\n",
       "    .dataframe thead th {\n",
       "        text-align: right;\n",
       "    }\n",
       "</style>\n",
       "<table border=\"1\" class=\"dataframe\">\n",
       "  <thead>\n",
       "    <tr style=\"text-align: right;\">\n",
       "      <th></th>\n",
       "      <th>sigma0</th>\n",
       "      <th>rho0</th>\n",
       "      <th>vee0</th>\n",
       "      <th>epsilon0</th>\n",
       "    </tr>\n",
       "  </thead>\n",
       "  <tbody>\n",
       "    <tr>\n",
       "      <th>0.000000</th>\n",
       "      <td>0.1</td>\n",
       "      <td>-0.5</td>\n",
       "      <td>0.5</td>\n",
       "      <td>1.0</td>\n",
       "    </tr>\n",
       "    <tr>\n",
       "      <th>0.083333</th>\n",
       "      <td>0.1</td>\n",
       "      <td>-0.5</td>\n",
       "      <td>0.5</td>\n",
       "      <td>1.0</td>\n",
       "    </tr>\n",
       "    <tr>\n",
       "      <th>0.250000</th>\n",
       "      <td>0.1</td>\n",
       "      <td>-0.5</td>\n",
       "      <td>0.5</td>\n",
       "      <td>1.0</td>\n",
       "    </tr>\n",
       "    <tr>\n",
       "      <th>0.500000</th>\n",
       "      <td>0.1</td>\n",
       "      <td>-0.5</td>\n",
       "      <td>0.5</td>\n",
       "      <td>1.0</td>\n",
       "    </tr>\n",
       "  </tbody>\n",
       "</table>\n",
       "</div>"
      ],
      "text/plain": [
       "          sigma0  rho0  vee0  epsilon0\n",
       "0.000000     0.1  -0.5   0.5       1.0\n",
       "0.083333     0.1  -0.5   0.5       1.0\n",
       "0.250000     0.1  -0.5   0.5       1.0\n",
       "0.500000     0.1  -0.5   0.5       1.0"
      ]
     },
     "execution_count": 15,
     "metadata": {},
     "output_type": "execute_result"
    }
   ],
   "source": [
    "model.factor_frame(0)"
   ]
  },
  {
   "cell_type": "code",
   "execution_count": null,
   "metadata": {},
   "outputs": [],
   "source": [
    "def jdheston_exponents(p, t, params):\n",
    "    sig, rho, vee, eps = params\n",
    "    p0, p1, p2 = p\n",
    "    \n",
    "    κ,η,λ = 1/eps, sig**2, sig*vee/eps\n",
    "    d = np.sqrt((ρ*λ*u*i-κ)**2+λ**2*(i*u+u**2))\n",
    "    g1 = (κ-ρ*λ*i*u+d)/(κ-ρ*λ*i*u-d)\n",
    "    g2 = 1/g1\n",
    "    q0 = η*κ*λ**-2*((κ-ρ*λ*i*u-d)*t-2*np.log((1-g2*np.exp(-d*t))/(1-g2)))\n",
    "    q1 = λ**-2*(κ-ρ*λ*i*u-d)*(1-np.exp(-d*t))/(1-g2*np.exp(-d*t))\n",
    "    \n",
    "    \n",
    "    q2 = p2\n",
    "    \n",
    "    q = p0 + q0, q1, q2\n",
    "    return q"
   ]
  },
  {
   "cell_type": "code",
   "execution_count": null,
   "metadata": {},
   "outputs": [],
   "source": []
  },
  {
   "cell_type": "code",
   "execution_count": 17,
   "metadata": {},
   "outputs": [
    {
     "data": {
      "text/plain": [
       "array([[[ 0.1, -0.5,  0.5,  1. ],\n",
       "        [ 0.1, -0.5,  0.5,  1. ],\n",
       "        [ 0.1, -0.5,  0.5,  1. ],\n",
       "        [ 0.1, -0.5,  0.5,  1. ]],\n",
       "\n",
       "       [[ 0.1, -0.5,  0.5,  1. ],\n",
       "        [ 0.1, -0.5,  0.5,  1. ],\n",
       "        [ 0.1, -0.5,  0.5,  1. ],\n",
       "        [ 0.1, -0.5,  0.5,  1. ]]])"
      ]
     },
     "execution_count": 17,
     "metadata": {},
     "output_type": "execute_result"
    }
   ],
   "source": [
    "params"
   ]
  },
  {
   "cell_type": "code",
   "execution_count": null,
   "metadata": {},
   "outputs": [],
   "source": []
  },
  {
   "cell_type": "code",
   "execution_count": null,
   "metadata": {},
   "outputs": [],
   "source": [
    "call_prices = rp.jdh_pricer(maturities, logstrikes, params)"
   ]
  },
  {
   "cell_type": "code",
   "execution_count": null,
   "metadata": {},
   "outputs": [],
   "source": [
    "implied_vols = rp.surface(maturities, logstrikes, call_prices)"
   ]
  },
  {
   "cell_type": "code",
   "execution_count": null,
   "metadata": {},
   "outputs": [],
   "source": []
  },
  {
   "cell_type": "code",
   "execution_count": 5,
   "metadata": {},
   "outputs": [
    {
     "data": {
      "text/plain": [
       "array([0.3069, 0.3308, 0.3566, 0.3843, 0.4143, 0.4465, 0.4813, 0.5188,\n",
       "       0.5592, 0.6028, 0.6497, 0.7003, 0.7548, 0.7837, 0.7985, 0.8136,\n",
       "       0.829 , 0.8447, 0.8607, 0.877 , 0.8936, 0.9105, 0.9277, 0.9453,\n",
       "       0.9632, 0.9814, 1.    , 1.0189, 1.0382, 1.0779, 1.0983, 1.1191,\n",
       "       1.1403, 1.1838, 1.2291])"
      ]
     },
     "execution_count": 5,
     "metadata": {},
     "output_type": "execute_result"
    }
   ],
   "source": [
    "K = np.array(RHS.iloc[:,0])\n",
    "K"
   ]
  },
  {
   "cell_type": "markdown",
   "metadata": {},
   "source": [
    "I think vol-vol $v=1$ makes sense given EAJ has set $\\lambda=\\nu$."
   ]
  },
  {
   "cell_type": "code",
   "execution_count": 6,
   "metadata": {},
   "outputs": [],
   "source": [
    "# ϵ,TS = 16/256,'16d'\n",
    "# σ,ρ,v,κ = np.sqrt(0.02),-0.7,1.5,1/ϵ\n",
    "# # ϵ,TS = 0,'0d'\n",
    "# # σ,ρ,v,κ = np.sqrt(0.02),-0.7,1,np.inf\n",
    "# θ = σ,ρ,v,κ"
   ]
  },
  {
   "cell_type": "code",
   "execution_count": 101,
   "metadata": {},
   "outputs": [],
   "source": [
    "v0 = 0.02\n",
    "ν = 0.3\n",
    "H = -0.5#0.05\n",
    "ρ = -0.7\n",
    "νH = ν*(0.5 - H)**(H - 0.5)\n",
    "\n",
    "ζ = 1.\n",
    "TS = '1d'\n",
    "ε = 1/256\n",
    "α = ν*(ζ*ε)**(-ζ)*ε #νH*ϵ**(H + 0.5)\n",
    "β = 1/ε\n",
    "γ = v0\n",
    "θ = α,β,γ,v0,ρ"
   ]
  },
  {
   "cell_type": "code",
   "execution_count": 102,
   "metadata": {},
   "outputs": [
    {
     "data": {
      "text/plain": [
       "0.3"
      ]
     },
     "execution_count": 102,
     "metadata": {},
     "output_type": "execute_result"
    }
   ],
   "source": [
    "α"
   ]
  },
  {
   "cell_type": "code",
   "execution_count": 103,
   "metadata": {},
   "outputs": [],
   "source": [
    "T = np.array([1/52,2/52,1/12,3/12,6/12,1])[:,nx]\n",
    "M = ['1W','2W','1M','3M','6M','1Y']\n",
    "# Δ = np.linspace(1,99,21)[nx,:]/100\n",
    "# k = norm.ppf(Δ)*σ*np.sqrt(T)\n",
    "k = np.log(np.arange(0.30,1.24,0.01))*np.ones_like(T)"
   ]
  },
  {
   "cell_type": "code",
   "execution_count": 104,
   "metadata": {},
   "outputs": [
    {
     "data": {
      "text/html": [
       "<div>\n",
       "<style scoped>\n",
       "    .dataframe tbody tr th:only-of-type {\n",
       "        vertical-align: middle;\n",
       "    }\n",
       "\n",
       "    .dataframe tbody tr th {\n",
       "        vertical-align: top;\n",
       "    }\n",
       "\n",
       "    .dataframe thead th {\n",
       "        text-align: right;\n",
       "    }\n",
       "</style>\n",
       "<table border=\"1\" class=\"dataframe\">\n",
       "  <thead>\n",
       "    <tr style=\"text-align: right;\">\n",
       "      <th></th>\n",
       "      <th>-1.2039728043259361</th>\n",
       "      <th>-1.171182981502945</th>\n",
       "      <th>-1.1394342831883648</th>\n",
       "      <th>-1.1086626245216111</th>\n",
       "      <th>-1.0788096613719298</th>\n",
       "      <th>-1.0498221244986776</th>\n",
       "      <th>-1.0216512475319812</th>\n",
       "      <th>-0.9942522733438668</th>\n",
       "      <th>-0.9675840262617055</th>\n",
       "      <th>-0.9416085398584447</th>\n",
       "      <th>...</th>\n",
       "      <th>0.13102826240640478</th>\n",
       "      <th>0.1397619423751594</th>\n",
       "      <th>0.14842000511827397</th>\n",
       "      <th>0.15700374880966544</th>\n",
       "      <th>0.1655144384775741</th>\n",
       "      <th>0.1739533071234387</th>\n",
       "      <th>0.18232155679395534</th>\n",
       "      <th>0.19062035960865042</th>\n",
       "      <th>0.1988508587451659</th>\n",
       "      <th>0.20701416938432685</th>\n",
       "    </tr>\n",
       "  </thead>\n",
       "  <tbody>\n",
       "    <tr>\n",
       "      <th>1W</th>\n",
       "      <td>-1.203973</td>\n",
       "      <td>-1.171183</td>\n",
       "      <td>-1.139434</td>\n",
       "      <td>-1.108663</td>\n",
       "      <td>-1.07881</td>\n",
       "      <td>-1.049822</td>\n",
       "      <td>-1.021651</td>\n",
       "      <td>-0.994252</td>\n",
       "      <td>-0.967584</td>\n",
       "      <td>-0.941609</td>\n",
       "      <td>...</td>\n",
       "      <td>0.131028</td>\n",
       "      <td>0.139762</td>\n",
       "      <td>0.14842</td>\n",
       "      <td>0.157004</td>\n",
       "      <td>0.165514</td>\n",
       "      <td>0.173953</td>\n",
       "      <td>0.182322</td>\n",
       "      <td>0.19062</td>\n",
       "      <td>0.198851</td>\n",
       "      <td>0.207014</td>\n",
       "    </tr>\n",
       "    <tr>\n",
       "      <th>2W</th>\n",
       "      <td>-1.203973</td>\n",
       "      <td>-1.171183</td>\n",
       "      <td>-1.139434</td>\n",
       "      <td>-1.108663</td>\n",
       "      <td>-1.07881</td>\n",
       "      <td>-1.049822</td>\n",
       "      <td>-1.021651</td>\n",
       "      <td>-0.994252</td>\n",
       "      <td>-0.967584</td>\n",
       "      <td>-0.941609</td>\n",
       "      <td>...</td>\n",
       "      <td>0.131028</td>\n",
       "      <td>0.139762</td>\n",
       "      <td>0.14842</td>\n",
       "      <td>0.157004</td>\n",
       "      <td>0.165514</td>\n",
       "      <td>0.173953</td>\n",
       "      <td>0.182322</td>\n",
       "      <td>0.19062</td>\n",
       "      <td>0.198851</td>\n",
       "      <td>0.207014</td>\n",
       "    </tr>\n",
       "    <tr>\n",
       "      <th>1M</th>\n",
       "      <td>-1.203973</td>\n",
       "      <td>-1.171183</td>\n",
       "      <td>-1.139434</td>\n",
       "      <td>-1.108663</td>\n",
       "      <td>-1.07881</td>\n",
       "      <td>-1.049822</td>\n",
       "      <td>-1.021651</td>\n",
       "      <td>-0.994252</td>\n",
       "      <td>-0.967584</td>\n",
       "      <td>-0.941609</td>\n",
       "      <td>...</td>\n",
       "      <td>0.131028</td>\n",
       "      <td>0.139762</td>\n",
       "      <td>0.14842</td>\n",
       "      <td>0.157004</td>\n",
       "      <td>0.165514</td>\n",
       "      <td>0.173953</td>\n",
       "      <td>0.182322</td>\n",
       "      <td>0.19062</td>\n",
       "      <td>0.198851</td>\n",
       "      <td>0.207014</td>\n",
       "    </tr>\n",
       "    <tr>\n",
       "      <th>3M</th>\n",
       "      <td>-1.203973</td>\n",
       "      <td>-1.171183</td>\n",
       "      <td>-1.139434</td>\n",
       "      <td>-1.108663</td>\n",
       "      <td>-1.07881</td>\n",
       "      <td>-1.049822</td>\n",
       "      <td>-1.021651</td>\n",
       "      <td>-0.994252</td>\n",
       "      <td>-0.967584</td>\n",
       "      <td>-0.941609</td>\n",
       "      <td>...</td>\n",
       "      <td>0.131028</td>\n",
       "      <td>0.139762</td>\n",
       "      <td>0.14842</td>\n",
       "      <td>0.157004</td>\n",
       "      <td>0.165514</td>\n",
       "      <td>0.173953</td>\n",
       "      <td>0.182322</td>\n",
       "      <td>0.19062</td>\n",
       "      <td>0.198851</td>\n",
       "      <td>0.207014</td>\n",
       "    </tr>\n",
       "    <tr>\n",
       "      <th>6M</th>\n",
       "      <td>-1.203973</td>\n",
       "      <td>-1.171183</td>\n",
       "      <td>-1.139434</td>\n",
       "      <td>-1.108663</td>\n",
       "      <td>-1.07881</td>\n",
       "      <td>-1.049822</td>\n",
       "      <td>-1.021651</td>\n",
       "      <td>-0.994252</td>\n",
       "      <td>-0.967584</td>\n",
       "      <td>-0.941609</td>\n",
       "      <td>...</td>\n",
       "      <td>0.131028</td>\n",
       "      <td>0.139762</td>\n",
       "      <td>0.14842</td>\n",
       "      <td>0.157004</td>\n",
       "      <td>0.165514</td>\n",
       "      <td>0.173953</td>\n",
       "      <td>0.182322</td>\n",
       "      <td>0.19062</td>\n",
       "      <td>0.198851</td>\n",
       "      <td>0.207014</td>\n",
       "    </tr>\n",
       "    <tr>\n",
       "      <th>1Y</th>\n",
       "      <td>-1.203973</td>\n",
       "      <td>-1.171183</td>\n",
       "      <td>-1.139434</td>\n",
       "      <td>-1.108663</td>\n",
       "      <td>-1.07881</td>\n",
       "      <td>-1.049822</td>\n",
       "      <td>-1.021651</td>\n",
       "      <td>-0.994252</td>\n",
       "      <td>-0.967584</td>\n",
       "      <td>-0.941609</td>\n",
       "      <td>...</td>\n",
       "      <td>0.131028</td>\n",
       "      <td>0.139762</td>\n",
       "      <td>0.14842</td>\n",
       "      <td>0.157004</td>\n",
       "      <td>0.165514</td>\n",
       "      <td>0.173953</td>\n",
       "      <td>0.182322</td>\n",
       "      <td>0.19062</td>\n",
       "      <td>0.198851</td>\n",
       "      <td>0.207014</td>\n",
       "    </tr>\n",
       "  </tbody>\n",
       "</table>\n",
       "<p>6 rows × 94 columns</p>\n",
       "</div>"
      ],
      "text/plain": [
       "    -1.203973  -1.171183  -1.139434  -1.108663  -1.078810  -1.049822  \\\n",
       "1W  -1.203973  -1.171183  -1.139434  -1.108663   -1.07881  -1.049822   \n",
       "2W  -1.203973  -1.171183  -1.139434  -1.108663   -1.07881  -1.049822   \n",
       "1M  -1.203973  -1.171183  -1.139434  -1.108663   -1.07881  -1.049822   \n",
       "3M  -1.203973  -1.171183  -1.139434  -1.108663   -1.07881  -1.049822   \n",
       "6M  -1.203973  -1.171183  -1.139434  -1.108663   -1.07881  -1.049822   \n",
       "1Y  -1.203973  -1.171183  -1.139434  -1.108663   -1.07881  -1.049822   \n",
       "\n",
       "    -1.021651  -0.994252  -0.967584  -0.941609  ...   0.131028   0.139762  \\\n",
       "1W  -1.021651  -0.994252  -0.967584  -0.941609  ...   0.131028   0.139762   \n",
       "2W  -1.021651  -0.994252  -0.967584  -0.941609  ...   0.131028   0.139762   \n",
       "1M  -1.021651  -0.994252  -0.967584  -0.941609  ...   0.131028   0.139762   \n",
       "3M  -1.021651  -0.994252  -0.967584  -0.941609  ...   0.131028   0.139762   \n",
       "6M  -1.021651  -0.994252  -0.967584  -0.941609  ...   0.131028   0.139762   \n",
       "1Y  -1.021651  -0.994252  -0.967584  -0.941609  ...   0.131028   0.139762   \n",
       "\n",
       "     0.148420   0.157004   0.165514   0.173953   0.182322   0.190620  \\\n",
       "1W    0.14842   0.157004   0.165514   0.173953   0.182322    0.19062   \n",
       "2W    0.14842   0.157004   0.165514   0.173953   0.182322    0.19062   \n",
       "1M    0.14842   0.157004   0.165514   0.173953   0.182322    0.19062   \n",
       "3M    0.14842   0.157004   0.165514   0.173953   0.182322    0.19062   \n",
       "6M    0.14842   0.157004   0.165514   0.173953   0.182322    0.19062   \n",
       "1Y    0.14842   0.157004   0.165514   0.173953   0.182322    0.19062   \n",
       "\n",
       "     0.198851   0.207014  \n",
       "1W   0.198851   0.207014  \n",
       "2W   0.198851   0.207014  \n",
       "1M   0.198851   0.207014  \n",
       "3M   0.198851   0.207014  \n",
       "6M   0.198851   0.207014  \n",
       "1Y   0.198851   0.207014  \n",
       "\n",
       "[6 rows x 94 columns]"
      ]
     },
     "execution_count": 104,
     "metadata": {},
     "output_type": "execute_result"
    }
   ],
   "source": [
    "pd.DataFrame(k,index=M,columns=k[0,:])"
   ]
  },
  {
   "cell_type": "code",
   "execution_count": 105,
   "metadata": {},
   "outputs": [],
   "source": [
    "C = rp.pricer(T,k,θ)"
   ]
  },
  {
   "cell_type": "code",
   "execution_count": 106,
   "metadata": {},
   "outputs": [],
   "source": [
    "BSV = rp.surface(T,k,C)"
   ]
  },
  {
   "cell_type": "code",
   "execution_count": 107,
   "metadata": {},
   "outputs": [
    {
     "data": {
      "text/html": [
       "<div>\n",
       "<style scoped>\n",
       "    .dataframe tbody tr th:only-of-type {\n",
       "        vertical-align: middle;\n",
       "    }\n",
       "\n",
       "    .dataframe tbody tr th {\n",
       "        vertical-align: top;\n",
       "    }\n",
       "\n",
       "    .dataframe thead th {\n",
       "        text-align: right;\n",
       "    }\n",
       "</style>\n",
       "<table border=\"1\" class=\"dataframe\">\n",
       "  <thead>\n",
       "    <tr style=\"text-align: right;\">\n",
       "      <th></th>\n",
       "      <th>-1.2039728043259361</th>\n",
       "      <th>-1.171182981502945</th>\n",
       "      <th>-1.1394342831883648</th>\n",
       "      <th>-1.1086626245216111</th>\n",
       "      <th>-1.0788096613719298</th>\n",
       "      <th>-1.0498221244986776</th>\n",
       "      <th>-1.0216512475319812</th>\n",
       "      <th>-0.9942522733438668</th>\n",
       "      <th>-0.9675840262617055</th>\n",
       "      <th>-0.9416085398584447</th>\n",
       "      <th>...</th>\n",
       "      <th>0.13102826240640478</th>\n",
       "      <th>0.1397619423751594</th>\n",
       "      <th>0.14842000511827397</th>\n",
       "      <th>0.15700374880966544</th>\n",
       "      <th>0.1655144384775741</th>\n",
       "      <th>0.1739533071234387</th>\n",
       "      <th>0.18232155679395534</th>\n",
       "      <th>0.19062035960865042</th>\n",
       "      <th>0.1988508587451659</th>\n",
       "      <th>0.20701416938432685</th>\n",
       "    </tr>\n",
       "  </thead>\n",
       "  <tbody>\n",
       "    <tr>\n",
       "      <th>1W</th>\n",
       "      <td>1.000000e-09</td>\n",
       "      <td>1.000000e-09</td>\n",
       "      <td>1.000000e-09</td>\n",
       "      <td>1.000000e-09</td>\n",
       "      <td>2.692162</td>\n",
       "      <td>2.283374e+00</td>\n",
       "      <td>2.222823</td>\n",
       "      <td>1.000000e-09</td>\n",
       "      <td>1.000000e-09</td>\n",
       "      <td>1.819760</td>\n",
       "      <td>...</td>\n",
       "      <td>0.305762</td>\n",
       "      <td>0.319833</td>\n",
       "      <td>0.333896</td>\n",
       "      <td>0.346904</td>\n",
       "      <td>0.354910</td>\n",
       "      <td>0.373237</td>\n",
       "      <td>0.385078</td>\n",
       "      <td>0.396088</td>\n",
       "      <td>0.402644</td>\n",
       "      <td>0.428534</td>\n",
       "    </tr>\n",
       "    <tr>\n",
       "      <th>2W</th>\n",
       "      <td>1.000000e-09</td>\n",
       "      <td>1.474856e+00</td>\n",
       "      <td>1.737055e+00</td>\n",
       "      <td>1.550040e+00</td>\n",
       "      <td>1.622082</td>\n",
       "      <td>1.000000e-09</td>\n",
       "      <td>1.484993</td>\n",
       "      <td>1.466317e+00</td>\n",
       "      <td>1.311603e+00</td>\n",
       "      <td>1.287611</td>\n",
       "      <td>...</td>\n",
       "      <td>0.230816</td>\n",
       "      <td>0.240908</td>\n",
       "      <td>0.250714</td>\n",
       "      <td>0.260240</td>\n",
       "      <td>0.269621</td>\n",
       "      <td>0.278477</td>\n",
       "      <td>0.287390</td>\n",
       "      <td>0.296043</td>\n",
       "      <td>0.304771</td>\n",
       "      <td>0.312571</td>\n",
       "    </tr>\n",
       "    <tr>\n",
       "      <th>1M</th>\n",
       "      <td>1.000000e-09</td>\n",
       "      <td>1.247229e+00</td>\n",
       "      <td>1.169593e+00</td>\n",
       "      <td>1.134113e+00</td>\n",
       "      <td>1.102464</td>\n",
       "      <td>1.094989e+00</td>\n",
       "      <td>1.082406</td>\n",
       "      <td>1.061252e+00</td>\n",
       "      <td>1.036879e+00</td>\n",
       "      <td>1.014136</td>\n",
       "      <td>...</td>\n",
       "      <td>0.170283</td>\n",
       "      <td>0.177242</td>\n",
       "      <td>0.183998</td>\n",
       "      <td>0.190566</td>\n",
       "      <td>0.196959</td>\n",
       "      <td>0.203186</td>\n",
       "      <td>0.209257</td>\n",
       "      <td>0.215180</td>\n",
       "      <td>0.220965</td>\n",
       "      <td>0.226616</td>\n",
       "    </tr>\n",
       "    <tr>\n",
       "      <th>3M</th>\n",
       "      <td>7.564696e-01</td>\n",
       "      <td>7.439357e-01</td>\n",
       "      <td>7.305633e-01</td>\n",
       "      <td>7.176264e-01</td>\n",
       "      <td>0.705803</td>\n",
       "      <td>6.937465e-01</td>\n",
       "      <td>0.681856</td>\n",
       "      <td>6.702814e-01</td>\n",
       "      <td>6.587445e-01</td>\n",
       "      <td>0.647488</td>\n",
       "      <td>...</td>\n",
       "      <td>0.114375</td>\n",
       "      <td>0.118307</td>\n",
       "      <td>0.122134</td>\n",
       "      <td>0.125860</td>\n",
       "      <td>0.129491</td>\n",
       "      <td>0.133032</td>\n",
       "      <td>0.136488</td>\n",
       "      <td>0.139864</td>\n",
       "      <td>0.143162</td>\n",
       "      <td>0.146387</td>\n",
       "    </tr>\n",
       "    <tr>\n",
       "      <th>6M</th>\n",
       "      <td>5.684976e-01</td>\n",
       "      <td>5.591926e-01</td>\n",
       "      <td>5.500862e-01</td>\n",
       "      <td>5.411667e-01</td>\n",
       "      <td>0.532423</td>\n",
       "      <td>5.238438e-01</td>\n",
       "      <td>0.515420</td>\n",
       "      <td>5.071439e-01</td>\n",
       "      <td>4.990059e-01</td>\n",
       "      <td>0.490999</td>\n",
       "      <td>...</td>\n",
       "      <td>0.093082</td>\n",
       "      <td>0.095603</td>\n",
       "      <td>0.098081</td>\n",
       "      <td>0.100513</td>\n",
       "      <td>0.102900</td>\n",
       "      <td>0.105240</td>\n",
       "      <td>0.107536</td>\n",
       "      <td>0.109786</td>\n",
       "      <td>0.111994</td>\n",
       "      <td>0.114159</td>\n",
       "    </tr>\n",
       "    <tr>\n",
       "      <th>1Y</th>\n",
       "      <td>4.305406e-01</td>\n",
       "      <td>4.240036e-01</td>\n",
       "      <td>4.176067e-01</td>\n",
       "      <td>4.113409e-01</td>\n",
       "      <td>0.405198</td>\n",
       "      <td>3.991718e-01</td>\n",
       "      <td>0.393254</td>\n",
       "      <td>3.874398e-01</td>\n",
       "      <td>3.817223e-01</td>\n",
       "      <td>0.376097</td>\n",
       "      <td>...</td>\n",
       "      <td>0.082358</td>\n",
       "      <td>0.083494</td>\n",
       "      <td>0.084683</td>\n",
       "      <td>0.085909</td>\n",
       "      <td>0.087158</td>\n",
       "      <td>0.088422</td>\n",
       "      <td>0.089694</td>\n",
       "      <td>0.090968</td>\n",
       "      <td>0.092240</td>\n",
       "      <td>0.093508</td>\n",
       "    </tr>\n",
       "  </tbody>\n",
       "</table>\n",
       "<p>6 rows × 94 columns</p>\n",
       "</div>"
      ],
      "text/plain": [
       "       -1.203973     -1.171183     -1.139434     -1.108663  -1.078810  \\\n",
       "1W  1.000000e-09  1.000000e-09  1.000000e-09  1.000000e-09   2.692162   \n",
       "2W  1.000000e-09  1.474856e+00  1.737055e+00  1.550040e+00   1.622082   \n",
       "1M  1.000000e-09  1.247229e+00  1.169593e+00  1.134113e+00   1.102464   \n",
       "3M  7.564696e-01  7.439357e-01  7.305633e-01  7.176264e-01   0.705803   \n",
       "6M  5.684976e-01  5.591926e-01  5.500862e-01  5.411667e-01   0.532423   \n",
       "1Y  4.305406e-01  4.240036e-01  4.176067e-01  4.113409e-01   0.405198   \n",
       "\n",
       "       -1.049822  -1.021651     -0.994252     -0.967584  -0.941609  ...  \\\n",
       "1W  2.283374e+00   2.222823  1.000000e-09  1.000000e-09   1.819760  ...   \n",
       "2W  1.000000e-09   1.484993  1.466317e+00  1.311603e+00   1.287611  ...   \n",
       "1M  1.094989e+00   1.082406  1.061252e+00  1.036879e+00   1.014136  ...   \n",
       "3M  6.937465e-01   0.681856  6.702814e-01  6.587445e-01   0.647488  ...   \n",
       "6M  5.238438e-01   0.515420  5.071439e-01  4.990059e-01   0.490999  ...   \n",
       "1Y  3.991718e-01   0.393254  3.874398e-01  3.817223e-01   0.376097  ...   \n",
       "\n",
       "     0.131028   0.139762   0.148420   0.157004   0.165514   0.173953  \\\n",
       "1W   0.305762   0.319833   0.333896   0.346904   0.354910   0.373237   \n",
       "2W   0.230816   0.240908   0.250714   0.260240   0.269621   0.278477   \n",
       "1M   0.170283   0.177242   0.183998   0.190566   0.196959   0.203186   \n",
       "3M   0.114375   0.118307   0.122134   0.125860   0.129491   0.133032   \n",
       "6M   0.093082   0.095603   0.098081   0.100513   0.102900   0.105240   \n",
       "1Y   0.082358   0.083494   0.084683   0.085909   0.087158   0.088422   \n",
       "\n",
       "     0.182322   0.190620   0.198851   0.207014  \n",
       "1W   0.385078   0.396088   0.402644   0.428534  \n",
       "2W   0.287390   0.296043   0.304771   0.312571  \n",
       "1M   0.209257   0.215180   0.220965   0.226616  \n",
       "3M   0.136488   0.139864   0.143162   0.146387  \n",
       "6M   0.107536   0.109786   0.111994   0.114159  \n",
       "1Y   0.089694   0.090968   0.092240   0.093508  \n",
       "\n",
       "[6 rows x 94 columns]"
      ]
     },
     "execution_count": 107,
     "metadata": {},
     "output_type": "execute_result"
    }
   ],
   "source": [
    "pd.DataFrame(BSV,index=M,columns=k[0,:])"
   ]
  },
  {
   "cell_type": "code",
   "execution_count": 108,
   "metadata": {},
   "outputs": [],
   "source": [
    "plt.rcParams['figure.figsize'] = [2*1.618*2,2*3]\n",
    "plt.rcParams['legend.loc'] = 'lower left'"
   ]
  },
  {
   "cell_type": "code",
   "execution_count": 109,
   "metadata": {},
   "outputs": [
    {
     "data": {
      "image/png": "[encoded data removed]",
      "text/plain": [
       "<Figure size 970.8x900 with 6 Axes>"
      ]
     },
     "metadata": {
      "needs_background": "light"
     },
     "output_type": "display_data"
    }
   ],
   "source": [
    "plot,axes = plt.subplots(3,2)\n",
    "n = -1\n",
    "for i in range(3):\n",
    "    for j in range(2):\n",
    "        n += 1\n",
    "        axes[i,j].plot(np.log(K),100*np.array(RHS.iloc[:,n+1]),'bo')\n",
    "        axes[i,j].plot(k[n,:],100*BSV[n,:])\n",
    "        axes[i,j].set_ylabel(r'$\\bar{\\sigma}(k,\\tau=%.3f)$'%T[n,0])\n",
    "        axes[i,j].set_ylim([0,50])\n",
    "# axes[0,1].set_title(r'$\\varepsilon=\\mathrm{%s}.$'%TS)\n",
    "# axes[0,1].set_title(r'$H = 0.05,\\ \\ \\varepsilon=\\mathrm{%s}.$'%TS)\n",
    "axes[1,1].legend([r'$\\ \\ \\mathrm{rHeston}$',r'$\\mathrm{qhrHeston\\ (NIG)}$'])\n",
    "axes[2,1].set_xlabel(r'$k$')\n",
    "plt.tight_layout()\n",
    "fname = r'LSR-comparison'\n",
    "plt.savefig(fname)"
   ]
  },
  {
   "cell_type": "code",
   "execution_count": null,
   "metadata": {
    "collapsed": true
   },
   "outputs": [],
   "source": []
  }
 ],
 "metadata": {
  "anaconda-cloud": {},
  "kernelspec": {
   "display_name": "Python 3",
   "language": "python",
   "name": "python3"
  },
  "language_info": {
   "codemirror_mode": {
    "name": "ipython",
    "version": 3
   },
   "file_extension": ".py",
   "mimetype": "text/x-python",
   "name": "python",
   "nbconvert_exporter": "python",
   "pygments_lexer": "ipython3",
   "version": "3.7.3"
  }
 },
 "nbformat": 4,
 "nbformat_minor": 2
}
