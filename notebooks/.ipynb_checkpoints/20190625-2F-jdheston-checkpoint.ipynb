{
 "cells": [
  {
   "cell_type": "code",
   "execution_count": 1,
   "metadata": {},
   "outputs": [],
   "source": [
    "import os\n",
    "os.chdir(r'/Users/rmccrickerd/desktop/jdheston')"
   ]
  },
  {
   "cell_type": "code",
   "execution_count": 2,
   "metadata": {},
   "outputs": [],
   "source": [
    "import numpy as np\n",
    "import pandas as pd\n",
    "from jdheston import jdheston as jdh\n",
    "from jdheston import utils as uts\n",
    "from jdheston import config as cfg\n",
    "from matplotlib import pyplot as plt\n",
    "from scipy.stats import norm\n",
    "from scipy.special import gamma\n",
    "# import mpl\n",
    "# %matplotlib inline"
   ]
  },
  {
   "cell_type": "code",
   "execution_count": 3,
   "metadata": {},
   "outputs": [],
   "source": [
    "nx = np.newaxis\n",
    "cfg.config(scale=1.5,print_keys=False)"
   ]
  },
  {
   "cell_type": "code",
   "execution_count": 165,
   "metadata": {},
   "outputs": [],
   "source": [
    "sigma = 0.1"
   ]
  },
  {
   "cell_type": "code",
   "execution_count": 170,
   "metadata": {},
   "outputs": [],
   "source": [
    "T = np.array([1/52,1/12,3/12,6/12,1,2])[:,nx]\n",
    "# M = ['1W','1M','3M','6M','9M','1Y']\n",
    "Δ = np.linspace(5,95,19)[nx,:]/100\n",
    "k = norm.ppf(Δ)*sigma*np.sqrt(T)"
   ]
  },
  {
   "cell_type": "code",
   "execution_count": 171,
   "metadata": {},
   "outputs": [
    {
     "data": {
      "text/html": [
       "<div>\n",
       "<style scoped>\n",
       "    .dataframe tbody tr th:only-of-type {\n",
       "        vertical-align: middle;\n",
       "    }\n",
       "\n",
       "    .dataframe tbody tr th {\n",
       "        vertical-align: top;\n",
       "    }\n",
       "\n",
       "    .dataframe thead th {\n",
       "        text-align: right;\n",
       "    }\n",
       "</style>\n",
       "<table border=\"1\" class=\"dataframe\">\n",
       "  <thead>\n",
       "    <tr style=\"text-align: right;\">\n",
       "      <th></th>\n",
       "      <th>0.05</th>\n",
       "      <th>0.1</th>\n",
       "      <th>0.15</th>\n",
       "      <th>0.2</th>\n",
       "      <th>0.25</th>\n",
       "      <th>0.3</th>\n",
       "      <th>0.35</th>\n",
       "      <th>0.4</th>\n",
       "      <th>0.45</th>\n",
       "      <th>0.5</th>\n",
       "      <th>0.55</th>\n",
       "      <th>0.6</th>\n",
       "      <th>0.65</th>\n",
       "      <th>0.7</th>\n",
       "      <th>0.75</th>\n",
       "      <th>0.8</th>\n",
       "      <th>0.85</th>\n",
       "      <th>0.9</th>\n",
       "      <th>0.95</th>\n",
       "    </tr>\n",
       "  </thead>\n",
       "  <tbody>\n",
       "    <tr>\n",
       "      <th>0.019231</th>\n",
       "      <td>-0.022810</td>\n",
       "      <td>-0.017772</td>\n",
       "      <td>-0.014373</td>\n",
       "      <td>-0.011671</td>\n",
       "      <td>-0.009353</td>\n",
       "      <td>-0.007272</td>\n",
       "      <td>-0.005343</td>\n",
       "      <td>-0.003513</td>\n",
       "      <td>-0.001743</td>\n",
       "      <td>0.0</td>\n",
       "      <td>0.001743</td>\n",
       "      <td>0.003513</td>\n",
       "      <td>0.005343</td>\n",
       "      <td>0.007272</td>\n",
       "      <td>0.009353</td>\n",
       "      <td>0.011671</td>\n",
       "      <td>0.014373</td>\n",
       "      <td>0.017772</td>\n",
       "      <td>0.022810</td>\n",
       "    </tr>\n",
       "    <tr>\n",
       "      <th>0.083333</th>\n",
       "      <td>-0.047483</td>\n",
       "      <td>-0.036995</td>\n",
       "      <td>-0.029919</td>\n",
       "      <td>-0.024296</td>\n",
       "      <td>-0.019471</td>\n",
       "      <td>-0.015138</td>\n",
       "      <td>-0.011123</td>\n",
       "      <td>-0.007314</td>\n",
       "      <td>-0.003628</td>\n",
       "      <td>0.0</td>\n",
       "      <td>0.003628</td>\n",
       "      <td>0.007314</td>\n",
       "      <td>0.011123</td>\n",
       "      <td>0.015138</td>\n",
       "      <td>0.019471</td>\n",
       "      <td>0.024296</td>\n",
       "      <td>0.029919</td>\n",
       "      <td>0.036995</td>\n",
       "      <td>0.047483</td>\n",
       "    </tr>\n",
       "    <tr>\n",
       "      <th>0.250000</th>\n",
       "      <td>-0.082243</td>\n",
       "      <td>-0.064078</td>\n",
       "      <td>-0.051822</td>\n",
       "      <td>-0.042081</td>\n",
       "      <td>-0.033724</td>\n",
       "      <td>-0.026220</td>\n",
       "      <td>-0.019266</td>\n",
       "      <td>-0.012667</td>\n",
       "      <td>-0.006283</td>\n",
       "      <td>0.0</td>\n",
       "      <td>0.006283</td>\n",
       "      <td>0.012667</td>\n",
       "      <td>0.019266</td>\n",
       "      <td>0.026220</td>\n",
       "      <td>0.033724</td>\n",
       "      <td>0.042081</td>\n",
       "      <td>0.051822</td>\n",
       "      <td>0.064078</td>\n",
       "      <td>0.082243</td>\n",
       "    </tr>\n",
       "    <tr>\n",
       "      <th>0.500000</th>\n",
       "      <td>-0.116309</td>\n",
       "      <td>-0.090619</td>\n",
       "      <td>-0.073287</td>\n",
       "      <td>-0.059512</td>\n",
       "      <td>-0.047694</td>\n",
       "      <td>-0.037081</td>\n",
       "      <td>-0.027246</td>\n",
       "      <td>-0.017914</td>\n",
       "      <td>-0.008886</td>\n",
       "      <td>0.0</td>\n",
       "      <td>0.008886</td>\n",
       "      <td>0.017914</td>\n",
       "      <td>0.027246</td>\n",
       "      <td>0.037081</td>\n",
       "      <td>0.047694</td>\n",
       "      <td>0.059512</td>\n",
       "      <td>0.073287</td>\n",
       "      <td>0.090619</td>\n",
       "      <td>0.116309</td>\n",
       "    </tr>\n",
       "    <tr>\n",
       "      <th>1.000000</th>\n",
       "      <td>-0.164485</td>\n",
       "      <td>-0.128155</td>\n",
       "      <td>-0.103643</td>\n",
       "      <td>-0.084162</td>\n",
       "      <td>-0.067449</td>\n",
       "      <td>-0.052440</td>\n",
       "      <td>-0.038532</td>\n",
       "      <td>-0.025335</td>\n",
       "      <td>-0.012566</td>\n",
       "      <td>0.0</td>\n",
       "      <td>0.012566</td>\n",
       "      <td>0.025335</td>\n",
       "      <td>0.038532</td>\n",
       "      <td>0.052440</td>\n",
       "      <td>0.067449</td>\n",
       "      <td>0.084162</td>\n",
       "      <td>0.103643</td>\n",
       "      <td>0.128155</td>\n",
       "      <td>0.164485</td>\n",
       "    </tr>\n",
       "    <tr>\n",
       "      <th>2.000000</th>\n",
       "      <td>-0.232617</td>\n",
       "      <td>-0.181239</td>\n",
       "      <td>-0.146574</td>\n",
       "      <td>-0.119023</td>\n",
       "      <td>-0.095387</td>\n",
       "      <td>-0.074161</td>\n",
       "      <td>-0.054493</td>\n",
       "      <td>-0.035829</td>\n",
       "      <td>-0.017771</td>\n",
       "      <td>0.0</td>\n",
       "      <td>0.017771</td>\n",
       "      <td>0.035829</td>\n",
       "      <td>0.054493</td>\n",
       "      <td>0.074161</td>\n",
       "      <td>0.095387</td>\n",
       "      <td>0.119023</td>\n",
       "      <td>0.146574</td>\n",
       "      <td>0.181239</td>\n",
       "      <td>0.232617</td>\n",
       "    </tr>\n",
       "  </tbody>\n",
       "</table>\n",
       "</div>"
      ],
      "text/plain": [
       "              0.05      0.10      0.15      0.20      0.25      0.30  \\\n",
       "0.019231 -0.022810 -0.017772 -0.014373 -0.011671 -0.009353 -0.007272   \n",
       "0.083333 -0.047483 -0.036995 -0.029919 -0.024296 -0.019471 -0.015138   \n",
       "0.250000 -0.082243 -0.064078 -0.051822 -0.042081 -0.033724 -0.026220   \n",
       "0.500000 -0.116309 -0.090619 -0.073287 -0.059512 -0.047694 -0.037081   \n",
       "1.000000 -0.164485 -0.128155 -0.103643 -0.084162 -0.067449 -0.052440   \n",
       "2.000000 -0.232617 -0.181239 -0.146574 -0.119023 -0.095387 -0.074161   \n",
       "\n",
       "              0.35      0.40      0.45  0.50      0.55      0.60      0.65  \\\n",
       "0.019231 -0.005343 -0.003513 -0.001743   0.0  0.001743  0.003513  0.005343   \n",
       "0.083333 -0.011123 -0.007314 -0.003628   0.0  0.003628  0.007314  0.011123   \n",
       "0.250000 -0.019266 -0.012667 -0.006283   0.0  0.006283  0.012667  0.019266   \n",
       "0.500000 -0.027246 -0.017914 -0.008886   0.0  0.008886  0.017914  0.027246   \n",
       "1.000000 -0.038532 -0.025335 -0.012566   0.0  0.012566  0.025335  0.038532   \n",
       "2.000000 -0.054493 -0.035829 -0.017771   0.0  0.017771  0.035829  0.054493   \n",
       "\n",
       "              0.70      0.75      0.80      0.85      0.90      0.95  \n",
       "0.019231  0.007272  0.009353  0.011671  0.014373  0.017772  0.022810  \n",
       "0.083333  0.015138  0.019471  0.024296  0.029919  0.036995  0.047483  \n",
       "0.250000  0.026220  0.033724  0.042081  0.051822  0.064078  0.082243  \n",
       "0.500000  0.037081  0.047694  0.059512  0.073287  0.090619  0.116309  \n",
       "1.000000  0.052440  0.067449  0.084162  0.103643  0.128155  0.164485  \n",
       "2.000000  0.074161  0.095387  0.119023  0.146574  0.181239  0.232617  "
      ]
     },
     "execution_count": 171,
     "metadata": {},
     "output_type": "execute_result"
    }
   ],
   "source": [
    "pd.DataFrame(k,index=T[:,0],columns=np.round(Δ[0,:],2))"
   ]
  },
  {
   "cell_type": "code",
   "execution_count": 277,
   "metadata": {},
   "outputs": [
    {
     "data": {
      "text/plain": [
       "(0.0999499874937461, 0.0031622776601683807)"
      ]
     },
     "execution_count": 277,
     "metadata": {},
     "output_type": "execute_result"
    }
   ],
   "source": [
    "jump_weight = 0.25\n",
    "jump_sigma = jump_weight**0.5*sigma\n",
    "diff_sigma = (1 - jump_weight)**0.5*sigma\n",
    "jump_sigma, diff_sigma"
   ]
  },
  {
   "cell_type": "code",
   "execution_count": 278,
   "metadata": {},
   "outputs": [],
   "source": [
    "times1   = np.array([0,1/12,3/12,6/12])\n",
    "sigma1   = np.array([ jump_sigma])*np.ones_like(times1)\n",
    "rho1     = np.array([-0.7])*np.ones_like(times1)\n",
    "vee1     = np.array([ 1])*np.ones_like(times1)\n",
    "epsilon1 = np.array([ 0])*np.ones_like(times1)"
   ]
  },
  {
   "cell_type": "code",
   "execution_count": 279,
   "metadata": {},
   "outputs": [],
   "source": [
    "times2   = np.array([0,1/12,3/12,6/12])\n",
    "sigma2   = np.array([ diff_sigma])*np.ones_like(times2)\n",
    "rho2     = np.array([+0.0])*np.ones_like(times2)\n",
    "vee2     = np.array([ 1])*np.ones_like(times2)\n",
    "epsilon2 = np.array([ 1])*np.ones_like(times2)"
   ]
  },
  {
   "cell_type": "code",
   "execution_count": 280,
   "metadata": {},
   "outputs": [],
   "source": [
    "params1  = np.array([times1, sigma1, rho1, vee1, epsilon1]).T\n",
    "params2  = np.array([times2, sigma2, rho2, vee2, epsilon2]).T"
   ]
  },
  {
   "cell_type": "code",
   "execution_count": 281,
   "metadata": {},
   "outputs": [
    {
     "data": {
      "text/plain": [
       "array([[ 0.  ,  0.1 , -0.7 ,  1.  ,  0.  ],\n",
       "       [ 0.08,  0.1 , -0.7 ,  1.  ,  0.  ],\n",
       "       [ 0.25,  0.1 , -0.7 ,  1.  ,  0.  ],\n",
       "       [ 0.5 ,  0.1 , -0.7 ,  1.  ,  0.  ]])"
      ]
     },
     "execution_count": 281,
     "metadata": {},
     "output_type": "execute_result"
    }
   ],
   "source": [
    "np.round(params1,2)"
   ]
  },
  {
   "cell_type": "code",
   "execution_count": 282,
   "metadata": {},
   "outputs": [
    {
     "data": {
      "text/plain": [
       "array([[0.  , 0.  , 0.  , 1.  , 1.  ],\n",
       "       [0.08, 0.  , 0.  , 1.  , 1.  ],\n",
       "       [0.25, 0.  , 0.  , 1.  , 1.  ],\n",
       "       [0.5 , 0.  , 0.  , 1.  , 1.  ]])"
      ]
     },
     "execution_count": 282,
     "metadata": {},
     "output_type": "execute_result"
    }
   ],
   "source": [
    "np.round(params2,2)"
   ]
  },
  {
   "cell_type": "code",
   "execution_count": 283,
   "metadata": {},
   "outputs": [],
   "source": [
    "maturities = T\n",
    "logstrikes = k"
   ]
  },
  {
   "cell_type": "code",
   "execution_count": 284,
   "metadata": {},
   "outputs": [],
   "source": [
    "# call_prices = jdh.jdh_pricer(maturities, logstrikes, params1)\n",
    "call_prices = jdh.jdh2f_pricer(maturities, logstrikes, [params1, params2])"
   ]
  },
  {
   "cell_type": "code",
   "execution_count": 285,
   "metadata": {},
   "outputs": [],
   "source": [
    "implied_vols = jdh.surface(maturities, logstrikes, call_prices)"
   ]
  },
  {
   "cell_type": "code",
   "execution_count": 286,
   "metadata": {},
   "outputs": [
    {
     "data": {
      "text/html": [
       "<div>\n",
       "<style scoped>\n",
       "    .dataframe tbody tr th:only-of-type {\n",
       "        vertical-align: middle;\n",
       "    }\n",
       "\n",
       "    .dataframe tbody tr th {\n",
       "        vertical-align: top;\n",
       "    }\n",
       "\n",
       "    .dataframe thead th {\n",
       "        text-align: right;\n",
       "    }\n",
       "</style>\n",
       "<table border=\"1\" class=\"dataframe\">\n",
       "  <thead>\n",
       "    <tr style=\"text-align: right;\">\n",
       "      <th></th>\n",
       "      <th>0.09892257737887705</th>\n",
       "      <th>0.12357554475688426</th>\n",
       "      <th>0.14678069258234377</th>\n",
       "      <th>0.1712605098837745</th>\n",
       "      <th>0.19875609380802955</th>\n",
       "      <th>0.23119150820998552</th>\n",
       "      <th>0.2713269290144764</th>\n",
       "      <th>0.32372699361281826</th>\n",
       "      <th>0.3965110803738783</th>\n",
       "      <th>0.5011284579457301</th>\n",
       "      <th>0.6331414963499459</th>\n",
       "      <th>0.7505614589892209</th>\n",
       "      <th>0.8275572748475546</th>\n",
       "      <th>0.8759500154315452</th>\n",
       "      <th>0.9087843015487315</th>\n",
       "      <th>0.9326181012231676</th>\n",
       "      <th>0.9508757789830455</th>\n",
       "      <th>0.9656350848782969</th>\n",
       "      <th>0.9785679419573543</th>\n",
       "    </tr>\n",
       "  </thead>\n",
       "  <tbody>\n",
       "    <tr>\n",
       "      <th>0.019231</th>\n",
       "      <td>0.127070</td>\n",
       "      <td>0.110186</td>\n",
       "      <td>0.098192</td>\n",
       "      <td>0.088224</td>\n",
       "      <td>0.079298</td>\n",
       "      <td>0.070927</td>\n",
       "      <td>0.062812</td>\n",
       "      <td>0.054752</td>\n",
       "      <td>0.046655</td>\n",
       "      <td>0.038941</td>\n",
       "      <td>0.034512</td>\n",
       "      <td>0.036136</td>\n",
       "      <td>0.040349</td>\n",
       "      <td>0.045283</td>\n",
       "      <td>0.050608</td>\n",
       "      <td>0.056379</td>\n",
       "      <td>0.062855</td>\n",
       "      <td>0.070638</td>\n",
       "      <td>0.081529</td>\n",
       "    </tr>\n",
       "    <tr>\n",
       "      <th>0.083333</th>\n",
       "      <td>0.135091</td>\n",
       "      <td>0.120033</td>\n",
       "      <td>0.109317</td>\n",
       "      <td>0.100420</td>\n",
       "      <td>0.092477</td>\n",
       "      <td>0.085074</td>\n",
       "      <td>0.077973</td>\n",
       "      <td>0.071037</td>\n",
       "      <td>0.064223</td>\n",
       "      <td>0.057689</td>\n",
       "      <td>0.052097</td>\n",
       "      <td>0.048822</td>\n",
       "      <td>0.048567</td>\n",
       "      <td>0.050414</td>\n",
       "      <td>0.053426</td>\n",
       "      <td>0.057224</td>\n",
       "      <td>0.061805</td>\n",
       "      <td>0.067528</td>\n",
       "      <td>0.075710</td>\n",
       "    </tr>\n",
       "    <tr>\n",
       "      <th>0.250000</th>\n",
       "      <td>0.136246</td>\n",
       "      <td>0.123576</td>\n",
       "      <td>0.114583</td>\n",
       "      <td>0.107148</td>\n",
       "      <td>0.100550</td>\n",
       "      <td>0.094448</td>\n",
       "      <td>0.088649</td>\n",
       "      <td>0.083045</td>\n",
       "      <td>0.077584</td>\n",
       "      <td>0.072287</td>\n",
       "      <td>0.067293</td>\n",
       "      <td>0.062929</td>\n",
       "      <td>0.059701</td>\n",
       "      <td>0.058020</td>\n",
       "      <td>0.057886</td>\n",
       "      <td>0.059034</td>\n",
       "      <td>0.061273</td>\n",
       "      <td>0.064701</td>\n",
       "      <td>0.070181</td>\n",
       "    </tr>\n",
       "    <tr>\n",
       "      <th>0.500000</th>\n",
       "      <td>0.134276</td>\n",
       "      <td>0.123432</td>\n",
       "      <td>0.115770</td>\n",
       "      <td>0.109465</td>\n",
       "      <td>0.103898</td>\n",
       "      <td>0.098779</td>\n",
       "      <td>0.093943</td>\n",
       "      <td>0.089292</td>\n",
       "      <td>0.084770</td>\n",
       "      <td>0.080356</td>\n",
       "      <td>0.076077</td>\n",
       "      <td>0.072020</td>\n",
       "      <td>0.068365</td>\n",
       "      <td>0.065375</td>\n",
       "      <td>0.063323</td>\n",
       "      <td>0.062377</td>\n",
       "      <td>0.062588</td>\n",
       "      <td>0.064055</td>\n",
       "      <td>0.067392</td>\n",
       "    </tr>\n",
       "    <tr>\n",
       "      <th>1.000000</th>\n",
       "      <td>0.130473</td>\n",
       "      <td>0.121538</td>\n",
       "      <td>0.115267</td>\n",
       "      <td>0.110138</td>\n",
       "      <td>0.105637</td>\n",
       "      <td>0.101521</td>\n",
       "      <td>0.097653</td>\n",
       "      <td>0.093947</td>\n",
       "      <td>0.090349</td>\n",
       "      <td>0.086822</td>\n",
       "      <td>0.083348</td>\n",
       "      <td>0.079932</td>\n",
       "      <td>0.076603</td>\n",
       "      <td>0.073432</td>\n",
       "      <td>0.070542</td>\n",
       "      <td>0.068111</td>\n",
       "      <td>0.066361</td>\n",
       "      <td>0.065569</td>\n",
       "      <td>0.066298</td>\n",
       "    </tr>\n",
       "    <tr>\n",
       "      <th>2.000000</th>\n",
       "      <td>0.125494</td>\n",
       "      <td>0.118399</td>\n",
       "      <td>0.113459</td>\n",
       "      <td>0.109447</td>\n",
       "      <td>0.105946</td>\n",
       "      <td>0.102762</td>\n",
       "      <td>0.099783</td>\n",
       "      <td>0.096937</td>\n",
       "      <td>0.094177</td>\n",
       "      <td>0.091465</td>\n",
       "      <td>0.088773</td>\n",
       "      <td>0.086079</td>\n",
       "      <td>0.083367</td>\n",
       "      <td>0.080627</td>\n",
       "      <td>0.077863</td>\n",
       "      <td>0.075098</td>\n",
       "      <td>0.072397</td>\n",
       "      <td>0.069903</td>\n",
       "      <td>0.067979</td>\n",
       "    </tr>\n",
       "  </tbody>\n",
       "</table>\n",
       "</div>"
      ],
      "text/plain": [
       "          0.098923  0.123576  0.146781  0.171261  0.198756  0.231192  \\\n",
       "0.019231  0.127070  0.110186  0.098192  0.088224  0.079298  0.070927   \n",
       "0.083333  0.135091  0.120033  0.109317  0.100420  0.092477  0.085074   \n",
       "0.250000  0.136246  0.123576  0.114583  0.107148  0.100550  0.094448   \n",
       "0.500000  0.134276  0.123432  0.115770  0.109465  0.103898  0.098779   \n",
       "1.000000  0.130473  0.121538  0.115267  0.110138  0.105637  0.101521   \n",
       "2.000000  0.125494  0.118399  0.113459  0.109447  0.105946  0.102762   \n",
       "\n",
       "          0.271327  0.323727  0.396511  0.501128  0.633141  0.750561  \\\n",
       "0.019231  0.062812  0.054752  0.046655  0.038941  0.034512  0.036136   \n",
       "0.083333  0.077973  0.071037  0.064223  0.057689  0.052097  0.048822   \n",
       "0.250000  0.088649  0.083045  0.077584  0.072287  0.067293  0.062929   \n",
       "0.500000  0.093943  0.089292  0.084770  0.080356  0.076077  0.072020   \n",
       "1.000000  0.097653  0.093947  0.090349  0.086822  0.083348  0.079932   \n",
       "2.000000  0.099783  0.096937  0.094177  0.091465  0.088773  0.086079   \n",
       "\n",
       "          0.827557  0.875950  0.908784  0.932618  0.950876  0.965635  0.978568  \n",
       "0.019231  0.040349  0.045283  0.050608  0.056379  0.062855  0.070638  0.081529  \n",
       "0.083333  0.048567  0.050414  0.053426  0.057224  0.061805  0.067528  0.075710  \n",
       "0.250000  0.059701  0.058020  0.057886  0.059034  0.061273  0.064701  0.070181  \n",
       "0.500000  0.068365  0.065375  0.063323  0.062377  0.062588  0.064055  0.067392  \n",
       "1.000000  0.076603  0.073432  0.070542  0.068111  0.066361  0.065569  0.066298  \n",
       "2.000000  0.083367  0.080627  0.077863  0.075098  0.072397  0.069903  0.067979  "
      ]
     },
     "execution_count": 286,
     "metadata": {},
     "output_type": "execute_result"
    }
   ],
   "source": [
    "pd.DataFrame(implied_vols,index=T[:,0],columns=Δ[0,:])"
   ]
  },
  {
   "cell_type": "code",
   "execution_count": 287,
   "metadata": {},
   "outputs": [],
   "source": [
    "# plt.rcParams['figure.figsize'] = [2*1.618*2,2*3]\n",
    "# plt.rcParams['legend.loc'] = 'lower left'"
   ]
  },
  {
   "cell_type": "code",
   "execution_count": 288,
   "metadata": {},
   "outputs": [
    {
     "data": {
      "image/png": "[encoded data removed]",
      "text/plain": [
       "<Figure size 450x253.125 with 1 Axes>"
      ]
     },
     "metadata": {
      "needs_background": "light"
     },
     "output_type": "display_data"
    }
   ],
   "source": [
    "plot,axes = plt.subplots()\n",
    "for i in range(len(T[:,0])):\n",
    "    axes.plot(k[i,:],100*implied_vols[i,:])\n",
    "    axes.set_xlabel(r'$k$')\n",
    "    axes.set_ylabel(r'$\\bar{\\sigma}(k,\\tau)$')\n",
    "# plt.savefig('temp')"
   ]
  },
  {
   "cell_type": "code",
   "execution_count": 289,
   "metadata": {},
   "outputs": [],
   "source": [
    "implied_vars = implied_vols*np.sqrt(T)\n",
    "Δ = norm.cdf(k/implied_vars + 0.5*implied_vars)"
   ]
  },
  {
   "cell_type": "code",
   "execution_count": 291,
   "metadata": {},
   "outputs": [
    {
     "data": {
      "image/png": "[encoded data removed]",
      "text/plain": [
       "<Figure size 450x253.125 with 1 Axes>"
      ]
     },
     "metadata": {
      "needs_background": "light"
     },
     "output_type": "display_data"
    }
   ],
   "source": [
    "plot,axes = plt.subplots()\n",
    "for i in range(len(T[:,0])):\n",
    "    axes.plot(Δ[i,:],100*implied_vols[i,:])\n",
    "    axes.set_xlabel(r'$\\Delta$')\n",
    "    axes.set_xlim([0,1])\n",
    "    axes.set_ylabel(r'$\\bar{\\sigma}(\\Delta,\\tau)$')\n",
    "# plt.savefig('temp')"
   ]
  },
  {
   "cell_type": "code",
   "execution_count": null,
   "metadata": {},
   "outputs": [],
   "source": []
  }
 ],
 "metadata": {
  "anaconda-cloud": {},
  "kernelspec": {
   "display_name": "Python 3",
   "language": "python",
   "name": "python3"
  },
  "language_info": {
   "codemirror_mode": {
    "name": "ipython",
    "version": 3
   },
   "file_extension": ".py",
   "mimetype": "text/x-python",
   "name": "python",
   "nbconvert_exporter": "python",
   "pygments_lexer": "ipython3",
   "version": "3.7.3"
  }
 },
 "nbformat": 4,
 "nbformat_minor": 2
}
