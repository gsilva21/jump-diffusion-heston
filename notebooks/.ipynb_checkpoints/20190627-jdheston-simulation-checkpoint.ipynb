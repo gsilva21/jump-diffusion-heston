{
 "cells": [
  {
   "cell_type": "code",
   "execution_count": 33,
   "metadata": {},
   "outputs": [],
   "source": [
    "import os\n",
    "os.chdir(r'/Users/rmccrickerd/desktop/jdheston')"
   ]
  },
  {
   "cell_type": "code",
   "execution_count": 34,
   "metadata": {},
   "outputs": [],
   "source": [
    "import numpy as np\n",
    "import pandas as pd\n",
    "from jdheston import jdheston as jdh\n",
    "from jdheston import utils as uts\n",
    "from jdheston import config as cfg\n",
    "from matplotlib import pyplot as plt\n",
    "from scipy.stats import norm"
   ]
  },
  {
   "cell_type": "code",
   "execution_count": 35,
   "metadata": {},
   "outputs": [],
   "source": [
    "nx = np.newaxis\n",
    "cfg.config(scale=1.5,print_keys=False)"
   ]
  },
  {
   "cell_type": "code",
   "execution_count": 36,
   "metadata": {},
   "outputs": [],
   "source": [
    "deltas = np.array([0.1,0.25,0.5,0.75,0.9])\n",
    "expiries = np.array([1/12,3/12,6/12,1])\n",
    "labels = ['1m','3m','6m','1y']"
   ]
  },
  {
   "cell_type": "code",
   "execution_count": 37,
   "metadata": {},
   "outputs": [],
   "source": [
    "m,n = len(expiries),len(deltas)"
   ]
  },
  {
   "cell_type": "code",
   "execution_count": 52,
   "metadata": {},
   "outputs": [],
   "source": [
    "plt.rcParams['figure.figsize'] = [4,4/1.618]\n",
    "plt.rcParams['legend.loc'] = 'lower left'"
   ]
  },
  {
   "cell_type": "code",
   "execution_count": 53,
   "metadata": {},
   "outputs": [],
   "source": [
    "sigma_max = 0.2"
   ]
  },
  {
   "cell_type": "code",
   "execution_count": 54,
   "metadata": {},
   "outputs": [],
   "source": [
    "T = np.array([1/12,3/12,6/12,1])[:,nx]\n",
    "# M = ['1W','1M','3M','6M','9M','1Y']\n",
    "Δ = np.linspace(5,95,19)[nx,:]/100\n",
    "k = norm.ppf(Δ)*sigma_max*np.sqrt(T)"
   ]
  },
  {
   "cell_type": "code",
   "execution_count": 55,
   "metadata": {},
   "outputs": [
    {
     "data": {
      "text/html": [
       "<div>\n",
       "<style scoped>\n",
       "    .dataframe tbody tr th:only-of-type {\n",
       "        vertical-align: middle;\n",
       "    }\n",
       "\n",
       "    .dataframe tbody tr th {\n",
       "        vertical-align: top;\n",
       "    }\n",
       "\n",
       "    .dataframe thead th {\n",
       "        text-align: right;\n",
       "    }\n",
       "</style>\n",
       "<table border=\"1\" class=\"dataframe\">\n",
       "  <thead>\n",
       "    <tr style=\"text-align: right;\">\n",
       "      <th></th>\n",
       "      <th>0.05</th>\n",
       "      <th>0.1</th>\n",
       "      <th>0.15</th>\n",
       "      <th>0.2</th>\n",
       "      <th>0.25</th>\n",
       "      <th>0.3</th>\n",
       "      <th>0.35</th>\n",
       "      <th>0.4</th>\n",
       "      <th>0.45</th>\n",
       "      <th>0.5</th>\n",
       "      <th>0.55</th>\n",
       "      <th>0.6</th>\n",
       "      <th>0.65</th>\n",
       "      <th>0.7</th>\n",
       "      <th>0.75</th>\n",
       "      <th>0.8</th>\n",
       "      <th>0.85</th>\n",
       "      <th>0.9</th>\n",
       "      <th>0.95</th>\n",
       "    </tr>\n",
       "  </thead>\n",
       "  <tbody>\n",
       "    <tr>\n",
       "      <th>0.083333</th>\n",
       "      <td>-0.094966</td>\n",
       "      <td>-0.073990</td>\n",
       "      <td>-0.059839</td>\n",
       "      <td>-0.048591</td>\n",
       "      <td>-0.038942</td>\n",
       "      <td>-0.030276</td>\n",
       "      <td>-0.022246</td>\n",
       "      <td>-0.014627</td>\n",
       "      <td>-0.007255</td>\n",
       "      <td>0.0</td>\n",
       "      <td>0.007255</td>\n",
       "      <td>0.014627</td>\n",
       "      <td>0.022246</td>\n",
       "      <td>0.030276</td>\n",
       "      <td>0.038942</td>\n",
       "      <td>0.048591</td>\n",
       "      <td>0.059839</td>\n",
       "      <td>0.073990</td>\n",
       "      <td>0.094966</td>\n",
       "    </tr>\n",
       "    <tr>\n",
       "      <th>0.250000</th>\n",
       "      <td>-0.164485</td>\n",
       "      <td>-0.128155</td>\n",
       "      <td>-0.103643</td>\n",
       "      <td>-0.084162</td>\n",
       "      <td>-0.067449</td>\n",
       "      <td>-0.052440</td>\n",
       "      <td>-0.038532</td>\n",
       "      <td>-0.025335</td>\n",
       "      <td>-0.012566</td>\n",
       "      <td>0.0</td>\n",
       "      <td>0.012566</td>\n",
       "      <td>0.025335</td>\n",
       "      <td>0.038532</td>\n",
       "      <td>0.052440</td>\n",
       "      <td>0.067449</td>\n",
       "      <td>0.084162</td>\n",
       "      <td>0.103643</td>\n",
       "      <td>0.128155</td>\n",
       "      <td>0.164485</td>\n",
       "    </tr>\n",
       "    <tr>\n",
       "      <th>0.500000</th>\n",
       "      <td>-0.232617</td>\n",
       "      <td>-0.181239</td>\n",
       "      <td>-0.146574</td>\n",
       "      <td>-0.119023</td>\n",
       "      <td>-0.095387</td>\n",
       "      <td>-0.074161</td>\n",
       "      <td>-0.054493</td>\n",
       "      <td>-0.035829</td>\n",
       "      <td>-0.017771</td>\n",
       "      <td>0.0</td>\n",
       "      <td>0.017771</td>\n",
       "      <td>0.035829</td>\n",
       "      <td>0.054493</td>\n",
       "      <td>0.074161</td>\n",
       "      <td>0.095387</td>\n",
       "      <td>0.119023</td>\n",
       "      <td>0.146574</td>\n",
       "      <td>0.181239</td>\n",
       "      <td>0.232617</td>\n",
       "    </tr>\n",
       "    <tr>\n",
       "      <th>1.000000</th>\n",
       "      <td>-0.328971</td>\n",
       "      <td>-0.256310</td>\n",
       "      <td>-0.207287</td>\n",
       "      <td>-0.168324</td>\n",
       "      <td>-0.134898</td>\n",
       "      <td>-0.104880</td>\n",
       "      <td>-0.077064</td>\n",
       "      <td>-0.050669</td>\n",
       "      <td>-0.025132</td>\n",
       "      <td>0.0</td>\n",
       "      <td>0.025132</td>\n",
       "      <td>0.050669</td>\n",
       "      <td>0.077064</td>\n",
       "      <td>0.104880</td>\n",
       "      <td>0.134898</td>\n",
       "      <td>0.168324</td>\n",
       "      <td>0.207287</td>\n",
       "      <td>0.256310</td>\n",
       "      <td>0.328971</td>\n",
       "    </tr>\n",
       "  </tbody>\n",
       "</table>\n",
       "</div>"
      ],
      "text/plain": [
       "              0.05      0.10      0.15      0.20      0.25      0.30  \\\n",
       "0.083333 -0.094966 -0.073990 -0.059839 -0.048591 -0.038942 -0.030276   \n",
       "0.250000 -0.164485 -0.128155 -0.103643 -0.084162 -0.067449 -0.052440   \n",
       "0.500000 -0.232617 -0.181239 -0.146574 -0.119023 -0.095387 -0.074161   \n",
       "1.000000 -0.328971 -0.256310 -0.207287 -0.168324 -0.134898 -0.104880   \n",
       "\n",
       "              0.35      0.40      0.45  0.50      0.55      0.60      0.65  \\\n",
       "0.083333 -0.022246 -0.014627 -0.007255   0.0  0.007255  0.014627  0.022246   \n",
       "0.250000 -0.038532 -0.025335 -0.012566   0.0  0.012566  0.025335  0.038532   \n",
       "0.500000 -0.054493 -0.035829 -0.017771   0.0  0.017771  0.035829  0.054493   \n",
       "1.000000 -0.077064 -0.050669 -0.025132   0.0  0.025132  0.050669  0.077064   \n",
       "\n",
       "              0.70      0.75      0.80      0.85      0.90      0.95  \n",
       "0.083333  0.030276  0.038942  0.048591  0.059839  0.073990  0.094966  \n",
       "0.250000  0.052440  0.067449  0.084162  0.103643  0.128155  0.164485  \n",
       "0.500000  0.074161  0.095387  0.119023  0.146574  0.181239  0.232617  \n",
       "1.000000  0.104880  0.134898  0.168324  0.207287  0.256310  0.328971  "
      ]
     },
     "execution_count": 55,
     "metadata": {},
     "output_type": "execute_result"
    }
   ],
   "source": [
    "pd.DataFrame(k,index=T[:,0],columns=np.round(Δ[0,:],2))"
   ]
  },
  {
   "cell_type": "code",
   "execution_count": 91,
   "metadata": {},
   "outputs": [],
   "source": [
    "sig = np.array([7,9,11,13])/100"
   ]
  },
  {
   "cell_type": "code",
   "execution_count": 112,
   "metadata": {},
   "outputs": [],
   "source": [
    "jump_weight = 0.5\n",
    "rho0, rho1  = 0.5,-0.5\n",
    "vee0, vee1  = 0.5, 4.0\n",
    "eps0, eps1  = 0.0, 1.0"
   ]
  },
  {
   "cell_type": "code",
   "execution_count": 113,
   "metadata": {},
   "outputs": [],
   "source": [
    "tau0 = np.array([0,1/12,3/12,6/12])\n",
    "sig0   = jump_weight**0.5*sig\n",
    "rho0   = np.array([rho0])*np.ones_like(tau0)\n",
    "vee0   = np.array([vee0])*np.ones_like(tau0)\n",
    "eps0   = np.array([eps0])*np.ones_like(tau0)"
   ]
  },
  {
   "cell_type": "code",
   "execution_count": 114,
   "metadata": {},
   "outputs": [],
   "source": [
    "tau1 = np.array([0,1/12,3/12,6/12])\n",
    "sig1   = (1 - jump_weight)**0.5*sig\n",
    "rho1   = np.array([rho1])*np.ones_like(tau1)\n",
    "vee1   = np.array([vee1])*np.ones_like(tau1)\n",
    "eps1   = np.array([eps1])*np.ones_like(tau1)"
   ]
  },
  {
   "cell_type": "code",
   "execution_count": 115,
   "metadata": {},
   "outputs": [],
   "source": [
    "params0  = np.array([tau0, sig0, rho0, vee0, eps0]).T\n",
    "params1  = np.array([tau1, sig1, rho1, vee1, eps1]).T"
   ]
  },
  {
   "cell_type": "code",
   "execution_count": 116,
   "metadata": {},
   "outputs": [],
   "source": [
    "call_prices = jdh.jdh2f_pricer(T, k, [params0, params1])\n",
    "model_vols = jdh.surface(T, k, call_prices)"
   ]
  },
  {
   "cell_type": "code",
   "execution_count": 117,
   "metadata": {},
   "outputs": [],
   "source": [
    "from cycler import cycler"
   ]
  },
  {
   "cell_type": "code",
   "execution_count": 118,
   "metadata": {},
   "outputs": [],
   "source": [
    "plt.rcParams['legend.loc'] = 'best'\n",
    "plt.rcParams['axes.prop_cycle'] = cycler(color=['r','gold','g','b'])"
   ]
  },
  {
   "cell_type": "code",
   "execution_count": 119,
   "metadata": {},
   "outputs": [],
   "source": [
    "model_vars = model_vols*np.sqrt(T)\n",
    "deltas = norm.cdf(k/model_vars + 0.5*model_vars)"
   ]
  },
  {
   "cell_type": "code",
   "execution_count": 122,
   "metadata": {},
   "outputs": [
    {
     "data": {
      "image/png": "[encoded data removed]",
      "text/plain": [
       "<Figure size 600x370.828 with 1 Axes>"
      ]
     },
     "metadata": {
      "needs_background": "light"
     },
     "output_type": "display_data"
    }
   ],
   "source": [
    "plot,axes = plt.subplots()\n",
    "for i in range(len(T[:,0])):\n",
    "    axes.plot(deltas[i,:],100*model_vols[i,:])\n",
    "    \n",
    "    \n",
    "axes.set_xlim([0,1])\n",
    "axes.set_ylabel(r'$\\bar{\\sigma}(\\Delta,\\tau)$')\n",
    "axes.set_xlabel(r'$\\Delta$')\n",
    "axes.legend([r'$\\mathrm{1m}$',\n",
    "             r'$\\mathrm{3m}$',\n",
    "             r'$\\mathrm{6m}$',\n",
    "             r'$\\mathrm{1y}$'])\n",
    "plt.tight_layout()\n",
    "plt.savefig('plots/sim-verification-delta')"
   ]
  },
  {
   "cell_type": "code",
   "execution_count": 123,
   "metadata": {},
   "outputs": [
    {
     "data": {
      "image/png": "[encoded data removed]",
      "text/plain": [
       "<Figure size 600x370.828 with 1 Axes>"
      ]
     },
     "metadata": {
      "needs_background": "light"
     },
     "output_type": "display_data"
    }
   ],
   "source": [
    "plot,axes = plt.subplots()\n",
    "for i in range(len(T[:,0])):\n",
    "    axes.plot(k[i,:],100*model_vols[i,:])\n",
    "    \n",
    "    \n",
    "# axes.set_xlim([0,1])\n",
    "axes.set_ylabel(r'$\\bar{\\sigma}(k,\\tau)$')\n",
    "axes.set_xlabel(r'$k$')\n",
    "axes.legend([r'$\\mathrm{1m}$',\n",
    "             r'$\\mathrm{3m}$',\n",
    "             r'$\\mathrm{6m}$',\n",
    "             r'$\\mathrm{1y}$'])\n",
    "plt.tight_layout()\n",
    "plt.savefig('plots/sim-verification-logstrike')"
   ]
  },
  {
   "cell_type": "code",
   "execution_count": null,
   "metadata": {},
   "outputs": [],
   "source": []
  }
 ],
 "metadata": {
  "anaconda-cloud": {},
  "kernelspec": {
   "display_name": "Python 3",
   "language": "python",
   "name": "python3"
  },
  "language_info": {
   "codemirror_mode": {
    "name": "ipython",
    "version": 3
   },
   "file_extension": ".py",
   "mimetype": "text/x-python",
   "name": "python",
   "nbconvert_exporter": "python",
   "pygments_lexer": "ipython3",
   "version": "3.7.3"
  }
 },
 "nbformat": 4,
 "nbformat_minor": 2
}
