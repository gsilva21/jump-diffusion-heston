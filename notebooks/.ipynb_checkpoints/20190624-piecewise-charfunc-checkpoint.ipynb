{
 "cells": [
  {
   "cell_type": "markdown",
   "metadata": {},
   "source": [
    "## Major goal here is to get time-dependent characteristic function clarified and working."
   ]
  },
  {
   "cell_type": "code",
   "execution_count": 1,
   "metadata": {},
   "outputs": [],
   "source": [
    "import os\n",
    "os.chdir(r'/Users/ryanmccrickerd/desktop/jdheston')"
   ]
  },
  {
   "cell_type": "code",
   "execution_count": 2,
   "metadata": {},
   "outputs": [],
   "source": [
    "import numpy as np\n",
    "import pandas as pd\n",
    "from jdheston import jdheston as jdh\n",
    "from jdheston import utils as uts\n",
    "from jdheston import config as cfg\n",
    "from matplotlib import pyplot as plt\n",
    "from scipy.stats import norm\n",
    "from scipy.special import gamma\n",
    "# import mpl\n",
    "# %matplotlib inline"
   ]
  },
  {
   "cell_type": "code",
   "execution_count": 3,
   "metadata": {},
   "outputs": [],
   "source": [
    "nx = np.newaxis\n",
    "cfg.config(scale=1.5,print_keys=False)"
   ]
  },
  {
   "cell_type": "code",
   "execution_count": 4,
   "metadata": {},
   "outputs": [],
   "source": [
    "x = 0.5\n",
    "y = 0.5"
   ]
  },
  {
   "cell_type": "code",
   "execution_count": 5,
   "metadata": {},
   "outputs": [
    {
     "data": {
      "text/plain": [
       "(0.32798893924286976, 0.32798893924286976)"
      ]
     },
     "execution_count": 5,
     "metadata": {},
     "output_type": "execute_result"
    }
   ],
   "source": [
    "uts.log_cosh_sinh(x,y), np.log(np.cosh(x) + y*np.sinh(x))"
   ]
  },
  {
   "cell_type": "code",
   "execution_count": 6,
   "metadata": {},
   "outputs": [
    {
     "data": {
      "text/plain": [
       "(0.7815364548539281, 0.7815364548539282)"
      ]
     },
     "execution_count": 6,
     "metadata": {},
     "output_type": "execute_result"
    }
   ],
   "source": [
    "uts.tanh_frac(x,y), (y + np.tanh(x))/(1 + y*np.tanh(x))"
   ]
  },
  {
   "cell_type": "code",
   "execution_count": 7,
   "metadata": {},
   "outputs": [],
   "source": [
    "T = np.array([6/12,1])[:,nx]\n",
    "# M = ['1W','1M','3M','6M','9M','1Y']\n",
    "Δ = np.linspace(5,95,19)[nx,:]/100\n",
    "k = norm.ppf(Δ)*0.1*np.sqrt(T)"
   ]
  },
  {
   "cell_type": "code",
   "execution_count": 8,
   "metadata": {},
   "outputs": [
    {
     "data": {
      "text/html": [
       "<div>\n",
       "<style scoped>\n",
       "    .dataframe tbody tr th:only-of-type {\n",
       "        vertical-align: middle;\n",
       "    }\n",
       "\n",
       "    .dataframe tbody tr th {\n",
       "        vertical-align: top;\n",
       "    }\n",
       "\n",
       "    .dataframe thead th {\n",
       "        text-align: right;\n",
       "    }\n",
       "</style>\n",
       "<table border=\"1\" class=\"dataframe\">\n",
       "  <thead>\n",
       "    <tr style=\"text-align: right;\">\n",
       "      <th></th>\n",
       "      <th>0.05</th>\n",
       "      <th>0.1</th>\n",
       "      <th>0.15</th>\n",
       "      <th>0.2</th>\n",
       "      <th>0.25</th>\n",
       "      <th>0.3</th>\n",
       "      <th>0.35</th>\n",
       "      <th>0.4</th>\n",
       "      <th>0.45</th>\n",
       "      <th>0.5</th>\n",
       "      <th>0.55</th>\n",
       "      <th>0.6</th>\n",
       "      <th>0.65</th>\n",
       "      <th>0.7</th>\n",
       "      <th>0.75</th>\n",
       "      <th>0.8</th>\n",
       "      <th>0.85</th>\n",
       "      <th>0.9</th>\n",
       "      <th>0.95</th>\n",
       "    </tr>\n",
       "  </thead>\n",
       "  <tbody>\n",
       "    <tr>\n",
       "      <th>0.5</th>\n",
       "      <td>-0.116309</td>\n",
       "      <td>-0.090619</td>\n",
       "      <td>-0.073287</td>\n",
       "      <td>-0.059512</td>\n",
       "      <td>-0.047694</td>\n",
       "      <td>-0.037081</td>\n",
       "      <td>-0.027246</td>\n",
       "      <td>-0.017914</td>\n",
       "      <td>-0.008886</td>\n",
       "      <td>0.0</td>\n",
       "      <td>0.008886</td>\n",
       "      <td>0.017914</td>\n",
       "      <td>0.027246</td>\n",
       "      <td>0.037081</td>\n",
       "      <td>0.047694</td>\n",
       "      <td>0.059512</td>\n",
       "      <td>0.073287</td>\n",
       "      <td>0.090619</td>\n",
       "      <td>0.116309</td>\n",
       "    </tr>\n",
       "    <tr>\n",
       "      <th>1.0</th>\n",
       "      <td>-0.164485</td>\n",
       "      <td>-0.128155</td>\n",
       "      <td>-0.103643</td>\n",
       "      <td>-0.084162</td>\n",
       "      <td>-0.067449</td>\n",
       "      <td>-0.052440</td>\n",
       "      <td>-0.038532</td>\n",
       "      <td>-0.025335</td>\n",
       "      <td>-0.012566</td>\n",
       "      <td>0.0</td>\n",
       "      <td>0.012566</td>\n",
       "      <td>0.025335</td>\n",
       "      <td>0.038532</td>\n",
       "      <td>0.052440</td>\n",
       "      <td>0.067449</td>\n",
       "      <td>0.084162</td>\n",
       "      <td>0.103643</td>\n",
       "      <td>0.128155</td>\n",
       "      <td>0.164485</td>\n",
       "    </tr>\n",
       "  </tbody>\n",
       "</table>\n",
       "</div>"
      ],
      "text/plain": [
       "         0.05      0.10      0.15      0.20      0.25      0.30      0.35  \\\n",
       "0.5 -0.116309 -0.090619 -0.073287 -0.059512 -0.047694 -0.037081 -0.027246   \n",
       "1.0 -0.164485 -0.128155 -0.103643 -0.084162 -0.067449 -0.052440 -0.038532   \n",
       "\n",
       "         0.40      0.45  0.50      0.55      0.60      0.65      0.70  \\\n",
       "0.5 -0.017914 -0.008886   0.0  0.008886  0.017914  0.027246  0.037081   \n",
       "1.0 -0.025335 -0.012566   0.0  0.012566  0.025335  0.038532  0.052440   \n",
       "\n",
       "         0.75      0.80      0.85      0.90      0.95  \n",
       "0.5  0.047694  0.059512  0.073287  0.090619  0.116309  \n",
       "1.0  0.067449  0.084162  0.103643  0.128155  0.164485  "
      ]
     },
     "execution_count": 8,
     "metadata": {},
     "output_type": "execute_result"
    }
   ],
   "source": [
    "pd.DataFrame(k,index=T[:,0],columns=np.round(Δ[0,:],2))"
   ]
  },
  {
   "cell_type": "markdown",
   "metadata": {},
   "source": [
    "Forward variance appears to scale fine for low epsilon but not high. Feels like implicit SDE is not parameterised as want -- to give the right expectation."
   ]
  },
  {
   "cell_type": "code",
   "execution_count": 40,
   "metadata": {},
   "outputs": [],
   "source": [
    "times   = np.array([0,0.5])\n",
    "sigma   = np.array([ 0.1])*np.ones_like(times)\n",
    "rho     = np.array([ 0.0])*np.ones_like(times)\n",
    "vee     = np.array([ 0.001])*np.ones_like(times)\n",
    "epsilon = np.array([ 0.0001])*np.ones_like(times)"
   ]
  },
  {
   "cell_type": "code",
   "execution_count": 41,
   "metadata": {},
   "outputs": [],
   "source": [
    "sigma[-1] = 0.2"
   ]
  },
  {
   "cell_type": "code",
   "execution_count": 42,
   "metadata": {},
   "outputs": [
    {
     "data": {
      "text/plain": [
       "0.15811388300841897"
      ]
     },
     "execution_count": 42,
     "metadata": {},
     "output_type": "execute_result"
    }
   ],
   "source": [
    "np.sqrt(np.mean([0.1**2, 0.2**2]))"
   ]
  },
  {
   "cell_type": "code",
   "execution_count": 43,
   "metadata": {},
   "outputs": [
    {
     "data": {
      "text/plain": [
       "array([[0. , 0.1, 0. , 0. , 0. ],\n",
       "       [0.5, 0.2, 0. , 0. , 0. ]])"
      ]
     },
     "execution_count": 43,
     "metadata": {},
     "output_type": "execute_result"
    }
   ],
   "source": [
    "params  = np.array([times, sigma, rho, vee, epsilon]).T\n",
    "np.round(params,2)"
   ]
  },
  {
   "cell_type": "code",
   "execution_count": 44,
   "metadata": {},
   "outputs": [
    {
     "data": {
      "text/plain": [
       "array([[0.5, 0.1, 0. , 0. , 0. ],\n",
       "       [0.5, 0.2, 0. , 0. , 0. ]])"
      ]
     },
     "execution_count": 44,
     "metadata": {},
     "output_type": "execute_result"
    }
   ],
   "source": [
    "np.round(jdh.parameter_steps(params,1),2)"
   ]
  },
  {
   "cell_type": "code",
   "execution_count": 45,
   "metadata": {},
   "outputs": [],
   "source": [
    "maturities = T\n",
    "logstrikes = k"
   ]
  },
  {
   "cell_type": "code",
   "execution_count": 46,
   "metadata": {},
   "outputs": [],
   "source": [
    "call_prices = jdh.jdh_pricer(maturities, logstrikes, params)"
   ]
  },
  {
   "cell_type": "code",
   "execution_count": 47,
   "metadata": {},
   "outputs": [],
   "source": [
    "implied_vols = jdh.surface(maturities, logstrikes, call_prices)"
   ]
  },
  {
   "cell_type": "code",
   "execution_count": 48,
   "metadata": {},
   "outputs": [
    {
     "data": {
      "text/html": [
       "<div>\n",
       "<style scoped>\n",
       "    .dataframe tbody tr th:only-of-type {\n",
       "        vertical-align: middle;\n",
       "    }\n",
       "\n",
       "    .dataframe tbody tr th {\n",
       "        vertical-align: top;\n",
       "    }\n",
       "\n",
       "    .dataframe thead th {\n",
       "        text-align: right;\n",
       "    }\n",
       "</style>\n",
       "<table border=\"1\" class=\"dataframe\">\n",
       "  <thead>\n",
       "    <tr style=\"text-align: right;\">\n",
       "      <th></th>\n",
       "      <th>0.05</th>\n",
       "      <th>0.1</th>\n",
       "      <th>0.15</th>\n",
       "      <th>0.2</th>\n",
       "      <th>0.25</th>\n",
       "      <th>0.3</th>\n",
       "      <th>0.35</th>\n",
       "      <th>0.4</th>\n",
       "      <th>0.45</th>\n",
       "      <th>0.5</th>\n",
       "      <th>0.55</th>\n",
       "      <th>0.6</th>\n",
       "      <th>0.65</th>\n",
       "      <th>0.7</th>\n",
       "      <th>0.75</th>\n",
       "      <th>0.8</th>\n",
       "      <th>0.85</th>\n",
       "      <th>0.9</th>\n",
       "      <th>0.95</th>\n",
       "    </tr>\n",
       "  </thead>\n",
       "  <tbody>\n",
       "    <tr>\n",
       "      <th>0.5</th>\n",
       "      <td>0.100000</td>\n",
       "      <td>0.100000</td>\n",
       "      <td>0.100000</td>\n",
       "      <td>0.100000</td>\n",
       "      <td>0.100000</td>\n",
       "      <td>0.100000</td>\n",
       "      <td>0.100000</td>\n",
       "      <td>0.100000</td>\n",
       "      <td>0.100000</td>\n",
       "      <td>0.100000</td>\n",
       "      <td>0.100000</td>\n",
       "      <td>0.100000</td>\n",
       "      <td>0.100000</td>\n",
       "      <td>0.100000</td>\n",
       "      <td>0.100000</td>\n",
       "      <td>0.100000</td>\n",
       "      <td>0.100000</td>\n",
       "      <td>0.100000</td>\n",
       "      <td>0.100000</td>\n",
       "    </tr>\n",
       "    <tr>\n",
       "      <th>1.0</th>\n",
       "      <td>0.158114</td>\n",
       "      <td>0.158114</td>\n",
       "      <td>0.158114</td>\n",
       "      <td>0.158114</td>\n",
       "      <td>0.158114</td>\n",
       "      <td>0.158114</td>\n",
       "      <td>0.158114</td>\n",
       "      <td>0.158114</td>\n",
       "      <td>0.158114</td>\n",
       "      <td>0.158114</td>\n",
       "      <td>0.158114</td>\n",
       "      <td>0.158114</td>\n",
       "      <td>0.158114</td>\n",
       "      <td>0.158114</td>\n",
       "      <td>0.158114</td>\n",
       "      <td>0.158114</td>\n",
       "      <td>0.158114</td>\n",
       "      <td>0.158114</td>\n",
       "      <td>0.158114</td>\n",
       "    </tr>\n",
       "  </tbody>\n",
       "</table>\n",
       "</div>"
      ],
      "text/plain": [
       "         0.05      0.10      0.15      0.20      0.25      0.30      0.35  \\\n",
       "0.5  0.100000  0.100000  0.100000  0.100000  0.100000  0.100000  0.100000   \n",
       "1.0  0.158114  0.158114  0.158114  0.158114  0.158114  0.158114  0.158114   \n",
       "\n",
       "         0.40      0.45      0.50      0.55      0.60      0.65      0.70  \\\n",
       "0.5  0.100000  0.100000  0.100000  0.100000  0.100000  0.100000  0.100000   \n",
       "1.0  0.158114  0.158114  0.158114  0.158114  0.158114  0.158114  0.158114   \n",
       "\n",
       "         0.75      0.80      0.85      0.90      0.95  \n",
       "0.5  0.100000  0.100000  0.100000  0.100000  0.100000  \n",
       "1.0  0.158114  0.158114  0.158114  0.158114  0.158114  "
      ]
     },
     "execution_count": 48,
     "metadata": {},
     "output_type": "execute_result"
    }
   ],
   "source": [
    "pd.DataFrame(implied_vols,index=T[:,0],columns=Δ[0,:])"
   ]
  },
  {
   "cell_type": "code",
   "execution_count": 49,
   "metadata": {},
   "outputs": [],
   "source": [
    "# plt.rcParams['figure.figsize'] = [2*1.618*2,2*3]\n",
    "# plt.rcParams['legend.loc'] = 'lower left'"
   ]
  },
  {
   "cell_type": "code",
   "execution_count": 50,
   "metadata": {},
   "outputs": [
    {
     "data": {
      "image/png": "[encoded data removed]",
      "text/plain": [
       "<Figure size 450x253.125 with 1 Axes>"
      ]
     },
     "metadata": {
      "needs_background": "light"
     },
     "output_type": "display_data"
    }
   ],
   "source": [
    "plot,axes = plt.subplots()\n",
    "for i in range(len(T[:,0])):\n",
    "    axes.plot(k[i,:],100*implied_vols[i,:])\n",
    "    axes.set_xlabel(r'$k$')\n",
    "    axes.set_ylabel(r'$\\bar{\\sigma}(k,\\tau)$')"
   ]
  },
  {
   "cell_type": "code",
   "execution_count": null,
   "metadata": {},
   "outputs": [],
   "source": []
  }
 ],
 "metadata": {
  "anaconda-cloud": {},
  "kernelspec": {
   "display_name": "Python 3",
   "language": "python",
   "name": "python3"
  },
  "language_info": {
   "codemirror_mode": {
    "name": "ipython",
    "version": 3
   },
   "file_extension": ".py",
   "mimetype": "text/x-python",
   "name": "python",
   "nbconvert_exporter": "python",
   "pygments_lexer": "ipython3",
   "version": "3.7.3"
  }
 },
 "nbformat": 4,
 "nbformat_minor": 2
}
