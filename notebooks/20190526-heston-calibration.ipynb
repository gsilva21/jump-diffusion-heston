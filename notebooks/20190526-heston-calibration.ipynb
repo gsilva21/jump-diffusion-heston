{
 "cells": [
  {
   "cell_type": "code",
   "execution_count": 1,
   "metadata": {
    "collapsed": true
   },
   "outputs": [],
   "source": [
    "import os\n",
    "os.chdir(r'/Users/ryanmccrickerd/desktop/rypy')"
   ]
  },
  {
   "cell_type": "code",
   "execution_count": 2,
   "metadata": {
    "collapsed": true
   },
   "outputs": [],
   "source": [
    "import numpy as np\n",
    "import pandas as pd\n",
    "import rypy as rp\n",
    "from matplotlib import pyplot as plt\n",
    "from scipy.stats import norm\n",
    "import mpl\n",
    "% matplotlib inline"
   ]
  },
  {
   "cell_type": "code",
   "execution_count": 3,
   "metadata": {
    "collapsed": true
   },
   "outputs": [],
   "source": [
    "nx = np.newaxis\n",
    "mpl.config(scale=1.5,print_keys=False)"
   ]
  },
  {
   "cell_type": "code",
   "execution_count": 4,
   "metadata": {
    "collapsed": true
   },
   "outputs": [],
   "source": [
    "logstrikes = pd.read_csv('surface-strikes.csv',index_col=0)\n",
    "vols = pd.read_csv('surface-vols.csv',index_col=0)"
   ]
  },
  {
   "cell_type": "code",
   "execution_count": 5,
   "metadata": {},
   "outputs": [
    {
     "data": {
      "text/html": [
       "<div>\n",
       "<table border=\"1\" class=\"dataframe\">\n",
       "  <thead>\n",
       "    <tr style=\"text-align: right;\">\n",
       "      <th></th>\n",
       "      <th>0.01</th>\n",
       "      <th>0.059</th>\n",
       "      <th>0.108</th>\n",
       "      <th>0.157</th>\n",
       "      <th>0.206</th>\n",
       "      <th>0.255</th>\n",
       "      <th>0.304</th>\n",
       "      <th>0.353</th>\n",
       "      <th>0.402</th>\n",
       "      <th>0.451</th>\n",
       "      <th>...</th>\n",
       "      <th>0.549</th>\n",
       "      <th>0.598</th>\n",
       "      <th>0.647</th>\n",
       "      <th>0.696</th>\n",
       "      <th>0.745</th>\n",
       "      <th>0.794</th>\n",
       "      <th>0.843</th>\n",
       "      <th>0.892</th>\n",
       "      <th>0.941</th>\n",
       "      <th>0.99</th>\n",
       "    </tr>\n",
       "  </thead>\n",
       "  <tbody>\n",
       "    <tr>\n",
       "      <th>3M</th>\n",
       "      <td>-0.116317</td>\n",
       "      <td>-0.078161</td>\n",
       "      <td>-0.061862</td>\n",
       "      <td>-0.050343</td>\n",
       "      <td>-0.041019</td>\n",
       "      <td>-0.032942</td>\n",
       "      <td>-0.025647</td>\n",
       "      <td>-0.018862</td>\n",
       "      <td>-0.012409</td>\n",
       "      <td>-0.006157</td>\n",
       "      <td>...</td>\n",
       "      <td>0.006157</td>\n",
       "      <td>0.012409</td>\n",
       "      <td>0.018862</td>\n",
       "      <td>0.025647</td>\n",
       "      <td>0.032942</td>\n",
       "      <td>0.041019</td>\n",
       "      <td>0.050343</td>\n",
       "      <td>0.061862</td>\n",
       "      <td>0.078161</td>\n",
       "      <td>0.116317</td>\n",
       "    </tr>\n",
       "    <tr>\n",
       "      <th>6M</th>\n",
       "      <td>-0.180947</td>\n",
       "      <td>-0.121590</td>\n",
       "      <td>-0.096234</td>\n",
       "      <td>-0.078316</td>\n",
       "      <td>-0.063811</td>\n",
       "      <td>-0.051246</td>\n",
       "      <td>-0.039897</td>\n",
       "      <td>-0.029342</td>\n",
       "      <td>-0.019303</td>\n",
       "      <td>-0.009578</td>\n",
       "      <td>...</td>\n",
       "      <td>0.009578</td>\n",
       "      <td>0.019303</td>\n",
       "      <td>0.029342</td>\n",
       "      <td>0.039897</td>\n",
       "      <td>0.051246</td>\n",
       "      <td>0.063811</td>\n",
       "      <td>0.078316</td>\n",
       "      <td>0.096234</td>\n",
       "      <td>0.121590</td>\n",
       "      <td>0.180947</td>\n",
       "    </tr>\n",
       "    <tr>\n",
       "      <th>9M</th>\n",
       "      <td>-0.241761</td>\n",
       "      <td>-0.162455</td>\n",
       "      <td>-0.128577</td>\n",
       "      <td>-0.104636</td>\n",
       "      <td>-0.085256</td>\n",
       "      <td>-0.068468</td>\n",
       "      <td>-0.053305</td>\n",
       "      <td>-0.039203</td>\n",
       "      <td>-0.025791</td>\n",
       "      <td>-0.012797</td>\n",
       "      <td>...</td>\n",
       "      <td>0.012797</td>\n",
       "      <td>0.025791</td>\n",
       "      <td>0.039203</td>\n",
       "      <td>0.053305</td>\n",
       "      <td>0.068468</td>\n",
       "      <td>0.085256</td>\n",
       "      <td>0.104636</td>\n",
       "      <td>0.128577</td>\n",
       "      <td>0.162455</td>\n",
       "      <td>0.241761</td>\n",
       "    </tr>\n",
       "    <tr>\n",
       "      <th>1Y</th>\n",
       "      <td>-0.302425</td>\n",
       "      <td>-0.203219</td>\n",
       "      <td>-0.160840</td>\n",
       "      <td>-0.130892</td>\n",
       "      <td>-0.106649</td>\n",
       "      <td>-0.085649</td>\n",
       "      <td>-0.066681</td>\n",
       "      <td>-0.049040</td>\n",
       "      <td>-0.032263</td>\n",
       "      <td>-0.016008</td>\n",
       "      <td>...</td>\n",
       "      <td>0.016008</td>\n",
       "      <td>0.032263</td>\n",
       "      <td>0.049040</td>\n",
       "      <td>0.066681</td>\n",
       "      <td>0.085649</td>\n",
       "      <td>0.106649</td>\n",
       "      <td>0.130892</td>\n",
       "      <td>0.160840</td>\n",
       "      <td>0.203219</td>\n",
       "      <td>0.302425</td>\n",
       "    </tr>\n",
       "  </tbody>\n",
       "</table>\n",
       "<p>4 rows × 21 columns</p>\n",
       "</div>"
      ],
      "text/plain": [
       "        0.01     0.059     0.108     0.157     0.206     0.255     0.304  \\\n",
       "3M -0.116317 -0.078161 -0.061862 -0.050343 -0.041019 -0.032942 -0.025647   \n",
       "6M -0.180947 -0.121590 -0.096234 -0.078316 -0.063811 -0.051246 -0.039897   \n",
       "9M -0.241761 -0.162455 -0.128577 -0.104636 -0.085256 -0.068468 -0.053305   \n",
       "1Y -0.302425 -0.203219 -0.160840 -0.130892 -0.106649 -0.085649 -0.066681   \n",
       "\n",
       "       0.353     0.402     0.451    ...        0.549     0.598     0.647  \\\n",
       "3M -0.018862 -0.012409 -0.006157    ...     0.006157  0.012409  0.018862   \n",
       "6M -0.029342 -0.019303 -0.009578    ...     0.009578  0.019303  0.029342   \n",
       "9M -0.039203 -0.025791 -0.012797    ...     0.012797  0.025791  0.039203   \n",
       "1Y -0.049040 -0.032263 -0.016008    ...     0.016008  0.032263  0.049040   \n",
       "\n",
       "       0.696     0.745     0.794     0.843     0.892     0.941      0.99  \n",
       "3M  0.025647  0.032942  0.041019  0.050343  0.061862  0.078161  0.116317  \n",
       "6M  0.039897  0.051246  0.063811  0.078316  0.096234  0.121590  0.180947  \n",
       "9M  0.053305  0.068468  0.085256  0.104636  0.128577  0.162455  0.241761  \n",
       "1Y  0.066681  0.085649  0.106649  0.130892  0.160840  0.203219  0.302425  \n",
       "\n",
       "[4 rows x 21 columns]"
      ]
     },
     "execution_count": 5,
     "metadata": {},
     "output_type": "execute_result"
    }
   ],
   "source": [
    "logstrikes"
   ]
  },
  {
   "cell_type": "code",
   "execution_count": 6,
   "metadata": {},
   "outputs": [
    {
     "data": {
      "text/html": [
       "<div>\n",
       "<table border=\"1\" class=\"dataframe\">\n",
       "  <thead>\n",
       "    <tr style=\"text-align: right;\">\n",
       "      <th></th>\n",
       "      <th>0.01</th>\n",
       "      <th>0.059</th>\n",
       "      <th>0.108</th>\n",
       "      <th>0.157</th>\n",
       "      <th>0.206</th>\n",
       "      <th>0.255</th>\n",
       "      <th>0.304</th>\n",
       "      <th>0.353</th>\n",
       "      <th>0.402</th>\n",
       "      <th>0.451</th>\n",
       "      <th>...</th>\n",
       "      <th>0.549</th>\n",
       "      <th>0.598</th>\n",
       "      <th>0.647</th>\n",
       "      <th>0.696</th>\n",
       "      <th>0.745</th>\n",
       "      <th>0.794</th>\n",
       "      <th>0.843</th>\n",
       "      <th>0.892</th>\n",
       "      <th>0.941</th>\n",
       "      <th>0.99</th>\n",
       "    </tr>\n",
       "  </thead>\n",
       "  <tbody>\n",
       "    <tr>\n",
       "      <th>3M</th>\n",
       "      <td>0.156675</td>\n",
       "      <td>0.124513</td>\n",
       "      <td>0.109667</td>\n",
       "      <td>0.098638</td>\n",
       "      <td>0.089309</td>\n",
       "      <td>0.080881</td>\n",
       "      <td>0.072940</td>\n",
       "      <td>0.065231</td>\n",
       "      <td>0.057582</td>\n",
       "      <td>0.049923</td>\n",
       "      <td>...</td>\n",
       "      <td>0.037447</td>\n",
       "      <td>0.037686</td>\n",
       "      <td>0.040936</td>\n",
       "      <td>0.045162</td>\n",
       "      <td>0.049867</td>\n",
       "      <td>0.055012</td>\n",
       "      <td>0.060776</td>\n",
       "      <td>0.067609</td>\n",
       "      <td>0.076778</td>\n",
       "      <td>0.096385</td>\n",
       "    </tr>\n",
       "    <tr>\n",
       "      <th>6M</th>\n",
       "      <td>0.174617</td>\n",
       "      <td>0.141916</td>\n",
       "      <td>0.126765</td>\n",
       "      <td>0.115500</td>\n",
       "      <td>0.105977</td>\n",
       "      <td>0.097392</td>\n",
       "      <td>0.089335</td>\n",
       "      <td>0.081564</td>\n",
       "      <td>0.073932</td>\n",
       "      <td>0.066394</td>\n",
       "      <td>...</td>\n",
       "      <td>0.053025</td>\n",
       "      <td>0.049936</td>\n",
       "      <td>0.050409</td>\n",
       "      <td>0.052965</td>\n",
       "      <td>0.056585</td>\n",
       "      <td>0.060929</td>\n",
       "      <td>0.066018</td>\n",
       "      <td>0.072201</td>\n",
       "      <td>0.080612</td>\n",
       "      <td>0.098722</td>\n",
       "    </tr>\n",
       "    <tr>\n",
       "      <th>9M</th>\n",
       "      <td>0.189826</td>\n",
       "      <td>0.156752</td>\n",
       "      <td>0.141411</td>\n",
       "      <td>0.130011</td>\n",
       "      <td>0.120389</td>\n",
       "      <td>0.111735</td>\n",
       "      <td>0.103642</td>\n",
       "      <td>0.095874</td>\n",
       "      <td>0.088294</td>\n",
       "      <td>0.080854</td>\n",
       "      <td>...</td>\n",
       "      <td>0.067186</td>\n",
       "      <td>0.062477</td>\n",
       "      <td>0.060582</td>\n",
       "      <td>0.061243</td>\n",
       "      <td>0.063562</td>\n",
       "      <td>0.066979</td>\n",
       "      <td>0.071347</td>\n",
       "      <td>0.076904</td>\n",
       "      <td>0.084673</td>\n",
       "      <td>0.101714</td>\n",
       "    </tr>\n",
       "    <tr>\n",
       "      <th>1Y</th>\n",
       "      <td>0.203556</td>\n",
       "      <td>0.170258</td>\n",
       "      <td>0.154818</td>\n",
       "      <td>0.143358</td>\n",
       "      <td>0.133704</td>\n",
       "      <td>0.125042</td>\n",
       "      <td>0.116967</td>\n",
       "      <td>0.109247</td>\n",
       "      <td>0.101747</td>\n",
       "      <td>0.094409</td>\n",
       "      <td>...</td>\n",
       "      <td>0.080657</td>\n",
       "      <td>0.075123</td>\n",
       "      <td>0.071556</td>\n",
       "      <td>0.070367</td>\n",
       "      <td>0.071192</td>\n",
       "      <td>0.073495</td>\n",
       "      <td>0.077010</td>\n",
       "      <td>0.081860</td>\n",
       "      <td>0.088956</td>\n",
       "      <td>0.105023</td>\n",
       "    </tr>\n",
       "  </tbody>\n",
       "</table>\n",
       "<p>4 rows × 21 columns</p>\n",
       "</div>"
      ],
      "text/plain": [
       "        0.01     0.059     0.108     0.157     0.206     0.255     0.304  \\\n",
       "3M  0.156675  0.124513  0.109667  0.098638  0.089309  0.080881  0.072940   \n",
       "6M  0.174617  0.141916  0.126765  0.115500  0.105977  0.097392  0.089335   \n",
       "9M  0.189826  0.156752  0.141411  0.130011  0.120389  0.111735  0.103642   \n",
       "1Y  0.203556  0.170258  0.154818  0.143358  0.133704  0.125042  0.116967   \n",
       "\n",
       "       0.353     0.402     0.451    ...        0.549     0.598     0.647  \\\n",
       "3M  0.065231  0.057582  0.049923    ...     0.037447  0.037686  0.040936   \n",
       "6M  0.081564  0.073932  0.066394    ...     0.053025  0.049936  0.050409   \n",
       "9M  0.095874  0.088294  0.080854    ...     0.067186  0.062477  0.060582   \n",
       "1Y  0.109247  0.101747  0.094409    ...     0.080657  0.075123  0.071556   \n",
       "\n",
       "       0.696     0.745     0.794     0.843     0.892     0.941      0.99  \n",
       "3M  0.045162  0.049867  0.055012  0.060776  0.067609  0.076778  0.096385  \n",
       "6M  0.052965  0.056585  0.060929  0.066018  0.072201  0.080612  0.098722  \n",
       "9M  0.061243  0.063562  0.066979  0.071347  0.076904  0.084673  0.101714  \n",
       "1Y  0.070367  0.071192  0.073495  0.077010  0.081860  0.088956  0.105023  \n",
       "\n",
       "[4 rows x 21 columns]"
      ]
     },
     "execution_count": 6,
     "metadata": {},
     "output_type": "execute_result"
    }
   ],
   "source": [
    "vols"
   ]
  },
  {
   "cell_type": "code",
   "execution_count": 7,
   "metadata": {},
   "outputs": [],
   "source": [
    "ξ = np.array([[0/12,0.10**2],\n",
    "              [3/12,0.12**2],\n",
    "              [6/12,0.14**2],\n",
    "              [9/12,0.16**2]])\n",
    "# ξ = np.array([[0/12,0.13**2]])\n",
    "ρ,ν,H,ɛ = -0.7,0.3,-0.5,1\n",
    "θ = ξ,ρ,ν,H,ɛ"
   ]
  },
  {
   "cell_type": "code",
   "execution_count": 8,
   "metadata": {},
   "outputs": [],
   "source": [
    "# t = 0.75\n",
    "# T = rp.truncate_curve(ξ[:,0],t)\n",
    "# # ξ = ξ[:len(T),1]\n",
    "# ξ = ξ[:len(T)-1,1]\n",
    "# Δξ = np.ediff1d(ξ,to_begin=ξ[0])\n",
    "# ΔTA = np.ediff1d(T)\n",
    "# ΔTB = t - T[:-1]\n",
    "# ΔTA\n",
    "# # ΔTB\n",
    "# ξ"
   ]
  },
  {
   "cell_type": "code",
   "execution_count": 9,
   "metadata": {},
   "outputs": [
    {
     "name": "stdout",
     "output_type": "stream",
     "text": [
      "reversion speed = 1.0\n",
      "vol vol = 0.3\n"
     ]
    }
   ],
   "source": [
    "print('reversion speed =', ɛ**-1)\n",
    "print('vol vol =', ν*ɛ**(H - 0.5))"
   ]
  },
  {
   "cell_type": "code",
   "execution_count": 30,
   "metadata": {
    "collapsed": true
   },
   "outputs": [],
   "source": [
    "ξ0 = 0.08**2\n",
    "ξ1 = 0.12**2\n",
    "α,β,ρ = 0.0001,2**8,-0.\n",
    "θ = ξ0,ξ1,α,β,ρ"
   ]
  },
  {
   "cell_type": "code",
   "execution_count": 40,
   "metadata": {},
   "outputs": [],
   "source": [
    "T = np.array([1])[:,nx]\n",
    "M = ['1Y']\n",
    "Δ = np.linspace(1,99,21)[nx,:]/100\n",
    "k = norm.ppf(Δ)*0.10*np.sqrt(T)\n",
    "# k = np.array(logstrikes)"
   ]
  },
  {
   "cell_type": "code",
   "execution_count": 32,
   "metadata": {
    "collapsed": true
   },
   "outputs": [],
   "source": [
    "# T = np.array([3/12,6/12,9/12,1])[:,nx]\n",
    "# M = ['3M','6M','9M','1Y']\n",
    "# Δ = np.linspace(1,99,21)[nx,:]/100\n",
    "# k = norm.ppf(Δ)*np.sqrt(np.max(ξ[:,1])*T)\n",
    "# k = np.array(logstrikes)"
   ]
  },
  {
   "cell_type": "code",
   "execution_count": 33,
   "metadata": {},
   "outputs": [
    {
     "data": {
      "text/html": [
       "<div>\n",
       "<table border=\"1\" class=\"dataframe\">\n",
       "  <thead>\n",
       "    <tr style=\"text-align: right;\">\n",
       "      <th></th>\n",
       "      <th>0.01</th>\n",
       "      <th>0.059</th>\n",
       "      <th>0.108</th>\n",
       "      <th>0.157</th>\n",
       "      <th>0.206</th>\n",
       "      <th>0.255</th>\n",
       "      <th>0.304</th>\n",
       "      <th>0.353</th>\n",
       "      <th>0.402</th>\n",
       "      <th>0.451</th>\n",
       "      <th>...</th>\n",
       "      <th>0.549</th>\n",
       "      <th>0.598</th>\n",
       "      <th>0.647</th>\n",
       "      <th>0.696</th>\n",
       "      <th>0.745</th>\n",
       "      <th>0.794</th>\n",
       "      <th>0.843</th>\n",
       "      <th>0.892</th>\n",
       "      <th>0.941</th>\n",
       "      <th>0.99</th>\n",
       "    </tr>\n",
       "  </thead>\n",
       "  <tbody>\n",
       "    <tr>\n",
       "      <th>6M</th>\n",
       "      <td>-0.213847</td>\n",
       "      <td>-0.143698</td>\n",
       "      <td>-0.113731</td>\n",
       "      <td>-0.092555</td>\n",
       "      <td>-0.075412</td>\n",
       "      <td>-0.060563</td>\n",
       "      <td>-0.047151</td>\n",
       "      <td>-0.034677</td>\n",
       "      <td>-0.022813</td>\n",
       "      <td>-0.011319</td>\n",
       "      <td>...</td>\n",
       "      <td>0.011319</td>\n",
       "      <td>0.022813</td>\n",
       "      <td>0.034677</td>\n",
       "      <td>0.047151</td>\n",
       "      <td>0.060563</td>\n",
       "      <td>0.075412</td>\n",
       "      <td>0.092555</td>\n",
       "      <td>0.113731</td>\n",
       "      <td>0.143698</td>\n",
       "      <td>0.213847</td>\n",
       "    </tr>\n",
       "    <tr>\n",
       "      <th>1Y</th>\n",
       "      <td>-0.302425</td>\n",
       "      <td>-0.203219</td>\n",
       "      <td>-0.160840</td>\n",
       "      <td>-0.130892</td>\n",
       "      <td>-0.106649</td>\n",
       "      <td>-0.085649</td>\n",
       "      <td>-0.066681</td>\n",
       "      <td>-0.049040</td>\n",
       "      <td>-0.032263</td>\n",
       "      <td>-0.016008</td>\n",
       "      <td>...</td>\n",
       "      <td>0.016008</td>\n",
       "      <td>0.032263</td>\n",
       "      <td>0.049040</td>\n",
       "      <td>0.066681</td>\n",
       "      <td>0.085649</td>\n",
       "      <td>0.106649</td>\n",
       "      <td>0.130892</td>\n",
       "      <td>0.160840</td>\n",
       "      <td>0.203219</td>\n",
       "      <td>0.302425</td>\n",
       "    </tr>\n",
       "  </tbody>\n",
       "</table>\n",
       "<p>2 rows × 21 columns</p>\n",
       "</div>"
      ],
      "text/plain": [
       "       0.010     0.059     0.108     0.157     0.206     0.255     0.304  \\\n",
       "6M -0.213847 -0.143698 -0.113731 -0.092555 -0.075412 -0.060563 -0.047151   \n",
       "1Y -0.302425 -0.203219 -0.160840 -0.130892 -0.106649 -0.085649 -0.066681   \n",
       "\n",
       "       0.353     0.402     0.451    ...        0.549     0.598     0.647  \\\n",
       "6M -0.034677 -0.022813 -0.011319    ...     0.011319  0.022813  0.034677   \n",
       "1Y -0.049040 -0.032263 -0.016008    ...     0.016008  0.032263  0.049040   \n",
       "\n",
       "       0.696     0.745     0.794     0.843     0.892     0.941     0.990  \n",
       "6M  0.047151  0.060563  0.075412  0.092555  0.113731  0.143698  0.213847  \n",
       "1Y  0.066681  0.085649  0.106649  0.130892  0.160840  0.203219  0.302425  \n",
       "\n",
       "[2 rows x 21 columns]"
      ]
     },
     "execution_count": 33,
     "metadata": {},
     "output_type": "execute_result"
    }
   ],
   "source": [
    "pd.DataFrame(k,index=M,columns=Δ[0,:])"
   ]
  },
  {
   "cell_type": "code",
   "execution_count": 34,
   "metadata": {
    "collapsed": true
   },
   "outputs": [],
   "source": [
    "# pd.DataFrame(k,index=M,columns=Δ[0,:]).to_csv('strikes-sigma-13.csv')"
   ]
  },
  {
   "cell_type": "code",
   "execution_count": 35,
   "metadata": {},
   "outputs": [],
   "source": [
    "C = rp.pricer(T,k,θ)"
   ]
  },
  {
   "cell_type": "code",
   "execution_count": 36,
   "metadata": {},
   "outputs": [],
   "source": [
    "BSV = rp.surface(T,k,C)"
   ]
  },
  {
   "cell_type": "code",
   "execution_count": 37,
   "metadata": {},
   "outputs": [
    {
     "data": {
      "text/html": [
       "<div>\n",
       "<table border=\"1\" class=\"dataframe\">\n",
       "  <thead>\n",
       "    <tr style=\"text-align: right;\">\n",
       "      <th></th>\n",
       "      <th>0.01</th>\n",
       "      <th>0.059</th>\n",
       "      <th>0.108</th>\n",
       "      <th>0.157</th>\n",
       "      <th>0.206</th>\n",
       "      <th>0.255</th>\n",
       "      <th>0.304</th>\n",
       "      <th>0.353</th>\n",
       "      <th>0.402</th>\n",
       "      <th>0.451</th>\n",
       "      <th>...</th>\n",
       "      <th>0.549</th>\n",
       "      <th>0.598</th>\n",
       "      <th>0.647</th>\n",
       "      <th>0.696</th>\n",
       "      <th>0.745</th>\n",
       "      <th>0.794</th>\n",
       "      <th>0.843</th>\n",
       "      <th>0.892</th>\n",
       "      <th>0.941</th>\n",
       "      <th>0.99</th>\n",
       "    </tr>\n",
       "  </thead>\n",
       "  <tbody>\n",
       "    <tr>\n",
       "      <th>6M</th>\n",
       "      <td>0.150776</td>\n",
       "      <td>0.150775</td>\n",
       "      <td>0.150775</td>\n",
       "      <td>0.150775</td>\n",
       "      <td>0.150775</td>\n",
       "      <td>0.150775</td>\n",
       "      <td>0.150775</td>\n",
       "      <td>0.150775</td>\n",
       "      <td>0.150775</td>\n",
       "      <td>0.150775</td>\n",
       "      <td>...</td>\n",
       "      <td>0.150775</td>\n",
       "      <td>0.150775</td>\n",
       "      <td>0.150775</td>\n",
       "      <td>0.150775</td>\n",
       "      <td>0.150775</td>\n",
       "      <td>0.150775</td>\n",
       "      <td>0.150775</td>\n",
       "      <td>0.150775</td>\n",
       "      <td>0.150775</td>\n",
       "      <td>0.150776</td>\n",
       "    </tr>\n",
       "    <tr>\n",
       "      <th>1Y</th>\n",
       "      <td>0.109844</td>\n",
       "      <td>0.109844</td>\n",
       "      <td>0.109844</td>\n",
       "      <td>0.109844</td>\n",
       "      <td>0.109844</td>\n",
       "      <td>0.109844</td>\n",
       "      <td>0.109844</td>\n",
       "      <td>0.109844</td>\n",
       "      <td>0.109844</td>\n",
       "      <td>0.109844</td>\n",
       "      <td>...</td>\n",
       "      <td>0.109844</td>\n",
       "      <td>0.109844</td>\n",
       "      <td>0.109844</td>\n",
       "      <td>0.109844</td>\n",
       "      <td>0.109844</td>\n",
       "      <td>0.109844</td>\n",
       "      <td>0.109844</td>\n",
       "      <td>0.109844</td>\n",
       "      <td>0.109844</td>\n",
       "      <td>0.109844</td>\n",
       "    </tr>\n",
       "  </tbody>\n",
       "</table>\n",
       "<p>2 rows × 21 columns</p>\n",
       "</div>"
      ],
      "text/plain": [
       "       0.010     0.059     0.108     0.157     0.206     0.255     0.304  \\\n",
       "6M  0.150776  0.150775  0.150775  0.150775  0.150775  0.150775  0.150775   \n",
       "1Y  0.109844  0.109844  0.109844  0.109844  0.109844  0.109844  0.109844   \n",
       "\n",
       "       0.353     0.402     0.451    ...        0.549     0.598     0.647  \\\n",
       "6M  0.150775  0.150775  0.150775    ...     0.150775  0.150775  0.150775   \n",
       "1Y  0.109844  0.109844  0.109844    ...     0.109844  0.109844  0.109844   \n",
       "\n",
       "       0.696     0.745     0.794     0.843     0.892     0.941     0.990  \n",
       "6M  0.150775  0.150775  0.150775  0.150775  0.150775  0.150775  0.150776  \n",
       "1Y  0.109844  0.109844  0.109844  0.109844  0.109844  0.109844  0.109844  \n",
       "\n",
       "[2 rows x 21 columns]"
      ]
     },
     "execution_count": 37,
     "metadata": {},
     "output_type": "execute_result"
    }
   ],
   "source": [
    "pd.DataFrame(BSV,index=M,columns=Δ[0,:])"
   ]
  },
  {
   "cell_type": "code",
   "execution_count": 38,
   "metadata": {
    "collapsed": true
   },
   "outputs": [],
   "source": [
    "# pd.DataFrame(BSV,index=M,columns=Δ[0,:]).to_csv('vols-sigma-13.csv')"
   ]
  },
  {
   "cell_type": "code",
   "execution_count": 39,
   "metadata": {},
   "outputs": [
    {
     "data": {
      "image/png": "[encoded data removed]",
      "text/plain": [
       "<matplotlib.figure.Figure at 0x11f4f2160>"
      ]
     },
     "metadata": {},
     "output_type": "display_data"
    }
   ],
   "source": [
    "plot,axes = plt.subplots()\n",
    "for i in range(len(T[:,0])):\n",
    "    axes.plot(k[i,:],100*BSV[i,:])\n",
    "    axes.set_xlabel(r'$k$')\n",
    "    axes.set_ylabel(r'$\\bar{\\sigma}(k,\\tau)$')\n",
    "#     axes.set_ylim([0,30])"
   ]
  },
  {
   "cell_type": "code",
   "execution_count": 20,
   "metadata": {
    "collapsed": true
   },
   "outputs": [],
   "source": [
    "BSV_MKT = np.array(vols)"
   ]
  },
  {
   "cell_type": "code",
   "execution_count": 21,
   "metadata": {},
   "outputs": [
    {
     "data": {
      "image/png": "[encoded data removed]",
      "text/plain": [
       "<matplotlib.figure.Figure at 0x11eaf7fd0>"
      ]
     },
     "metadata": {},
     "output_type": "display_data"
    },
    {
     "data": {
      "image/png": "[encoded data removed]",
      "text/plain": [
       "<matplotlib.figure.Figure at 0x11ebddeb8>"
      ]
     },
     "metadata": {},
     "output_type": "display_data"
    }
   ],
   "source": [
    "for i in range(len(T[:,0])):\n",
    "    plot,axes = plt.subplots()\n",
    "    axes.plot(k[i,:],100*BSV[i,:],'r')\n",
    "    axes.plot(k[i,:],100*BSV_MKT[2*i+1,:],'b')\n",
    "    axes.set_xlabel(r'$k$')\n",
    "    axes.set_ylabel(r'$\\bar{\\sigma}(k,\\tau)$')\n",
    "#     axes.set_ylim([0,30])"
   ]
  },
  {
   "cell_type": "code",
   "execution_count": null,
   "metadata": {
    "collapsed": true
   },
   "outputs": [],
   "source": []
  },
  {
   "cell_type": "code",
   "execution_count": null,
   "metadata": {
    "collapsed": true
   },
   "outputs": [],
   "source": []
  },
  {
   "cell_type": "code",
   "execution_count": null,
   "metadata": {
    "collapsed": true
   },
   "outputs": [],
   "source": []
  },
  {
   "cell_type": "code",
   "execution_count": null,
   "metadata": {
    "collapsed": true
   },
   "outputs": [],
   "source": []
  },
  {
   "cell_type": "code",
   "execution_count": null,
   "metadata": {
    "collapsed": true
   },
   "outputs": [],
   "source": []
  },
  {
   "cell_type": "code",
   "execution_count": null,
   "metadata": {
    "collapsed": true
   },
   "outputs": [],
   "source": [
    "ξ0 = 0.10**2\n",
    "ξ1 = 0.14**2\n",
    "α,β,ρ = 0.5,256/16,-0.7\n",
    "params = ξ0,ξ1,α,β,ρ\n",
    "def char_func(u,t,params):\n",
    "    ξ0,ξ1,α,β,ρ = params\n",
    "    κ,λ = β,α*β\n",
    "    i=1j\n",
    "    d = np.sqrt((ρ*λ*u*i-κ)**2+λ**2*(i*u+u**2))\n",
    "    g1 = (κ-ρ*λ*i*u+d)/(κ-ρ*λ*i*u-d)\n",
    "    g2 = 1/g1\n",
    "    \n",
    "    A  = (ξ0 -  0)*κ*λ**-2*((κ-ρ*λ*i*u-d)*t-2*np.log((1-g2*np.exp(-d*t))/(1-g2)))\n",
    "    A += (ξ1 - ξ0)*κ*λ**-2*((κ-ρ*λ*i*u-d)*0.5-2*np.log((1-g2*np.exp(-d*0.5))/(1-g2)))\n",
    "    B  = ξ0*λ**-2*(κ-ρ*λ*i*u-d)*(1-np.exp(-d*0.5))/(1-g2*np.exp(-d*0.5))\n",
    "    B += ξ1*λ**-2*(κ-ρ*λ*i*u-d)*(1-np.exp(-d*0.5))/(1-g2*np.exp(-d*0.5))\n",
    "    \n",
    "    return np.exp(A + B)"
   ]
  }
 ],
 "metadata": {
  "anaconda-cloud": {},
  "kernelspec": {
   "display_name": "Python [default]",
   "language": "python",
   "name": "python3"
  },
  "language_info": {
   "codemirror_mode": {
    "name": "ipython",
    "version": 3
   },
   "file_extension": ".py",
   "mimetype": "text/x-python",
   "name": "python",
   "nbconvert_exporter": "python",
   "pygments_lexer": "ipython3",
   "version": "3.5.2"
  }
 },
 "nbformat": 4,
 "nbformat_minor": 2
}
