{
 "cells": [
  {
   "cell_type": "markdown",
   "metadata": {},
   "source": [
    "## Major goal here is to get time-dependent characteristic function clarified and working."
   ]
  },
  {
   "cell_type": "code",
   "execution_count": 1,
   "metadata": {},
   "outputs": [],
   "source": [
    "import os\n",
    "os.chdir(r'/Users/rmccrickerd/desktop/jdheston')"
   ]
  },
  {
   "cell_type": "code",
   "execution_count": 2,
   "metadata": {},
   "outputs": [],
   "source": [
    "import numpy as np\n",
    "import pandas as pd\n",
    "from jdheston import jdheston as jdh\n",
    "from jdheston import utils as uts\n",
    "from jdheston import config as cfg\n",
    "from matplotlib import pyplot as plt\n",
    "from scipy.stats import norm\n",
    "from scipy.special import gamma\n",
    "# import mpl\n",
    "# %matplotlib inline"
   ]
  },
  {
   "cell_type": "code",
   "execution_count": 3,
   "metadata": {},
   "outputs": [],
   "source": [
    "nx = np.newaxis\n",
    "cfg.config(scale=1.5,print_keys=False)"
   ]
  },
  {
   "cell_type": "code",
   "execution_count": 4,
   "metadata": {},
   "outputs": [],
   "source": [
    "x = 0.5\n",
    "y = 0.5"
   ]
  },
  {
   "cell_type": "code",
   "execution_count": 5,
   "metadata": {},
   "outputs": [
    {
     "data": {
      "text/plain": [
       "(0.32798893924286976, 0.32798893924286976)"
      ]
     },
     "execution_count": 5,
     "metadata": {},
     "output_type": "execute_result"
    }
   ],
   "source": [
    "uts.log_cosh_sinh(x,y), np.log(np.cosh(x) + y*np.sinh(x))"
   ]
  },
  {
   "cell_type": "code",
   "execution_count": 6,
   "metadata": {},
   "outputs": [
    {
     "data": {
      "text/plain": [
       "(0.7815364548539281, 0.7815364548539282)"
      ]
     },
     "execution_count": 6,
     "metadata": {},
     "output_type": "execute_result"
    }
   ],
   "source": [
    "uts.tanh_frac(x,y), (y + np.tanh(x))/(1 + y*np.tanh(x))"
   ]
  },
  {
   "cell_type": "code",
   "execution_count": 7,
   "metadata": {},
   "outputs": [],
   "source": [
    "T = np.array([1/12,3/12,6/12,1])[:,nx]\n",
    "# M = ['1W','1M','3M','6M','9M','1Y']\n",
    "Δ = np.linspace(5,95,19)[nx,:]/100\n",
    "k = norm.ppf(Δ)*0.1*np.sqrt(T)"
   ]
  },
  {
   "cell_type": "code",
   "execution_count": 8,
   "metadata": {},
   "outputs": [
    {
     "data": {
      "text/html": [
       "<div>\n",
       "<style scoped>\n",
       "    .dataframe tbody tr th:only-of-type {\n",
       "        vertical-align: middle;\n",
       "    }\n",
       "\n",
       "    .dataframe tbody tr th {\n",
       "        vertical-align: top;\n",
       "    }\n",
       "\n",
       "    .dataframe thead th {\n",
       "        text-align: right;\n",
       "    }\n",
       "</style>\n",
       "<table border=\"1\" class=\"dataframe\">\n",
       "  <thead>\n",
       "    <tr style=\"text-align: right;\">\n",
       "      <th></th>\n",
       "      <th>0.05</th>\n",
       "      <th>0.1</th>\n",
       "      <th>0.15</th>\n",
       "      <th>0.2</th>\n",
       "      <th>0.25</th>\n",
       "      <th>0.3</th>\n",
       "      <th>0.35</th>\n",
       "      <th>0.4</th>\n",
       "      <th>0.45</th>\n",
       "      <th>0.5</th>\n",
       "      <th>0.55</th>\n",
       "      <th>0.6</th>\n",
       "      <th>0.65</th>\n",
       "      <th>0.7</th>\n",
       "      <th>0.75</th>\n",
       "      <th>0.8</th>\n",
       "      <th>0.85</th>\n",
       "      <th>0.9</th>\n",
       "      <th>0.95</th>\n",
       "    </tr>\n",
       "  </thead>\n",
       "  <tbody>\n",
       "    <tr>\n",
       "      <th>0.083333</th>\n",
       "      <td>-0.047483</td>\n",
       "      <td>-0.036995</td>\n",
       "      <td>-0.029919</td>\n",
       "      <td>-0.024296</td>\n",
       "      <td>-0.019471</td>\n",
       "      <td>-0.015138</td>\n",
       "      <td>-0.011123</td>\n",
       "      <td>-0.007314</td>\n",
       "      <td>-0.003628</td>\n",
       "      <td>0.0</td>\n",
       "      <td>0.003628</td>\n",
       "      <td>0.007314</td>\n",
       "      <td>0.011123</td>\n",
       "      <td>0.015138</td>\n",
       "      <td>0.019471</td>\n",
       "      <td>0.024296</td>\n",
       "      <td>0.029919</td>\n",
       "      <td>0.036995</td>\n",
       "      <td>0.047483</td>\n",
       "    </tr>\n",
       "    <tr>\n",
       "      <th>0.250000</th>\n",
       "      <td>-0.082243</td>\n",
       "      <td>-0.064078</td>\n",
       "      <td>-0.051822</td>\n",
       "      <td>-0.042081</td>\n",
       "      <td>-0.033724</td>\n",
       "      <td>-0.026220</td>\n",
       "      <td>-0.019266</td>\n",
       "      <td>-0.012667</td>\n",
       "      <td>-0.006283</td>\n",
       "      <td>0.0</td>\n",
       "      <td>0.006283</td>\n",
       "      <td>0.012667</td>\n",
       "      <td>0.019266</td>\n",
       "      <td>0.026220</td>\n",
       "      <td>0.033724</td>\n",
       "      <td>0.042081</td>\n",
       "      <td>0.051822</td>\n",
       "      <td>0.064078</td>\n",
       "      <td>0.082243</td>\n",
       "    </tr>\n",
       "    <tr>\n",
       "      <th>0.500000</th>\n",
       "      <td>-0.116309</td>\n",
       "      <td>-0.090619</td>\n",
       "      <td>-0.073287</td>\n",
       "      <td>-0.059512</td>\n",
       "      <td>-0.047694</td>\n",
       "      <td>-0.037081</td>\n",
       "      <td>-0.027246</td>\n",
       "      <td>-0.017914</td>\n",
       "      <td>-0.008886</td>\n",
       "      <td>0.0</td>\n",
       "      <td>0.008886</td>\n",
       "      <td>0.017914</td>\n",
       "      <td>0.027246</td>\n",
       "      <td>0.037081</td>\n",
       "      <td>0.047694</td>\n",
       "      <td>0.059512</td>\n",
       "      <td>0.073287</td>\n",
       "      <td>0.090619</td>\n",
       "      <td>0.116309</td>\n",
       "    </tr>\n",
       "    <tr>\n",
       "      <th>1.000000</th>\n",
       "      <td>-0.164485</td>\n",
       "      <td>-0.128155</td>\n",
       "      <td>-0.103643</td>\n",
       "      <td>-0.084162</td>\n",
       "      <td>-0.067449</td>\n",
       "      <td>-0.052440</td>\n",
       "      <td>-0.038532</td>\n",
       "      <td>-0.025335</td>\n",
       "      <td>-0.012566</td>\n",
       "      <td>0.0</td>\n",
       "      <td>0.012566</td>\n",
       "      <td>0.025335</td>\n",
       "      <td>0.038532</td>\n",
       "      <td>0.052440</td>\n",
       "      <td>0.067449</td>\n",
       "      <td>0.084162</td>\n",
       "      <td>0.103643</td>\n",
       "      <td>0.128155</td>\n",
       "      <td>0.164485</td>\n",
       "    </tr>\n",
       "  </tbody>\n",
       "</table>\n",
       "</div>"
      ],
      "text/plain": [
       "              0.05      0.10      0.15      0.20      0.25      0.30  \\\n",
       "0.083333 -0.047483 -0.036995 -0.029919 -0.024296 -0.019471 -0.015138   \n",
       "0.250000 -0.082243 -0.064078 -0.051822 -0.042081 -0.033724 -0.026220   \n",
       "0.500000 -0.116309 -0.090619 -0.073287 -0.059512 -0.047694 -0.037081   \n",
       "1.000000 -0.164485 -0.128155 -0.103643 -0.084162 -0.067449 -0.052440   \n",
       "\n",
       "              0.35      0.40      0.45  0.50      0.55      0.60      0.65  \\\n",
       "0.083333 -0.011123 -0.007314 -0.003628   0.0  0.003628  0.007314  0.011123   \n",
       "0.250000 -0.019266 -0.012667 -0.006283   0.0  0.006283  0.012667  0.019266   \n",
       "0.500000 -0.027246 -0.017914 -0.008886   0.0  0.008886  0.017914  0.027246   \n",
       "1.000000 -0.038532 -0.025335 -0.012566   0.0  0.012566  0.025335  0.038532   \n",
       "\n",
       "              0.70      0.75      0.80      0.85      0.90      0.95  \n",
       "0.083333  0.015138  0.019471  0.024296  0.029919  0.036995  0.047483  \n",
       "0.250000  0.026220  0.033724  0.042081  0.051822  0.064078  0.082243  \n",
       "0.500000  0.037081  0.047694  0.059512  0.073287  0.090619  0.116309  \n",
       "1.000000  0.052440  0.067449  0.084162  0.103643  0.128155  0.164485  "
      ]
     },
     "execution_count": 8,
     "metadata": {},
     "output_type": "execute_result"
    }
   ],
   "source": [
    "pd.DataFrame(k,index=T[:,0],columns=np.round(Δ[0,:],2))"
   ]
  },
  {
   "cell_type": "markdown",
   "metadata": {},
   "source": [
    "Forward variance appears to scale fine for low epsilon but not high. Feels like implicit SDE is not parameterised as want -- to give the right expectation."
   ]
  },
  {
   "cell_type": "code",
   "execution_count": 9,
   "metadata": {},
   "outputs": [],
   "source": [
    "times   = np.array([0,1/12,3/12,6/12])\n",
    "sigma   = np.array([ 0.1])*np.ones_like(times)\n",
    "rho     = np.array([ 0.0])*np.ones_like(times)\n",
    "vee     = np.array([ 1])*np.ones_like(times)\n",
    "epsilon = np.array([ 1])*np.ones_like(times)"
   ]
  },
  {
   "cell_type": "code",
   "execution_count": 10,
   "metadata": {},
   "outputs": [],
   "source": [
    "epsilon[-1] = 0"
   ]
  },
  {
   "cell_type": "code",
   "execution_count": 11,
   "metadata": {},
   "outputs": [
    {
     "data": {
      "text/plain": [
       "0.15811388300841897"
      ]
     },
     "execution_count": 11,
     "metadata": {},
     "output_type": "execute_result"
    }
   ],
   "source": [
    "np.sqrt(np.mean([0.1**2, 0.2**2]))"
   ]
  },
  {
   "cell_type": "code",
   "execution_count": 12,
   "metadata": {},
   "outputs": [
    {
     "data": {
      "text/plain": [
       "array([[0.  , 0.1 , 0.  , 1.  , 1.  ],\n",
       "       [0.08, 0.1 , 0.  , 1.  , 1.  ],\n",
       "       [0.25, 0.1 , 0.  , 1.  , 1.  ],\n",
       "       [0.5 , 0.1 , 0.  , 1.  , 0.  ]])"
      ]
     },
     "execution_count": 12,
     "metadata": {},
     "output_type": "execute_result"
    }
   ],
   "source": [
    "params  = np.array([times, sigma, rho, vee, epsilon]).T\n",
    "np.round(params,2)"
   ]
  },
  {
   "cell_type": "code",
   "execution_count": 13,
   "metadata": {},
   "outputs": [
    {
     "data": {
      "text/plain": [
       "array([[0.08, 0.1 , 0.  , 1.  , 1.  ],\n",
       "       [0.17, 0.1 , 0.  , 1.  , 1.  ],\n",
       "       [0.25, 0.1 , 0.  , 1.  , 1.  ],\n",
       "       [0.5 , 0.1 , 0.  , 1.  , 0.  ]])"
      ]
     },
     "execution_count": 13,
     "metadata": {},
     "output_type": "execute_result"
    }
   ],
   "source": [
    "np.round(jdh.parameter_steps(params,1),2)"
   ]
  },
  {
   "cell_type": "code",
   "execution_count": 14,
   "metadata": {},
   "outputs": [],
   "source": [
    "maturities = T\n",
    "logstrikes = k"
   ]
  },
  {
   "cell_type": "code",
   "execution_count": 15,
   "metadata": {},
   "outputs": [],
   "source": [
    "call_prices = jdh.jdh_pricer(maturities, logstrikes, params)"
   ]
  },
  {
   "cell_type": "code",
   "execution_count": 16,
   "metadata": {},
   "outputs": [],
   "source": [
    "implied_vols = jdh.surface(maturities, logstrikes, call_prices)"
   ]
  },
  {
   "cell_type": "code",
   "execution_count": 17,
   "metadata": {},
   "outputs": [
    {
     "data": {
      "text/html": [
       "<div>\n",
       "<style scoped>\n",
       "    .dataframe tbody tr th:only-of-type {\n",
       "        vertical-align: middle;\n",
       "    }\n",
       "\n",
       "    .dataframe tbody tr th {\n",
       "        vertical-align: top;\n",
       "    }\n",
       "\n",
       "    .dataframe thead th {\n",
       "        text-align: right;\n",
       "    }\n",
       "</style>\n",
       "<table border=\"1\" class=\"dataframe\">\n",
       "  <thead>\n",
       "    <tr style=\"text-align: right;\">\n",
       "      <th></th>\n",
       "      <th>0.05</th>\n",
       "      <th>0.1</th>\n",
       "      <th>0.15</th>\n",
       "      <th>0.2</th>\n",
       "      <th>0.25</th>\n",
       "      <th>0.3</th>\n",
       "      <th>0.35</th>\n",
       "      <th>0.4</th>\n",
       "      <th>0.45</th>\n",
       "      <th>0.5</th>\n",
       "      <th>0.55</th>\n",
       "      <th>0.6</th>\n",
       "      <th>0.65</th>\n",
       "      <th>0.7</th>\n",
       "      <th>0.75</th>\n",
       "      <th>0.8</th>\n",
       "      <th>0.85</th>\n",
       "      <th>0.9</th>\n",
       "      <th>0.95</th>\n",
       "    </tr>\n",
       "  </thead>\n",
       "  <tbody>\n",
       "    <tr>\n",
       "      <th>0.083333</th>\n",
       "      <td>0.100546</td>\n",
       "      <td>0.100210</td>\n",
       "      <td>0.100027</td>\n",
       "      <td>0.099908</td>\n",
       "      <td>0.099825</td>\n",
       "      <td>0.099765</td>\n",
       "      <td>0.099723</td>\n",
       "      <td>0.099695</td>\n",
       "      <td>0.099679</td>\n",
       "      <td>0.099673</td>\n",
       "      <td>0.099679</td>\n",
       "      <td>0.099695</td>\n",
       "      <td>0.099723</td>\n",
       "      <td>0.099765</td>\n",
       "      <td>0.099825</td>\n",
       "      <td>0.099908</td>\n",
       "      <td>0.100027</td>\n",
       "      <td>0.100210</td>\n",
       "      <td>0.100546</td>\n",
       "    </tr>\n",
       "    <tr>\n",
       "      <th>0.250000</th>\n",
       "      <td>0.101400</td>\n",
       "      <td>0.100557</td>\n",
       "      <td>0.100083</td>\n",
       "      <td>0.099768</td>\n",
       "      <td>0.099545</td>\n",
       "      <td>0.099384</td>\n",
       "      <td>0.099270</td>\n",
       "      <td>0.099193</td>\n",
       "      <td>0.099148</td>\n",
       "      <td>0.099134</td>\n",
       "      <td>0.099148</td>\n",
       "      <td>0.099193</td>\n",
       "      <td>0.099270</td>\n",
       "      <td>0.099384</td>\n",
       "      <td>0.099545</td>\n",
       "      <td>0.099768</td>\n",
       "      <td>0.100083</td>\n",
       "      <td>0.100557</td>\n",
       "      <td>0.101400</td>\n",
       "    </tr>\n",
       "    <tr>\n",
       "      <th>0.500000</th>\n",
       "      <td>0.102252</td>\n",
       "      <td>0.100917</td>\n",
       "      <td>0.100147</td>\n",
       "      <td>0.099628</td>\n",
       "      <td>0.099255</td>\n",
       "      <td>0.098984</td>\n",
       "      <td>0.098790</td>\n",
       "      <td>0.098659</td>\n",
       "      <td>0.098583</td>\n",
       "      <td>0.098558</td>\n",
       "      <td>0.098583</td>\n",
       "      <td>0.098659</td>\n",
       "      <td>0.098790</td>\n",
       "      <td>0.098984</td>\n",
       "      <td>0.099255</td>\n",
       "      <td>0.099628</td>\n",
       "      <td>0.100147</td>\n",
       "      <td>0.100917</td>\n",
       "      <td>0.102252</td>\n",
       "    </tr>\n",
       "    <tr>\n",
       "      <th>1.000000</th>\n",
       "      <td>0.105211</td>\n",
       "      <td>0.101653</td>\n",
       "      <td>0.099686</td>\n",
       "      <td>0.098396</td>\n",
       "      <td>0.097491</td>\n",
       "      <td>0.096842</td>\n",
       "      <td>0.096383</td>\n",
       "      <td>0.096076</td>\n",
       "      <td>0.095899</td>\n",
       "      <td>0.095841</td>\n",
       "      <td>0.095899</td>\n",
       "      <td>0.096076</td>\n",
       "      <td>0.096383</td>\n",
       "      <td>0.096842</td>\n",
       "      <td>0.097491</td>\n",
       "      <td>0.098396</td>\n",
       "      <td>0.099686</td>\n",
       "      <td>0.101653</td>\n",
       "      <td>0.105211</td>\n",
       "    </tr>\n",
       "  </tbody>\n",
       "</table>\n",
       "</div>"
      ],
      "text/plain": [
       "              0.05      0.10      0.15      0.20      0.25      0.30  \\\n",
       "0.083333  0.100546  0.100210  0.100027  0.099908  0.099825  0.099765   \n",
       "0.250000  0.101400  0.100557  0.100083  0.099768  0.099545  0.099384   \n",
       "0.500000  0.102252  0.100917  0.100147  0.099628  0.099255  0.098984   \n",
       "1.000000  0.105211  0.101653  0.099686  0.098396  0.097491  0.096842   \n",
       "\n",
       "              0.35      0.40      0.45      0.50      0.55      0.60  \\\n",
       "0.083333  0.099723  0.099695  0.099679  0.099673  0.099679  0.099695   \n",
       "0.250000  0.099270  0.099193  0.099148  0.099134  0.099148  0.099193   \n",
       "0.500000  0.098790  0.098659  0.098583  0.098558  0.098583  0.098659   \n",
       "1.000000  0.096383  0.096076  0.095899  0.095841  0.095899  0.096076   \n",
       "\n",
       "              0.65      0.70      0.75      0.80      0.85      0.90      0.95  \n",
       "0.083333  0.099723  0.099765  0.099825  0.099908  0.100027  0.100210  0.100546  \n",
       "0.250000  0.099270  0.099384  0.099545  0.099768  0.100083  0.100557  0.101400  \n",
       "0.500000  0.098790  0.098984  0.099255  0.099628  0.100147  0.100917  0.102252  \n",
       "1.000000  0.096383  0.096842  0.097491  0.098396  0.099686  0.101653  0.105211  "
      ]
     },
     "execution_count": 17,
     "metadata": {},
     "output_type": "execute_result"
    }
   ],
   "source": [
    "pd.DataFrame(implied_vols,index=T[:,0],columns=Δ[0,:])"
   ]
  },
  {
   "cell_type": "code",
   "execution_count": 18,
   "metadata": {},
   "outputs": [],
   "source": [
    "# plt.rcParams['figure.figsize'] = [2*1.618*2,2*3]\n",
    "# plt.rcParams['legend.loc'] = 'lower left'"
   ]
  },
  {
   "cell_type": "code",
   "execution_count": 19,
   "metadata": {},
   "outputs": [
    {
     "data": {
      "image/png": "[encoded data removed]",
      "text/plain": [
       "<Figure size 450x253.125 with 1 Axes>"
      ]
     },
     "metadata": {
      "needs_background": "light"
     },
     "output_type": "display_data"
    }
   ],
   "source": [
    "plot,axes = plt.subplots()\n",
    "for i in range(len(T[:,0])):\n",
    "    axes.plot(k[i,:],100*implied_vols[i,:])\n",
    "    axes.set_xlabel(r'$k$')\n",
    "    axes.set_ylabel(r'$\\bar{\\sigma}(k,\\tau)$')\n",
    "# plt.savefig('temp')"
   ]
  },
  {
   "cell_type": "code",
   "execution_count": null,
   "metadata": {},
   "outputs": [],
   "source": []
  }
 ],
 "metadata": {
  "anaconda-cloud": {},
  "kernelspec": {
   "display_name": "Python 3",
   "language": "python",
   "name": "python3"
  },
  "language_info": {
   "codemirror_mode": {
    "name": "ipython",
    "version": 3
   },
   "file_extension": ".py",
   "mimetype": "text/x-python",
   "name": "python",
   "nbconvert_exporter": "python",
   "pygments_lexer": "ipython3",
   "version": "3.7.3"
  }
 },
 "nbformat": 4,
 "nbformat_minor": 2
}
