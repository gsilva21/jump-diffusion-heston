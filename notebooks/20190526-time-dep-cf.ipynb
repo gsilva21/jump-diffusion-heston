{
 "cells": [
  {
   "cell_type": "code",
   "execution_count": 1,
   "metadata": {
    "collapsed": true
   },
   "outputs": [],
   "source": [
    "import os\n",
    "os.chdir(r'/Users/ryanmccrickerd/desktop/rypy')"
   ]
  },
  {
   "cell_type": "code",
   "execution_count": 2,
   "metadata": {
    "collapsed": true
   },
   "outputs": [],
   "source": [
    "import numpy as np\n",
    "import pandas as pd\n",
    "import rypy as rp\n",
    "from matplotlib import pyplot as plt\n",
    "from scipy.stats import norm\n",
    "import mpl\n",
    "% matplotlib inline"
   ]
  },
  {
   "cell_type": "code",
   "execution_count": 3,
   "metadata": {
    "collapsed": true
   },
   "outputs": [],
   "source": [
    "nx = np.newaxis\n",
    "mpl.config(scale=1.5,print_keys=False)"
   ]
  },
  {
   "cell_type": "code",
   "execution_count": 4,
   "metadata": {
    "collapsed": true
   },
   "outputs": [],
   "source": [
    "plt.rcParams['figure.figsize'] = [3*1.618,3]\n",
    "plt.rcParams['legend.loc'] = 'center left'"
   ]
  },
  {
   "cell_type": "code",
   "execution_count": 5,
   "metadata": {
    "collapsed": true
   },
   "outputs": [],
   "source": [
    "t = np.linspace(0,1,1001)\n",
    "u1,u2 = 1,0\n",
    "u = u1,u2"
   ]
  },
  {
   "cell_type": "markdown",
   "metadata": {},
   "source": [
    "Set recurring parameters"
   ]
  },
  {
   "cell_type": "code",
   "execution_count": 6,
   "metadata": {
    "collapsed": true
   },
   "outputs": [],
   "source": [
    "V0 = 0.02\n",
    "θ = 0.01\n",
    "ρ = 0.7\n",
    "ν = 1.5\n",
    "H = -1\n",
    "ɛ = 1/256\n",
    "params = ɛ,H,ν,V0,θ"
   ]
  },
  {
   "cell_type": "code",
   "execution_count": 168,
   "metadata": {},
   "outputs": [
    {
     "name": "stdout",
     "output_type": "stream",
     "text": [
      "Starting level = 14.1 %\n",
      "Reversion level = 42.4 %\n"
     ]
    }
   ],
   "source": [
    "print('Starting level =',np.round(100*np.sqrt(V0),1),'%')\n",
    "print('Reversion level =',np.round(100*np.sqrt(V0 + ɛ**(H + 0.5)*θ),1),'%')"
   ]
  },
  {
   "cell_type": "code",
   "execution_count": 72,
   "metadata": {},
   "outputs": [
    {
     "data": {
      "text/plain": [
       "array([3, 2, 2])"
      ]
     },
     "execution_count": 72,
     "metadata": {},
     "output_type": "execute_result"
    }
   ],
   "source": [
    "T = 7\n",
    "ξ = np.array([0,3,5])\n",
    "ξ2 = ξ\n",
    "if np.prod(ξ - T) != 0: \n",
    "    ξ2 = np.append(ξ,T)\n",
    "ξ2 = np.sort(ξ2)\n",
    "mask = (ξ2 <= T)\n",
    "ξ2 = ξ2[mask]\n",
    "ξ2 = np.ediff1d(ξ2)\n",
    "ξ2"
   ]
  },
  {
   "cell_type": "code",
   "execution_count": 77,
   "metadata": {
    "collapsed": true
   },
   "outputs": [],
   "source": [
    "def truncate_curve(time_points_in, time_horizon):\n",
    "    time_points_out = time_points_in\n",
    "    if np.prod(time_horizon - time_points_out) != 0: \n",
    "        time_points_out = np.append(time_points_out, time_horizon)\n",
    "    time_points_out = np.sort(time_points_out)\n",
    "    mask = (time_points_out <= time_horizon)\n",
    "    time_points_out = time_points_out[mask]\n",
    "    return np.ediff1d(time_points_out)"
   ]
  },
  {
   "cell_type": "code",
   "execution_count": 86,
   "metadata": {},
   "outputs": [
    {
     "data": {
      "text/plain": [
       "array([ 3,  2, 95])"
      ]
     },
     "execution_count": 86,
     "metadata": {},
     "output_type": "execute_result"
    }
   ],
   "source": [
    "t = 100\n",
    "ξ = np.array([0,3,5])\n",
    "truncate_curve(ξ,t)"
   ]
  },
  {
   "cell_type": "code",
   "execution_count": 56,
   "metadata": {},
   "outputs": [
    {
     "data": {
      "text/plain": [
       "4"
      ]
     },
     "execution_count": 56,
     "metadata": {},
     "output_type": "execute_result"
    }
   ],
   "source": [
    "np.prod(ξ - T)"
   ]
  },
  {
   "cell_type": "code",
   "execution_count": 12,
   "metadata": {},
   "outputs": [
    {
     "data": {
      "text/plain": [
       "(2, 2)"
      ]
     },
     "execution_count": 12,
     "metadata": {},
     "output_type": "execute_result"
    }
   ],
   "source": [
    "ξ2 = np.zeros((sum(T >= ξ[:,0]),2))\n",
    "ξ2.shape"
   ]
  },
  {
   "cell_type": "code",
   "execution_count": 9,
   "metadata": {},
   "outputs": [
    {
     "data": {
      "text/plain": [
       "array([[ 2.  ,  0.02],\n",
       "       [ 2.  ,  0.03]])"
      ]
     },
     "execution_count": 9,
     "metadata": {},
     "output_type": "execute_result"
    }
   ],
   "source": [
    "T = 5\n",
    "ξ2 = ξ    \n",
    "for i in range(ξ.shape[0])\n",
    "    \n",
    "    \n",
    "    if T > ξ[i+1,0]:\n",
    "        ξ2[i,0] = ξ[i+1,0] - ξ[i,0]\n",
    "    else: ξ2[i,0] = T - ξ[i,0]\n",
    "ξ2"
   ]
  },
  {
   "cell_type": "code",
   "execution_count": 121,
   "metadata": {},
   "outputs": [
    {
     "data": {
      "text/plain": [
       "array([[ 1.  ,  0.02],\n",
       "       [ 2.  ,  0.02],\n",
       "       [ 0.7 ,  0.1 ]])"
      ]
     },
     "execution_count": 121,
     "metadata": {},
     "output_type": "execute_result"
    }
   ],
   "source": [
    "ξ = np.array([[0,0.02],\n",
    "              [1,0.02],\n",
    "              [3,0.1]])\n",
    "t = 3.7\n",
    "times = truncate_curve(ξ[:,0],t)\n",
    "ξ = np.vstack((times, ξ[:len(times),1])).T\n",
    "ξ"
   ]
  },
  {
   "cell_type": "code",
   "execution_count": 122,
   "metadata": {},
   "outputs": [],
   "source": [
    "def char_func(u,t,params):\n",
    "    ξ,ρ,ν,H,ɛ = params\n",
    "    times = truncate_curve(ξ[:,0],t)\n",
    "    ξ = np.vstack((times, ξ[:len(times),1])).T\n",
    "    # first deal with NIG limit\n",
    "    if ɛ == 0:\n",
    "        C = 1/ν**2*(1 - ρ*ν*u - np.sqrt((1 - ρ*ν*u)**2 + ν**2*u*(1 - u)))\n",
    "        return np.exp(C*np.sum(ξ[:,0]*ξ[:,1]))\n",
    "    # otherwise change to convenient notation\n",
    "    α = ν*ɛ**(H + 0.5)\n",
    "    β = ɛ**-1\n",
    "    #     γ = V0 + θ*ɛ**(H + 0.5)\n",
    "    θ1 = 1 - α*ρ*u\n",
    "    θ2 = np.sqrt(θ1**2 + α**2*u*(1 - u))\n",
    "    θ3 = 0.5*β*θ2\n",
    "    ΣA = np.sum((θ1*ξ[:,0] - θ2/θ3*np.log(np.cosh(θ3*ξ[:,0]) + θ1/θ2*np.sinh(θ3*ξ[:,0])))*ξ[:,1]/α**2)\n",
    "    B = (θ1 - θ2*(θ1 + θ2*np.tanh(θ3*t))/(θ2 + θ1*np.tanh(θ3*t)))/β/α**2\n",
    "    return np.exp(ΣA + B*ξ[0,1])"
   ]
  },
  {
   "cell_type": "code",
   "execution_count": null,
   "metadata": {
    "collapsed": true
   },
   "outputs": [],
   "source": [
    "# log-price characteristic function\n",
    "# time-dep fwd var accepted\n",
    "def log_price_cf(u,t,params):\n",
    "    ξ,ρ,ν,H,ɛ = params\n",
    "    \n",
    "    # first deal with levy limits\n",
    "    T = truncate_curve(ξ[:,0],t)\n",
    "    if ɛ == 0:\n",
    "        # also assumes H=-0.5, otherwise nonsense\n",
    "        C = (1 - ρ*ν*u - np.sqrt((1 - ρ*ν*u)**2 + ν**2*u*(1 - u)))/ν**2\n",
    "        Σ = T*ξ[:len(T),1]\n",
    "        return np.exp(C*Σ)\n",
    "    # otherwise change to convenient notation\n",
    "    # fac = (0.5 - H)**(H - 0.5), ν *= fac, \n",
    "    α = ν*ɛ**(H + 0.5)\n",
    "    β = ɛ**-1\n",
    "    γ = ξ\n",
    "    θ1 = 1 - α*ρ*u\n",
    "    θ2 = np.sqrt(θ1**2 + α**2*u*(1 - u))\n",
    "    θ3 = 0.5*β*θ2\n",
    "    S,C,T = np.sinh(θ3*t),np.cosh(θ3*t),np.tanh(θ3*t)\n",
    "    A = (θ1*t - θ2/θ3*np.log(C + θ1/θ2*S))*γ/α**2\n",
    "    B = (θ1 - θ2*(θ1 + θ2*T)/(θ2 + θ1*T))/β/α**2\n",
    "    return np.exp(ΣA + ΣBξ)"
   ]
  },
  {
   "cell_type": "code",
   "execution_count": null,
   "metadata": {
    "collapsed": true
   },
   "outputs": [],
   "source": []
  },
  {
   "cell_type": "code",
   "execution_count": null,
   "metadata": {
    "collapsed": true
   },
   "outputs": [],
   "source": [
    "def clean_func(u,t,ρ,ν,H,ɛ):\n",
    "    "
   ]
  },
  {
   "cell_type": "code",
   "execution_count": null,
   "metadata": {
    "collapsed": true
   },
   "outputs": [],
   "source": []
  },
  {
   "cell_type": "code",
   "execution_count": 169,
   "metadata": {},
   "outputs": [
    {
     "data": {
      "image/png": "[encoded data removed]",
      "text/plain": [
       "<matplotlib.figure.Figure at 0x11e67efd0>"
      ]
     },
     "metadata": {},
     "output_type": "display_data"
    }
   ],
   "source": [
    "plot,axes = plt.subplots()\n",
    "\n",
    "# now plot passage to limit\n",
    "for ɛ in 2.**(-np.arange(0,10,2)):\n",
    "    params = V0,θ,ρ,ν,H,ɛ\n",
    "    M = rp.joint_mgf(u,t,params)\n",
    "    axes.plot(t,np.log(M)/t)\n",
    "\n",
    "# plot the limit\n",
    "params = V0,θ,ρ,ν,H,0\n",
    "M = rp.joint_mgf(u,t,params)\n",
    "axes.plot(t,np.log(M)/t,'k:',lw=1.5)\n",
    "\n",
    "axes.set_title(r'$V_0=%.2f,\\ \\theta=%.2f,\\ \\rho=%.1f,\\ \\nu=%.1f,\\ H=%.1f$'%(V0,θ,ρ,ν,H))\n",
    "axes.set_xlabel(r'$t$')\n",
    "axes.set_ylabel(r'$t^{-1}K^\\varepsilon(u;t)$')\n",
    "axes.legend([r'$\\varepsilon = 1$',\n",
    "             r'$\\varepsilon = 2^{-2}$',\n",
    "             r'$\\varepsilon = 2^{-4}$',\n",
    "             r'$\\varepsilon = 2^{-6}$',\n",
    "             r'$\\varepsilon = 2^{-8}$',\n",
    "             r'$\\varepsilon = 0$'], loc='center left', bbox_to_anchor=(1, 0.5))\n",
    "# axes.set_ylim([-0.0025,0.0005])\n",
    "plt.tight_layout()\n",
    "# fname = r'joint-mgf-converge-6'\n",
    "# plt.savefig(fname)"
   ]
  },
  {
   "cell_type": "code",
   "execution_count": 248,
   "metadata": {},
   "outputs": [
    {
     "data": {
      "image/png": "[encoded data removed]",
      "text/plain": [
       "<matplotlib.figure.Figure at 0x11e771b70>"
      ]
     },
     "metadata": {},
     "output_type": "display_data"
    }
   ],
   "source": [
    "plot,axes = plt.subplots()\n",
    "\n",
    "# plot the limit\n",
    "params = V0,θ,ρ,ν,H,0\n",
    "M = rp.log_price_mgf(u,t,params)\n",
    "axes.plot(t,np.log(M)/t,'r:')\n",
    "\n",
    "# now plot passage to limit\n",
    "for ɛ in 2.**(np.arange(-12,-2,2)):\n",
    "    params = V0,θ,ρ,ν,H,ɛ\n",
    "    M = rp.log_price_mgf(u,t,params)\n",
    "    axes.plot(t,np.log(M)/t)\n",
    "\n",
    "axes.set_title(r'$V_0=%.2f,\\ \\theta=%.2f,\\ \\rho=%.1f,\\ \\nu=%.1f,\\ H=%.01f,\\ u=%.1f$'%(V0,θ,ρ,ν,H,u))\n",
    "axes.set_xlabel(r'$t$')\n",
    "axes.set_ylabel(r'$t^{-1}K^\\varepsilon(u;t)$')\n",
    "axes.legend([r'$\\varepsilon = 0$',\n",
    "             r'$\\varepsilon = 2^{-8}$',\n",
    "             r'$\\varepsilon = 2^{-6}$',\n",
    "             r'$\\varepsilon = 2^{-4}$',\n",
    "             r'$\\varepsilon = 2^{-2}$',\n",
    "             r'$\\varepsilon = 1$'], loc='center left', bbox_to_anchor=(1, 0.5))\n",
    "# axes.set_ylim([-0.0025,0.0005])\n",
    "plt.tight_layout()\n",
    "# fname = r'converge-6'\n",
    "# plt.savefig(fname)"
   ]
  },
  {
   "cell_type": "code",
   "execution_count": null,
   "metadata": {
    "collapsed": true
   },
   "outputs": [],
   "source": []
  }
 ],
 "metadata": {
  "anaconda-cloud": {},
  "kernelspec": {
   "display_name": "Python [default]",
   "language": "python",
   "name": "python3"
  },
  "language_info": {
   "codemirror_mode": {
    "name": "ipython",
    "version": 3
   },
   "file_extension": ".py",
   "mimetype": "text/x-python",
   "name": "python",
   "nbconvert_exporter": "python",
   "pygments_lexer": "ipython3",
   "version": "3.5.2"
  }
 },
 "nbformat": 4,
 "nbformat_minor": 2
}
