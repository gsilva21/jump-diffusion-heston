{
 "cells": [
  {
   "cell_type": "code",
   "execution_count": 1,
   "metadata": {
    "collapsed": true
   },
   "outputs": [],
   "source": [
    "import os\n",
    "os.chdir(r'/Users/ryanmccrickerd/desktop/rypy')"
   ]
  },
  {
   "cell_type": "code",
   "execution_count": 2,
   "metadata": {
    "collapsed": true
   },
   "outputs": [],
   "source": [
    "import numpy as np\n",
    "import pandas as pd\n",
    "import rypy as rp\n",
    "from matplotlib import pyplot as plt\n",
    "from scipy.stats import norm\n",
    "import mpl\n",
    "% matplotlib inline"
   ]
  },
  {
   "cell_type": "code",
   "execution_count": 3,
   "metadata": {
    "collapsed": true
   },
   "outputs": [],
   "source": [
    "nx = np.newaxis\n",
    "mpl.config(scale=1.5,print_keys=False)"
   ]
  },
  {
   "cell_type": "code",
   "execution_count": 20,
   "metadata": {
    "collapsed": true
   },
   "outputs": [],
   "source": [
    "ξ0 = 0.16**2\n",
    "ξ1 = 0.22**2\n",
    "α,β,ρ = 0.001,256/16,-0.\n",
    "θ = ξ0,ξ1,α,β,ρ"
   ]
  },
  {
   "cell_type": "code",
   "execution_count": 21,
   "metadata": {
    "collapsed": true
   },
   "outputs": [],
   "source": [
    "T = np.array([1])[:,nx]\n",
    "M = ['1Y']\n",
    "Δ = np.linspace(1,99,21)[nx,:]/100\n",
    "k = norm.ppf(Δ)*0.20*np.sqrt(T)"
   ]
  },
  {
   "cell_type": "code",
   "execution_count": 22,
   "metadata": {},
   "outputs": [
    {
     "data": {
      "text/html": [
       "<div>\n",
       "<table border=\"1\" class=\"dataframe\">\n",
       "  <thead>\n",
       "    <tr style=\"text-align: right;\">\n",
       "      <th></th>\n",
       "      <th>0.01</th>\n",
       "      <th>0.059</th>\n",
       "      <th>0.108</th>\n",
       "      <th>0.157</th>\n",
       "      <th>0.206</th>\n",
       "      <th>0.255</th>\n",
       "      <th>0.304</th>\n",
       "      <th>0.353</th>\n",
       "      <th>0.402</th>\n",
       "      <th>0.451</th>\n",
       "      <th>...</th>\n",
       "      <th>0.549</th>\n",
       "      <th>0.598</th>\n",
       "      <th>0.647</th>\n",
       "      <th>0.696</th>\n",
       "      <th>0.745</th>\n",
       "      <th>0.794</th>\n",
       "      <th>0.843</th>\n",
       "      <th>0.892</th>\n",
       "      <th>0.941</th>\n",
       "      <th>0.99</th>\n",
       "    </tr>\n",
       "  </thead>\n",
       "  <tbody>\n",
       "    <tr>\n",
       "      <th>1Y</th>\n",
       "      <td>-0.46527</td>\n",
       "      <td>-0.312645</td>\n",
       "      <td>-0.247447</td>\n",
       "      <td>-0.201373</td>\n",
       "      <td>-0.164076</td>\n",
       "      <td>-0.131768</td>\n",
       "      <td>-0.102586</td>\n",
       "      <td>-0.075447</td>\n",
       "      <td>-0.049635</td>\n",
       "      <td>-0.024627</td>\n",
       "      <td>...</td>\n",
       "      <td>0.024627</td>\n",
       "      <td>0.049635</td>\n",
       "      <td>0.075447</td>\n",
       "      <td>0.102586</td>\n",
       "      <td>0.131768</td>\n",
       "      <td>0.164076</td>\n",
       "      <td>0.201373</td>\n",
       "      <td>0.247447</td>\n",
       "      <td>0.312645</td>\n",
       "      <td>0.46527</td>\n",
       "    </tr>\n",
       "  </tbody>\n",
       "</table>\n",
       "<p>1 rows × 21 columns</p>\n",
       "</div>"
      ],
      "text/plain": [
       "      0.010     0.059     0.108     0.157     0.206     0.255     0.304  \\\n",
       "1Y -0.46527 -0.312645 -0.247447 -0.201373 -0.164076 -0.131768 -0.102586   \n",
       "\n",
       "       0.353     0.402     0.451   ...        0.549     0.598     0.647  \\\n",
       "1Y -0.075447 -0.049635 -0.024627   ...     0.024627  0.049635  0.075447   \n",
       "\n",
       "       0.696     0.745     0.794     0.843     0.892     0.941    0.990  \n",
       "1Y  0.102586  0.131768  0.164076  0.201373  0.247447  0.312645  0.46527  \n",
       "\n",
       "[1 rows x 21 columns]"
      ]
     },
     "execution_count": 22,
     "metadata": {},
     "output_type": "execute_result"
    }
   ],
   "source": [
    "pd.DataFrame(k,index=M,columns=Δ[0,:])"
   ]
  },
  {
   "cell_type": "code",
   "execution_count": 23,
   "metadata": {},
   "outputs": [],
   "source": [
    "C = rp.pricer(T,k,θ)"
   ]
  },
  {
   "cell_type": "code",
   "execution_count": 24,
   "metadata": {
    "collapsed": true
   },
   "outputs": [],
   "source": [
    "BSV = rp.surface(T,k,C)"
   ]
  },
  {
   "cell_type": "code",
   "execution_count": 25,
   "metadata": {},
   "outputs": [
    {
     "data": {
      "text/html": [
       "<div>\n",
       "<table border=\"1\" class=\"dataframe\">\n",
       "  <thead>\n",
       "    <tr style=\"text-align: right;\">\n",
       "      <th></th>\n",
       "      <th>0.01</th>\n",
       "      <th>0.059</th>\n",
       "      <th>0.108</th>\n",
       "      <th>0.157</th>\n",
       "      <th>0.206</th>\n",
       "      <th>0.255</th>\n",
       "      <th>0.304</th>\n",
       "      <th>0.353</th>\n",
       "      <th>0.402</th>\n",
       "      <th>0.451</th>\n",
       "      <th>...</th>\n",
       "      <th>0.549</th>\n",
       "      <th>0.598</th>\n",
       "      <th>0.647</th>\n",
       "      <th>0.696</th>\n",
       "      <th>0.745</th>\n",
       "      <th>0.794</th>\n",
       "      <th>0.843</th>\n",
       "      <th>0.892</th>\n",
       "      <th>0.941</th>\n",
       "      <th>0.99</th>\n",
       "    </tr>\n",
       "  </thead>\n",
       "  <tbody>\n",
       "    <tr>\n",
       "      <th>1Y</th>\n",
       "      <td>0.198012</td>\n",
       "      <td>0.19801</td>\n",
       "      <td>0.19801</td>\n",
       "      <td>0.19801</td>\n",
       "      <td>0.198009</td>\n",
       "      <td>0.198009</td>\n",
       "      <td>0.198009</td>\n",
       "      <td>0.198009</td>\n",
       "      <td>0.198009</td>\n",
       "      <td>0.198009</td>\n",
       "      <td>...</td>\n",
       "      <td>0.198009</td>\n",
       "      <td>0.198009</td>\n",
       "      <td>0.198009</td>\n",
       "      <td>0.198009</td>\n",
       "      <td>0.198009</td>\n",
       "      <td>0.198009</td>\n",
       "      <td>0.19801</td>\n",
       "      <td>0.19801</td>\n",
       "      <td>0.19801</td>\n",
       "      <td>0.198012</td>\n",
       "    </tr>\n",
       "  </tbody>\n",
       "</table>\n",
       "<p>1 rows × 21 columns</p>\n",
       "</div>"
      ],
      "text/plain": [
       "       0.010    0.059    0.108    0.157     0.206     0.255     0.304  \\\n",
       "1Y  0.198012  0.19801  0.19801  0.19801  0.198009  0.198009  0.198009   \n",
       "\n",
       "       0.353     0.402     0.451    ...        0.549     0.598     0.647  \\\n",
       "1Y  0.198009  0.198009  0.198009    ...     0.198009  0.198009  0.198009   \n",
       "\n",
       "       0.696     0.745     0.794    0.843    0.892    0.941     0.990  \n",
       "1Y  0.198009  0.198009  0.198009  0.19801  0.19801  0.19801  0.198012  \n",
       "\n",
       "[1 rows x 21 columns]"
      ]
     },
     "execution_count": 25,
     "metadata": {},
     "output_type": "execute_result"
    }
   ],
   "source": [
    "pd.DataFrame(BSV,index=M,columns=Δ[0,:])"
   ]
  },
  {
   "cell_type": "code",
   "execution_count": 26,
   "metadata": {},
   "outputs": [
    {
     "data": {
      "image/png": "[encoded data removed]",
      "text/plain": [
       "<matplotlib.figure.Figure at 0x11eaa4278>"
      ]
     },
     "metadata": {},
     "output_type": "display_data"
    }
   ],
   "source": [
    "plot,axes = plt.subplots()\n",
    "for i in range(len(T[:,0])):\n",
    "    axes.plot(k[i,:],100*BSV[i,:])\n",
    "    axes.set_xlabel(r'$k$')\n",
    "    axes.set_ylabel(r'$\\bar{\\sigma}(k,\\tau)$')\n",
    "#     axes.set_ylim([15,25])"
   ]
  },
  {
   "cell_type": "code",
   "execution_count": 27,
   "metadata": {},
   "outputs": [
    {
     "data": {
      "text/plain": [
       "0.19800958015896594"
      ]
     },
     "execution_count": 27,
     "metadata": {},
     "output_type": "execute_result"
    }
   ],
   "source": [
    "np.mean(BSV)"
   ]
  },
  {
   "cell_type": "code",
   "execution_count": null,
   "metadata": {
    "collapsed": true
   },
   "outputs": [],
   "source": []
  }
 ],
 "metadata": {
  "anaconda-cloud": {},
  "kernelspec": {
   "display_name": "Python [default]",
   "language": "python",
   "name": "python3"
  },
  "language_info": {
   "codemirror_mode": {
    "name": "ipython",
    "version": 3
   },
   "file_extension": ".py",
   "mimetype": "text/x-python",
   "name": "python",
   "nbconvert_exporter": "python",
   "pygments_lexer": "ipython3",
   "version": "3.5.2"
  }
 },
 "nbformat": 4,
 "nbformat_minor": 2
}
