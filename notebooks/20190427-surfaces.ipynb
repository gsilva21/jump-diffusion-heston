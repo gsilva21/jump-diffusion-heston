{
 "cells": [
  {
   "cell_type": "code",
   "execution_count": 97,
   "metadata": {
    "collapsed": true
   },
   "outputs": [],
   "source": [
    "import os\n",
    "os.chdir(r'/Users/ryanmccrickerd/desktop/rypy')"
   ]
  },
  {
   "cell_type": "code",
   "execution_count": 98,
   "metadata": {
    "collapsed": true
   },
   "outputs": [],
   "source": [
    "import numpy as np\n",
    "import pandas as pd\n",
    "import rypy as rp\n",
    "from matplotlib import pyplot as plt\n",
    "from scipy.stats import norm\n",
    "import mpl\n",
    "% matplotlib inline"
   ]
  },
  {
   "cell_type": "code",
   "execution_count": 99,
   "metadata": {
    "collapsed": true
   },
   "outputs": [],
   "source": [
    "nx = np.newaxis\n",
    "mpl.config(scale=1.5,print_keys=False)"
   ]
  },
  {
   "cell_type": "code",
   "execution_count": 100,
   "metadata": {
    "collapsed": true
   },
   "outputs": [],
   "source": [
    "σ,ρ,v,κ = np.sqrt(0.02),-0.7,1,np.inf\n",
    "θ = σ,ρ,v,κ"
   ]
  },
  {
   "cell_type": "code",
   "execution_count": 101,
   "metadata": {
    "collapsed": true
   },
   "outputs": [],
   "source": [
    "T = np.array([1/52,2/52,1/12,1/4,1/2,1])[:,nx]\n",
    "M = ['1W','2W','1M','3M','6M','1Y']\n",
    "Δ = np.linspace(1,99,21)[nx,:]/100\n",
    "Δ = np.linspace(1,99,21)[nx,:]/100\n",
    "k = (norm.ppf(Δ)*σ*np.sqrt(T))"
   ]
  },
  {
   "cell_type": "code",
   "execution_count": 102,
   "metadata": {},
   "outputs": [
    {
     "data": {
      "text/html": [
       "<div>\n",
       "<table border=\"1\" class=\"dataframe\">\n",
       "  <thead>\n",
       "    <tr style=\"text-align: right;\">\n",
       "      <th></th>\n",
       "      <th>0.01</th>\n",
       "      <th>0.059</th>\n",
       "      <th>0.108</th>\n",
       "      <th>0.157</th>\n",
       "      <th>0.206</th>\n",
       "      <th>0.255</th>\n",
       "      <th>0.304</th>\n",
       "      <th>0.353</th>\n",
       "      <th>0.402</th>\n",
       "      <th>0.451</th>\n",
       "      <th>...</th>\n",
       "      <th>0.549</th>\n",
       "      <th>0.598</th>\n",
       "      <th>0.647</th>\n",
       "      <th>0.696</th>\n",
       "      <th>0.745</th>\n",
       "      <th>0.794</th>\n",
       "      <th>0.843</th>\n",
       "      <th>0.892</th>\n",
       "      <th>0.941</th>\n",
       "      <th>0.99</th>\n",
       "    </tr>\n",
       "  </thead>\n",
       "  <tbody>\n",
       "    <tr>\n",
       "      <th>1W</th>\n",
       "      <td>-0.045623</td>\n",
       "      <td>-0.030657</td>\n",
       "      <td>-0.024264</td>\n",
       "      <td>-0.019746</td>\n",
       "      <td>-0.016089</td>\n",
       "      <td>-0.012921</td>\n",
       "      <td>-0.010059</td>\n",
       "      <td>-0.007398</td>\n",
       "      <td>-0.004867</td>\n",
       "      <td>-0.002415</td>\n",
       "      <td>...</td>\n",
       "      <td>0.002415</td>\n",
       "      <td>0.004867</td>\n",
       "      <td>0.007398</td>\n",
       "      <td>0.010059</td>\n",
       "      <td>0.012921</td>\n",
       "      <td>0.016089</td>\n",
       "      <td>0.019746</td>\n",
       "      <td>0.024264</td>\n",
       "      <td>0.030657</td>\n",
       "      <td>0.045623</td>\n",
       "    </tr>\n",
       "    <tr>\n",
       "      <th>2W</th>\n",
       "      <td>-0.064521</td>\n",
       "      <td>-0.043356</td>\n",
       "      <td>-0.034315</td>\n",
       "      <td>-0.027925</td>\n",
       "      <td>-0.022753</td>\n",
       "      <td>-0.018273</td>\n",
       "      <td>-0.014226</td>\n",
       "      <td>-0.010463</td>\n",
       "      <td>-0.006883</td>\n",
       "      <td>-0.003415</td>\n",
       "      <td>...</td>\n",
       "      <td>0.003415</td>\n",
       "      <td>0.006883</td>\n",
       "      <td>0.010463</td>\n",
       "      <td>0.014226</td>\n",
       "      <td>0.018273</td>\n",
       "      <td>0.022753</td>\n",
       "      <td>0.027925</td>\n",
       "      <td>0.034315</td>\n",
       "      <td>0.043356</td>\n",
       "      <td>0.064521</td>\n",
       "    </tr>\n",
       "    <tr>\n",
       "      <th>1M</th>\n",
       "      <td>-0.094973</td>\n",
       "      <td>-0.063818</td>\n",
       "      <td>-0.050510</td>\n",
       "      <td>-0.041105</td>\n",
       "      <td>-0.033492</td>\n",
       "      <td>-0.026897</td>\n",
       "      <td>-0.020940</td>\n",
       "      <td>-0.015400</td>\n",
       "      <td>-0.010132</td>\n",
       "      <td>-0.005027</td>\n",
       "      <td>...</td>\n",
       "      <td>0.005027</td>\n",
       "      <td>0.010132</td>\n",
       "      <td>0.015400</td>\n",
       "      <td>0.020940</td>\n",
       "      <td>0.026897</td>\n",
       "      <td>0.033492</td>\n",
       "      <td>0.041105</td>\n",
       "      <td>0.050510</td>\n",
       "      <td>0.063818</td>\n",
       "      <td>0.094973</td>\n",
       "    </tr>\n",
       "    <tr>\n",
       "      <th>3M</th>\n",
       "      <td>-0.164498</td>\n",
       "      <td>-0.110537</td>\n",
       "      <td>-0.087486</td>\n",
       "      <td>-0.071196</td>\n",
       "      <td>-0.058010</td>\n",
       "      <td>-0.046587</td>\n",
       "      <td>-0.036270</td>\n",
       "      <td>-0.026674</td>\n",
       "      <td>-0.017549</td>\n",
       "      <td>-0.008707</td>\n",
       "      <td>...</td>\n",
       "      <td>0.008707</td>\n",
       "      <td>0.017549</td>\n",
       "      <td>0.026674</td>\n",
       "      <td>0.036270</td>\n",
       "      <td>0.046587</td>\n",
       "      <td>0.058010</td>\n",
       "      <td>0.071196</td>\n",
       "      <td>0.087486</td>\n",
       "      <td>0.110537</td>\n",
       "      <td>0.164498</td>\n",
       "    </tr>\n",
       "    <tr>\n",
       "      <th>6M</th>\n",
       "      <td>-0.232635</td>\n",
       "      <td>-0.156322</td>\n",
       "      <td>-0.123723</td>\n",
       "      <td>-0.100686</td>\n",
       "      <td>-0.082038</td>\n",
       "      <td>-0.065884</td>\n",
       "      <td>-0.051293</td>\n",
       "      <td>-0.037723</td>\n",
       "      <td>-0.024817</td>\n",
       "      <td>-0.012314</td>\n",
       "      <td>...</td>\n",
       "      <td>0.012314</td>\n",
       "      <td>0.024817</td>\n",
       "      <td>0.037723</td>\n",
       "      <td>0.051293</td>\n",
       "      <td>0.065884</td>\n",
       "      <td>0.082038</td>\n",
       "      <td>0.100686</td>\n",
       "      <td>0.123723</td>\n",
       "      <td>0.156322</td>\n",
       "      <td>0.232635</td>\n",
       "    </tr>\n",
       "    <tr>\n",
       "      <th>1Y</th>\n",
       "      <td>-0.328995</td>\n",
       "      <td>-0.221073</td>\n",
       "      <td>-0.174971</td>\n",
       "      <td>-0.142392</td>\n",
       "      <td>-0.116019</td>\n",
       "      <td>-0.093174</td>\n",
       "      <td>-0.072539</td>\n",
       "      <td>-0.053349</td>\n",
       "      <td>-0.035097</td>\n",
       "      <td>-0.017414</td>\n",
       "      <td>...</td>\n",
       "      <td>0.017414</td>\n",
       "      <td>0.035097</td>\n",
       "      <td>0.053349</td>\n",
       "      <td>0.072539</td>\n",
       "      <td>0.093174</td>\n",
       "      <td>0.116019</td>\n",
       "      <td>0.142392</td>\n",
       "      <td>0.174971</td>\n",
       "      <td>0.221073</td>\n",
       "      <td>0.328995</td>\n",
       "    </tr>\n",
       "  </tbody>\n",
       "</table>\n",
       "<p>6 rows × 21 columns</p>\n",
       "</div>"
      ],
      "text/plain": [
       "       0.010     0.059     0.108     0.157     0.206     0.255     0.304  \\\n",
       "1W -0.045623 -0.030657 -0.024264 -0.019746 -0.016089 -0.012921 -0.010059   \n",
       "2W -0.064521 -0.043356 -0.034315 -0.027925 -0.022753 -0.018273 -0.014226   \n",
       "1M -0.094973 -0.063818 -0.050510 -0.041105 -0.033492 -0.026897 -0.020940   \n",
       "3M -0.164498 -0.110537 -0.087486 -0.071196 -0.058010 -0.046587 -0.036270   \n",
       "6M -0.232635 -0.156322 -0.123723 -0.100686 -0.082038 -0.065884 -0.051293   \n",
       "1Y -0.328995 -0.221073 -0.174971 -0.142392 -0.116019 -0.093174 -0.072539   \n",
       "\n",
       "       0.353     0.402     0.451    ...        0.549     0.598     0.647  \\\n",
       "1W -0.007398 -0.004867 -0.002415    ...     0.002415  0.004867  0.007398   \n",
       "2W -0.010463 -0.006883 -0.003415    ...     0.003415  0.006883  0.010463   \n",
       "1M -0.015400 -0.010132 -0.005027    ...     0.005027  0.010132  0.015400   \n",
       "3M -0.026674 -0.017549 -0.008707    ...     0.008707  0.017549  0.026674   \n",
       "6M -0.037723 -0.024817 -0.012314    ...     0.012314  0.024817  0.037723   \n",
       "1Y -0.053349 -0.035097 -0.017414    ...     0.017414  0.035097  0.053349   \n",
       "\n",
       "       0.696     0.745     0.794     0.843     0.892     0.941     0.990  \n",
       "1W  0.010059  0.012921  0.016089  0.019746  0.024264  0.030657  0.045623  \n",
       "2W  0.014226  0.018273  0.022753  0.027925  0.034315  0.043356  0.064521  \n",
       "1M  0.020940  0.026897  0.033492  0.041105  0.050510  0.063818  0.094973  \n",
       "3M  0.036270  0.046587  0.058010  0.071196  0.087486  0.110537  0.164498  \n",
       "6M  0.051293  0.065884  0.082038  0.100686  0.123723  0.156322  0.232635  \n",
       "1Y  0.072539  0.093174  0.116019  0.142392  0.174971  0.221073  0.328995  \n",
       "\n",
       "[6 rows x 21 columns]"
      ]
     },
     "execution_count": 102,
     "metadata": {},
     "output_type": "execute_result"
    }
   ],
   "source": [
    "pd.DataFrame(k,index=M,columns=Δ[0,:])"
   ]
  },
  {
   "cell_type": "code",
   "execution_count": 103,
   "metadata": {
    "collapsed": true
   },
   "outputs": [],
   "source": [
    "C = rp.pricer(T,k,θ)"
   ]
  },
  {
   "cell_type": "code",
   "execution_count": 104,
   "metadata": {
    "collapsed": true
   },
   "outputs": [],
   "source": [
    "BSV = rp.surface(T,k,C)"
   ]
  },
  {
   "cell_type": "code",
   "execution_count": 105,
   "metadata": {},
   "outputs": [
    {
     "data": {
      "text/html": [
       "<div>\n",
       "<table border=\"1\" class=\"dataframe\">\n",
       "  <thead>\n",
       "    <tr style=\"text-align: right;\">\n",
       "      <th></th>\n",
       "      <th>0.01</th>\n",
       "      <th>0.059</th>\n",
       "      <th>0.108</th>\n",
       "      <th>0.157</th>\n",
       "      <th>0.206</th>\n",
       "      <th>0.255</th>\n",
       "      <th>0.304</th>\n",
       "      <th>0.353</th>\n",
       "      <th>0.402</th>\n",
       "      <th>0.451</th>\n",
       "      <th>...</th>\n",
       "      <th>0.549</th>\n",
       "      <th>0.598</th>\n",
       "      <th>0.647</th>\n",
       "      <th>0.696</th>\n",
       "      <th>0.745</th>\n",
       "      <th>0.794</th>\n",
       "      <th>0.843</th>\n",
       "      <th>0.892</th>\n",
       "      <th>0.941</th>\n",
       "      <th>0.99</th>\n",
       "    </tr>\n",
       "  </thead>\n",
       "  <tbody>\n",
       "    <tr>\n",
       "      <th>1W</th>\n",
       "      <td>0.221012</td>\n",
       "      <td>0.174111</td>\n",
       "      <td>0.152517</td>\n",
       "      <td>0.136493</td>\n",
       "      <td>0.122947</td>\n",
       "      <td>0.110707</td>\n",
       "      <td>0.099167</td>\n",
       "      <td>0.087943</td>\n",
       "      <td>0.076767</td>\n",
       "      <td>0.065506</td>\n",
       "      <td>...</td>\n",
       "      <td>0.048155</td>\n",
       "      <td>0.050543</td>\n",
       "      <td>0.056403</td>\n",
       "      <td>0.063216</td>\n",
       "      <td>0.070545</td>\n",
       "      <td>0.078446</td>\n",
       "      <td>0.087236</td>\n",
       "      <td>0.097626</td>\n",
       "      <td>0.111556</td>\n",
       "      <td>0.141400</td>\n",
       "    </tr>\n",
       "    <tr>\n",
       "      <th>2W</th>\n",
       "      <td>0.225454</td>\n",
       "      <td>0.180563</td>\n",
       "      <td>0.159823</td>\n",
       "      <td>0.144415</td>\n",
       "      <td>0.131389</td>\n",
       "      <td>0.119630</td>\n",
       "      <td>0.108571</td>\n",
       "      <td>0.097863</td>\n",
       "      <td>0.087285</td>\n",
       "      <td>0.076760</td>\n",
       "      <td>...</td>\n",
       "      <td>0.059010</td>\n",
       "      <td>0.057614</td>\n",
       "      <td>0.060970</td>\n",
       "      <td>0.066193</td>\n",
       "      <td>0.072311</td>\n",
       "      <td>0.079147</td>\n",
       "      <td>0.086888</td>\n",
       "      <td>0.096122</td>\n",
       "      <td>0.108555</td>\n",
       "      <td>0.135189</td>\n",
       "    </tr>\n",
       "    <tr>\n",
       "      <th>1M</th>\n",
       "      <td>0.227349</td>\n",
       "      <td>0.185799</td>\n",
       "      <td>0.166552</td>\n",
       "      <td>0.152252</td>\n",
       "      <td>0.140174</td>\n",
       "      <td>0.129299</td>\n",
       "      <td>0.119110</td>\n",
       "      <td>0.109305</td>\n",
       "      <td>0.099706</td>\n",
       "      <td>0.090258</td>\n",
       "      <td>...</td>\n",
       "      <td>0.073289</td>\n",
       "      <td>0.068586</td>\n",
       "      <td>0.068128</td>\n",
       "      <td>0.070601</td>\n",
       "      <td>0.074686</td>\n",
       "      <td>0.079837</td>\n",
       "      <td>0.086014</td>\n",
       "      <td>0.093617</td>\n",
       "      <td>0.104042</td>\n",
       "      <td>0.126622</td>\n",
       "    </tr>\n",
       "    <tr>\n",
       "      <th>3M</th>\n",
       "      <td>0.222907</td>\n",
       "      <td>0.187966</td>\n",
       "      <td>0.171792</td>\n",
       "      <td>0.159810</td>\n",
       "      <td>0.149734</td>\n",
       "      <td>0.140715</td>\n",
       "      <td>0.132330</td>\n",
       "      <td>0.124338</td>\n",
       "      <td>0.116597</td>\n",
       "      <td>0.109041</td>\n",
       "      <td>...</td>\n",
       "      <td>0.094752</td>\n",
       "      <td>0.088638</td>\n",
       "      <td>0.084053</td>\n",
       "      <td>0.081584</td>\n",
       "      <td>0.081252</td>\n",
       "      <td>0.082690</td>\n",
       "      <td>0.085607</td>\n",
       "      <td>0.090066</td>\n",
       "      <td>0.096943</td>\n",
       "      <td>0.113071</td>\n",
       "    </tr>\n",
       "    <tr>\n",
       "      <th>6M</th>\n",
       "      <td>0.215620</td>\n",
       "      <td>0.185623</td>\n",
       "      <td>0.171799</td>\n",
       "      <td>0.161602</td>\n",
       "      <td>0.153068</td>\n",
       "      <td>0.145469</td>\n",
       "      <td>0.138443</td>\n",
       "      <td>0.131785</td>\n",
       "      <td>0.125368</td>\n",
       "      <td>0.119119</td>\n",
       "      <td>...</td>\n",
       "      <td>0.107080</td>\n",
       "      <td>0.101441</td>\n",
       "      <td>0.096331</td>\n",
       "      <td>0.092105</td>\n",
       "      <td>0.089141</td>\n",
       "      <td>0.087676</td>\n",
       "      <td>0.087778</td>\n",
       "      <td>0.089536</td>\n",
       "      <td>0.093560</td>\n",
       "      <td>0.105097</td>\n",
       "    </tr>\n",
       "    <tr>\n",
       "      <th>1Y</th>\n",
       "      <td>0.205612</td>\n",
       "      <td>0.180738</td>\n",
       "      <td>0.169368</td>\n",
       "      <td>0.161035</td>\n",
       "      <td>0.154102</td>\n",
       "      <td>0.147964</td>\n",
       "      <td>0.142321</td>\n",
       "      <td>0.137001</td>\n",
       "      <td>0.131893</td>\n",
       "      <td>0.126926</td>\n",
       "      <td>...</td>\n",
       "      <td>0.117249</td>\n",
       "      <td>0.112520</td>\n",
       "      <td>0.107903</td>\n",
       "      <td>0.103491</td>\n",
       "      <td>0.099444</td>\n",
       "      <td>0.095998</td>\n",
       "      <td>0.093445</td>\n",
       "      <td>0.092136</td>\n",
       "      <td>0.092689</td>\n",
       "      <td>0.098897</td>\n",
       "    </tr>\n",
       "  </tbody>\n",
       "</table>\n",
       "<p>6 rows × 21 columns</p>\n",
       "</div>"
      ],
      "text/plain": [
       "       0.010     0.059     0.108     0.157     0.206     0.255     0.304  \\\n",
       "1W  0.221012  0.174111  0.152517  0.136493  0.122947  0.110707  0.099167   \n",
       "2W  0.225454  0.180563  0.159823  0.144415  0.131389  0.119630  0.108571   \n",
       "1M  0.227349  0.185799  0.166552  0.152252  0.140174  0.129299  0.119110   \n",
       "3M  0.222907  0.187966  0.171792  0.159810  0.149734  0.140715  0.132330   \n",
       "6M  0.215620  0.185623  0.171799  0.161602  0.153068  0.145469  0.138443   \n",
       "1Y  0.205612  0.180738  0.169368  0.161035  0.154102  0.147964  0.142321   \n",
       "\n",
       "       0.353     0.402     0.451    ...        0.549     0.598     0.647  \\\n",
       "1W  0.087943  0.076767  0.065506    ...     0.048155  0.050543  0.056403   \n",
       "2W  0.097863  0.087285  0.076760    ...     0.059010  0.057614  0.060970   \n",
       "1M  0.109305  0.099706  0.090258    ...     0.073289  0.068586  0.068128   \n",
       "3M  0.124338  0.116597  0.109041    ...     0.094752  0.088638  0.084053   \n",
       "6M  0.131785  0.125368  0.119119    ...     0.107080  0.101441  0.096331   \n",
       "1Y  0.137001  0.131893  0.126926    ...     0.117249  0.112520  0.107903   \n",
       "\n",
       "       0.696     0.745     0.794     0.843     0.892     0.941     0.990  \n",
       "1W  0.063216  0.070545  0.078446  0.087236  0.097626  0.111556  0.141400  \n",
       "2W  0.066193  0.072311  0.079147  0.086888  0.096122  0.108555  0.135189  \n",
       "1M  0.070601  0.074686  0.079837  0.086014  0.093617  0.104042  0.126622  \n",
       "3M  0.081584  0.081252  0.082690  0.085607  0.090066  0.096943  0.113071  \n",
       "6M  0.092105  0.089141  0.087676  0.087778  0.089536  0.093560  0.105097  \n",
       "1Y  0.103491  0.099444  0.095998  0.093445  0.092136  0.092689  0.098897  \n",
       "\n",
       "[6 rows x 21 columns]"
      ]
     },
     "execution_count": 105,
     "metadata": {},
     "output_type": "execute_result"
    }
   ],
   "source": [
    "pd.DataFrame(BSV,index=M,columns=Δ[0,:])"
   ]
  },
  {
   "cell_type": "code",
   "execution_count": 106,
   "metadata": {},
   "outputs": [
    {
     "data": {
      "image/png": "[encoded data removed]",
      "text/plain": [
       "<matplotlib.figure.Figure at 0x11fa21940>"
      ]
     },
     "metadata": {},
     "output_type": "display_data"
    }
   ],
   "source": [
    "plot,axes = plt.subplots()\n",
    "for i in range(len(T[:,0])):\n",
    "    axes.plot(k[i,:],100*BSV[i,:])\n",
    "    axes.set_xlabel(r'$k$')\n",
    "    axes.set_ylabel(r'$\\bar{\\sigma}(k,\\tau)$')"
   ]
  },
  {
   "cell_type": "code",
   "execution_count": 107,
   "metadata": {
    "collapsed": true
   },
   "outputs": [],
   "source": [
    "ψ1 = (BSV[:,2] - BSV[:,0])/(k[:,2] - k[:,0])\n",
    "ψ2 = (BSV[:,2] - 2*BSV[:,1] + BSV[:,0])/(k[:,2] - k[:,1])**2"
   ]
  },
  {
   "cell_type": "code",
   "execution_count": 108,
   "metadata": {},
   "outputs": [
    {
     "data": {
      "text/plain": [
       "<matplotlib.text.Text at 0x12108ce48>"
      ]
     },
     "execution_count": 108,
     "metadata": {},
     "output_type": "execute_result"
    },
    {
     "data": {
      "image/png": "[encoded data removed]",
      "text/plain": [
       "<matplotlib.figure.Figure at 0x11f92cbe0>"
      ]
     },
     "metadata": {},
     "output_type": "display_data"
    }
   ],
   "source": [
    "plot,axes = plt.subplots()\n",
    "axes.plot(np.log(T[:,0]),np.log(np.sign(ρ)*ψ1))\n",
    "axes.set_xlabel(r'$\\log \\tau$')\n",
    "axes.set_ylabel(r'$\\log \\psi_1(\\tau)$')"
   ]
  },
  {
   "cell_type": "code",
   "execution_count": 109,
   "metadata": {},
   "outputs": [
    {
     "data": {
      "text/plain": [
       "<matplotlib.text.Text at 0x12016b2b0>"
      ]
     },
     "execution_count": 109,
     "metadata": {},
     "output_type": "execute_result"
    },
    {
     "data": {
      "image/png": "[encoded data removed]",
      "text/plain": [
       "<matplotlib.figure.Figure at 0x11f9e31d0>"
      ]
     },
     "metadata": {},
     "output_type": "display_data"
    }
   ],
   "source": [
    "plot,axes = plt.subplots()\n",
    "axes.plot(np.log(T[:,0]),np.log(ψ2))\n",
    "axes.set_xlabel(r'$\\log \\tau$')\n",
    "axes.set_ylabel(r'$\\log \\psi_2(\\tau)$')"
   ]
  },
  {
   "cell_type": "markdown",
   "metadata": {},
   "source": [
    "Now generate everything together"
   ]
  },
  {
   "cell_type": "code",
   "execution_count": 133,
   "metadata": {
    "collapsed": true
   },
   "outputs": [],
   "source": [
    "plt.rcParams['figure.figsize'] = [2*2*1.618,2*3]"
   ]
  },
  {
   "cell_type": "code",
   "execution_count": 139,
   "metadata": {},
   "outputs": [
    {
     "data": {
      "image/png": "[encoded data removed]",
      "text/plain": [
       "<matplotlib.figure.Figure at 0x120109ac8>"
      ]
     },
     "metadata": {},
     "output_type": "display_data"
    }
   ],
   "source": [
    "# σ,ρ,v = np.sqrt(0.02),-0.7,1\n",
    "σ,ρ,v = np.sqrt(0.02),   0,1\n",
    "\n",
    "S = np.array([['256','64'],['16','4'],['1','0']]) # array for timescale in titles\n",
    "\n",
    "# for surface\n",
    "# n = 51\n",
    "# Δ = np.linspace(1,99,n)[nx,:]/100 \n",
    "# T = np.array([1/52,2/52,1/12,3/12,6/12,1])[:,nx]\n",
    "# k = norm.ppf(Δ)*σ*np.sqrt(T)\n",
    "\n",
    "# for skew & curvature\n",
    "n = 3\n",
    "Δ = np.linspace(49.9,50.1,n)[nx,:]/100 \n",
    "T = np.exp(np.linspace(-6,0,51))[:,nx] \n",
    "k = norm.ppf(Δ)*σ*np.sqrt(T)\n",
    "\n",
    "κ_range = np.array([[1,4],[16,64],[256,np.inf]])\n",
    "\n",
    "plot,axes = plt.subplots(3,2)\n",
    "ψ1 = np.zeros((6,len(T[:,0])))\n",
    "ψ2 = np.zeros((6,len(T[:,0])))\n",
    "g = -1\n",
    "for i in range(3):\n",
    "    for j in range(2):\n",
    "        κ = κ_range[i,j]\n",
    "        θ = σ,ρ,v,κ\n",
    "        C = rp.pricer(T,k,θ)\n",
    "        V = rp.surface(T,k,C)\n",
    "        for h in range(6):\n",
    "            axes[i,j].plot(k[h,:],100*V[h,:])\n",
    "            axes[i,j].set_xlabel(r'$k$')\n",
    "            axes[i,j].set_ylabel(r'$\\bar{\\sigma}^{\\varepsilon}(k,\\tau)$')\n",
    "            axes[i,j].set_title(r'$\\varepsilon=%s\\mathrm{d.}$'%S[i,j])\n",
    "            axes[i,j].set_xlim([-0.4,0.4])\n",
    "            axes[i,j].set_ylim([0,30])\n",
    "        g += 1\n",
    "        # finite-differences\n",
    "        m = int((n - 1)/2)\n",
    "        ψ1[g,:] = (V[:,m+1] - V[:,m-1])/(k[:,m+1] - k[:,m-1])\n",
    "        ψ2[g,:] = (V[:,m+1] - 2*V[:,m] + V[:,m-1])/(k[:,m+1] - k[:,m])**2\n",
    "plt.tight_layout()\n",
    "fname = 'surface1'\n",
    "if ρ == 0: fname = 'surface2'\n",
    "plt.savefig(fname)"
   ]
  },
  {
   "cell_type": "code",
   "execution_count": 140,
   "metadata": {
    "collapsed": true
   },
   "outputs": [],
   "source": [
    "# plt.rcParams['figure.figsize'] = [3*1.618,2.5]\n",
    "plt.rcParams['figure.figsize'] = [2*1.618,2*1]"
   ]
  },
  {
   "cell_type": "code",
   "execution_count": 141,
   "metadata": {},
   "outputs": [],
   "source": [
    "if ρ != 0:\n",
    "    plot,axes = plt.subplots()\n",
    "    for i in range(6):\n",
    "        \n",
    "#         axes[0].plot(T[:,0],np.sign(ρ)*ψ1[i,:])\n",
    "#         axes[0].set_xlabel(r'$\\tau$')\n",
    "#         axes[0].set_ylabel(r'$\\psi_1(\\tau)$')\n",
    "        \n",
    "        axes.plot(np.log(T[:,0]),np.log(np.sign(ρ)*ψ1[i,:]))\n",
    "        axes.set_xlabel(r'$\\log\\ \\tau$')\n",
    "        axes.set_ylabel(r'$\\log\\ \\psi^{\\varepsilon}_1(\\tau)$')\n",
    "        \n",
    "#     axes.text(-4.5, -2.4, r'$\\varepsilon = 256\\mathrm{d.}$',fontsize='small')\n",
    "#     axes.text(-4.5, 1.9, r'$\\varepsilon = 0\\mathrm{d.}$',fontsize='small')\n",
    "    plt.tight_layout()\n",
    "    plt.savefig('skew')"
   ]
  },
  {
   "cell_type": "code",
   "execution_count": 142,
   "metadata": {
    "collapsed": true
   },
   "outputs": [],
   "source": [
    "plt.rcParams['figure.figsize'] = [2*1.618,2*1]"
   ]
  },
  {
   "cell_type": "code",
   "execution_count": 143,
   "metadata": {},
   "outputs": [
    {
     "data": {
      "image/png": "[encoded data removed]",
      "text/plain": [
       "<matplotlib.figure.Figure at 0x11f95cf60>"
      ]
     },
     "metadata": {},
     "output_type": "display_data"
    }
   ],
   "source": [
    "if ρ == 0:\n",
    "    plot,axes = plt.subplots()\n",
    "    for i in range(6):\n",
    "        \n",
    "#         axes[0].plot(T[:,0],ψ2[i,:])\n",
    "#         axes[0].set_xlabel(r'$\\tau$')\n",
    "#         axes[0].set_ylabel(r'$\\psi_2(\\tau)$')\n",
    "        \n",
    "        axes.plot(np.log(T[:,0]),np.log(ψ2[i,:]))\n",
    "        axes.set_xlabel(r'$\\log\\ \\tau$')\n",
    "        axes.set_ylabel(r'$\\log\\ \\psi^{\\varepsilon}_2(\\tau)$')\n",
    "        \n",
    "#     axes.text(-4.5, -2.4, r'$\\varepsilon = 256\\mathrm{d.}$',fontsize='small')\n",
    "#     axes.text(-4.5, 1.9, r'$\\varepsilon = 0\\mathrm{d.}$',fontsize='small')\n",
    "    plt.tight_layout()\n",
    "    plt.savefig('curvature')"
   ]
  },
  {
   "cell_type": "code",
   "execution_count": null,
   "metadata": {
    "collapsed": true
   },
   "outputs": [],
   "source": []
  }
 ],
 "metadata": {
  "anaconda-cloud": {},
  "kernelspec": {
   "display_name": "Python [default]",
   "language": "python",
   "name": "python3"
  },
  "language_info": {
   "codemirror_mode": {
    "name": "ipython",
    "version": 3
   },
   "file_extension": ".py",
   "mimetype": "text/x-python",
   "name": "python",
   "nbconvert_exporter": "python",
   "pygments_lexer": "ipython3",
   "version": "3.5.2"
  }
 },
 "nbformat": 4,
 "nbformat_minor": 2
}
