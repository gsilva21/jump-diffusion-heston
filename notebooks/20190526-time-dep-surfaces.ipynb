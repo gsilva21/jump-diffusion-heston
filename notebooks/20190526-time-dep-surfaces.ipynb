{
 "cells": [
  {
   "cell_type": "code",
   "execution_count": 1,
   "metadata": {
    "collapsed": true
   },
   "outputs": [],
   "source": [
    "import os\n",
    "os.chdir(r'/Users/ryanmccrickerd/desktop/rypy')"
   ]
  },
  {
   "cell_type": "code",
   "execution_count": 2,
   "metadata": {
    "collapsed": true
   },
   "outputs": [],
   "source": [
    "import numpy as np\n",
    "import pandas as pd\n",
    "import rypy as rp\n",
    "from matplotlib import pyplot as plt\n",
    "from scipy.stats import norm\n",
    "import mpl\n",
    "% matplotlib inline"
   ]
  },
  {
   "cell_type": "code",
   "execution_count": 3,
   "metadata": {
    "collapsed": true
   },
   "outputs": [],
   "source": [
    "nx = np.newaxis\n",
    "mpl.config(scale=1.5,print_keys=False)"
   ]
  },
  {
   "cell_type": "code",
   "execution_count": 279,
   "metadata": {
    "collapsed": true
   },
   "outputs": [],
   "source": [
    "ξ = np.array([[0/12,0.2**2],\n",
    "              [3/12,0.2**2],\n",
    "              [6/12,0.2**2],\n",
    "              [9/12,0.**2]])\n",
    "# ξ = np.array([[0/12,0.02]])\n",
    "ρ,ν,H,ɛ = -0.7,0.3,-0.5,0/256\n",
    "θ = ξ,ρ,ν,H,ɛ"
   ]
  },
  {
   "cell_type": "code",
   "execution_count": 280,
   "metadata": {},
   "outputs": [
    {
     "ename": "ZeroDivisionError",
     "evalue": "0.0 cannot be raised to a negative power",
     "output_type": "error",
     "traceback": [
      "\u001b[0;31m---------------------------------------------------------------------------\u001b[0m",
      "\u001b[0;31mZeroDivisionError\u001b[0m                         Traceback (most recent call last)",
      "\u001b[0;32m<ipython-input-280-d1863720d86f>\u001b[0m in \u001b[0;36m<module>\u001b[0;34m()\u001b[0m\n\u001b[0;32m----> 1\u001b[0;31m \u001b[0mprint\u001b[0m\u001b[0;34m(\u001b[0m\u001b[0;34m'reversion speed ='\u001b[0m\u001b[0;34m,\u001b[0m \u001b[0mɛ\u001b[0m\u001b[0;34m**\u001b[0m\u001b[0;34m-\u001b[0m\u001b[0;36m1\u001b[0m\u001b[0;34m)\u001b[0m\u001b[0;34m\u001b[0m\u001b[0m\n\u001b[0m\u001b[1;32m      2\u001b[0m \u001b[0mprint\u001b[0m\u001b[0;34m(\u001b[0m\u001b[0;34m'vol vol ='\u001b[0m\u001b[0;34m,\u001b[0m \u001b[0mν\u001b[0m\u001b[0;34m*\u001b[0m\u001b[0mɛ\u001b[0m\u001b[0;34m**\u001b[0m\u001b[0;34m(\u001b[0m\u001b[0mH\u001b[0m \u001b[0;34m-\u001b[0m \u001b[0;36m0.5\u001b[0m\u001b[0;34m)\u001b[0m\u001b[0;34m)\u001b[0m\u001b[0;34m\u001b[0m\u001b[0m\n",
      "\u001b[0;31mZeroDivisionError\u001b[0m: 0.0 cannot be raised to a negative power"
     ]
    }
   ],
   "source": [
    "print('reversion speed =', ɛ**-1)\n",
    "print('vol vol =', ν*ɛ**(H - 0.5))"
   ]
  },
  {
   "cell_type": "code",
   "execution_count": 281,
   "metadata": {},
   "outputs": [],
   "source": [
    "T = np.array([3/12,6/12,9/12,1])[:,nx]\n",
    "M = ['3M','6M','9M','1Y']\n",
    "Δ = np.linspace(1,99,21)[nx,:]/100\n",
    "k = norm.ppf(Δ)*np.sqrt(np.max(ξ[:,1])*T)"
   ]
  },
  {
   "cell_type": "code",
   "execution_count": 282,
   "metadata": {},
   "outputs": [
    {
     "data": {
      "text/html": [
       "<div>\n",
       "<table border=\"1\" class=\"dataframe\">\n",
       "  <thead>\n",
       "    <tr style=\"text-align: right;\">\n",
       "      <th></th>\n",
       "      <th>0.01</th>\n",
       "      <th>0.059</th>\n",
       "      <th>0.108</th>\n",
       "      <th>0.157</th>\n",
       "      <th>0.206</th>\n",
       "      <th>0.255</th>\n",
       "      <th>0.304</th>\n",
       "      <th>0.353</th>\n",
       "      <th>0.402</th>\n",
       "      <th>0.451</th>\n",
       "      <th>...</th>\n",
       "      <th>0.549</th>\n",
       "      <th>0.598</th>\n",
       "      <th>0.647</th>\n",
       "      <th>0.696</th>\n",
       "      <th>0.745</th>\n",
       "      <th>0.794</th>\n",
       "      <th>0.843</th>\n",
       "      <th>0.892</th>\n",
       "      <th>0.941</th>\n",
       "      <th>0.99</th>\n",
       "    </tr>\n",
       "  </thead>\n",
       "  <tbody>\n",
       "    <tr>\n",
       "      <th>3M</th>\n",
       "      <td>-0.232635</td>\n",
       "      <td>-0.156322</td>\n",
       "      <td>-0.123723</td>\n",
       "      <td>-0.100686</td>\n",
       "      <td>-0.082038</td>\n",
       "      <td>-0.065884</td>\n",
       "      <td>-0.051293</td>\n",
       "      <td>-0.037723</td>\n",
       "      <td>-0.024817</td>\n",
       "      <td>-0.012314</td>\n",
       "      <td>...</td>\n",
       "      <td>0.012314</td>\n",
       "      <td>0.024817</td>\n",
       "      <td>0.037723</td>\n",
       "      <td>0.051293</td>\n",
       "      <td>0.065884</td>\n",
       "      <td>0.082038</td>\n",
       "      <td>0.100686</td>\n",
       "      <td>0.123723</td>\n",
       "      <td>0.156322</td>\n",
       "      <td>0.232635</td>\n",
       "    </tr>\n",
       "    <tr>\n",
       "      <th>6M</th>\n",
       "      <td>-0.328995</td>\n",
       "      <td>-0.221073</td>\n",
       "      <td>-0.174971</td>\n",
       "      <td>-0.142392</td>\n",
       "      <td>-0.116019</td>\n",
       "      <td>-0.093174</td>\n",
       "      <td>-0.072539</td>\n",
       "      <td>-0.053349</td>\n",
       "      <td>-0.035097</td>\n",
       "      <td>-0.017414</td>\n",
       "      <td>...</td>\n",
       "      <td>0.017414</td>\n",
       "      <td>0.035097</td>\n",
       "      <td>0.053349</td>\n",
       "      <td>0.072539</td>\n",
       "      <td>0.093174</td>\n",
       "      <td>0.116019</td>\n",
       "      <td>0.142392</td>\n",
       "      <td>0.174971</td>\n",
       "      <td>0.221073</td>\n",
       "      <td>0.328995</td>\n",
       "    </tr>\n",
       "    <tr>\n",
       "      <th>9M</th>\n",
       "      <td>-0.402935</td>\n",
       "      <td>-0.270758</td>\n",
       "      <td>-0.214295</td>\n",
       "      <td>-0.174394</td>\n",
       "      <td>-0.142094</td>\n",
       "      <td>-0.114114</td>\n",
       "      <td>-0.088842</td>\n",
       "      <td>-0.065339</td>\n",
       "      <td>-0.042985</td>\n",
       "      <td>-0.021328</td>\n",
       "      <td>...</td>\n",
       "      <td>0.021328</td>\n",
       "      <td>0.042985</td>\n",
       "      <td>0.065339</td>\n",
       "      <td>0.088842</td>\n",
       "      <td>0.114114</td>\n",
       "      <td>0.142094</td>\n",
       "      <td>0.174394</td>\n",
       "      <td>0.214295</td>\n",
       "      <td>0.270758</td>\n",
       "      <td>0.402935</td>\n",
       "    </tr>\n",
       "    <tr>\n",
       "      <th>1Y</th>\n",
       "      <td>-0.465270</td>\n",
       "      <td>-0.312645</td>\n",
       "      <td>-0.247447</td>\n",
       "      <td>-0.201373</td>\n",
       "      <td>-0.164076</td>\n",
       "      <td>-0.131768</td>\n",
       "      <td>-0.102586</td>\n",
       "      <td>-0.075447</td>\n",
       "      <td>-0.049635</td>\n",
       "      <td>-0.024627</td>\n",
       "      <td>...</td>\n",
       "      <td>0.024627</td>\n",
       "      <td>0.049635</td>\n",
       "      <td>0.075447</td>\n",
       "      <td>0.102586</td>\n",
       "      <td>0.131768</td>\n",
       "      <td>0.164076</td>\n",
       "      <td>0.201373</td>\n",
       "      <td>0.247447</td>\n",
       "      <td>0.312645</td>\n",
       "      <td>0.465270</td>\n",
       "    </tr>\n",
       "  </tbody>\n",
       "</table>\n",
       "<p>4 rows × 21 columns</p>\n",
       "</div>"
      ],
      "text/plain": [
       "       0.010     0.059     0.108     0.157     0.206     0.255     0.304  \\\n",
       "3M -0.232635 -0.156322 -0.123723 -0.100686 -0.082038 -0.065884 -0.051293   \n",
       "6M -0.328995 -0.221073 -0.174971 -0.142392 -0.116019 -0.093174 -0.072539   \n",
       "9M -0.402935 -0.270758 -0.214295 -0.174394 -0.142094 -0.114114 -0.088842   \n",
       "1Y -0.465270 -0.312645 -0.247447 -0.201373 -0.164076 -0.131768 -0.102586   \n",
       "\n",
       "       0.353     0.402     0.451    ...        0.549     0.598     0.647  \\\n",
       "3M -0.037723 -0.024817 -0.012314    ...     0.012314  0.024817  0.037723   \n",
       "6M -0.053349 -0.035097 -0.017414    ...     0.017414  0.035097  0.053349   \n",
       "9M -0.065339 -0.042985 -0.021328    ...     0.021328  0.042985  0.065339   \n",
       "1Y -0.075447 -0.049635 -0.024627    ...     0.024627  0.049635  0.075447   \n",
       "\n",
       "       0.696     0.745     0.794     0.843     0.892     0.941     0.990  \n",
       "3M  0.051293  0.065884  0.082038  0.100686  0.123723  0.156322  0.232635  \n",
       "6M  0.072539  0.093174  0.116019  0.142392  0.174971  0.221073  0.328995  \n",
       "9M  0.088842  0.114114  0.142094  0.174394  0.214295  0.270758  0.402935  \n",
       "1Y  0.102586  0.131768  0.164076  0.201373  0.247447  0.312645  0.465270  \n",
       "\n",
       "[4 rows x 21 columns]"
      ]
     },
     "execution_count": 282,
     "metadata": {},
     "output_type": "execute_result"
    }
   ],
   "source": [
    "pd.DataFrame(k,index=M,columns=Δ[0,:])"
   ]
  },
  {
   "cell_type": "code",
   "execution_count": 283,
   "metadata": {},
   "outputs": [],
   "source": [
    "C = rp.pricer(T,k,θ)"
   ]
  },
  {
   "cell_type": "code",
   "execution_count": 284,
   "metadata": {
    "collapsed": true
   },
   "outputs": [],
   "source": [
    "BSV = rp.surface(T,k,C)"
   ]
  },
  {
   "cell_type": "code",
   "execution_count": 285,
   "metadata": {},
   "outputs": [
    {
     "data": {
      "text/html": [
       "<div>\n",
       "<table border=\"1\" class=\"dataframe\">\n",
       "  <thead>\n",
       "    <tr style=\"text-align: right;\">\n",
       "      <th></th>\n",
       "      <th>0.01</th>\n",
       "      <th>0.059</th>\n",
       "      <th>0.108</th>\n",
       "      <th>0.157</th>\n",
       "      <th>0.206</th>\n",
       "      <th>0.255</th>\n",
       "      <th>0.304</th>\n",
       "      <th>0.353</th>\n",
       "      <th>0.402</th>\n",
       "      <th>0.451</th>\n",
       "      <th>...</th>\n",
       "      <th>0.549</th>\n",
       "      <th>0.598</th>\n",
       "      <th>0.647</th>\n",
       "      <th>0.696</th>\n",
       "      <th>0.745</th>\n",
       "      <th>0.794</th>\n",
       "      <th>0.843</th>\n",
       "      <th>0.892</th>\n",
       "      <th>0.941</th>\n",
       "      <th>0.99</th>\n",
       "    </tr>\n",
       "  </thead>\n",
       "  <tbody>\n",
       "    <tr>\n",
       "      <th>3M</th>\n",
       "      <td>0.316719</td>\n",
       "      <td>0.260970</td>\n",
       "      <td>0.235114</td>\n",
       "      <td>0.215898</td>\n",
       "      <td>0.199675</td>\n",
       "      <td>0.185077</td>\n",
       "      <td>0.171419</td>\n",
       "      <td>0.158302</td>\n",
       "      <td>0.145491</td>\n",
       "      <td>0.132908</td>\n",
       "      <td>...</td>\n",
       "      <td>0.109884</td>\n",
       "      <td>0.102238</td>\n",
       "      <td>0.099570</td>\n",
       "      <td>0.101176</td>\n",
       "      <td>0.105446</td>\n",
       "      <td>0.111470</td>\n",
       "      <td>0.119040</td>\n",
       "      <td>0.128585</td>\n",
       "      <td>0.141861</td>\n",
       "      <td>0.170880</td>\n",
       "    </tr>\n",
       "    <tr>\n",
       "      <th>6M</th>\n",
       "      <td>0.311413</td>\n",
       "      <td>0.261754</td>\n",
       "      <td>0.238737</td>\n",
       "      <td>0.221666</td>\n",
       "      <td>0.207297</td>\n",
       "      <td>0.194417</td>\n",
       "      <td>0.182426</td>\n",
       "      <td>0.170980</td>\n",
       "      <td>0.159875</td>\n",
       "      <td>0.149022</td>\n",
       "      <td>...</td>\n",
       "      <td>0.128553</td>\n",
       "      <td>0.119982</td>\n",
       "      <td>0.113885</td>\n",
       "      <td>0.111047</td>\n",
       "      <td>0.111274</td>\n",
       "      <td>0.113905</td>\n",
       "      <td>0.118515</td>\n",
       "      <td>0.125223</td>\n",
       "      <td>0.135319</td>\n",
       "      <td>0.158605</td>\n",
       "    </tr>\n",
       "    <tr>\n",
       "      <th>9M</th>\n",
       "      <td>0.306027</td>\n",
       "      <td>0.260326</td>\n",
       "      <td>0.239183</td>\n",
       "      <td>0.223535</td>\n",
       "      <td>0.210395</td>\n",
       "      <td>0.198652</td>\n",
       "      <td>0.187754</td>\n",
       "      <td>0.177387</td>\n",
       "      <td>0.167362</td>\n",
       "      <td>0.157583</td>\n",
       "      <td>...</td>\n",
       "      <td>0.138904</td>\n",
       "      <td>0.130522</td>\n",
       "      <td>0.123556</td>\n",
       "      <td>0.118764</td>\n",
       "      <td>0.116559</td>\n",
       "      <td>0.116829</td>\n",
       "      <td>0.119301</td>\n",
       "      <td>0.124003</td>\n",
       "      <td>0.131957</td>\n",
       "      <td>0.151669</td>\n",
       "    </tr>\n",
       "    <tr>\n",
       "      <th>1Y</th>\n",
       "      <td>0.282388</td>\n",
       "      <td>0.238449</td>\n",
       "      <td>0.218005</td>\n",
       "      <td>0.202808</td>\n",
       "      <td>0.189993</td>\n",
       "      <td>0.178489</td>\n",
       "      <td>0.167761</td>\n",
       "      <td>0.157504</td>\n",
       "      <td>0.147533</td>\n",
       "      <td>0.137760</td>\n",
       "      <td>...</td>\n",
       "      <td>0.119124</td>\n",
       "      <td>0.111055</td>\n",
       "      <td>0.104923</td>\n",
       "      <td>0.101515</td>\n",
       "      <td>0.100865</td>\n",
       "      <td>0.102480</td>\n",
       "      <td>0.105960</td>\n",
       "      <td>0.111346</td>\n",
       "      <td>0.119680</td>\n",
       "      <td>0.139195</td>\n",
       "    </tr>\n",
       "  </tbody>\n",
       "</table>\n",
       "<p>4 rows × 21 columns</p>\n",
       "</div>"
      ],
      "text/plain": [
       "       0.010     0.059     0.108     0.157     0.206     0.255     0.304  \\\n",
       "3M  0.316719  0.260970  0.235114  0.215898  0.199675  0.185077  0.171419   \n",
       "6M  0.311413  0.261754  0.238737  0.221666  0.207297  0.194417  0.182426   \n",
       "9M  0.306027  0.260326  0.239183  0.223535  0.210395  0.198652  0.187754   \n",
       "1Y  0.282388  0.238449  0.218005  0.202808  0.189993  0.178489  0.167761   \n",
       "\n",
       "       0.353     0.402     0.451    ...        0.549     0.598     0.647  \\\n",
       "3M  0.158302  0.145491  0.132908    ...     0.109884  0.102238  0.099570   \n",
       "6M  0.170980  0.159875  0.149022    ...     0.128553  0.119982  0.113885   \n",
       "9M  0.177387  0.167362  0.157583    ...     0.138904  0.130522  0.123556   \n",
       "1Y  0.157504  0.147533  0.137760    ...     0.119124  0.111055  0.104923   \n",
       "\n",
       "       0.696     0.745     0.794     0.843     0.892     0.941     0.990  \n",
       "3M  0.101176  0.105446  0.111470  0.119040  0.128585  0.141861  0.170880  \n",
       "6M  0.111047  0.111274  0.113905  0.118515  0.125223  0.135319  0.158605  \n",
       "9M  0.118764  0.116559  0.116829  0.119301  0.124003  0.131957  0.151669  \n",
       "1Y  0.101515  0.100865  0.102480  0.105960  0.111346  0.119680  0.139195  \n",
       "\n",
       "[4 rows x 21 columns]"
      ]
     },
     "execution_count": 285,
     "metadata": {},
     "output_type": "execute_result"
    }
   ],
   "source": [
    "pd.DataFrame(BSV,index=M,columns=Δ[0,:])"
   ]
  },
  {
   "cell_type": "code",
   "execution_count": 287,
   "metadata": {},
   "outputs": [
    {
     "data": {
      "image/png": "[encoded data removed]",
      "text/plain": [
       "<matplotlib.figure.Figure at 0x11fc736a0>"
      ]
     },
     "metadata": {},
     "output_type": "display_data"
    }
   ],
   "source": [
    "plot,axes = plt.subplots()\n",
    "for i in range(len(T[:,0])):\n",
    "    axes.plot(k[i,:],100*BSV[i,:])\n",
    "    axes.set_xlabel(r'$k$')\n",
    "    axes.set_ylabel(r'$\\bar{\\sigma}(k,\\tau)$')\n",
    "    axes.set_ylim([0,30])"
   ]
  },
  {
   "cell_type": "code",
   "execution_count": 278,
   "metadata": {},
   "outputs": [
    {
     "data": {
      "image/png": "[encoded data removed]",
      "text/plain": [
       "<matplotlib.figure.Figure at 0x11fa4cbe0>"
      ]
     },
     "metadata": {},
     "output_type": "display_data"
    }
   ],
   "source": [
    "plot,axes = plt.subplots()\n",
    "for i in range(len(T[:,0])):\n",
    "    axes.plot(k[i,:],100*BSV[i,:])\n",
    "    axes.set_xlabel(r'$k$')\n",
    "    axes.set_ylabel(r'$\\bar{\\sigma}(k,\\tau)$')\n",
    "    axes.set_ylim([0,30])"
   ]
  },
  {
   "cell_type": "code",
   "execution_count": null,
   "metadata": {
    "collapsed": true
   },
   "outputs": [],
   "source": []
  }
 ],
 "metadata": {
  "anaconda-cloud": {},
  "kernelspec": {
   "display_name": "Python 3",
   "language": "python",
   "name": "python3"
  },
  "language_info": {
   "codemirror_mode": {
    "name": "ipython",
    "version": 3
   },
   "file_extension": ".py",
   "mimetype": "text/x-python",
   "name": "python",
   "nbconvert_exporter": "python",
   "pygments_lexer": "ipython3",
   "version": "3.7.3"
  }
 },
 "nbformat": 4,
 "nbformat_minor": 2
}
