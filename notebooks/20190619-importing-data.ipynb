{
 "cells": [
  {
   "cell_type": "code",
   "execution_count": 1,
   "metadata": {},
   "outputs": [],
   "source": [
    "import os\n",
    "os.chdir(r'/Users/rmccrickerd/desktop/jdheston')"
   ]
  },
  {
   "cell_type": "code",
   "execution_count": 2,
   "metadata": {},
   "outputs": [],
   "source": [
    "import numpy as np\n",
    "import pandas as pd\n",
    "from jdheston import jdheston as jdh\n",
    "from jdheston import config as cfg\n",
    "from matplotlib import pyplot as plt\n",
    "from scipy.stats import norm\n",
    "from scipy.special import gamma\n",
    "# %matplotlib inline"
   ]
  },
  {
   "cell_type": "code",
   "execution_count": 3,
   "metadata": {},
   "outputs": [],
   "source": [
    "nx = np.newaxis\n",
    "cfg.config(scale=1.5,print_keys=False)"
   ]
  },
  {
   "cell_type": "code",
   "execution_count": 4,
   "metadata": {},
   "outputs": [
    {
     "data": {
      "text/html": [
       "<div>\n",
       "<style scoped>\n",
       "    .dataframe tbody tr th:only-of-type {\n",
       "        vertical-align: middle;\n",
       "    }\n",
       "\n",
       "    .dataframe tbody tr th {\n",
       "        vertical-align: top;\n",
       "    }\n",
       "\n",
       "    .dataframe thead th {\n",
       "        text-align: right;\n",
       "    }\n",
       "</style>\n",
       "<table border=\"1\" class=\"dataframe\">\n",
       "  <thead>\n",
       "    <tr style=\"text-align: right;\">\n",
       "      <th></th>\n",
       "      <th>GBP</th>\n",
       "      <th>USD</th>\n",
       "      <th>Unnamed: 2</th>\n",
       "      <th>Bloomberg BGN</th>\n",
       "      <th>Unnamed: 4</th>\n",
       "      <th>Unnamed: 5</th>\n",
       "      <th>Unnamed: 6</th>\n",
       "      <th>Unnamed: 7</th>\n",
       "      <th>Unnamed: 8</th>\n",
       "      <th>Unnamed: 9</th>\n",
       "      <th>Unnamed: 10</th>\n",
       "    </tr>\n",
       "  </thead>\n",
       "  <tbody>\n",
       "    <tr>\n",
       "      <th>0</th>\n",
       "      <td>NaN</td>\n",
       "      <td>ATM</td>\n",
       "      <td>NaN</td>\n",
       "      <td>25D Call GBP</td>\n",
       "      <td>NaN</td>\n",
       "      <td>25D Put GBP</td>\n",
       "      <td>NaN</td>\n",
       "      <td>10D Call GBP</td>\n",
       "      <td>NaN</td>\n",
       "      <td>10D Put GBP</td>\n",
       "      <td>NaN</td>\n",
       "    </tr>\n",
       "    <tr>\n",
       "      <th>1</th>\n",
       "      <td>NaN</td>\n",
       "      <td>Mid</td>\n",
       "      <td>Spread</td>\n",
       "      <td>Mid</td>\n",
       "      <td>Spread</td>\n",
       "      <td>Mid</td>\n",
       "      <td>Spread</td>\n",
       "      <td>Mid</td>\n",
       "      <td>Spread</td>\n",
       "      <td>Mid</td>\n",
       "      <td>Spread</td>\n",
       "    </tr>\n",
       "    <tr>\n",
       "      <th>2</th>\n",
       "      <td>1M</td>\n",
       "      <td>6.27</td>\n",
       "      <td>0.7</td>\n",
       "      <td>6.41</td>\n",
       "      <td>0.88</td>\n",
       "      <td>6.64</td>\n",
       "      <td>0.88</td>\n",
       "      <td>6.848</td>\n",
       "      <td>1.599</td>\n",
       "      <td>7.283</td>\n",
       "      <td>1.598</td>\n",
       "    </tr>\n",
       "    <tr>\n",
       "      <th>3</th>\n",
       "      <td>3M</td>\n",
       "      <td>6.99</td>\n",
       "      <td>0.7</td>\n",
       "      <td>6.93</td>\n",
       "      <td>0.88</td>\n",
       "      <td>7.692</td>\n",
       "      <td>0.879</td>\n",
       "      <td>7.266</td>\n",
       "      <td>1.598</td>\n",
       "      <td>8.687</td>\n",
       "      <td>1.596</td>\n",
       "    </tr>\n",
       "    <tr>\n",
       "      <th>4</th>\n",
       "      <td>6M</td>\n",
       "      <td>8.885</td>\n",
       "      <td>0.75</td>\n",
       "      <td>8.514</td>\n",
       "      <td>0.942</td>\n",
       "      <td>10.147</td>\n",
       "      <td>0.942</td>\n",
       "      <td>8.671</td>\n",
       "      <td>1.711</td>\n",
       "      <td>11.685</td>\n",
       "      <td>1.708</td>\n",
       "    </tr>\n",
       "    <tr>\n",
       "      <th>5</th>\n",
       "      <td>1Y</td>\n",
       "      <td>9.61</td>\n",
       "      <td>0.65</td>\n",
       "      <td>9.209</td>\n",
       "      <td>0.816</td>\n",
       "      <td>10.936</td>\n",
       "      <td>0.816</td>\n",
       "      <td>9.355</td>\n",
       "      <td>1.481</td>\n",
       "      <td>12.565</td>\n",
       "      <td>1.48</td>\n",
       "    </tr>\n",
       "  </tbody>\n",
       "</table>\n",
       "</div>"
      ],
      "text/plain": [
       "   GBP    USD Unnamed: 2 Bloomberg BGN Unnamed: 4   Unnamed: 5 Unnamed: 6  \\\n",
       "0  NaN    ATM        NaN  25D Call GBP        NaN  25D Put GBP        NaN   \n",
       "1  NaN    Mid     Spread           Mid     Spread          Mid     Spread   \n",
       "2   1M   6.27        0.7          6.41       0.88         6.64       0.88   \n",
       "3   3M   6.99        0.7          6.93       0.88        7.692      0.879   \n",
       "4   6M  8.885       0.75         8.514      0.942       10.147      0.942   \n",
       "5   1Y   9.61       0.65         9.209      0.816       10.936      0.816   \n",
       "\n",
       "     Unnamed: 7 Unnamed: 8   Unnamed: 9 Unnamed: 10  \n",
       "0  10D Call GBP        NaN  10D Put GBP         NaN  \n",
       "1           Mid     Spread          Mid      Spread  \n",
       "2         6.848      1.599        7.283       1.598  \n",
       "3         7.266      1.598        8.687       1.596  \n",
       "4         8.671      1.711       11.685       1.708  \n",
       "5         9.355      1.481       12.565        1.48  "
      ]
     },
     "execution_count": 4,
     "metadata": {},
     "output_type": "execute_result"
    }
   ],
   "source": [
    "df = pd.read_excel('data/ccy-date.xlsx')\n",
    "df"
   ]
  },
  {
   "cell_type": "code",
   "execution_count": 5,
   "metadata": {},
   "outputs": [],
   "source": [
    "deltas = np.array([0.1,0.25,0.5,0.75,0.9])\n",
    "expiries = np.array([1/12,3/12,6/12,1])\n",
    "labels = ['1m','3m','6m','1y']"
   ]
  },
  {
   "cell_type": "code",
   "execution_count": 6,
   "metadata": {},
   "outputs": [],
   "source": [
    "m,n = len(expiries),len(deltas)\n",
    "mid_vols = np.zeros((m,n))\n",
    "spreads = np.zeros((m,n))"
   ]
  },
  {
   "cell_type": "code",
   "execution_count": 7,
   "metadata": {},
   "outputs": [],
   "source": [
    "mid_vols[:,0] = df.iloc[2:,9]\n",
    "mid_vols[:,1] = df.iloc[2:,5]\n",
    "mid_vols[:,2] = df.iloc[2:,1]\n",
    "mid_vols[:,3] = df.iloc[2:,3]\n",
    "mid_vols[:,4] = df.iloc[2:,7]"
   ]
  },
  {
   "cell_type": "code",
   "execution_count": 8,
   "metadata": {},
   "outputs": [
    {
     "data": {
      "text/plain": [
       "array([[ 7.283,  6.64 ,  6.27 ,  6.41 ,  6.848],\n",
       "       [ 8.687,  7.692,  6.99 ,  6.93 ,  7.266],\n",
       "       [11.685, 10.147,  8.885,  8.514,  8.671],\n",
       "       [12.565, 10.936,  9.61 ,  9.209,  9.355]])"
      ]
     },
     "execution_count": 8,
     "metadata": {},
     "output_type": "execute_result"
    }
   ],
   "source": [
    "mid_vols"
   ]
  },
  {
   "cell_type": "code",
   "execution_count": 9,
   "metadata": {},
   "outputs": [],
   "source": [
    "spreads[:,0] = df.iloc[2:,10]\n",
    "spreads[:,1] = df.iloc[2:,6]\n",
    "spreads[:,2] = df.iloc[2:,2]\n",
    "spreads[:,3] = df.iloc[2:,4]\n",
    "spreads[:,4] = df.iloc[2:,8]"
   ]
  },
  {
   "cell_type": "code",
   "execution_count": 10,
   "metadata": {},
   "outputs": [
    {
     "data": {
      "text/plain": [
       "array([[1.598, 0.88 , 0.7  , 0.88 , 1.599],\n",
       "       [1.596, 0.879, 0.7  , 0.88 , 1.598],\n",
       "       [1.708, 0.942, 0.75 , 0.942, 1.711],\n",
       "       [1.48 , 0.816, 0.65 , 0.816, 1.481]])"
      ]
     },
     "execution_count": 10,
     "metadata": {},
     "output_type": "execute_result"
    }
   ],
   "source": [
    "spreads"
   ]
  },
  {
   "cell_type": "code",
   "execution_count": 11,
   "metadata": {},
   "outputs": [],
   "source": [
    "plt.rcParams['figure.figsize'] = [4,8]\n",
    "plt.rcParams['legend.loc'] = 'lower left'"
   ]
  },
  {
   "cell_type": "code",
   "execution_count": 14,
   "metadata": {},
   "outputs": [
    {
     "data": {
      "image/png": "[encoded data removed]",
      "text/plain": [
       "<Figure size 600x1200 with 4 Axes>"
      ]
     },
     "metadata": {
      "needs_background": "light"
     },
     "output_type": "display_data"
    }
   ],
   "source": [
    "plot,axes = plt.subplots(4)\n",
    "# n = -1\n",
    "for i in range(4):\n",
    "#         n += 1\n",
    "        axes[i].plot(deltas, mid_vols[i,:],'bo')\n",
    "#         axes[i].plot(k[n,:],100*BSV[n,:])\n",
    "        axes[i].set_ylabel(r'$\\bar{\\sigma}(\\Delta,\\mathrm{%s})$'%labels[i])\n",
    "        axes[i].set_ylim([5,15])\n",
    "        axes[i].set_xlim([0,1])\n",
    "# axes[0,1].set_title(r'$\\varepsilon=\\mathrm{%s}.$'%TS)\n",
    "# axes[0,1].set_title(r'$H = 0.05,\\ \\ \\varepsilon=\\mathrm{%s}.$'%TS)\n",
    "# axes[1,1].legend([r'$\\ \\ \\mathrm{rHeston}$',r'$\\mathrm{qhrHeston\\ (NIG)}$'])\n",
    "axes[0].set_title(r'$\\mathrm{GBPUSD 20190612}$')\n",
    "axes[3].set_xlabel(r'$\\Delta$')\n",
    "plt.tight_layout()\n",
    "# fname = r'LSR-comparison'\n",
    "# plt.savefig(fname)"
   ]
  },
  {
   "cell_type": "code",
   "execution_count": 32,
   "metadata": {},
   "outputs": [],
   "source": [
    "from scipy.integrate import quad\n",
    "from scipy.optimize import brentq, minimize\n",
    "from scipy.stats import norm"
   ]
  },
  {
   "cell_type": "code",
   "execution_count": 33,
   "metadata": {},
   "outputs": [],
   "source": [
    "# Jump (Mechkov) Heston characteristic function\n",
    "def char_func(u, t, θ):\n",
    "    σ, ρ, v = θ\n",
    "    i = 1j\n",
    "    a = σ*ρ*v*i*u\n",
    "    return np.exp((1 - a - np.sqrt((1 - a)**2 + (σ*v)**2*u*(i + u)))/v**2*t)\n",
    "def ft_integrand(p,t,k,Θ):\n",
    "    ρ = (np.exp(-1j*k*p)*char_func(p - .5j,t,Θ)/(p**2 + .25)).real\n",
    "    return ρ\n",
    "\n",
    "def ft_price(t,k,Θ,u=np.inf):\n",
    "    # have changed to 2x\n",
    "    p = 1 - 1/np.pi*np.exp(k/2)*quad(ft_integrand,0,u,args=(t,k,Θ))[0]\n",
    "    return p\n",
    "\n",
    "\n",
    "def pricer(T,k,Θ):\n",
    "    m,n = k.shape\n",
    "    p = [[ft_price(T[i],k[i,j],Θ) for j in range(n)] for i in range(m)]\n",
    "    return np.array(p)\n",
    "\n",
    "def bs_price(k,v):\n",
    "    \"\"\"\n",
    "    k.shape = () : log-strike\n",
    "    v.shape = () : total variance\n",
    "    \"\"\"\n",
    "    σ = np.sqrt(v)\n",
    "    d1 = -k/σ + 0.5*σ\n",
    "    d2 = d1 - σ\n",
    "    p = norm.cdf(d1) - np.exp(k)*norm.cdf(d2)\n",
    "    return p\n",
    "def obj_func(σ,k,t,p):\n",
    "    \"\"\"\n",
    "    σ.shape = () : bs volatility\n",
    "    k.shape = () : log-strike\n",
    "    t.shape = () : years to maturity\n",
    "    p.shape = () : option price\n",
    "    \"\"\"\n",
    "    e = bs_price(k,σ**2*t) - p\n",
    "    return e\n",
    "def vol(k,t,p):\n",
    "    \"\"\"\n",
    "    k.shape = () : log-strike\n",
    "    t.shape = () : years to maturity\n",
    "    p.shape = () : option price\n",
    "    \"\"\"\n",
    "    p = np.maximum(p, np.maximum(1. - np.exp(k),0))\n",
    "    σ = brentq(obj_func,1e-9,1e+9,args=(k,t,p))\n",
    "    return σ\n",
    "def surface(T,k,p):\n",
    "    \"\"\"\n",
    "    k.shape = (m,n) : log-strikes\n",
    "    t.shape = (m,) : years to maturity\n",
    "    p.shape = (m,n) : option prices\n",
    "    \"\"\"\n",
    "    m,n = k.shape\n",
    "    σ = [[vol(k[i,j],T[i],p[i,j]) for j in range(n)] for i in range(m)]\n",
    "    return np.array(σ)"
   ]
  },
  {
   "cell_type": "code",
   "execution_count": 51,
   "metadata": {},
   "outputs": [],
   "source": [
    "vols = mid_vols[3,:]/100\n",
    "logstrikes = norm.ppf(deltas)*vols*np.sqrt(1) - 0.5*vols**2*1"
   ]
  },
  {
   "cell_type": "code",
   "execution_count": 52,
   "metadata": {},
   "outputs": [
    {
     "data": {
      "text/plain": [
       "array([-0.16892092, -0.079742  , -0.0046176 ,  0.05787348,  0.11551335])"
      ]
     },
     "execution_count": 52,
     "metadata": {},
     "output_type": "execute_result"
    }
   ],
   "source": [
    "logstrikes"
   ]
  },
  {
   "cell_type": "code",
   "execution_count": 53,
   "metadata": {},
   "outputs": [
    {
     "data": {
      "text/plain": [
       "array([0.12565, 0.10936, 0.0961 , 0.09209, 0.09355])"
      ]
     },
     "execution_count": 53,
     "metadata": {},
     "output_type": "execute_result"
    }
   ],
   "source": [
    "vols"
   ]
  },
  {
   "cell_type": "code",
   "execution_count": 54,
   "metadata": {},
   "outputs": [],
   "source": [
    "expiry = 1.\n",
    "T = np.array([expiry])\n",
    "k = logstrikes[nx,:]\n",
    "θ = 0.1,0,0.5\n",
    "call_prices = pricer(T,k,θ)"
   ]
  },
  {
   "cell_type": "code",
   "execution_count": 55,
   "metadata": {},
   "outputs": [],
   "source": [
    "model_vols = surface(T,k,call_prices)[0]"
   ]
  },
  {
   "cell_type": "code",
   "execution_count": 56,
   "metadata": {},
   "outputs": [
    {
     "data": {
      "text/plain": [
       "array([0.10432355, 0.09902078, 0.09722913, 0.09818959, 0.100832  ])"
      ]
     },
     "execution_count": 56,
     "metadata": {},
     "output_type": "execute_result"
    }
   ],
   "source": [
    "model_vols"
   ]
  },
  {
   "cell_type": "code",
   "execution_count": 57,
   "metadata": {},
   "outputs": [
    {
     "data": {
      "text/plain": [
       "0.011429996203190572"
      ]
     },
     "execution_count": 57,
     "metadata": {},
     "output_type": "execute_result"
    }
   ],
   "source": [
    "np.sqrt(np.mean((model_vols - vols)**2))"
   ]
  },
  {
   "cell_type": "code",
   "execution_count": 65,
   "metadata": {},
   "outputs": [],
   "source": [
    "def rmse(x, expiry, logstrikes, vols):\n",
    "    T = np.array([expiry])\n",
    "    k = logstrikes[nx,:]\n",
    "    call_prices = pricer(T,k,x)\n",
    "    model_vols = surface(T,k,call_prices)[0]\n",
    "#     model_vols = jump_heston_vols(x, expiry, logstrikes)\n",
    "    rmse = np.sqrt(np.mean((model_vols - vols)**2))\n",
    "    return rmse"
   ]
  },
  {
   "cell_type": "code",
   "execution_count": 67,
   "metadata": {},
   "outputs": [
    {
     "data": {
      "text/plain": [
       "      fun: 0.0003371832004930587\n",
       " hess_inv: <3x3 LbfgsInvHessProduct with dtype=float64>\n",
       "      jac: array([ 3.12495255e-04, -1.33125282e-05, -6.54494904e-07])\n",
       "  message: b'CONVERGENCE: REL_REDUCTION_OF_F_<=_FACTR*EPSMCH'\n",
       "     nfev: 144\n",
       "      nit: 23\n",
       "   status: 0\n",
       "  success: True\n",
       "        x: array([ 0.10571071, -0.31948742,  0.94209598])"
      ]
     },
     "execution_count": 67,
     "metadata": {},
     "output_type": "execute_result"
    }
   ],
   "source": [
    "results = minimize(rmse, (0.1, 0.0, 0.5),\n",
    "                        method = 'L-BFGS-B',\n",
    "                        args = (expiry, logstrikes, vols),\n",
    "                        bounds = ((0,10), (-1,1), (0,10)),\n",
    "                        options = {'maxiter': 100}\n",
    "                  )\n",
    "results"
   ]
  },
  {
   "cell_type": "code",
   "execution_count": 103,
   "metadata": {},
   "outputs": [],
   "source": [
    "θ = results.x\n",
    "Δ = np.linspace(1,99,21)[nx,:]/100\n",
    "k = norm.ppf(Δ)*0.15*np.sqrt(1.)\n",
    "call_prices = pricer(T,k,θ)\n",
    "model_vols = surface(T,k,call_prices)[0]"
   ]
  },
  {
   "cell_type": "code",
   "execution_count": 104,
   "metadata": {},
   "outputs": [],
   "source": [
    "plt.rcParams['figure.figsize'] = [4,3]"
   ]
  },
  {
   "cell_type": "code",
   "execution_count": 105,
   "metadata": {},
   "outputs": [
    {
     "data": {
      "image/png": "[encoded data removed]",
      "text/plain": [
       "<Figure size 600x450 with 1 Axes>"
      ]
     },
     "metadata": {
      "needs_background": "light"
     },
     "output_type": "display_data"
    }
   ],
   "source": [
    "plot,axes = plt.subplots()\n",
    "axes.plot(logstrikes, vols,'bo')\n",
    "axes.plot(k[0,:], model_vols,'r-')\n",
    "axes.set_ylabel(r'$\\bar{\\sigma}(k,\\tau)$')\n",
    "# axes.set_ylim([5,15])\n",
    "# axes.set_xlim([0,1])\n",
    "axes.set_title(r'$\\mathrm{GBPUSD 20190612}$')\n",
    "axes.set_xlabel(r'$k$')\n",
    "plt.tight_layout()"
   ]
  },
  {
   "cell_type": "code",
   "execution_count": null,
   "metadata": {},
   "outputs": [],
   "source": []
  }
 ],
 "metadata": {
  "anaconda-cloud": {},
  "kernelspec": {
   "display_name": "Python 3",
   "language": "python",
   "name": "python3"
  },
  "language_info": {
   "codemirror_mode": {
    "name": "ipython",
    "version": 3
   },
   "file_extension": ".py",
   "mimetype": "text/x-python",
   "name": "python",
   "nbconvert_exporter": "python",
   "pygments_lexer": "ipython3",
   "version": "3.7.3"
  }
 },
 "nbformat": 4,
 "nbformat_minor": 2
}
